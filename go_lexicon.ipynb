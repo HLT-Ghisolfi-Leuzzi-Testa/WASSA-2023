{
  "cells": [
    {
      "cell_type": "markdown",
      "metadata": {
        "id": "9_B-_QwdhWLe"
      },
      "source": [
        "# WASSA2023"
      ]
    },
    {
      "cell_type": "code",
      "execution_count": 87,
      "metadata": {
        "colab": {
          "base_uri": "https://localhost:8080/"
        },
        "execution": {
          "iopub.execute_input": "2023-07-11T19:04:39.939508Z",
          "iopub.status.busy": "2023-07-11T19:04:39.938937Z",
          "iopub.status.idle": "2023-07-11T19:04:39.955669Z",
          "shell.execute_reply": "2023-07-11T19:04:39.954582Z",
          "shell.execute_reply.started": "2023-07-11T19:04:39.939467Z"
        },
        "id": "9sDeMksltGSk",
        "outputId": "1abdc513-c9af-440d-bab6-c8fa0f6ee6a0",
        "trusted": true
      },
      "outputs": [
        {
          "output_type": "stream",
          "name": "stdout",
          "text": [
            "Mounted at /content/drive\n"
          ]
        }
      ],
      "source": [
        "from google.colab import drive\n",
        "drive.mount('/content/drive')"
      ]
    },
    {
      "cell_type": "markdown",
      "metadata": {
        "id": "15KoBLrVhbI8"
      },
      "source": [
        "## Dependencies"
      ]
    },
    {
      "cell_type": "code",
      "execution_count": 1,
      "metadata": {
        "id": "FTWi38mQKxUK"
      },
      "outputs": [],
      "source": [
        "repo_path = \"https://raw.githubusercontent.com/HLT-Ghisolfi-Leuzzi-Testa/WASSA-2023/\"\n",
        "branch = \"main\""
      ]
    },
    {
      "cell_type": "code",
      "execution_count": 2,
      "metadata": {
        "colab": {
          "base_uri": "https://localhost:8080/"
        },
        "execution": {
          "iopub.execute_input": "2023-07-11T19:04:39.958361Z",
          "iopub.status.busy": "2023-07-11T19:04:39.958022Z",
          "iopub.status.idle": "2023-07-11T19:06:28.298280Z",
          "shell.execute_reply": "2023-07-11T19:06:28.297057Z",
          "shell.execute_reply.started": "2023-07-11T19:04:39.958330Z"
        },
        "id": "1gnWTVNYDMx2",
        "outputId": "64e6fc9a-eff8-4122-8800-4a30eccc53e6",
        "trusted": true
      },
      "outputs": [
        {
          "output_type": "stream",
          "name": "stdout",
          "text": [
            "\u001b[2K     \u001b[90m━━━━━━━━━━━━━━━━━━━━━━━━━━━━━━━━━━━━━━━━\u001b[0m \u001b[32m7.4/7.4 MB\u001b[0m \u001b[31m26.6 MB/s\u001b[0m eta \u001b[36m0:00:00\u001b[0m\n",
            "\u001b[2K     \u001b[90m━━━━━━━━━━━━━━━━━━━━━━━━━━━━━━━━━━━━━━\u001b[0m \u001b[32m268.8/268.8 kB\u001b[0m \u001b[31m28.4 MB/s\u001b[0m eta \u001b[36m0:00:00\u001b[0m\n",
            "\u001b[2K     \u001b[90m━━━━━━━━━━━━━━━━━━━━━━━━━━━━━━━━━━━━━━━━\u001b[0m \u001b[32m7.8/7.8 MB\u001b[0m \u001b[31m87.0 MB/s\u001b[0m eta \u001b[36m0:00:00\u001b[0m\n",
            "\u001b[2K     \u001b[90m━━━━━━━━━━━━━━━━━━━━━━━━━━━━━━━━━━━━━━━━\u001b[0m \u001b[32m1.3/1.3 MB\u001b[0m \u001b[31m51.5 MB/s\u001b[0m eta \u001b[36m0:00:00\u001b[0m\n",
            "\u001b[2K     \u001b[90m━━━━━━━━━━━━━━━━━━━━━━━━━━━━━━━━━━━━━━━\u001b[0m \u001b[32m244.2/244.2 kB\u001b[0m \u001b[31m4.2 MB/s\u001b[0m eta \u001b[36m0:00:00\u001b[0m\n",
            "\u001b[2K     \u001b[90m━━━━━━━━━━━━━━━━━━━━━━━━━━━━━━━━━━━━━━━\u001b[0m \u001b[32m486.2/486.2 kB\u001b[0m \u001b[31m6.8 MB/s\u001b[0m eta \u001b[36m0:00:00\u001b[0m\n",
            "\u001b[2K     \u001b[90m━━━━━━━━━━━━━━━━━━━━━━━━━━━━━━━━━━━━━━━\u001b[0m \u001b[32m110.5/110.5 kB\u001b[0m \u001b[31m8.8 MB/s\u001b[0m eta \u001b[36m0:00:00\u001b[0m\n",
            "\u001b[2K     \u001b[90m━━━━━━━━━━━━━━━━━━━━━━━━━━━━━━━━━━━━━━\u001b[0m \u001b[32m212.5/212.5 kB\u001b[0m \u001b[31m10.4 MB/s\u001b[0m eta \u001b[36m0:00:00\u001b[0m\n",
            "\u001b[2K     \u001b[90m━━━━━━━━━━━━━━━━━━━━━━━━━━━━━━━━━━━━━━\u001b[0m \u001b[32m134.3/134.3 kB\u001b[0m \u001b[31m10.1 MB/s\u001b[0m eta \u001b[36m0:00:00\u001b[0m\n",
            "\u001b[2K     \u001b[90m━━━━━━━━━━━━━━━━━━━━━━━━━━━━━━━━━━━━━━━\u001b[0m \u001b[32m157.6/157.6 kB\u001b[0m \u001b[31m4.0 MB/s\u001b[0m eta \u001b[36m0:00:00\u001b[0m\n",
            "\u001b[2K     \u001b[90m━━━━━━━━━━━━━━━━━━━━━━━━━━━━━━━━━━━━━━━\u001b[0m \u001b[32m135.7/135.7 kB\u001b[0m \u001b[31m9.6 MB/s\u001b[0m eta \u001b[36m0:00:00\u001b[0m\n",
            "\u001b[2K     \u001b[90m━━━━━━━━━━━━━━━━━━━━━━━━━━━━━━━━━━━━━━━━\u001b[0m \u001b[32m1.3/1.3 MB\u001b[0m \u001b[31m18.1 MB/s\u001b[0m eta \u001b[36m0:00:00\u001b[0m\n",
            "\u001b[2K     \u001b[90m━━━━━━━━━━━━━━━━━━━━━━━━━━━━━━━━━━━━━━━━\u001b[0m \u001b[32m11.0/11.0 MB\u001b[0m \u001b[31m59.2 MB/s\u001b[0m eta \u001b[36m0:00:00\u001b[0m\n",
            "\u001b[2K     \u001b[90m━━━━━━━━━━━━━━━━━━━━━━━━━━━━━━━━━━━━━━━━\u001b[0m \u001b[32m79.8/79.8 kB\u001b[0m \u001b[31m9.5 MB/s\u001b[0m eta \u001b[36m0:00:00\u001b[0m\n",
            "\u001b[2K     \u001b[90m━━━━━━━━━━━━━━━━━━━━━━━━━━━━━━━━━━━━━━━\u001b[0m \u001b[32m396.4/396.4 kB\u001b[0m \u001b[31m5.7 MB/s\u001b[0m eta \u001b[36m0:00:00\u001b[0m\n",
            "\u001b[?25h  Preparing metadata (setup.py) ... \u001b[?25l\u001b[?25hdone\n",
            "  Building wheel for NRCLex (setup.py) ... \u001b[?25l\u001b[?25hdone\n",
            "[nltk_data] Downloading package brown to /root/nltk_data...\n",
            "[nltk_data]   Unzipping corpora/brown.zip.\n",
            "[nltk_data] Downloading package punkt to /root/nltk_data...\n",
            "[nltk_data]   Unzipping tokenizers/punkt.zip.\n",
            "[nltk_data] Downloading package wordnet to /root/nltk_data...\n",
            "[nltk_data] Downloading package averaged_perceptron_tagger to\n",
            "[nltk_data]     /root/nltk_data...\n",
            "[nltk_data]   Unzipping taggers/averaged_perceptron_tagger.zip.\n",
            "[nltk_data] Downloading package conll2000 to /root/nltk_data...\n",
            "[nltk_data]   Unzipping corpora/conll2000.zip.\n",
            "[nltk_data] Downloading package movie_reviews to /root/nltk_data...\n",
            "[nltk_data]   Unzipping corpora/movie_reviews.zip.\n",
            "Finished.\n"
          ]
        }
      ],
      "source": [
        "!pip install transformers -q\n",
        "!pip install accelerate -U -q\n",
        "!pip install datasets -q\n",
        "!pip install torch-summary -q\n",
        "!pip install bertviz -q\n",
        "!pip install NRCLex -q\n",
        "!pip install textblob -q\n",
        "!python -m textblob.download_corpora -q"
      ]
    },
    {
      "cell_type": "code",
      "execution_count": 3,
      "metadata": {
        "colab": {
          "base_uri": "https://localhost:8080/"
        },
        "execution": {
          "iopub.execute_input": "2023-07-11T19:06:28.300542Z",
          "iopub.status.busy": "2023-07-11T19:06:28.299931Z",
          "iopub.status.idle": "2023-07-11T19:06:30.619028Z",
          "shell.execute_reply": "2023-07-11T19:06:30.617896Z",
          "shell.execute_reply.started": "2023-07-11T19:06:28.300504Z"
        },
        "id": "9Xbo-Ei3IAYB",
        "outputId": "655ff367-f0ff-4127-e578-bb083318212a",
        "trusted": true
      },
      "outputs": [
        {
          "output_type": "stream",
          "name": "stdout",
          "text": [
            "--2023-07-21 07:45:11--  https://raw.githubusercontent.com/HLT-Ghisolfi-Leuzzi-Testa/WASSA-2023/main/utils.py\n",
            "Resolving raw.githubusercontent.com (raw.githubusercontent.com)... 185.199.109.133, 185.199.110.133, 185.199.111.133, ...\n",
            "Connecting to raw.githubusercontent.com (raw.githubusercontent.com)|185.199.109.133|:443... connected.\n",
            "HTTP request sent, awaiting response... 200 OK\n",
            "Length: 39272 (38K) [text/plain]\n",
            "Saving to: ‘utils.py’\n",
            "\n",
            "\rutils.py              0%[                    ]       0  --.-KB/s               \rutils.py            100%[===================>]  38.35K  --.-KB/s    in 0.001s  \n",
            "\n",
            "2023-07-21 07:45:12 (63.2 MB/s) - ‘utils.py’ saved [39272/39272]\n",
            "\n",
            "--2023-07-21 07:45:12--  https://raw.githubusercontent.com/HLT-Ghisolfi-Leuzzi-Testa/WASSA-2023/main/evaluation.py\n",
            "Resolving raw.githubusercontent.com (raw.githubusercontent.com)... 185.199.111.133, 185.199.110.133, 185.199.108.133, ...\n",
            "Connecting to raw.githubusercontent.com (raw.githubusercontent.com)|185.199.111.133|:443... connected.\n",
            "HTTP request sent, awaiting response... 200 OK\n",
            "Length: 10675 (10K) [text/plain]\n",
            "Saving to: ‘evaluation.py’\n",
            "\n",
            "evaluation.py       100%[===================>]  10.42K  --.-KB/s    in 0s      \n",
            "\n",
            "2023-07-21 07:45:12 (78.9 MB/s) - ‘evaluation.py’ saved [10675/10675]\n",
            "\n"
          ]
        }
      ],
      "source": [
        "utils_url = f\"{repo_path}{branch}/utils.py\"\n",
        "evaluation_url = f\"{repo_path}{branch}/evaluation.py\"\n",
        "\n",
        "import os\n",
        "if os.path.exists(\"utils.py\"):\n",
        "  !rm \"utils.py\"\n",
        "if os.path.exists(\"evaluation.py\"):\n",
        "  !rm \"evaluation.py\"\n",
        "\n",
        "!wget {utils_url}\n",
        "!wget {evaluation_url}"
      ]
    },
    {
      "cell_type": "code",
      "execution_count": 67,
      "metadata": {
        "colab": {
          "base_uri": "https://localhost:8080/"
        },
        "execution": {
          "iopub.execute_input": "2023-07-11T19:06:38.757963Z",
          "iopub.status.busy": "2023-07-11T19:06:38.757555Z",
          "iopub.status.idle": "2023-07-11T19:06:52.358142Z",
          "shell.execute_reply": "2023-07-11T19:06:52.357177Z",
          "shell.execute_reply.started": "2023-07-11T19:06:38.757924Z"
        },
        "id": "XDmQslVxDhy1",
        "outputId": "62ee784d-983c-4494-a92b-bd88e8d138bc",
        "trusted": true
      },
      "outputs": [
        {
          "output_type": "execute_result",
          "data": {
            "text/plain": [
              "<module 'utils' from '/content/utils.py'>"
            ]
          },
          "metadata": {},
          "execution_count": 67
        }
      ],
      "source": [
        "import sys\n",
        "from typing import Optional, Union, Tuple\n",
        "import json\n",
        "import random\n",
        "import string\n",
        "import pandas as pd\n",
        "import numpy as np\n",
        "from sklearn.preprocessing import StandardScaler\n",
        "import torch\n",
        "from torch import nn\n",
        "from torch.utils.data import Dataset\n",
        "from transformers import (\n",
        "\tTrainingArguments,\n",
        "\tTrainer,\n",
        "\tTrainerCallback,\n",
        "\tEarlyStoppingCallback,\n",
        "\tAutoTokenizer,\n",
        "\tBertModel,\n",
        "\tRobertaModel,\n",
        "\tBertForSequenceClassification,\n",
        "\tRobertaForSequenceClassification,\n",
        "\tAutoModelForSequenceClassification\n",
        "\t)\n",
        "from transformers.modeling_outputs import SequenceClassifierOutput\n",
        "from nrclex import NRCLex\n",
        "import importlib\n",
        "from utils import *\n",
        "importlib.reload(sys.modules['utils'])"
      ]
    },
    {
      "cell_type": "code",
      "execution_count": 5,
      "metadata": {
        "colab": {
          "base_uri": "https://localhost:8080/"
        },
        "execution": {
          "iopub.execute_input": "2023-07-11T19:06:52.360520Z",
          "iopub.status.busy": "2023-07-11T19:06:52.359527Z",
          "iopub.status.idle": "2023-07-11T19:06:52.392731Z",
          "shell.execute_reply": "2023-07-11T19:06:52.391807Z",
          "shell.execute_reply.started": "2023-07-11T19:06:52.360482Z"
        },
        "id": "quom7lWCDiiI",
        "outputId": "ee0c804b-7ec0-4470-d3b5-3b602c2bd360",
        "trusted": true
      },
      "outputs": [
        {
          "output_type": "stream",
          "name": "stdout",
          "text": [
            "======= CUDA Available =======\n"
          ]
        }
      ],
      "source": [
        "# set CUDA if available\n",
        "if torch.cuda.is_available():\n",
        "    device = torch.device('cuda')\n",
        "    print(\"======= CUDA Available =======\")\n",
        "else:\n",
        "    device = torch.device('cpu')\n",
        "    print(\"======= CUDA NOT Available, run on CPU =======\")"
      ]
    },
    {
      "cell_type": "markdown",
      "metadata": {
        "id": "oLrhz2zGdhJT"
      },
      "source": [
        "## Set up"
      ]
    },
    {
      "cell_type": "code",
      "execution_count": 116,
      "metadata": {
        "execution": {
          "iopub.execute_input": "2023-07-11T19:06:52.394814Z",
          "iopub.status.busy": "2023-07-11T19:06:52.394204Z",
          "iopub.status.idle": "2023-07-11T19:06:52.406593Z",
          "shell.execute_reply": "2023-07-11T19:06:52.405612Z",
          "shell.execute_reply.started": "2023-07-11T19:06:52.394779Z"
        },
        "id": "S2o5IfHdgXXf",
        "trusted": true
      },
      "outputs": [],
      "source": [
        "EMOTIONS_LEX = [\n",
        "    'fear',\n",
        "    'anger',\n",
        "    'anticipation',\n",
        "    'trust',\n",
        "    'surprise',\n",
        "    'positive',\n",
        "    'negative',\n",
        "    'sadness',\n",
        "    'disgust',\n",
        "    'joy',\n",
        "]\n",
        "\n",
        "EMOTIONS_TO_PREDICT = [\n",
        "    'sadness',\n",
        "    'neutral',\n",
        "    'fear',\n",
        "    'anger',\n",
        "    'surprise',\n",
        "    'joy',\n",
        "    'hope',\n",
        "    'disgust'\n",
        "]\n",
        "\n",
        "config = {}"
      ]
    },
    {
      "cell_type": "code",
      "execution_count": 124,
      "metadata": {
        "cellView": "form",
        "id": "GMoRVEFkQIPx"
      },
      "outputs": [],
      "source": [
        "#@title Task type\n",
        "TASK = \"EMO\" #@param [\"EMO\", \"EMP\"]"
      ]
    },
    {
      "cell_type": "code",
      "execution_count": 125,
      "metadata": {
        "cellView": "form",
        "execution": {
          "iopub.execute_input": "2023-07-11T19:10:06.052235Z",
          "iopub.status.busy": "2023-07-11T19:10:06.051958Z",
          "iopub.status.idle": "2023-07-11T19:10:06.059593Z",
          "shell.execute_reply": "2023-07-11T19:10:06.058689Z",
          "shell.execute_reply.started": "2023-07-11T19:10:06.052213Z"
        },
        "id": "7JyTdDiw9TWP",
        "trusted": true
      },
      "outputs": [],
      "source": [
        "#@title Number of labels\n",
        "num_labels = 8 #@param {type:\"integer\"}\n",
        "neutral_zero = False\n",
        "if TASK == \"EMO\":\n",
        "    if num_labels==7:\n",
        "        neutral_zero = True\n",
        "    else:\n",
        "        num_labels = 8\n",
        "config['num_labels'] = num_labels"
      ]
    },
    {
      "cell_type": "code",
      "execution_count": 126,
      "metadata": {
        "id": "g78XkRZL6xHY"
      },
      "outputs": [],
      "source": [
        "#@title Model Class\n",
        "model_id = 'GO_lexicon' #@param {type:\"string\"}\n",
        "model_class_string = \"RobertaPreTrainedModel\" #@param [\"BertPreTrainedModel\", \"RobertaPreTrainedModel\"]\n",
        "model_name = 'distilroberta-base' #@param [\"bert-base\", \"roberta-base\", \"roberta-emotion\", \"distilroberta-emotion\", \"roberta-empathy\", \"roberta-go\", \"distilroberta-base\"]\n",
        "\n",
        "if model_class_string == \"BertPreTrainedModel\":\n",
        "  model_class = BertForSequenceClassification\n",
        "else:\n",
        "  model_class = RobertaForSequenceClassification\n",
        "\n",
        "config['model_id'] = model_id\n",
        "config['model_class_string'] = model_class_string\n",
        "config['model_name'] = model_name"
      ]
    },
    {
      "cell_type": "code",
      "execution_count": 127,
      "metadata": {
        "execution": {
          "iopub.execute_input": "2023-07-11T19:10:06.026995Z",
          "iopub.status.busy": "2023-07-11T19:10:06.026313Z",
          "iopub.status.idle": "2023-07-11T19:10:06.034340Z",
          "shell.execute_reply": "2023-07-11T19:10:06.033205Z",
          "shell.execute_reply.started": "2023-07-11T19:10:06.026970Z"
        },
        "id": "j6y4HnEP6gcI",
        "trusted": true,
        "cellView": "form"
      },
      "outputs": [],
      "source": [
        "#@title Global Features\n",
        "emo_count_global = True #@param {type:\"boolean\"}\n",
        "\n",
        "config['emo_count_global'] = emo_count_global\n"
      ]
    },
    {
      "cell_type": "code",
      "execution_count": 128,
      "metadata": {
        "cellView": "form",
        "execution": {
          "iopub.execute_input": "2023-07-11T19:10:06.036262Z",
          "iopub.status.busy": "2023-07-11T19:10:06.035925Z",
          "iopub.status.idle": "2023-07-11T19:10:06.048932Z",
          "shell.execute_reply": "2023-07-11T19:10:06.048042Z",
          "shell.execute_reply.started": "2023-07-11T19:10:06.036232Z"
        },
        "id": "n3snAqfK6728",
        "trusted": true
      },
      "outputs": [],
      "source": [
        "#@title Local Features\n",
        "emo_count_local = False #@param {type:\"boolean\"}\n",
        "\n",
        "config['emo_count_local'] = emo_count_local"
      ]
    },
    {
      "cell_type": "code",
      "execution_count": 129,
      "metadata": {
        "cellView": "form",
        "id": "EaTQUHDY6xHZ"
      },
      "outputs": [],
      "source": [
        "#@title Prompt\n",
        "emo_prompt = False #@param {type:\"boolean\"}\n",
        "emo_sep = 'after SEP' #@param [\"after SEP\", \"before SEP\"]\n",
        "\n",
        "config['emo_prompt'] = emo_prompt\n",
        "config['sep'] = emo_sep"
      ]
    },
    {
      "cell_type": "code",
      "execution_count": 130,
      "metadata": {
        "id": "SwMOxxRRg0Vh",
        "cellView": "form"
      },
      "outputs": [],
      "source": [
        "#@title Model configuration\n",
        "train_batch_size = 8 #@param {type:\"integer\"}\n",
        "val_batch_size = 8 #@param {type:\"integer\"}\n",
        "learning_rate = 2e-5 #@param {type:\"number\"}\n",
        "weight_decay = 0.08 #@param {type:\"number\"}\n",
        "epochs = 30 #@param {type:\"integer\"}\n",
        "patience = 5 #@param {type:\"integer\"}\n",
        "dropout = 0.3 #@param {type:\"number\"}\n",
        "weighted_loss = \"None\" #@param [\"None\", \"normalized_inverse\", \"balanced\"]\n",
        "\n",
        "model_type ={\n",
        "  'distilroberta-emotion':'j-hartmann/emotion-english-distilroberta-base',\n",
        "  'roberta-emotion':'j-hartmann/emotion-english-roberta-large',\n",
        "  'roberta-empathy': 'bdotloh/roberta-base-empathy',\n",
        "  'bert-base': 'bert-base-cased',\n",
        "  'roberta-base' : 'roberta-base',\n",
        "  'roberta-go': 'SamLowe/roberta-base-go_emotions',\n",
        "  'distilroberta-base' : 'distilroberta-base'\n",
        "}\n",
        "\n",
        "model_config = {\n",
        "    'model_id': model_id,\n",
        "    'tokenizer_name': model_type.get(model_name),\n",
        "    'model_name': model_type.get(model_name),\n",
        "    'train_batch_size': train_batch_size,\n",
        "    'val_batch_size': val_batch_size,\n",
        "    'learning_rate': learning_rate,\n",
        "    'weight_decay': weight_decay,\n",
        "    'epochs': epochs,\n",
        "    'seed': 42,\n",
        "    'patience': patience,\n",
        "    'early_stopping_threshold': 0,\n",
        "    'weighted_loss': weighted_loss,\n",
        "    'dropout' : dropout\n",
        "}\n",
        "\n",
        "config.update(model_config)"
      ]
    },
    {
      "cell_type": "code",
      "execution_count": 131,
      "metadata": {
        "colab": {
          "base_uri": "https://localhost:8080/"
        },
        "execution": {
          "iopub.execute_input": "2023-07-11T19:10:06.061536Z",
          "iopub.status.busy": "2023-07-11T19:10:06.061089Z",
          "iopub.status.idle": "2023-07-11T19:10:06.069916Z",
          "shell.execute_reply": "2023-07-11T19:10:06.069051Z",
          "shell.execute_reply.started": "2023-07-11T19:10:06.061505Z"
        },
        "id": "dA224FxADpqd",
        "outputId": "5b31407a-db62-4c6a-9ffb-207fb423925a",
        "trusted": true
      },
      "outputs": [
        {
          "output_type": "stream",
          "name": "stdout",
          "text": [
            "mkdir: cannot create directory ‘EMO_GO_lexicon’: File exists\n",
            "\n",
            "CONFIGURATION\n",
            "model_id: GO_lexicon\n",
            "model_class_string: RobertaPreTrainedModel\n",
            "model_name: distilroberta-base\n",
            "tokenizer_name: distilroberta-base\n",
            "train_batch_size: 8\n",
            "val_batch_size: 8\n",
            "learning_rate: 2e-05\n",
            "weight_decay: 0.08\n",
            "epochs: 30\n",
            "seed: 42\n",
            "patience: 5\n",
            "early_stopping_threshold: 0\n",
            "weighted_loss: None\n",
            "dropout: 0.3\n",
            "num_labels: 8\n",
            "emo_count_global: True\n",
            "emo_count_local: False\n",
            "emo_prompt: False\n",
            "sep: after SEP\n"
          ]
        }
      ],
      "source": [
        "path_tosave = f\"{TASK}_{model_config['model_id']}\"\n",
        "!mkdir $path_tosave\n",
        "\n",
        "write_dict_to_json(config, f\"{path_tosave}/config.json\")\n",
        "\n",
        "print(\"\\nCONFIGURATION\")\n",
        "for k,v in config.items():\n",
        "  print(f\"{k}: {v}\")"
      ]
    },
    {
      "cell_type": "markdown",
      "metadata": {
        "id": "4gsXzUtCBv-j"
      },
      "source": [
        "## Dataset"
      ]
    },
    {
      "cell_type": "markdown",
      "metadata": {
        "id": "dIUOnGp-_6lV"
      },
      "source": [
        "### WASSA dataset"
      ]
    },
    {
      "cell_type": "code",
      "execution_count": 97,
      "metadata": {
        "execution": {
          "iopub.execute_input": "2023-07-11T19:06:52.410007Z",
          "iopub.status.busy": "2023-07-11T19:06:52.409372Z",
          "iopub.status.idle": "2023-07-11T19:06:52.429476Z",
          "shell.execute_reply": "2023-07-11T19:06:52.428716Z",
          "shell.execute_reply.started": "2023-07-11T19:06:52.409972Z"
        },
        "id": "WOuBgl-TmlM-",
        "trusted": true
      },
      "outputs": [],
      "source": [
        "class GODataset(Dataset):\n",
        "\n",
        "    def __init__(\n",
        "        self,\n",
        "        tokenizer,\n",
        "        essay,\n",
        "        targets,\n",
        "        max_len = None,\n",
        "        emo_lexicon = False\n",
        "        ):\n",
        "        self.tokenizer = tokenizer\n",
        "        self.essay = essay\n",
        "        self.targets = targets\n",
        "        self.max_len = max_len\n",
        "        self.emo_lexicon = emo_lexicon\n",
        "\n",
        "    def __len__(self):\n",
        "        return len(self.essay)\n",
        "\n",
        "    def __getitem__(self, index):\n",
        "        essay = str(self.essay[index])\n",
        "\n",
        "        inputs = self.tokenizer.encode_plus(\n",
        "            text=essay,\n",
        "            add_special_tokens=True,\n",
        "            max_length=self.max_len,\n",
        "            padding='max_length',\n",
        "            truncation=True,\n",
        "            return_attention_mask=True,\n",
        "            return_tensors='pt',\n",
        "            return_token_type_ids=True\n",
        "        )\n",
        "\n",
        "        item = {\n",
        "          'input_ids': inputs['input_ids'].flatten(),\n",
        "          'attention_mask': inputs['attention_mask'].flatten(),\n",
        "          'token_type_ids': inputs[\"token_type_ids\"].flatten()\n",
        "        }\n",
        "\n",
        "        if self.targets is not None:\n",
        "          item['labels'] = torch.FloatTensor(self.targets[index])\n",
        "\n",
        "        if self.emo_lexicon:\n",
        "          emotions = NRCLex(essay).affect_frequencies\n",
        "          emotions.pop('anticip')\n",
        "          if 'anticipation' not in list(emotions.keys()):\n",
        "            emotions['anticipation'] = 0.0\n",
        "          item['emo_lexicon'] = torch.FloatTensor(list(emotions.values()))\n",
        "\n",
        "\n",
        "        return item"
      ]
    },
    {
      "cell_type": "markdown",
      "metadata": {
        "id": "EFI6AulQsYci"
      },
      "source": [
        "Read dataframes"
      ]
    },
    {
      "cell_type": "code",
      "execution_count": 98,
      "metadata": {
        "execution": {
          "iopub.execute_input": "2023-07-11T19:09:57.899510Z",
          "iopub.status.busy": "2023-07-11T19:09:57.899102Z",
          "iopub.status.idle": "2023-07-11T19:09:57.904814Z",
          "shell.execute_reply": "2023-07-11T19:09:57.903813Z",
          "shell.execute_reply.started": "2023-07-11T19:09:57.899476Z"
        },
        "id": "BjM03TscDwcz",
        "trusted": true
      },
      "outputs": [],
      "source": [
        "GO_DATA = f\"{repo_path}{branch}/datasets/GO-emotions/goemotions.csv\"\n",
        "\n",
        "go_df = pd.read_csv(GO_DATA)"
      ]
    },
    {
      "cell_type": "markdown",
      "metadata": {
        "id": "mDJWlHhwsfwL"
      },
      "source": [
        "Encode targets"
      ]
    },
    {
      "cell_type": "code",
      "execution_count": 99,
      "metadata": {
        "execution": {
          "iopub.execute_input": "2023-07-11T19:10:06.006808Z",
          "iopub.status.busy": "2023-07-11T19:10:06.006358Z",
          "iopub.status.idle": "2023-07-11T19:10:06.021824Z",
          "shell.execute_reply": "2023-07-11T19:10:06.020868Z",
          "shell.execute_reply.started": "2023-07-11T19:10:06.006776Z"
        },
        "id": "6LKqRnKdsJdu",
        "trusted": true
      },
      "outputs": [],
      "source": [
        "label_encoder = EmotionsLabelEncoder()\n",
        "label_encoder.fit(go_df.emotion)\n",
        "y = label_encoder.encode(go_df.emotion)"
      ]
    },
    {
      "cell_type": "markdown",
      "source": [
        "Data splits"
      ],
      "metadata": {
        "id": "82xo4_S_fDuR"
      }
    },
    {
      "cell_type": "code",
      "source": [
        "text_train, text_test, y_train, y_test = train_test_split(np.array(go_df.essay), y,\n",
        "                                                          stratify=y,\n",
        "                                                          test_size=0.15,\n",
        "                                                          random_state=3)\n",
        "text_train, text_val, y_train, y_val = train_test_split(text_train, y_train,\n",
        "                                                          stratify=y_train,\n",
        "                                                          test_size=0.15,\n",
        "                                                          random_state=1)"
      ],
      "metadata": {
        "id": "qugw6a1gfBmT"
      },
      "execution_count": 100,
      "outputs": []
    },
    {
      "cell_type": "markdown",
      "metadata": {
        "id": "oXIimY5ABmlc"
      },
      "source": [
        "## Model"
      ]
    },
    {
      "cell_type": "markdown",
      "metadata": {
        "id": "w6aAhPift1UL"
      },
      "source": [
        "### Custom model"
      ]
    },
    {
      "cell_type": "code",
      "execution_count": 102,
      "metadata": {
        "execution": {
          "iopub.execute_input": "2023-07-11T19:11:23.702374Z",
          "iopub.status.busy": "2023-07-11T19:11:23.702059Z",
          "iopub.status.idle": "2023-07-11T19:11:23.732141Z",
          "shell.execute_reply": "2023-07-11T19:11:23.730692Z",
          "shell.execute_reply.started": "2023-07-11T19:11:23.702348Z"
        },
        "id": "2Vj3W-oUhBMZ",
        "trusted": true
      },
      "outputs": [],
      "source": [
        "class ClassificationHead(nn.Module):\n",
        "    \"\"\"Head for sentence-level classification tasks.\"\"\"\n",
        "\n",
        "    def __init__(self, config, num_extra_dims):\n",
        "        super().__init__()\n",
        "        total_dims = config.hidden_size+num_extra_dims\n",
        "        self.dense = nn.Linear(total_dims, total_dims)\n",
        "        classifier_dropout = (\n",
        "            config.classifier_dropout if config.classifier_dropout is not None else config.hidden_dropout_prob\n",
        "        )\n",
        "        self.dropout = nn.Dropout(classifier_dropout)\n",
        "        self.out_proj = nn.Linear(total_dims, config.num_labels)\n",
        "\n",
        "    def forward(self, features, **kwargs):\n",
        "        x = self.dropout(features)\n",
        "        x = self.dense(x)\n",
        "        x = torch.tanh(x)\n",
        "        x = self.dropout(x)\n",
        "        x = self.out_proj(x)\n",
        "        return x\n",
        "\n",
        "class CustomSequenceClassification(RobertaForSequenceClassification):\n",
        "\n",
        "    def __init__(self, config, num_extra_dims):\n",
        "        super().__init__(config)\n",
        "        self.num_labels = config.num_labels\n",
        "        self.config = config\n",
        "\n",
        "        # might need to rename this depending on the model\n",
        "        self.roberta =  RobertaModel(config)\n",
        "        self.classifier = ClassificationHead(config, num_extra_dims)\n",
        "\n",
        "        # Initialize weights and apply final processing\n",
        "        self.post_init()\n",
        "\n",
        "\n",
        "    def forward(\n",
        "        self,\n",
        "        input_ids: Optional[torch.LongTensor] = None,\n",
        "        attention_mask: Optional[torch.FloatTensor] = None,\n",
        "        emo_lexicon: Optional[torch.FloatTensor] = None,\n",
        "        token_type_ids: Optional[torch.LongTensor] = None,\n",
        "        position_ids: Optional[torch.LongTensor] = None,\n",
        "        head_mask: Optional[torch.FloatTensor] = None,\n",
        "        inputs_embeds: Optional[torch.FloatTensor] = None,\n",
        "        labels: Optional[torch.LongTensor] = None,\n",
        "        output_attentions: Optional[bool] = None,\n",
        "        output_hidden_states: Optional[bool] = None,\n",
        "        return_dict: Optional[bool] = None,\n",
        "    ) -> Union[Tuple, SequenceClassifierOutput]:\n",
        "\n",
        "        return_dict = return_dict if return_dict is not None else self.config.use_return_dict\n",
        "\n",
        "        outputs = self.roberta(\n",
        "            input_ids,\n",
        "            attention_mask=attention_mask,\n",
        "            token_type_ids=token_type_ids,\n",
        "            position_ids=position_ids,\n",
        "            head_mask=head_mask,\n",
        "            inputs_embeds=inputs_embeds,\n",
        "            output_attentions=output_attentions,\n",
        "            output_hidden_states=output_hidden_states,\n",
        "            return_dict=return_dict,\n",
        "        )\n",
        "\n",
        "        # sequence_output will be (batch_size, seq_length, hidden_size)\n",
        "        sequence_output = outputs[0]\n",
        "\n",
        "        # additional data should be (batch_size, num_extra_dims)\n",
        "        cls_embedding = sequence_output[:, 0, :]\n",
        "\n",
        "        output = torch.cat((cls_embedding, emo_lexicon), dim=-1)\n",
        "\n",
        "        logits = self.classifier(output)\n",
        "\n",
        "        loss = None\n",
        "        if labels is not None:\n",
        "            if self.config.problem_type is None:\n",
        "                if self.num_labels == 1:\n",
        "                    self.config.problem_type = \"regression\"\n",
        "                elif self.num_labels > 1 and (labels.dtype == torch.long or labels.dtype == torch.int):\n",
        "                    self.config.problem_type = \"single_label_classification\"\n",
        "                else:\n",
        "                    self.config.problem_type = \"multi_label_classification\"\n",
        "\n",
        "            if self.config.problem_type == \"regression\":\n",
        "                loss_fct = nn.MSELoss()\n",
        "                if self.num_labels == 1:\n",
        "                    loss = loss_fct(logits.squeeze(), labels.squeeze())\n",
        "                else:\n",
        "                    loss = loss_fct(logits, labels)\n",
        "            elif self.config.problem_type == \"single_label_classification\":\n",
        "                loss_fct = nn.CrossEntropyLoss()\n",
        "                loss = loss_fct(logits.view(-1, self.num_labels), labels.view(-1))\n",
        "            elif self.config.problem_type == \"multi_label_classification\":\n",
        "                loss_fct = nn.BCEWithLogitsLoss()\n",
        "                loss = loss_fct(logits, labels)\n",
        "\n",
        "        if not return_dict:\n",
        "            output = (logits,) + outputs[2:]\n",
        "            return ((loss,) + output) if loss is not None else output\n",
        "\n",
        "        return SequenceClassifierOutput(\n",
        "            loss=loss,\n",
        "            logits=logits,\n",
        "            hidden_states=outputs.hidden_states,\n",
        "            attentions=outputs.attentions,\n",
        "        )"
      ]
    },
    {
      "cell_type": "code",
      "execution_count": 103,
      "metadata": {
        "colab": {
          "base_uri": "https://localhost:8080/"
        },
        "execution": {
          "iopub.execute_input": "2023-07-11T19:11:22.362620Z",
          "iopub.status.busy": "2023-07-11T19:11:22.361776Z",
          "iopub.status.idle": "2023-07-11T19:11:23.697235Z",
          "shell.execute_reply": "2023-07-11T19:11:23.696230Z",
          "shell.execute_reply.started": "2023-07-11T19:11:22.362585Z"
        },
        "id": "wd7W2HhYsbai",
        "outputId": "1466427e-945f-422f-d007-3bda61a73ade",
        "trusted": true
      },
      "outputs": [
        {
          "output_type": "execute_result",
          "data": {
            "text/plain": [
              "RobertaTokenizerFast(name_or_path='distilroberta-base', vocab_size=50265, model_max_length=512, is_fast=True, padding_side='right', truncation_side='right', special_tokens={'bos_token': '<s>', 'eos_token': '</s>', 'unk_token': '<unk>', 'sep_token': '</s>', 'pad_token': '<pad>', 'cls_token': '<s>', 'mask_token': AddedToken(\"<mask>\", rstrip=False, lstrip=True, single_word=False, normalized=False)}, clean_up_tokenization_spaces=True)"
            ]
          },
          "metadata": {},
          "execution_count": 103
        }
      ],
      "source": [
        "tokenizer = AutoTokenizer.from_pretrained(config.get('tokenizer_name'), truncation=True)\n",
        "tokenizer"
      ]
    },
    {
      "cell_type": "code",
      "source": [
        "model = CustomSequenceClassification.from_pretrained(config.get('model_name'),\n",
        "                                                          num_extra_dims = len(EMOTIONS_LEX),\n",
        "                                                          problem_type = \"multi_label_classification\",\n",
        "                                                          num_labels = config.get('num_labels'),\n",
        "                                                          classifier_dropout = config.get('dropout'),\n",
        "                                                          ignore_mismatched_sizes=True )"
      ],
      "metadata": {
        "colab": {
          "base_uri": "https://localhost:8080/"
        },
        "id": "gcSbgPsdo13a",
        "outputId": "b799c20a-8439-4bdd-a07c-08ebcb91dbe9"
      },
      "execution_count": 132,
      "outputs": [
        {
          "output_type": "stream",
          "name": "stderr",
          "text": [
            "Some weights of CustomSequenceClassification were not initialized from the model checkpoint at distilroberta-base and are newly initialized: ['classifier.out_proj.weight', 'classifier.dense.weight', 'classifier.out_proj.bias', 'classifier.dense.bias']\n",
            "You should probably TRAIN this model on a down-stream task to be able to use it for predictions and inference.\n"
          ]
        }
      ]
    },
    {
      "cell_type": "code",
      "execution_count": 68,
      "metadata": {
        "colab": {
          "base_uri": "https://localhost:8080/",
          "height": 891,
          "referenced_widgets": [
            "4d468f5e5b1c4a9893625612fbf2dde9",
            "a74b7785eaa0401d8dda6cbe3122697d",
            "d93f42c18dba41c59869d2d4c84ea73c",
            "9a3d907e92f94eb8afc339f23c2d4683",
            "534206183d5b4cee818991406c32c18c",
            "da0521ec061041d79fe3ef2c817dad2b",
            "3563448a6d7b44a5870c89f35d8a838e",
            "ae6039b822e04a69be818e2f2a37a68d",
            "b71a6bd6596f48a6b960bd9872275f10",
            "ff64a7045abc489cb0f69ad6a8f002bd",
            "49c58978878845dda8fb832e750d2ea9"
          ]
        },
        "execution": {
          "iopub.execute_input": "2023-07-11T19:11:23.734900Z",
          "iopub.status.busy": "2023-07-11T19:11:23.734558Z",
          "iopub.status.idle": "2023-07-11T19:11:27.562951Z",
          "shell.execute_reply": "2023-07-11T19:11:27.562030Z",
          "shell.execute_reply.started": "2023-07-11T19:11:23.734871Z"
        },
        "id": "GvJbF80XhSDE",
        "outputId": "88ce4a24-9b2a-4387-8651-eb7ffdb8d340",
        "trusted": true
      },
      "outputs": [
        {
          "output_type": "display_data",
          "data": {
            "text/plain": [
              "Downloading model.safetensors:   0%|          | 0.00/331M [00:00<?, ?B/s]"
            ],
            "application/vnd.jupyter.widget-view+json": {
              "version_major": 2,
              "version_minor": 0,
              "model_id": "4d468f5e5b1c4a9893625612fbf2dde9"
            }
          },
          "metadata": {}
        },
        {
          "output_type": "stream",
          "name": "stderr",
          "text": [
            "Some weights of RobertaForSequenceClassification were not initialized from the model checkpoint at distilroberta-base and are newly initialized: ['classifier.out_proj.weight', 'classifier.dense.weight', 'classifier.out_proj.bias', 'classifier.dense.bias']\n",
            "You should probably TRAIN this model on a down-stream task to be able to use it for predictions and inference.\n"
          ]
        },
        {
          "output_type": "execute_result",
          "data": {
            "text/plain": [
              "RobertaForSequenceClassification(\n",
              "  (roberta): RobertaModel(\n",
              "    (embeddings): RobertaEmbeddings(\n",
              "      (word_embeddings): Embedding(50265, 768, padding_idx=1)\n",
              "      (position_embeddings): Embedding(514, 768, padding_idx=1)\n",
              "      (token_type_embeddings): Embedding(1, 768)\n",
              "      (LayerNorm): LayerNorm((768,), eps=1e-05, elementwise_affine=True)\n",
              "      (dropout): Dropout(p=0.1, inplace=False)\n",
              "    )\n",
              "    (encoder): RobertaEncoder(\n",
              "      (layer): ModuleList(\n",
              "        (0-5): 6 x RobertaLayer(\n",
              "          (attention): RobertaAttention(\n",
              "            (self): RobertaSelfAttention(\n",
              "              (query): Linear(in_features=768, out_features=768, bias=True)\n",
              "              (key): Linear(in_features=768, out_features=768, bias=True)\n",
              "              (value): Linear(in_features=768, out_features=768, bias=True)\n",
              "              (dropout): Dropout(p=0.1, inplace=False)\n",
              "            )\n",
              "            (output): RobertaSelfOutput(\n",
              "              (dense): Linear(in_features=768, out_features=768, bias=True)\n",
              "              (LayerNorm): LayerNorm((768,), eps=1e-05, elementwise_affine=True)\n",
              "              (dropout): Dropout(p=0.1, inplace=False)\n",
              "            )\n",
              "          )\n",
              "          (intermediate): RobertaIntermediate(\n",
              "            (dense): Linear(in_features=768, out_features=3072, bias=True)\n",
              "            (intermediate_act_fn): GELUActivation()\n",
              "          )\n",
              "          (output): RobertaOutput(\n",
              "            (dense): Linear(in_features=3072, out_features=768, bias=True)\n",
              "            (LayerNorm): LayerNorm((768,), eps=1e-05, elementwise_affine=True)\n",
              "            (dropout): Dropout(p=0.1, inplace=False)\n",
              "          )\n",
              "        )\n",
              "      )\n",
              "    )\n",
              "  )\n",
              "  (classifier): RobertaClassificationHead(\n",
              "    (dense): Linear(in_features=768, out_features=768, bias=True)\n",
              "    (dropout): Dropout(p=0.3, inplace=False)\n",
              "    (out_proj): Linear(in_features=768, out_features=8, bias=True)\n",
              "  )\n",
              ")"
            ]
          },
          "metadata": {},
          "execution_count": 68
        }
      ],
      "source": [
        "model = AutoModelForSequenceClassification.from_pretrained(config.get('model_name'),\n",
        "                                                          problem_type = \"multi_label_classification\",\n",
        "                                                          num_labels = config.get('num_labels'),\n",
        "                                                          classifier_dropout = config.get('dropout'),\n",
        "                                                          ignore_mismatched_sizes=True )\n",
        "model"
      ]
    },
    {
      "cell_type": "markdown",
      "metadata": {
        "id": "9xvHbhOhhttG"
      },
      "source": [
        "## Training"
      ]
    },
    {
      "cell_type": "markdown",
      "metadata": {
        "id": "bY0SLN6usjYs"
      },
      "source": [
        "Prepare datasets"
      ]
    },
    {
      "cell_type": "code",
      "execution_count": 133,
      "metadata": {
        "execution": {
          "iopub.execute_input": "2023-07-11T19:11:27.565429Z",
          "iopub.status.busy": "2023-07-11T19:11:27.564800Z",
          "iopub.status.idle": "2023-07-11T19:11:27.572683Z",
          "shell.execute_reply": "2023-07-11T19:11:27.571493Z",
          "shell.execute_reply.started": "2023-07-11T19:11:27.565394Z"
        },
        "id": "DUIqO6AiZ8al",
        "trusted": true
      },
      "outputs": [],
      "source": [
        "train_set = GODataset(tokenizer=tokenizer,\n",
        "                    essay = text_train,\n",
        "                    targets = y_train,\n",
        "                      emo_lexicon = True\n",
        "                )\n",
        "\n",
        "val_set = GODataset(tokenizer=tokenizer,\n",
        "                    essay = text_val,\n",
        "                    targets = y_val,\n",
        "                    emo_lexicon = True\n",
        "                )\n",
        "test_set = GODataset(tokenizer=tokenizer,\n",
        "                    essay = text_test,\n",
        "                    targets = y_test,\n",
        "                    emo_lexicon = True\n",
        "                )"
      ]
    },
    {
      "cell_type": "markdown",
      "metadata": {
        "id": "rvduRx8HsteS"
      },
      "source": [
        "Set up training"
      ]
    },
    {
      "cell_type": "code",
      "execution_count": 134,
      "metadata": {
        "execution": {
          "iopub.execute_input": "2023-07-11T19:11:27.574736Z",
          "iopub.status.busy": "2023-07-11T19:11:27.574061Z",
          "iopub.status.idle": "2023-07-11T19:11:27.586314Z",
          "shell.execute_reply": "2023-07-11T19:11:27.585303Z",
          "shell.execute_reply.started": "2023-07-11T19:11:27.574702Z"
        },
        "id": "Z1DbZxhkD1R7",
        "trusted": true
      },
      "outputs": [],
      "source": [
        "train_arguments = TrainingArguments(\n",
        "    output_dir=f\"./{config.get('model_name')}\",\n",
        "    per_device_train_batch_size = config.get('train_batch_size'),\n",
        "    per_device_eval_batch_size = config.get('val_batch_size'),\n",
        "    num_train_epochs = config.get('epochs'),\n",
        "    evaluation_strategy = \"steps\",\n",
        "    save_strategy = \"steps\",\n",
        "    logging_strategy = \"steps\",\n",
        "    logging_steps = 150,\n",
        "    eval_steps = 150,\n",
        "    save_steps = 150,\n",
        "    learning_rate=config.get('learning_rate'),\n",
        "    weight_decay=config.get('weight_decay'),\n",
        "    load_best_model_at_end=True,\n",
        "    metric_for_best_model = \"eval_macro_f1\",\n",
        "    seed=config.get('seed'),\n",
        ")"
      ]
    },
    {
      "cell_type": "code",
      "execution_count": 135,
      "metadata": {
        "execution": {
          "iopub.execute_input": "2023-07-11T19:11:27.588557Z",
          "iopub.status.busy": "2023-07-11T19:11:27.587598Z",
          "iopub.status.idle": "2023-07-11T19:11:27.726922Z",
          "shell.execute_reply": "2023-07-11T19:11:27.725911Z",
          "shell.execute_reply.started": "2023-07-11T19:11:27.588523Z"
        },
        "id": "hrI2rj4U3K2Q",
        "trusted": true
      },
      "outputs": [],
      "source": [
        "trainer = Trainer(\n",
        "    model=model,\n",
        "    args=train_arguments,\n",
        "    train_dataset=train_set,\n",
        "    eval_dataset=val_set,\n",
        "    tokenizer=tokenizer,\n",
        "    compute_metrics=compute_EMO_metrics_trainer\n",
        ")"
      ]
    },
    {
      "cell_type": "markdown",
      "metadata": {
        "id": "A-sruHQdsraI"
      },
      "source": [
        "Callbacks"
      ]
    },
    {
      "cell_type": "code",
      "execution_count": 136,
      "metadata": {
        "execution": {
          "iopub.execute_input": "2023-07-11T19:11:27.731325Z",
          "iopub.status.busy": "2023-07-11T19:11:27.731059Z",
          "iopub.status.idle": "2023-07-11T19:11:27.738285Z",
          "shell.execute_reply": "2023-07-11T19:11:27.737157Z",
          "shell.execute_reply.started": "2023-07-11T19:11:27.731302Z"
        },
        "id": "4kUY7tU3sqr3",
        "trusted": true
      },
      "outputs": [],
      "source": [
        "class TrainerLoggingCallback(TrainerCallback):\n",
        "    def __init__(self, log_path):\n",
        "        self.log_path = log_path\n",
        "\n",
        "    def on_log(self, args, state, control, logs=None, **kwargs):\n",
        "        _ = logs.pop(\"total_flos\", None)\n",
        "        if state.is_local_process_zero: # whether this process is the main one in a distributed setting\n",
        "            with open(self.log_path, \"a\") as f:\n",
        "                f.write(json.dumps(logs) + \"\\n\")\n",
        "\n",
        "trainer.add_callback(EarlyStoppingCallback(\n",
        "    early_stopping_patience = config.get('patience'),\n",
        "    early_stopping_threshold = config.get('early_stopping_threshold')))\n",
        "\n",
        "trainer.add_callback(TrainerLoggingCallback(config.get('model_id')+\"_log.json\"))"
      ]
    },
    {
      "cell_type": "markdown",
      "metadata": {
        "id": "dcCqSooFsw0X"
      },
      "source": [
        "Start training"
      ]
    },
    {
      "cell_type": "code",
      "execution_count": 137,
      "metadata": {
        "colab": {
          "base_uri": "https://localhost:8080/",
          "height": 990
        },
        "execution": {
          "iopub.execute_input": "2023-07-11T19:11:27.740439Z",
          "iopub.status.busy": "2023-07-11T19:11:27.740100Z",
          "iopub.status.idle": "2023-07-11T19:20:18.229718Z",
          "shell.execute_reply": "2023-07-11T19:20:18.228678Z",
          "shell.execute_reply.started": "2023-07-11T19:11:27.740408Z"
        },
        "id": "L8xAPa81D5tu",
        "outputId": "6376f503-48c2-4c7c-9ef9-84875fe3f85c",
        "trusted": true
      },
      "outputs": [
        {
          "output_type": "stream",
          "name": "stderr",
          "text": [
            "/usr/local/lib/python3.10/dist-packages/transformers/optimization.py:411: FutureWarning: This implementation of AdamW is deprecated and will be removed in a future version. Use the PyTorch implementation torch.optim.AdamW instead, or set `no_deprecation_warning=True` to disable this warning\n",
            "  warnings.warn(\n"
          ]
        },
        {
          "output_type": "display_data",
          "data": {
            "text/plain": [
              "<IPython.core.display.HTML object>"
            ],
            "text/html": [
              "\n",
              "    <div>\n",
              "      \n",
              "      <progress value='3000' max='13560' style='width:300px; height:20px; vertical-align: middle;'></progress>\n",
              "      [ 3000/13560 25:03 < 1:28:16, 1.99 it/s, Epoch 6/30]\n",
              "    </div>\n",
              "    <table border=\"1\" class=\"dataframe\">\n",
              "  <thead>\n",
              " <tr style=\"text-align: left;\">\n",
              "      <th>Step</th>\n",
              "      <th>Training Loss</th>\n",
              "      <th>Validation Loss</th>\n",
              "      <th>Macro F1</th>\n",
              "      <th>Micro F1</th>\n",
              "      <th>Micro Jaccard</th>\n",
              "      <th>Macro Precision</th>\n",
              "      <th>Macro Recall</th>\n",
              "      <th>Micro Precision</th>\n",
              "      <th>Micro Recall</th>\n",
              "      <th>Sklearn Accuracy</th>\n",
              "      <th>Roc Auc Micro</th>\n",
              "    </tr>\n",
              "  </thead>\n",
              "  <tbody>\n",
              "    <tr>\n",
              "      <td>150</td>\n",
              "      <td>0.330200</td>\n",
              "      <td>0.290732</td>\n",
              "      <td>0.089859</td>\n",
              "      <td>0.561129</td>\n",
              "      <td>0.389978</td>\n",
              "      <td>0.070141</td>\n",
              "      <td>0.125000</td>\n",
              "      <td>0.561129</td>\n",
              "      <td>0.561129</td>\n",
              "      <td>0.561129</td>\n",
              "      <td>0.749216</td>\n",
              "    </tr>\n",
              "    <tr>\n",
              "      <td>300</td>\n",
              "      <td>0.277200</td>\n",
              "      <td>0.258225</td>\n",
              "      <td>0.139497</td>\n",
              "      <td>0.579937</td>\n",
              "      <td>0.408389</td>\n",
              "      <td>0.185839</td>\n",
              "      <td>0.163335</td>\n",
              "      <td>0.579937</td>\n",
              "      <td>0.579937</td>\n",
              "      <td>0.579937</td>\n",
              "      <td>0.759964</td>\n",
              "    </tr>\n",
              "    <tr>\n",
              "      <td>450</td>\n",
              "      <td>0.263400</td>\n",
              "      <td>0.240923</td>\n",
              "      <td>0.217929</td>\n",
              "      <td>0.597179</td>\n",
              "      <td>0.425698</td>\n",
              "      <td>0.310279</td>\n",
              "      <td>0.213793</td>\n",
              "      <td>0.597179</td>\n",
              "      <td>0.597179</td>\n",
              "      <td>0.597179</td>\n",
              "      <td>0.769816</td>\n",
              "    </tr>\n",
              "    <tr>\n",
              "      <td>600</td>\n",
              "      <td>0.236000</td>\n",
              "      <td>0.230410</td>\n",
              "      <td>0.322789</td>\n",
              "      <td>0.623824</td>\n",
              "      <td>0.453303</td>\n",
              "      <td>0.386917</td>\n",
              "      <td>0.318988</td>\n",
              "      <td>0.623824</td>\n",
              "      <td>0.623824</td>\n",
              "      <td>0.623824</td>\n",
              "      <td>0.785043</td>\n",
              "    </tr>\n",
              "    <tr>\n",
              "      <td>750</td>\n",
              "      <td>0.230700</td>\n",
              "      <td>0.240770</td>\n",
              "      <td>0.347378</td>\n",
              "      <td>0.601881</td>\n",
              "      <td>0.430493</td>\n",
              "      <td>0.666242</td>\n",
              "      <td>0.348368</td>\n",
              "      <td>0.601881</td>\n",
              "      <td>0.601881</td>\n",
              "      <td>0.601881</td>\n",
              "      <td>0.772503</td>\n",
              "    </tr>\n",
              "    <tr>\n",
              "      <td>900</td>\n",
              "      <td>0.217200</td>\n",
              "      <td>0.224060</td>\n",
              "      <td>0.391856</td>\n",
              "      <td>0.647335</td>\n",
              "      <td>0.478563</td>\n",
              "      <td>0.478576</td>\n",
              "      <td>0.388442</td>\n",
              "      <td>0.647335</td>\n",
              "      <td>0.647335</td>\n",
              "      <td>0.647335</td>\n",
              "      <td>0.798477</td>\n",
              "    </tr>\n",
              "    <tr>\n",
              "      <td>1050</td>\n",
              "      <td>0.189900</td>\n",
              "      <td>0.228887</td>\n",
              "      <td>0.454027</td>\n",
              "      <td>0.666144</td>\n",
              "      <td>0.499412</td>\n",
              "      <td>0.598568</td>\n",
              "      <td>0.406372</td>\n",
              "      <td>0.666144</td>\n",
              "      <td>0.666144</td>\n",
              "      <td>0.666144</td>\n",
              "      <td>0.809225</td>\n",
              "    </tr>\n",
              "    <tr>\n",
              "      <td>1200</td>\n",
              "      <td>0.182000</td>\n",
              "      <td>0.223930</td>\n",
              "      <td>0.450383</td>\n",
              "      <td>0.650470</td>\n",
              "      <td>0.481998</td>\n",
              "      <td>0.546206</td>\n",
              "      <td>0.429661</td>\n",
              "      <td>0.650470</td>\n",
              "      <td>0.650470</td>\n",
              "      <td>0.650470</td>\n",
              "      <td>0.800269</td>\n",
              "    </tr>\n",
              "    <tr>\n",
              "      <td>1350</td>\n",
              "      <td>0.195900</td>\n",
              "      <td>0.224648</td>\n",
              "      <td>0.467193</td>\n",
              "      <td>0.652038</td>\n",
              "      <td>0.483721</td>\n",
              "      <td>0.539452</td>\n",
              "      <td>0.431730</td>\n",
              "      <td>0.652038</td>\n",
              "      <td>0.652038</td>\n",
              "      <td>0.652038</td>\n",
              "      <td>0.801164</td>\n",
              "    </tr>\n",
              "    <tr>\n",
              "      <td>1500</td>\n",
              "      <td>0.170600</td>\n",
              "      <td>0.231870</td>\n",
              "      <td>0.457628</td>\n",
              "      <td>0.652038</td>\n",
              "      <td>0.483721</td>\n",
              "      <td>0.547828</td>\n",
              "      <td>0.425304</td>\n",
              "      <td>0.652038</td>\n",
              "      <td>0.652038</td>\n",
              "      <td>0.652038</td>\n",
              "      <td>0.801164</td>\n",
              "    </tr>\n",
              "    <tr>\n",
              "      <td>1650</td>\n",
              "      <td>0.149000</td>\n",
              "      <td>0.241612</td>\n",
              "      <td>0.470268</td>\n",
              "      <td>0.631661</td>\n",
              "      <td>0.461627</td>\n",
              "      <td>0.504427</td>\n",
              "      <td>0.459331</td>\n",
              "      <td>0.631661</td>\n",
              "      <td>0.631661</td>\n",
              "      <td>0.631661</td>\n",
              "      <td>0.789521</td>\n",
              "    </tr>\n",
              "    <tr>\n",
              "      <td>1800</td>\n",
              "      <td>0.157100</td>\n",
              "      <td>0.234741</td>\n",
              "      <td>0.465120</td>\n",
              "      <td>0.636364</td>\n",
              "      <td>0.466667</td>\n",
              "      <td>0.539771</td>\n",
              "      <td>0.434884</td>\n",
              "      <td>0.636364</td>\n",
              "      <td>0.636364</td>\n",
              "      <td>0.636364</td>\n",
              "      <td>0.792208</td>\n",
              "    </tr>\n",
              "    <tr>\n",
              "      <td>1950</td>\n",
              "      <td>0.129800</td>\n",
              "      <td>0.254174</td>\n",
              "      <td>0.459740</td>\n",
              "      <td>0.609718</td>\n",
              "      <td>0.438557</td>\n",
              "      <td>0.488305</td>\n",
              "      <td>0.471394</td>\n",
              "      <td>0.609718</td>\n",
              "      <td>0.609718</td>\n",
              "      <td>0.609718</td>\n",
              "      <td>0.776982</td>\n",
              "    </tr>\n",
              "    <tr>\n",
              "      <td>2100</td>\n",
              "      <td>0.127500</td>\n",
              "      <td>0.262871</td>\n",
              "      <td>0.436850</td>\n",
              "      <td>0.565831</td>\n",
              "      <td>0.394536</td>\n",
              "      <td>0.442962</td>\n",
              "      <td>0.460057</td>\n",
              "      <td>0.565831</td>\n",
              "      <td>0.565831</td>\n",
              "      <td>0.565831</td>\n",
              "      <td>0.751903</td>\n",
              "    </tr>\n",
              "    <tr>\n",
              "      <td>2250</td>\n",
              "      <td>0.128200</td>\n",
              "      <td>0.256355</td>\n",
              "      <td>0.471762</td>\n",
              "      <td>0.647335</td>\n",
              "      <td>0.478563</td>\n",
              "      <td>0.522797</td>\n",
              "      <td>0.445847</td>\n",
              "      <td>0.647335</td>\n",
              "      <td>0.647335</td>\n",
              "      <td>0.647335</td>\n",
              "      <td>0.798477</td>\n",
              "    </tr>\n",
              "    <tr>\n",
              "      <td>2400</td>\n",
              "      <td>0.103500</td>\n",
              "      <td>0.274445</td>\n",
              "      <td>0.465707</td>\n",
              "      <td>0.625392</td>\n",
              "      <td>0.454960</td>\n",
              "      <td>0.488747</td>\n",
              "      <td>0.449253</td>\n",
              "      <td>0.625392</td>\n",
              "      <td>0.625392</td>\n",
              "      <td>0.625392</td>\n",
              "      <td>0.785938</td>\n",
              "    </tr>\n",
              "    <tr>\n",
              "      <td>2550</td>\n",
              "      <td>0.105400</td>\n",
              "      <td>0.286012</td>\n",
              "      <td>0.455496</td>\n",
              "      <td>0.595611</td>\n",
              "      <td>0.424107</td>\n",
              "      <td>0.455407</td>\n",
              "      <td>0.470316</td>\n",
              "      <td>0.595611</td>\n",
              "      <td>0.595611</td>\n",
              "      <td>0.595611</td>\n",
              "      <td>0.768921</td>\n",
              "    </tr>\n",
              "    <tr>\n",
              "      <td>2700</td>\n",
              "      <td>0.105000</td>\n",
              "      <td>0.287106</td>\n",
              "      <td>0.464688</td>\n",
              "      <td>0.617555</td>\n",
              "      <td>0.446712</td>\n",
              "      <td>0.494629</td>\n",
              "      <td>0.450161</td>\n",
              "      <td>0.617555</td>\n",
              "      <td>0.617555</td>\n",
              "      <td>0.617555</td>\n",
              "      <td>0.781460</td>\n",
              "    </tr>\n",
              "    <tr>\n",
              "      <td>2850</td>\n",
              "      <td>0.078200</td>\n",
              "      <td>0.300171</td>\n",
              "      <td>0.446680</td>\n",
              "      <td>0.606583</td>\n",
              "      <td>0.435321</td>\n",
              "      <td>0.457354</td>\n",
              "      <td>0.441726</td>\n",
              "      <td>0.606583</td>\n",
              "      <td>0.606583</td>\n",
              "      <td>0.606583</td>\n",
              "      <td>0.775190</td>\n",
              "    </tr>\n",
              "    <tr>\n",
              "      <td>3000</td>\n",
              "      <td>0.086900</td>\n",
              "      <td>0.313624</td>\n",
              "      <td>0.446240</td>\n",
              "      <td>0.590909</td>\n",
              "      <td>0.419355</td>\n",
              "      <td>0.456032</td>\n",
              "      <td>0.451450</td>\n",
              "      <td>0.590909</td>\n",
              "      <td>0.590909</td>\n",
              "      <td>0.590909</td>\n",
              "      <td>0.766234</td>\n",
              "    </tr>\n",
              "  </tbody>\n",
              "</table><p>"
            ]
          },
          "metadata": {}
        },
        {
          "output_type": "stream",
          "name": "stderr",
          "text": [
            "/usr/local/lib/python3.10/dist-packages/sklearn/metrics/_classification.py:1344: UndefinedMetricWarning: Precision and F-score are ill-defined and being set to 0.0 in labels with no predicted samples. Use `zero_division` parameter to control this behavior.\n",
            "  _warn_prf(average, modifier, msg_start, len(result))\n",
            "/usr/local/lib/python3.10/dist-packages/sklearn/metrics/_classification.py:1344: UndefinedMetricWarning: Precision and F-score are ill-defined and being set to 0.0 in labels with no predicted samples. Use `zero_division` parameter to control this behavior.\n",
            "  _warn_prf(average, modifier, msg_start, len(result))\n",
            "/usr/local/lib/python3.10/dist-packages/sklearn/metrics/_classification.py:1344: UndefinedMetricWarning: Precision and F-score are ill-defined and being set to 0.0 in labels with no predicted samples. Use `zero_division` parameter to control this behavior.\n",
            "  _warn_prf(average, modifier, msg_start, len(result))\n",
            "/usr/local/lib/python3.10/dist-packages/sklearn/metrics/_classification.py:1344: UndefinedMetricWarning: Precision and F-score are ill-defined and being set to 0.0 in labels with no predicted samples. Use `zero_division` parameter to control this behavior.\n",
            "  _warn_prf(average, modifier, msg_start, len(result))\n",
            "/usr/local/lib/python3.10/dist-packages/sklearn/metrics/_classification.py:1344: UndefinedMetricWarning: Precision and F-score are ill-defined and being set to 0.0 in labels with no predicted samples. Use `zero_division` parameter to control this behavior.\n",
            "  _warn_prf(average, modifier, msg_start, len(result))\n"
          ]
        },
        {
          "output_type": "execute_result",
          "data": {
            "text/plain": [
              "TrainOutput(global_step=3000, training_loss=0.17318311373392742, metrics={'train_runtime': 1503.954, 'train_samples_per_second': 72.05, 'train_steps_per_second': 9.016, 'train_loss': 0.17318311373392742, 'epoch': 6.64})"
            ]
          },
          "metadata": {},
          "execution_count": 137
        }
      ],
      "source": [
        "trainer.train()"
      ]
    },
    {
      "cell_type": "code",
      "execution_count": 138,
      "metadata": {
        "execution": {
          "iopub.execute_input": "2023-07-11T19:20:18.263809Z",
          "iopub.status.busy": "2023-07-11T19:20:18.263461Z",
          "iopub.status.idle": "2023-07-11T19:20:18.274394Z",
          "shell.execute_reply": "2023-07-11T19:20:18.272774Z",
          "shell.execute_reply.started": "2023-07-11T19:20:18.263776Z"
        },
        "id": "Dd-3octehTlH",
        "trusted": true
      },
      "outputs": [],
      "source": [
        "metric_for_val = \"eval_macro_f1\"\n",
        "# Access the training logs\n",
        "train_logs = trainer.state.log_history\n",
        "\n",
        "metrics = [list(log.keys())[:-5] for log in train_logs if log.get('eval_loss') is not None][0]\n",
        "\n",
        "train_loss_values = []\n",
        "eval_loss_values = []\n",
        "eval_metrics_values = []\n",
        "for _ in metrics:\n",
        "  eval_metrics_values.append([])\n",
        "train_epochs = []\n",
        "eval_epochs = []\n",
        "\n",
        "best_metric = 0\n",
        "best_train_loss = float('inf')\n",
        "best_eval_loss = float('inf')\n",
        "\n",
        "for log in train_logs:\n",
        "\n",
        "  if log.get(metric_for_val) is not None:\n",
        "\n",
        "    if log.get(metric_for_val) > best_metric:\n",
        "      best_metric = log.get(metric_for_val)\n",
        "      best_steps = log.get('step')\n",
        "      best_epoch_metric = log.get('epoch')\n",
        "    if log.get('eval_loss') < best_eval_loss:\n",
        "      best_eval_loss = log.get('eval_loss')\n",
        "      best_epoch_eval_loss = log.get('epoch')\n",
        "\n",
        "    for i, metric in enumerate(metrics):\n",
        "      eval_metrics_values[i].append(log.get(metric))\n",
        "\n",
        "    eval_loss_values.append(log.get('eval_loss'))\n",
        "    eval_epochs.append(log.get('epoch'))\n",
        "\n",
        "  if log.get('loss') is not None:\n",
        "    if log.get('loss') < best_train_loss:\n",
        "      best_train_loss = log.get('loss')\n",
        "\n",
        "    train_loss_values.append(log.get('loss'))\n",
        "    train_epochs.append(log.get('epoch'))\n"
      ]
    },
    {
      "cell_type": "markdown",
      "metadata": {
        "id": "6V5eavAamxKr"
      },
      "source": [
        "Plot losses"
      ]
    },
    {
      "cell_type": "code",
      "execution_count": 139,
      "metadata": {
        "execution": {
          "iopub.execute_input": "2023-07-11T19:20:18.303708Z",
          "iopub.status.busy": "2023-07-11T19:20:18.303144Z",
          "iopub.status.idle": "2023-07-11T19:20:18.378460Z",
          "shell.execute_reply": "2023-07-11T19:20:18.376257Z",
          "shell.execute_reply.started": "2023-07-11T19:20:18.303655Z"
        },
        "id": "ECEu3ajRl6k3",
        "trusted": true,
        "colab": {
          "base_uri": "https://localhost:8080/",
          "height": 538
        },
        "outputId": "20747991-b51d-43da-b88a-6cd54d3f6560"
      },
      "outputs": [
        {
          "output_type": "display_data",
          "data": {
            "text/plain": [
              "<Figure size 1200x600 with 1 Axes>"
            ],
            "image/png": "[encoded data removed]"
          },
          "metadata": {}
        }
      ],
      "source": [
        "fig_name = \"losses\"\n",
        "plot_metric_curve(\n",
        "    values = [train_loss_values, eval_loss_values],\n",
        "    epochs = [train_epochs, eval_epochs],\n",
        "    metrics = [\"train loss\", \"eval loss\"],\n",
        "    title = fig_name,\n",
        "    path = f\"{path_tosave}/{fig_name}.png\")"
      ]
    },
    {
      "cell_type": "markdown",
      "metadata": {
        "id": "ms0inN8amz33"
      },
      "source": [
        "Plot metrics"
      ]
    },
    {
      "cell_type": "code",
      "execution_count": 140,
      "metadata": {
        "id": "mgGrIimdm3si",
        "colab": {
          "base_uri": "https://localhost:8080/",
          "height": 538
        },
        "outputId": "6888e32c-98f1-44b9-9f72-abf4f40aee8c"
      },
      "outputs": [
        {
          "output_type": "display_data",
          "data": {
            "text/plain": [
              "<Figure size 1200x600 with 1 Axes>"
            ],
            "image/png": "[encoded data removed]"
          },
          "metadata": {}
        }
      ],
      "source": [
        "fig_name = \"metrics\"\n",
        "plot_metric_curve(\n",
        "    values = eval_metrics_values[1:],\n",
        "    epochs = [eval_epochs for _ in eval_metrics_values[1:]],\n",
        "    metrics = metrics[1:],\n",
        "    title = fig_name,\n",
        "    path = f\"{path_tosave}/{fig_name}.png\")"
      ]
    },
    {
      "cell_type": "markdown",
      "metadata": {
        "id": "Rc5stfSah0Kj"
      },
      "source": [
        "## Evaluation"
      ]
    },
    {
      "cell_type": "code",
      "execution_count": 141,
      "metadata": {
        "execution": {
          "iopub.execute_input": "2023-07-11T19:32:52.626228Z",
          "iopub.status.busy": "2023-07-11T19:32:52.625699Z",
          "iopub.status.idle": "2023-07-11T19:32:52.641902Z",
          "shell.execute_reply": "2023-07-11T19:32:52.638400Z",
          "shell.execute_reply.started": "2023-07-11T19:32:52.626186Z"
        },
        "id": "19G80dVoH3HZ",
        "trusted": true
      },
      "outputs": [],
      "source": [
        "def predict_emotions(results, neutral_zero):\n",
        "\n",
        "  binarized_predictions = np.where(results >= 0.5, 1, 0)\n",
        "\n",
        "  if not neutral_zero:\n",
        "    for i, bin_pred in enumerate(binarized_predictions):\n",
        "      if np.all(bin_pred==0):\n",
        "        binarized_predictions[i][np.argmax(results[i])] = 1\n",
        "\n",
        "  predicted_emotions = label_encoder.decode(binarized_predictions)\n",
        "  return predicted_emotions\n"
      ]
    },
    {
      "cell_type": "code",
      "execution_count": 142,
      "metadata": {
        "id": "4WIAU6a7Mox4",
        "colab": {
          "base_uri": "https://localhost:8080/",
          "height": 35
        },
        "outputId": "bc3420e0-daa5-452c-fa08-0195994184ad"
      },
      "outputs": [
        {
          "output_type": "stream",
          "name": "stdout",
          "text": [
            "./distilroberta-base/checkpoint-2250\n"
          ]
        },
        {
          "output_type": "display_data",
          "data": {
            "text/plain": [
              "<IPython.core.display.HTML object>"
            ],
            "text/html": []
          },
          "metadata": {}
        }
      ],
      "source": [
        "print(trainer.state.best_model_checkpoint)\n",
        "\n",
        "outs = trainer.predict(test_set)"
      ]
    },
    {
      "cell_type": "code",
      "execution_count": 143,
      "metadata": {
        "id": "DXgFzu32_RBo"
      },
      "outputs": [],
      "source": [
        "golds = label_encoder.decode(outs.label_ids)\n",
        "predictions = predict_emotions(outs.predictions, False)"
      ]
    },
    {
      "cell_type": "code",
      "execution_count": 144,
      "metadata": {
        "execution": {
          "iopub.status.busy": "2023-07-11T19:20:18.388286Z",
          "iopub.status.idle": "2023-07-11T19:20:18.389135Z",
          "shell.execute_reply": "2023-07-11T19:20:18.388900Z",
          "shell.execute_reply.started": "2023-07-11T19:20:18.388873Z"
        },
        "id": "Im2VGnmQs7bY",
        "trusted": true,
        "colab": {
          "base_uri": "https://localhost:8080/"
        },
        "outputId": "e5658704-e023-4ad2-82c4-7a62ee834967"
      },
      "outputs": [
        {
          "output_type": "execute_result",
          "data": {
            "text/plain": [
              "{'train_loss': 0.0782,\n",
              " 'eval_loss': 0.22392965853214264,\n",
              " 'macro_f1': 0.4355,\n",
              " 'micro_f1': 0.624,\n",
              " 'micro_jaccard': 0.4535,\n",
              " 'macro_precision': 0.4878,\n",
              " 'macro_recall': 0.4079,\n",
              " 'micro_precision': 0.624,\n",
              " 'micro_recall': 0.624,\n",
              " 'best_metric': 0.47176213559770763,\n",
              " 'best_epoch_metric': 4.98,\n",
              " 'best_epoch_eval_loss': 2.65}"
            ]
          },
          "metadata": {},
          "execution_count": 144
        }
      ],
      "source": [
        "path_predictions = f\"{path_tosave}/dev_predictions_{TASK}.tsv\"\n",
        "path_metrics = f\"{path_tosave}/dev_metrics_{TASK}.json\"\n",
        "\n",
        "scores = {\n",
        "    'train_loss': float(best_train_loss),\n",
        "    'eval_loss': float(best_eval_loss)\n",
        "}\n",
        "\n",
        "write_predictions(predictions, path_predictions)\n",
        "challenge_metrics = compute_metrics(golds=golds, predictions=predictions, task=TASK)\n",
        "scores.update(challenge_metrics)\n",
        "scores['best_metric'] = float(best_metric)\n",
        "scores['best_epoch_metric'] = float(best_epoch_metric)\n",
        "scores['best_epoch_eval_loss'] =  float(best_epoch_eval_loss)\n",
        "\n",
        "write_dict_to_json(scores, path_metrics)\n",
        "\n",
        "scores"
      ]
    },
    {
      "cell_type": "code",
      "execution_count": 83,
      "metadata": {
        "execution": {
          "iopub.status.busy": "2023-07-11T19:20:18.390758Z",
          "iopub.status.idle": "2023-07-11T19:20:18.391292Z",
          "shell.execute_reply": "2023-07-11T19:20:18.391058Z",
          "shell.execute_reply.started": "2023-07-11T19:20:18.391035Z"
        },
        "id": "ITunC36XXLoN",
        "trusted": true,
        "colab": {
          "base_uri": "https://localhost:8080/",
          "height": 1000
        },
        "outputId": "655a3779-e7a7-423e-9900-0487452b798c"
      },
      "outputs": [
        {
          "output_type": "display_data",
          "data": {
            "text/plain": [
              "<Figure size 1000x700 with 2 Axes>"
            ],
            "image/png": "[encoded data removed]"
          },
          "metadata": {}
        },
        {
          "output_type": "stream",
          "name": "stdout",
          "text": [
            "\n",
            "\n"
          ]
        },
        {
          "output_type": "display_data",
          "data": {
            "text/plain": [
              "<Figure size 1200x600 with 2 Axes>"
            ],
            "image/png": "[encoded data removed]"
          },
          "metadata": {}
        }
      ],
      "source": [
        "fig_name = \"confusion_matrix\"\n",
        "plot_confusion_matrix(golds=golds,\n",
        "                      predictions=predictions,\n",
        "                      path= f\"{path_tosave}/{fig_name}.png\"\n",
        "                      )\n",
        "print(\"\\n\")\n",
        "fig_name = \"confusion_matrix_per_emotions\"\n",
        "plot_confusion_matrix_per_emotions(gold_emotions = golds,\n",
        "                                    predicted_emotions = predictions,\n",
        "                                    path= f\"{path_tosave}/{fig_name}.png\"\n",
        "                                    )"
      ]
    },
    {
      "cell_type": "code",
      "source": [
        "def load_checkpoint_and_compute_metrics(checkpoint_path, test_set):\n",
        "\n",
        "  model = CustomSequenceClassification.from_pretrained(checkpoint_path,\n",
        "                                                          num_extra_dims = len(EMOTIONS_LEX),\n",
        "                                                          problem_type = \"multi_label_classification\",\n",
        "                                                          num_labels = config.get('num_labels'),\n",
        "                                                          classifier_dropout = config.get('dropout'),\n",
        "                                                          ignore_mismatched_sizes=True )\n",
        "  trainer = Trainer(model=model)\n",
        "  # Perform prediction using the loaded checkpoint\n",
        "  outs = trainer.predict(test_set)\n",
        "\n",
        "  golds = label_encoder.decode(outs.label_ids)\n",
        "  predictions = predict_emotions(outs.predictions, golds)\n",
        "\n",
        "\n",
        "  path_predictions = f\"{path_tosave}/predictions_best_metric.tsv\"\n",
        "  path_metrics = f\"{path_tosave}/dev_metrics_best_metric.json\"\n",
        "\n",
        "  #write_predictions(predictions, path_predictions)\n",
        "  challenge_metrics = compute_metrics(golds=golds, predictions=predictions, task=TASK)\n",
        "\n",
        "  #write_dict_to_json(challenge_metrics, path_metrics)\n",
        "\n",
        "  print(challenge_metrics)\n"
      ],
      "metadata": {
        "id": "un7FjhWYweOY"
      },
      "execution_count": 149,
      "outputs": []
    },
    {
      "cell_type": "code",
      "source": [
        "best_metric_path = f\"/content/{config.get('model_name')}/checkpoint-1650\"\n",
        "print(best_metric_path)\n",
        "load_checkpoint_and_compute_metrics(best_metric_path, test_set)"
      ],
      "metadata": {
        "colab": {
          "base_uri": "https://localhost:8080/",
          "height": 144
        },
        "id": "4PKARhEDwf-R",
        "outputId": "6da723df-9f59-4ba8-d4a2-4d6bb54c6c42"
      },
      "execution_count": 150,
      "outputs": [
        {
          "output_type": "stream",
          "name": "stdout",
          "text": [
            "/content/distilroberta-base/checkpoint-1650\n"
          ]
        },
        {
          "output_type": "display_data",
          "data": {
            "text/plain": [
              "<IPython.core.display.HTML object>"
            ],
            "text/html": []
          },
          "metadata": {}
        },
        {
          "output_type": "stream",
          "name": "stdout",
          "text": [
            "{'macro_f1': 0.385, 'micro_f1': 0.6026, 'micro_jaccard': 0.4312, 'macro_precision': 0.6123, 'macro_recall': 0.3279, 'micro_precision': 0.7114, 'micro_recall': 0.5227}\n"
          ]
        },
        {
          "output_type": "stream",
          "name": "stderr",
          "text": [
            "/usr/local/lib/python3.10/dist-packages/sklearn/preprocessing/_label.py:895: UserWarning: unknown class(es) [''] will be ignored\n",
            "  warnings.warn(\n",
            "/usr/local/lib/python3.10/dist-packages/sklearn/metrics/_classification.py:1344: UndefinedMetricWarning: Precision and F-score are ill-defined and being set to 0.0 in labels with no predicted samples. Use `zero_division` parameter to control this behavior.\n",
            "  _warn_prf(average, modifier, msg_start, len(result))\n"
          ]
        }
      ]
    },
    {
      "cell_type": "markdown",
      "metadata": {
        "id": "7DuCaju6tSHB"
      },
      "source": [
        "## Save on Google Drive"
      ]
    },
    {
      "cell_type": "code",
      "execution_count": 151,
      "metadata": {
        "id": "DZziOi8HnxW0"
      },
      "outputs": [],
      "source": [
        "# move the best checkpoint in the folder with model id\n",
        "best_model_path = trainer.state.best_model_checkpoint\n",
        "\n",
        "!mv $best_model_path /content/$path_tosave"
      ]
    },
    {
      "cell_type": "code",
      "execution_count": 154,
      "metadata": {
        "execution": {
          "iopub.status.busy": "2023-07-11T19:20:18.405534Z",
          "iopub.status.idle": "2023-07-11T19:20:18.406365Z",
          "shell.execute_reply": "2023-07-11T19:20:18.406135Z",
          "shell.execute_reply.started": "2023-07-11T19:20:18.406111Z"
        },
        "id": "b1KcxQQ0uUl6",
        "trusted": true
      },
      "outputs": [],
      "source": [
        "# move the results to personal drive\n",
        "!mv /content/EMO_GO_lexicon /content/drive/MyDrive/hlt"
      ]
    },
    {
      "cell_type": "code",
      "source": [
        "for i, row in go_df.iterrows():\n",
        "  print(row.emotion)\n",
        "  print(NRCLex(row.essay).affect_frequencies)\n",
        "  print(\"\\n\")"
      ],
      "metadata": {
        "id": "5vjDhekTxqKe"
      },
      "execution_count": null,
      "outputs": []
    }
  ],
  "metadata": {
    "accelerator": "GPU",
    "colab": {
      "gpuType": "T4",
      "provenance": []
    },
    "kernelspec": {
      "display_name": "Python 3",
      "name": "python3"
    },
    "language_info": {
      "codemirror_mode": {
        "name": "ipython",
        "version": 3
      },
      "file_extension": ".py",
      "mimetype": "text/x-python",
      "name": "python",
      "nbconvert_exporter": "python",
      "pygments_lexer": "ipython3",
      "version": "3.10.12"
    },
    "widgets": {
      "application/vnd.jupyter.widget-state+json": {
        "4d468f5e5b1c4a9893625612fbf2dde9": {
          "model_module": "@jupyter-widgets/controls",
          "model_name": "HBoxModel",
          "model_module_version": "1.5.0",
          "state": {
            "_dom_classes": [],
            "_model_module": "@jupyter-widgets/controls",
            "_model_module_version": "1.5.0",
            "_model_name": "HBoxModel",
            "_view_count": null,
            "_view_module": "@jupyter-widgets/controls",
            "_view_module_version": "1.5.0",
            "_view_name": "HBoxView",
            "box_style": "",
            "children": [
              "IPY_MODEL_a74b7785eaa0401d8dda6cbe3122697d",
              "IPY_MODEL_d93f42c18dba41c59869d2d4c84ea73c",
              "IPY_MODEL_9a3d907e92f94eb8afc339f23c2d4683"
            ],
            "layout": "IPY_MODEL_534206183d5b4cee818991406c32c18c"
          }
        },
        "a74b7785eaa0401d8dda6cbe3122697d": {
          "model_module": "@jupyter-widgets/controls",
          "model_name": "HTMLModel",
          "model_module_version": "1.5.0",
          "state": {
            "_dom_classes": [],
            "_model_module": "@jupyter-widgets/controls",
            "_model_module_version": "1.5.0",
            "_model_name": "HTMLModel",
            "_view_count": null,
            "_view_module": "@jupyter-widgets/controls",
            "_view_module_version": "1.5.0",
            "_view_name": "HTMLView",
            "description": "",
            "description_tooltip": null,
            "layout": "IPY_MODEL_da0521ec061041d79fe3ef2c817dad2b",
            "placeholder": "​",
            "style": "IPY_MODEL_3563448a6d7b44a5870c89f35d8a838e",
            "value": "Downloading model.safetensors: 100%"
          }
        },
        "d93f42c18dba41c59869d2d4c84ea73c": {
          "model_module": "@jupyter-widgets/controls",
          "model_name": "FloatProgressModel",
          "model_module_version": "1.5.0",
          "state": {
            "_dom_classes": [],
            "_model_module": "@jupyter-widgets/controls",
            "_model_module_version": "1.5.0",
            "_model_name": "FloatProgressModel",
            "_view_count": null,
            "_view_module": "@jupyter-widgets/controls",
            "_view_module_version": "1.5.0",
            "_view_name": "ProgressView",
            "bar_style": "success",
            "description": "",
            "description_tooltip": null,
            "layout": "IPY_MODEL_ae6039b822e04a69be818e2f2a37a68d",
            "max": 331055963,
            "min": 0,
            "orientation": "horizontal",
            "style": "IPY_MODEL_b71a6bd6596f48a6b960bd9872275f10",
            "value": 331055963
          }
        },
        "9a3d907e92f94eb8afc339f23c2d4683": {
          "model_module": "@jupyter-widgets/controls",
          "model_name": "HTMLModel",
          "model_module_version": "1.5.0",
          "state": {
            "_dom_classes": [],
            "_model_module": "@jupyter-widgets/controls",
            "_model_module_version": "1.5.0",
            "_model_name": "HTMLModel",
            "_view_count": null,
            "_view_module": "@jupyter-widgets/controls",
            "_view_module_version": "1.5.0",
            "_view_name": "HTMLView",
            "description": "",
            "description_tooltip": null,
            "layout": "IPY_MODEL_ff64a7045abc489cb0f69ad6a8f002bd",
            "placeholder": "​",
            "style": "IPY_MODEL_49c58978878845dda8fb832e750d2ea9",
            "value": " 331M/331M [00:08&lt;00:00, 41.4MB/s]"
          }
        },
        "534206183d5b4cee818991406c32c18c": {
          "model_module": "@jupyter-widgets/base",
          "model_name": "LayoutModel",
          "model_module_version": "1.2.0",
          "state": {
            "_model_module": "@jupyter-widgets/base",
            "_model_module_version": "1.2.0",
            "_model_name": "LayoutModel",
            "_view_count": null,
            "_view_module": "@jupyter-widgets/base",
            "_view_module_version": "1.2.0",
            "_view_name": "LayoutView",
            "align_content": null,
            "align_items": null,
            "align_self": null,
            "border": null,
            "bottom": null,
            "display": null,
            "flex": null,
            "flex_flow": null,
            "grid_area": null,
            "grid_auto_columns": null,
            "grid_auto_flow": null,
            "grid_auto_rows": null,
            "grid_column": null,
            "grid_gap": null,
            "grid_row": null,
            "grid_template_areas": null,
            "grid_template_columns": null,
            "grid_template_rows": null,
            "height": null,
            "justify_content": null,
            "justify_items": null,
            "left": null,
            "margin": null,
            "max_height": null,
            "max_width": null,
            "min_height": null,
            "min_width": null,
            "object_fit": null,
            "object_position": null,
            "order": null,
            "overflow": null,
            "overflow_x": null,
            "overflow_y": null,
            "padding": null,
            "right": null,
            "top": null,
            "visibility": null,
            "width": null
          }
        },
        "da0521ec061041d79fe3ef2c817dad2b": {
          "model_module": "@jupyter-widgets/base",
          "model_name": "LayoutModel",
          "model_module_version": "1.2.0",
          "state": {
            "_model_module": "@jupyter-widgets/base",
            "_model_module_version": "1.2.0",
            "_model_name": "LayoutModel",
            "_view_count": null,
            "_view_module": "@jupyter-widgets/base",
            "_view_module_version": "1.2.0",
            "_view_name": "LayoutView",
            "align_content": null,
            "align_items": null,
            "align_self": null,
            "border": null,
            "bottom": null,
            "display": null,
            "flex": null,
            "flex_flow": null,
            "grid_area": null,
            "grid_auto_columns": null,
            "grid_auto_flow": null,
            "grid_auto_rows": null,
            "grid_column": null,
            "grid_gap": null,
            "grid_row": null,
            "grid_template_areas": null,
            "grid_template_columns": null,
            "grid_template_rows": null,
            "height": null,
            "justify_content": null,
            "justify_items": null,
            "left": null,
            "margin": null,
            "max_height": null,
            "max_width": null,
            "min_height": null,
            "min_width": null,
            "object_fit": null,
            "object_position": null,
            "order": null,
            "overflow": null,
            "overflow_x": null,
            "overflow_y": null,
            "padding": null,
            "right": null,
            "top": null,
            "visibility": null,
            "width": null
          }
        },
        "3563448a6d7b44a5870c89f35d8a838e": {
          "model_module": "@jupyter-widgets/controls",
          "model_name": "DescriptionStyleModel",
          "model_module_version": "1.5.0",
          "state": {
            "_model_module": "@jupyter-widgets/controls",
            "_model_module_version": "1.5.0",
            "_model_name": "DescriptionStyleModel",
            "_view_count": null,
            "_view_module": "@jupyter-widgets/base",
            "_view_module_version": "1.2.0",
            "_view_name": "StyleView",
            "description_width": ""
          }
        },
        "ae6039b822e04a69be818e2f2a37a68d": {
          "model_module": "@jupyter-widgets/base",
          "model_name": "LayoutModel",
          "model_module_version": "1.2.0",
          "state": {
            "_model_module": "@jupyter-widgets/base",
            "_model_module_version": "1.2.0",
            "_model_name": "LayoutModel",
            "_view_count": null,
            "_view_module": "@jupyter-widgets/base",
            "_view_module_version": "1.2.0",
            "_view_name": "LayoutView",
            "align_content": null,
            "align_items": null,
            "align_self": null,
            "border": null,
            "bottom": null,
            "display": null,
            "flex": null,
            "flex_flow": null,
            "grid_area": null,
            "grid_auto_columns": null,
            "grid_auto_flow": null,
            "grid_auto_rows": null,
            "grid_column": null,
            "grid_gap": null,
            "grid_row": null,
            "grid_template_areas": null,
            "grid_template_columns": null,
            "grid_template_rows": null,
            "height": null,
            "justify_content": null,
            "justify_items": null,
            "left": null,
            "margin": null,
            "max_height": null,
            "max_width": null,
            "min_height": null,
            "min_width": null,
            "object_fit": null,
            "object_position": null,
            "order": null,
            "overflow": null,
            "overflow_x": null,
            "overflow_y": null,
            "padding": null,
            "right": null,
            "top": null,
            "visibility": null,
            "width": null
          }
        },
        "b71a6bd6596f48a6b960bd9872275f10": {
          "model_module": "@jupyter-widgets/controls",
          "model_name": "ProgressStyleModel",
          "model_module_version": "1.5.0",
          "state": {
            "_model_module": "@jupyter-widgets/controls",
            "_model_module_version": "1.5.0",
            "_model_name": "ProgressStyleModel",
            "_view_count": null,
            "_view_module": "@jupyter-widgets/base",
            "_view_module_version": "1.2.0",
            "_view_name": "StyleView",
            "bar_color": null,
            "description_width": ""
          }
        },
        "ff64a7045abc489cb0f69ad6a8f002bd": {
          "model_module": "@jupyter-widgets/base",
          "model_name": "LayoutModel",
          "model_module_version": "1.2.0",
          "state": {
            "_model_module": "@jupyter-widgets/base",
            "_model_module_version": "1.2.0",
            "_model_name": "LayoutModel",
            "_view_count": null,
            "_view_module": "@jupyter-widgets/base",
            "_view_module_version": "1.2.0",
            "_view_name": "LayoutView",
            "align_content": null,
            "align_items": null,
            "align_self": null,
            "border": null,
            "bottom": null,
            "display": null,
            "flex": null,
            "flex_flow": null,
            "grid_area": null,
            "grid_auto_columns": null,
            "grid_auto_flow": null,
            "grid_auto_rows": null,
            "grid_column": null,
            "grid_gap": null,
            "grid_row": null,
            "grid_template_areas": null,
            "grid_template_columns": null,
            "grid_template_rows": null,
            "height": null,
            "justify_content": null,
            "justify_items": null,
            "left": null,
            "margin": null,
            "max_height": null,
            "max_width": null,
            "min_height": null,
            "min_width": null,
            "object_fit": null,
            "object_position": null,
            "order": null,
            "overflow": null,
            "overflow_x": null,
            "overflow_y": null,
            "padding": null,
            "right": null,
            "top": null,
            "visibility": null,
            "width": null
          }
        },
        "49c58978878845dda8fb832e750d2ea9": {
          "model_module": "@jupyter-widgets/controls",
          "model_name": "DescriptionStyleModel",
          "model_module_version": "1.5.0",
          "state": {
            "_model_module": "@jupyter-widgets/controls",
            "_model_module_version": "1.5.0",
            "_model_name": "DescriptionStyleModel",
            "_view_count": null,
            "_view_module": "@jupyter-widgets/base",
            "_view_module_version": "1.2.0",
            "_view_name": "StyleView",
            "description_width": ""
          }
        }
      }
    }
  },
  "nbformat": 4,
  "nbformat_minor": 0
}