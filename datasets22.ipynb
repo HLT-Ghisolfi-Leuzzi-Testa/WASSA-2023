{
 "cells": [
  {
   "cell_type": "code",
   "execution_count": 1,
   "metadata": {},
   "outputs": [
    {
     "ename": "KeyError",
     "evalue": "\"['emotion'] not in index\"",
     "output_type": "error",
     "traceback": [
      "\u001b[1;31m---------------------------------------------------------------------------\u001b[0m",
      "\u001b[1;31mKeyError\u001b[0m                                  Traceback (most recent call last)",
      "Cell \u001b[1;32mIn[1], line 16\u001b[0m\n\u001b[0;32m     13\u001b[0m dev_22_df \u001b[39m=\u001b[39m pd\u001b[39m.\u001b[39mread_csv(DEV_22_DATA_PATH, sep\u001b[39m=\u001b[39m\u001b[39m'\u001b[39m\u001b[39m\\t\u001b[39;00m\u001b[39m'\u001b[39m)\n\u001b[0;32m     14\u001b[0m test_22_df \u001b[39m=\u001b[39m pd\u001b[39m.\u001b[39mread_csv(TEST_22_DATA_PATH, sep\u001b[39m=\u001b[39m\u001b[39m'\u001b[39m\u001b[39m\\t\u001b[39;00m\u001b[39m'\u001b[39m)\n\u001b[1;32m---> 16\u001b[0m essay_22_df \u001b[39m=\u001b[39m pd\u001b[39m.\u001b[39mconcat([train_22_df[[\u001b[39m'\u001b[39m\u001b[39mmessage_id\u001b[39m\u001b[39m'\u001b[39m, \u001b[39m'\u001b[39m\u001b[39messay\u001b[39m\u001b[39m'\u001b[39m, \u001b[39m'\u001b[39m\u001b[39memotion\u001b[39m\u001b[39m'\u001b[39m]], dev_22_df[[\u001b[39m'\u001b[39;49m\u001b[39mmessage_id\u001b[39;49m\u001b[39m'\u001b[39;49m, \u001b[39m'\u001b[39;49m\u001b[39messay\u001b[39;49m\u001b[39m'\u001b[39;49m, \u001b[39m'\u001b[39;49m\u001b[39memotion\u001b[39;49m\u001b[39m'\u001b[39;49m]], test_22_df[[\u001b[39m'\u001b[39m\u001b[39mmessage_id\u001b[39m\u001b[39m'\u001b[39m, \u001b[39m'\u001b[39m\u001b[39messay\u001b[39m\u001b[39m'\u001b[39m]]])\n\u001b[0;32m     18\u001b[0m train_23_df \u001b[39m=\u001b[39m pd\u001b[39m.\u001b[39mread_csv(TRAIN_23_DATA_PATH, sep\u001b[39m=\u001b[39m\u001b[39m'\u001b[39m\u001b[39m\\t\u001b[39;00m\u001b[39m'\u001b[39m)\n\u001b[0;32m     19\u001b[0m dev_23_df \u001b[39m=\u001b[39m pd\u001b[39m.\u001b[39mread_csv(DEV_23_DATA_PATH, sep\u001b[39m=\u001b[39m\u001b[39m'\u001b[39m\u001b[39m\\t\u001b[39;00m\u001b[39m'\u001b[39m)\n",
      "File \u001b[1;32mc:\\Users\\giuli\\anaconda3\\lib\\site-packages\\pandas\\core\\frame.py:3813\u001b[0m, in \u001b[0;36mDataFrame.__getitem__\u001b[1;34m(self, key)\u001b[0m\n\u001b[0;32m   3811\u001b[0m     \u001b[39mif\u001b[39;00m is_iterator(key):\n\u001b[0;32m   3812\u001b[0m         key \u001b[39m=\u001b[39m \u001b[39mlist\u001b[39m(key)\n\u001b[1;32m-> 3813\u001b[0m     indexer \u001b[39m=\u001b[39m \u001b[39mself\u001b[39;49m\u001b[39m.\u001b[39;49mcolumns\u001b[39m.\u001b[39;49m_get_indexer_strict(key, \u001b[39m\"\u001b[39;49m\u001b[39mcolumns\u001b[39;49m\u001b[39m\"\u001b[39;49m)[\u001b[39m1\u001b[39m]\n\u001b[0;32m   3815\u001b[0m \u001b[39m# take() does not accept boolean indexers\u001b[39;00m\n\u001b[0;32m   3816\u001b[0m \u001b[39mif\u001b[39;00m \u001b[39mgetattr\u001b[39m(indexer, \u001b[39m\"\u001b[39m\u001b[39mdtype\u001b[39m\u001b[39m\"\u001b[39m, \u001b[39mNone\u001b[39;00m) \u001b[39m==\u001b[39m \u001b[39mbool\u001b[39m:\n",
      "File \u001b[1;32mc:\\Users\\giuli\\anaconda3\\lib\\site-packages\\pandas\\core\\indexes\\base.py:6070\u001b[0m, in \u001b[0;36mIndex._get_indexer_strict\u001b[1;34m(self, key, axis_name)\u001b[0m\n\u001b[0;32m   6067\u001b[0m \u001b[39melse\u001b[39;00m:\n\u001b[0;32m   6068\u001b[0m     keyarr, indexer, new_indexer \u001b[39m=\u001b[39m \u001b[39mself\u001b[39m\u001b[39m.\u001b[39m_reindex_non_unique(keyarr)\n\u001b[1;32m-> 6070\u001b[0m \u001b[39mself\u001b[39;49m\u001b[39m.\u001b[39;49m_raise_if_missing(keyarr, indexer, axis_name)\n\u001b[0;32m   6072\u001b[0m keyarr \u001b[39m=\u001b[39m \u001b[39mself\u001b[39m\u001b[39m.\u001b[39mtake(indexer)\n\u001b[0;32m   6073\u001b[0m \u001b[39mif\u001b[39;00m \u001b[39misinstance\u001b[39m(key, Index):\n\u001b[0;32m   6074\u001b[0m     \u001b[39m# GH 42790 - Preserve name from an Index\u001b[39;00m\n",
      "File \u001b[1;32mc:\\Users\\giuli\\anaconda3\\lib\\site-packages\\pandas\\core\\indexes\\base.py:6133\u001b[0m, in \u001b[0;36mIndex._raise_if_missing\u001b[1;34m(self, key, indexer, axis_name)\u001b[0m\n\u001b[0;32m   6130\u001b[0m     \u001b[39mraise\u001b[39;00m \u001b[39mKeyError\u001b[39;00m(\u001b[39mf\u001b[39m\u001b[39m\"\u001b[39m\u001b[39mNone of [\u001b[39m\u001b[39m{\u001b[39;00mkey\u001b[39m}\u001b[39;00m\u001b[39m] are in the [\u001b[39m\u001b[39m{\u001b[39;00maxis_name\u001b[39m}\u001b[39;00m\u001b[39m]\u001b[39m\u001b[39m\"\u001b[39m)\n\u001b[0;32m   6132\u001b[0m not_found \u001b[39m=\u001b[39m \u001b[39mlist\u001b[39m(ensure_index(key)[missing_mask\u001b[39m.\u001b[39mnonzero()[\u001b[39m0\u001b[39m]]\u001b[39m.\u001b[39munique())\n\u001b[1;32m-> 6133\u001b[0m \u001b[39mraise\u001b[39;00m \u001b[39mKeyError\u001b[39;00m(\u001b[39mf\u001b[39m\u001b[39m\"\u001b[39m\u001b[39m{\u001b[39;00mnot_found\u001b[39m}\u001b[39;00m\u001b[39m not in index\u001b[39m\u001b[39m\"\u001b[39m)\n",
      "\u001b[1;31mKeyError\u001b[0m: \"['emotion'] not in index\""
     ]
    }
   ],
   "source": [
    "import pandas as pd\n",
    "import matplotlib.pyplot as plt\n",
    "\n",
    "TRAIN_22_DATA_PATH = './datasets/WASSA22_train.tsv'\n",
    "DEV_22_DATA_PATH = './datasets/WASSA22_dev.tsv'\n",
    "TEST_22_DATA_PATH = './datasets/WASSA22_test.tsv'\n",
    "\n",
    "TRAIN_23_DATA_PATH = './datasets/WASSA23_essay_level_with_labels_train.tsv'\n",
    "DEV_23_DATA_PATH = './datasets/WASSA23_essay_level_dev.tsv'\n",
    "TEST_23_DATA_PATH = './datasets/WASSA23_essay_level_test.tsv'\n",
    "\n",
    "train_22_df = pd.read_csv(TRAIN_22_DATA_PATH, sep='\\t')\n",
    "dev_22_df = pd.read_csv(DEV_22_DATA_PATH, sep='\\t')\n",
    "test_22_df = pd.read_csv(TEST_22_DATA_PATH, sep='\\t')\n",
    "\n",
    "essay_22_df = pd.concat([train_22_df[['message_id', 'essay', 'emotion']], dev_22_df[['message_id', 'essay', 'emotion']], test_22_df[['message_id', 'essay']]])\n",
    "\n",
    "train_23_df = pd.read_csv(TRAIN_23_DATA_PATH, sep='\\t')\n",
    "dev_23_df = pd.read_csv(DEV_23_DATA_PATH, sep='\\t')\n",
    "test_23_df = pd.read_csv(TEST_23_DATA_PATH, sep='\\t')\n",
    "\n",
    "essay_23_df = pd.concat([train_23_df[['essay_id', 'essay']], dev_23_df[['essay_id', 'essay']], test_23_df[['essay_id', 'essay']]])"
   ]
  },
  {
   "cell_type": "code",
   "execution_count": 2,
   "metadata": {},
   "outputs": [
    {
     "data": {
      "text/html": [
       "<div>\n",
       "<style scoped>\n",
       "    .dataframe tbody tr th:only-of-type {\n",
       "        vertical-align: middle;\n",
       "    }\n",
       "\n",
       "    .dataframe tbody tr th {\n",
       "        vertical-align: top;\n",
       "    }\n",
       "\n",
       "    .dataframe thead th {\n",
       "        text-align: right;\n",
       "    }\n",
       "</style>\n",
       "<table border=\"1\" class=\"dataframe\">\n",
       "  <thead>\n",
       "    <tr style=\"text-align: right;\">\n",
       "      <th></th>\n",
       "      <th>message_id</th>\n",
       "      <th>essay</th>\n",
       "    </tr>\n",
       "  </thead>\n",
       "  <tbody>\n",
       "    <tr>\n",
       "      <th>0</th>\n",
       "      <td>R_1hGrPtWM4SumG0U_1</td>\n",
       "      <td>it is really diheartening to read about these ...</td>\n",
       "    </tr>\n",
       "    <tr>\n",
       "      <th>1</th>\n",
       "      <td>R_1hGrPtWM4SumG0U_2</td>\n",
       "      <td>the phone lines from the suicide prevention li...</td>\n",
       "    </tr>\n",
       "    <tr>\n",
       "      <th>2</th>\n",
       "      <td>R_1hGrPtWM4SumG0U_3</td>\n",
       "      <td>no matter what your heritage, you should be ab...</td>\n",
       "    </tr>\n",
       "    <tr>\n",
       "      <th>3</th>\n",
       "      <td>R_1hGrPtWM4SumG0U_4</td>\n",
       "      <td>it is frightening to learn about all these sha...</td>\n",
       "    </tr>\n",
       "    <tr>\n",
       "      <th>4</th>\n",
       "      <td>R_1hGrPtWM4SumG0U_5</td>\n",
       "      <td>the eldest generation of russians aren't being...</td>\n",
       "    </tr>\n",
       "    <tr>\n",
       "      <th>...</th>\n",
       "      <td>...</td>\n",
       "      <td>...</td>\n",
       "    </tr>\n",
       "    <tr>\n",
       "      <th>520</th>\n",
       "      <td>R_1gShpZuf35KXreS_1</td>\n",
       "      <td>Hey, I've always liked Billy Bob Thornton and ...</td>\n",
       "    </tr>\n",
       "    <tr>\n",
       "      <th>521</th>\n",
       "      <td>R_1gShpZuf35KXreS_2</td>\n",
       "      <td>The fact that Donald Trump just peaced out of ...</td>\n",
       "    </tr>\n",
       "    <tr>\n",
       "      <th>522</th>\n",
       "      <td>R_1gShpZuf35KXreS_3</td>\n",
       "      <td>I'm not okay! How can anyone harm something so...</td>\n",
       "    </tr>\n",
       "    <tr>\n",
       "      <th>523</th>\n",
       "      <td>R_1gShpZuf35KXreS_4</td>\n",
       "      <td>I don't know anything outside of this article ...</td>\n",
       "    </tr>\n",
       "    <tr>\n",
       "      <th>524</th>\n",
       "      <td>R_1gShpZuf35KXreS_5</td>\n",
       "      <td>Honestly, this man is the epitome of everythin...</td>\n",
       "    </tr>\n",
       "  </tbody>\n",
       "</table>\n",
       "<p>2655 rows × 2 columns</p>\n",
       "</div>"
      ],
      "text/plain": [
       "              message_id                                              essay\n",
       "0    R_1hGrPtWM4SumG0U_1  it is really diheartening to read about these ...\n",
       "1    R_1hGrPtWM4SumG0U_2  the phone lines from the suicide prevention li...\n",
       "2    R_1hGrPtWM4SumG0U_3  no matter what your heritage, you should be ab...\n",
       "3    R_1hGrPtWM4SumG0U_4  it is frightening to learn about all these sha...\n",
       "4    R_1hGrPtWM4SumG0U_5  the eldest generation of russians aren't being...\n",
       "..                   ...                                                ...\n",
       "520  R_1gShpZuf35KXreS_1  Hey, I've always liked Billy Bob Thornton and ...\n",
       "521  R_1gShpZuf35KXreS_2  The fact that Donald Trump just peaced out of ...\n",
       "522  R_1gShpZuf35KXreS_3  I'm not okay! How can anyone harm something so...\n",
       "523  R_1gShpZuf35KXreS_4  I don't know anything outside of this article ...\n",
       "524  R_1gShpZuf35KXreS_5  Honestly, this man is the epitome of everythin...\n",
       "\n",
       "[2655 rows x 2 columns]"
      ]
     },
     "execution_count": 2,
     "metadata": {},
     "output_type": "execute_result"
    }
   ],
   "source": [
    "essay_22_df"
   ]
  },
  {
   "cell_type": "code",
   "execution_count": 3,
   "metadata": {},
   "outputs": [
    {
     "data": {
      "text/html": [
       "<div>\n",
       "<style scoped>\n",
       "    .dataframe tbody tr th:only-of-type {\n",
       "        vertical-align: middle;\n",
       "    }\n",
       "\n",
       "    .dataframe tbody tr th {\n",
       "        vertical-align: top;\n",
       "    }\n",
       "\n",
       "    .dataframe thead th {\n",
       "        text-align: right;\n",
       "    }\n",
       "</style>\n",
       "<table border=\"1\" class=\"dataframe\">\n",
       "  <thead>\n",
       "    <tr style=\"text-align: right;\">\n",
       "      <th></th>\n",
       "      <th>essay_id</th>\n",
       "      <th>essay</th>\n",
       "    </tr>\n",
       "  </thead>\n",
       "  <tbody>\n",
       "    <tr>\n",
       "      <th>0</th>\n",
       "      <td>1</td>\n",
       "      <td>It breaks my heart to see people living in tho...</td>\n",
       "    </tr>\n",
       "    <tr>\n",
       "      <th>1</th>\n",
       "      <td>2</td>\n",
       "      <td>I wonder why there aren't more people trying t...</td>\n",
       "    </tr>\n",
       "    <tr>\n",
       "      <th>2</th>\n",
       "      <td>4</td>\n",
       "      <td>After reading the article, you can't help but ...</td>\n",
       "    </tr>\n",
       "    <tr>\n",
       "      <th>3</th>\n",
       "      <td>5</td>\n",
       "      <td>It is so sad that someone who had such an amaz...</td>\n",
       "    </tr>\n",
       "    <tr>\n",
       "      <th>4</th>\n",
       "      <td>7</td>\n",
       "      <td>From reading the article, it looks like the wo...</td>\n",
       "    </tr>\n",
       "    <tr>\n",
       "      <th>...</th>\n",
       "      <td>...</td>\n",
       "      <td>...</td>\n",
       "    </tr>\n",
       "    <tr>\n",
       "      <th>95</th>\n",
       "      <td>95</td>\n",
       "      <td>Check out this story. It is an outrage that so...</td>\n",
       "    </tr>\n",
       "    <tr>\n",
       "      <th>96</th>\n",
       "      <td>96</td>\n",
       "      <td>I just read a story about a person who was bro...</td>\n",
       "    </tr>\n",
       "    <tr>\n",
       "      <th>97</th>\n",
       "      <td>97</td>\n",
       "      <td>I just read this article and it's really messe...</td>\n",
       "    </tr>\n",
       "    <tr>\n",
       "      <th>98</th>\n",
       "      <td>98</td>\n",
       "      <td>I just read about a man who is being deported ...</td>\n",
       "    </tr>\n",
       "    <tr>\n",
       "      <th>99</th>\n",
       "      <td>99</td>\n",
       "      <td>I feel very sorry for the individual in this a...</td>\n",
       "    </tr>\n",
       "  </tbody>\n",
       "</table>\n",
       "<p>1100 rows × 2 columns</p>\n",
       "</div>"
      ],
      "text/plain": [
       "    essay_id                                              essay\n",
       "0          1  It breaks my heart to see people living in tho...\n",
       "1          2  I wonder why there aren't more people trying t...\n",
       "2          4  After reading the article, you can't help but ...\n",
       "3          5  It is so sad that someone who had such an amaz...\n",
       "4          7  From reading the article, it looks like the wo...\n",
       "..       ...                                                ...\n",
       "95        95  Check out this story. It is an outrage that so...\n",
       "96        96  I just read a story about a person who was bro...\n",
       "97        97  I just read this article and it's really messe...\n",
       "98        98  I just read about a man who is being deported ...\n",
       "99        99  I feel very sorry for the individual in this a...\n",
       "\n",
       "[1100 rows x 2 columns]"
      ]
     },
     "execution_count": 3,
     "metadata": {},
     "output_type": "execute_result"
    }
   ],
   "source": [
    "essay_23_df"
   ]
  },
  {
   "cell_type": "code",
   "execution_count": 15,
   "metadata": {},
   "outputs": [],
   "source": [
    "essay_23_df['22_id'] = ''\n",
    "essay_23_df['22_overlap_perc'] = ''\n",
    "essay_23_df['23_overlap_perc'] = ''\n",
    "for index, row in essay_23_df.iterrows():\n",
    "    essay = row['essay'].lower().split()\n",
    "    max_index, max = essay_22_df['essay'].apply(lambda x: len(set(x.lower().split()).intersection(essay))).agg(['idxmax', 'max']) # + di un massimo?\n",
    "    essay_23_df.loc[index, '22_id'] = max_index\n",
    "    essay_23_df.loc[index, '23_overlap_perc'] = max / len(essay)\n",
    "    essay_23_df.loc[index, '22_overlap_perc'] = max / len(essay_22_df.iloc[max_index]['essay'].split())"
   ]
  },
  {
   "cell_type": "code",
   "execution_count": 16,
   "metadata": {},
   "outputs": [
    {
     "data": {
      "image/png": "[encoded data removed]",
      "text/plain": [
       "<Figure size 432x288 with 1 Axes>"
      ]
     },
     "metadata": {
      "needs_background": "light"
     },
     "output_type": "display_data"
    }
   ],
   "source": [
    "plt.boxplot(x=[essay_23_df['22_overlap_perc'], essay_23_df['23_overlap_perc']])\n",
    "plt.show()"
   ]
  },
  {
   "cell_type": "code",
   "execution_count": 20,
   "metadata": {},
   "outputs": [
    {
     "name": "stdout",
     "output_type": "stream",
     "text": [
      "23 train essay\n",
      "This is just crazy that people are still dying today when there is medicine that can easily save there lives. There should be enough to go around when epidemics like this happen as this is such a senseless horrible way to die. I get that it is hard to get ahead and prepared for epidemics but there should be some sort of procedures in place just in case. Also i dont see how the government could deny giving the vaccines even if there were side effects from it it is still better then death. I think ramping up things like giving out chlorine tabelts for water is a great preventitive step to reduce epidemics like this instead of just solely relying on the vaccines. I feel for the doctors who are over worked and no theres a way to help these people but cant.\n",
      "22 most similar test essay\n",
      "It may make me sound horrible, but I'm torn on this. No one should have to suffer like that for the crime of theft, it's barbaric, but if it really was a twenty-something that was part of an armed gang, I'm slightly less sympathetic about their victims retaliating. If it was a child, however, this is insanity and just horrifying.\n"
     ]
    }
   ],
   "source": [
    "idxmax = pd.to_numeric(essay_23_df['22_overlap_perc']).idxmax()\n",
    "print(\"23 train essay\")\n",
    "print(essay_23_df.loc[idxmax, 'essay'])\n",
    "print(\"22 most similar test essay\")\n",
    "print(essay_22_df.iloc[essay_23_df.iloc[idxmax]['22_id']]['essay'])\n"
   ]
  },
  {
   "cell_type": "code",
   "execution_count": null,
   "metadata": {},
   "outputs": [],
   "source": [
    "# memorizzare i massimi come liste (stringhe)\n",
    "# controllare maualmente esempi fuori dai baffi\n",
    "# vedere distribuzioni di emozioni sul dataest del 2022 (single labels?)"
   ]
  }
 ],
 "metadata": {
  "kernelspec": {
   "display_name": "base",
   "language": "python",
   "name": "python3"
  },
  "language_info": {
   "codemirror_mode": {
    "name": "ipython",
    "version": 3
   },
   "file_extension": ".py",
   "mimetype": "text/x-python",
   "name": "python",
   "nbconvert_exporter": "python",
   "pygments_lexer": "ipython3",
   "version": "3.10.9"
  },
  "orig_nbformat": 4
 },
 "nbformat": 4,
 "nbformat_minor": 2
}
