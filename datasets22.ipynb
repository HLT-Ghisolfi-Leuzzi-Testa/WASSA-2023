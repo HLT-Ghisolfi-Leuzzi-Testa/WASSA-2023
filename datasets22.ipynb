{
 "cells": [
  {
   "cell_type": "code",
   "execution_count": 19,
   "metadata": {},
   "outputs": [],
   "source": [
    "import pandas as pd\n",
    "\n",
    "TRAIN_22_DATA_PATH = './datasets/WASSA22_train.tsv'\n",
    "DEV_22_DATA_PATH = './datasets/WASSA22_dev.tsv'\n",
    "TEST_22_DATA_PATH = './datasets/WASSA22_test.tsv'\n",
    "\n",
    "TRAIN_23_DATA_PATH = './datasets/WASSA23_essay_level_with_labels_train.tsv'\n",
    "DEV_23_DATA_PATH = './datasets/WASSA23_essay_level_dev.tsv'\n",
    "TEST_23_DATA_PATH = './datasets/WASSA23_essay_level_test.tsv'\n",
    "\n",
    "train_22_df = pd.read_csv(TRAIN_22_DATA_PATH, sep='\\t')\n",
    "dev_22_df = pd.read_csv(DEV_22_DATA_PATH, sep='\\t')\n",
    "test_22_df = pd.read_csv(TEST_22_DATA_PATH, sep='\\t')\n",
    "\n",
    "train_23_df = pd.read_csv(TRAIN_23_DATA_PATH, sep='\\t')\n",
    "dev_23_df = pd.read_csv(DEV_23_DATA_PATH, sep='\\t')\n",
    "test_23_df = pd.read_csv(TEST_23_DATA_PATH, sep='\\t')\n",
    "\n",
    "# convert essays to lowercase\n",
    "for index, row in train_23_df.iterrows():\n",
    "\ttrain_23_df.loc[index, 'essay'] = row['essay'].lower()\n",
    "for index, row in dev_23_df.iterrows():\n",
    "\tdev_23_df.loc[index, 'essay'] = row['essay'].lower()\n",
    "for index, row in test_23_df.iterrows():\n",
    "\ttest_23_df.loc[index, 'essay'] = row['essay'].lower()"
   ]
  },
  {
   "cell_type": "code",
   "execution_count": 23,
   "metadata": {},
   "outputs": [],
   "source": [
    "# search for 22 train essays in 23 data\n",
    "for essay in train_22_df['essay']:\n",
    "    essay = essay.lower()\n",
    "    if essay in train_23_df['essay'].values:\n",
    "        print(f\"Found in train: {essay}\")\n",
    "    if essay in dev_23_df['essay'].values:\n",
    "        print(f\"Found in dev: {essay}\")\n",
    "    if essay in test_23_df['essay'].values:\n",
    "        print(f\"Found in test: {essay}\")"
   ]
  },
  {
   "cell_type": "code",
   "execution_count": 24,
   "metadata": {},
   "outputs": [],
   "source": [
    "# search for 22 dev essays in 23 data\n",
    "for essay in dev_22_df['essay']:\n",
    "    essay = essay.lower()\n",
    "    if essay in train_23_df['essay'].values:\n",
    "        print(f\"Found in train: {essay}\")\n",
    "    if essay in dev_23_df['essay'].values:\n",
    "        print(f\"Found in dev: {essay}\")\n",
    "    if essay in test_23_df['essay'].values:\n",
    "        print(f\"Found in test: {essay}\")"
   ]
  },
  {
   "cell_type": "code",
   "execution_count": null,
   "metadata": {},
   "outputs": [],
   "source": [
    "# search for 22 test essays in 23 data\n",
    "for essay in test_22_df['essay']:\n",
    "    essay = essay.lower()\n",
    "    if essay in train_23_df['essay'].values:\n",
    "        print(f\"Found in train: {essay}\")\n",
    "    if essay in dev_23_df['essay'].values:\n",
    "        print(f\"Found in dev: {essay}\")\n",
    "    if essay in test_23_df['essay'].values:\n",
    "        print(f\"Found in test: {essay}\")"
   ]
  }
 ],
 "metadata": {
  "kernelspec": {
   "display_name": "base",
   "language": "python",
   "name": "python3"
  },
  "language_info": {
   "codemirror_mode": {
    "name": "ipython",
    "version": 3
   },
   "file_extension": ".py",
   "mimetype": "text/x-python",
   "name": "python",
   "nbconvert_exporter": "python",
   "pygments_lexer": "ipython3",
   "version": "3.9.7"
  },
  "orig_nbformat": 4
 },
 "nbformat": 4,
 "nbformat_minor": 2
}
