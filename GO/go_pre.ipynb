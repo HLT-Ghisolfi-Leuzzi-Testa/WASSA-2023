{
 "cells": [
  {
   "cell_type": "code",
   "execution_count": 1,
   "metadata": {},
   "outputs": [
    {
     "name": "stderr",
     "output_type": "stream",
     "text": [
      "/Library/Frameworks/Python.framework/Versions/3.10/lib/python3.10/site-packages/tqdm/auto.py:21: TqdmWarning: IProgress not found. Please update jupyter and ipywidgets. See https://ipywidgets.readthedocs.io/en/stable/user_install.html\n",
      "  from .autonotebook import tqdm as notebook_tqdm\n"
     ]
    }
   ],
   "source": [
    "from datasets import load_dataset\n",
    "import pandas as pd"
   ]
  },
  {
   "cell_type": "code",
   "execution_count": 4,
   "metadata": {},
   "outputs": [
    {
     "name": "stderr",
     "output_type": "stream",
     "text": [
      "Found cached dataset go_emotions (/Users/lorenzoleuzzi/.cache/huggingface/datasets/go_emotions/raw/0.0.0/2637cfdd4e64d30249c3ed2150fa2b9d279766bfcd6a809b9f085c61a90d776d)\n",
      "100%|██████████| 1/1 [00:00<00:00,  4.18it/s]\n"
     ]
    }
   ],
   "source": [
    "dataset = load_dataset(\"go_emotions\",\"raw\")\n",
    "df = pd.DataFrame(dataset['train'])\n",
    "unique_emotions = ['text','disgust', 'optimism', 'fear', 'anger', 'sadness', 'joy', 'surprise', 'neutral']\n",
    "df = df[unique_emotions]\n",
    "\n",
    "df1 = df.rename({'text':'essay','disgust':'Disgust', 'optimism':'Hope', 'fear':'Fear', 'anger':'Anger', 'sadness':'Sadness', 'joy':\"Joy\", 'surprise':'Surprise', 'neutral':'Neutral'}, axis=1)\n",
    "     \n",
    "\n",
    "unique_emotions = ['Disgust', 'Hope', 'Fear', 'Anger', 'Sadness', 'Joy', 'Surprise', 'Neutral']\n",
    "unique_emotions\n",
    "df2 = df1[df1[unique_emotions].sum(axis=1) != 0][:5000]\n",
    "     \n",
    "\n",
    "\n",
    "\n",
    "df2.to_csv('goemotions.csv', index=False)"
   ]
  },
  {
   "cell_type": "code",
   "execution_count": 6,
   "metadata": {},
   "outputs": [],
   "source": [
    "#read goemotions.csv\n",
    "df = pd.read_csv('goemotions.csv')\n",
    "unique_emotions = ['Disgust', 'Hope', 'Fear', 'Anger', 'Sadness', 'Joy', 'Surprise', 'Neutral']\n",
    "#convert one hot encoding to emotion as string\n",
    "df['emotion'] = df[unique_emotions].idxmax(axis=1)\n",
    "\n",
    "#make the emotion column lower case\n",
    "df['emotion'] = df['emotion'].str.lower()\n",
    "\n",
    "#remove one hot encoding columns\n",
    "df = df.drop(unique_emotions, axis=1)\n",
    "\n",
    "df.to_csv('goemotions.csv', index=False)"
   ]
  }
 ],
 "metadata": {
  "kernelspec": {
   "display_name": "Python 3",
   "language": "python",
   "name": "python3"
  },
  "language_info": {
   "codemirror_mode": {
    "name": "ipython",
    "version": 3
   },
   "file_extension": ".py",
   "mimetype": "text/x-python",
   "name": "python",
   "nbconvert_exporter": "python",
   "pygments_lexer": "ipython3",
   "version": "3.10.7"
  },
  "orig_nbformat": 4
 },
 "nbformat": 4,
 "nbformat_minor": 2
}
