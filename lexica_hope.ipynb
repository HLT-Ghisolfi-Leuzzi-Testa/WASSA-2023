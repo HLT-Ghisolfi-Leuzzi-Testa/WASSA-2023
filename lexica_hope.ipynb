{
 "cells": [
  {
   "cell_type": "code",
   "execution_count": 4,
   "metadata": {},
   "outputs": [],
   "source": [
    "JOY_LEXICA = \"./NRC-Emotion-Lexico/joy-NRC-Emotion-Lexicon.txt\"\n",
    "ANTICIPATION_LEXICA = \"./NRC-Emotion-Lexico/anticipation-NRC-Emotion-Lexicon.txt\"\n",
    "POSITIVE_LEXICA = \"./NRC-Emotion-Lexico/positive-NRC-Emotion-Lexicon.txt\""
   ]
  },
  {
   "cell_type": "code",
   "execution_count": 5,
   "metadata": {},
   "outputs": [],
   "source": [
    "# Dizionari per tenere traccia delle parole e dei relativi valori\n",
    "word_dict = {}\n",
    "anticipation_lexica = {}\n",
    "joy_lexica = {}\n",
    "positive_lexica = {}\n",
    "\n",
    "# Funzione per leggere un file e popolare i dizionari\n",
    "def read_file(file_name, lexica_dict):\n",
    "    with open(file_name, 'r') as file:\n",
    "        for line in file:\n",
    "            word, value = line.strip().split()\n",
    "            lexica_dict[word] = int(value)\n",
    "\n",
    "# Funzione per scrivere il risultato nel file di output\n",
    "def write_output(file_name):\n",
    "    with open(file_name, 'w') as file:\n",
    "        for word, value in word_dict.items():\n",
    "            output_value = 1 if anticipation_lexica.get(word, 0) == 1 and (joy_lexica.get(word, 0) == 1 or positive_lexica.get(word, 0) == 1) else 0\n",
    "            file.write(f\"{word} {output_value}\\n\")\n",
    "\n",
    "# Percorsi dei file di input\n",
    "JOY_LEXICA = \"./NRC-Emotion-Lexico/joy-NRC-Emotion-Lexicon.txt\"\n",
    "ANTICIPATION_LEXICA = \"./NRC-Emotion-Lexico/anticipation-NRC-Emotion-Lexicon.txt\"\n",
    "POSITIVE_LEXICA = \"./NRC-Emotion-Lexico/positive-NRC-Emotion-Lexicon.txt\"\n",
    "\n",
    "# Leggi i file di input e popola i dizionari\n",
    "read_file(ANTICIPATION_LEXICA, anticipation_lexica)\n",
    "read_file(JOY_LEXICA, joy_lexica)\n",
    "read_file(POSITIVE_LEXICA, positive_lexica)\n",
    "\n",
    "# Popola il dizionario delle parole\n",
    "lexica_files = [JOY_LEXICA, ANTICIPATION_LEXICA, POSITIVE_LEXICA]\n",
    "\n",
    "for file_name in lexica_files:\n",
    "    with open(file_name, 'r') as file:\n",
    "        for line in file:\n",
    "            word, _ = line.strip().split()\n",
    "            word_dict[word] = 0\n",
    "\n",
    "# Scrivi il risultato nel file di output\n",
    "write_output(\"./NRC-Emotion-Lexico/hope-NRC-Emotion-Lexicon.txt\")"
   ]
  }
 ],
 "metadata": {
  "kernelspec": {
   "display_name": "base",
   "language": "python",
   "name": "python3"
  },
  "language_info": {
   "codemirror_mode": {
    "name": "ipython",
    "version": 3
   },
   "file_extension": ".py",
   "mimetype": "text/x-python",
   "name": "python",
   "nbconvert_exporter": "python",
   "pygments_lexer": "ipython3",
   "version": "3.10.9"
  },
  "orig_nbformat": 4
 },
 "nbformat": 4,
 "nbformat_minor": 2
}
