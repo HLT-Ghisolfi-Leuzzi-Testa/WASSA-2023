{
 "cells": [
  {
   "cell_type": "code",
   "execution_count": 1,
   "metadata": {},
   "outputs": [],
   "source": [
    "import numpy as np\n",
    "import pandas as pd"
   ]
  },
  {
   "cell_type": "markdown",
   "metadata": {},
   "source": [
    "## Predictions mean"
   ]
  },
  {
   "cell_type": "code",
   "execution_count": 2,
   "metadata": {},
   "outputs": [],
   "source": [
    "TRIALS = 3"
   ]
  },
  {
   "cell_type": "code",
   "execution_count": 3,
   "metadata": {},
   "outputs": [],
   "source": [
    "empathy = []\n",
    "distress = []\n",
    "\n",
    "for trial in range(TRIALS):\n",
    "    path = f\"./WASSA22_emp_pred/predictions_EMP_trial{trial+1}.tsv\"\n",
    "    data = pd.read_csv(path, sep=\"\\t\", names=['empathy', 'distress'])\n",
    "    empathy.append(data['empathy'])\n",
    "    distress.append(data['distress'])\n",
    "\n",
    "empathy = np.mean(empathy, axis=0)\n",
    "distress = np.mean(distress, axis=0)\n",
    "\n",
    "mean_pred_test = pd.DataFrame({'empathy': empathy, 'distress': distress})\n",
    "mean_pred_test.to_csv('./WASSA22_emp_pred/predictions_EMP_mean.tsv', sep=\"\\t\", index=False, header=False)\n"
   ]
  },
  {
   "cell_type": "code",
   "execution_count": null,
   "metadata": {},
   "outputs": [],
   "source": [
    "mean_pred"
   ]
  },
  {
   "cell_type": "code",
   "execution_count": null,
   "metadata": {},
   "outputs": [],
   "source": [
    "\"\"\"empathy23 = []\n",
    "distress23 = []\n",
    "\n",
    "for trial in range(TRIALS):\n",
    "    path23 = f\"./WASSA22_emp_pred/predictions23_trial{trial+1}.tsv\"\n",
    "    data23 = pd.read_csv(path, sep=\"\\t\", names=['empathy', 'distress'])\n",
    "    empathy23.append(data23['empathy'])\n",
    "    distress23.append(data23['distress'])\n",
    "\n",
    "empathy23 = np.mean(empathy23, axis=0)\n",
    "distress23 = np.mean(distress23, axis=0)\n",
    "\n",
    "mean_pred23 = pd.DataFrame({'empathy': empathy, 'distress': distress})\n",
    "mean_pred23.to_csv('./WASSA22_emp_pred/predictions23_essay_level.tsv', sep=\"\\t\", index=False)\n",
    "\"\"\""
   ]
  },
  {
   "cell_type": "code",
   "execution_count": null,
   "metadata": {},
   "outputs": [],
   "source": [
    "path23 = f\"./WASSA22_emp_pred/predictions23.tsv\"\n",
    "mean_pred23 = pd.read_csv(path, sep=\"\\t\", names=['empathy', 'distress'])\n",
    "mean_pred23"
   ]
  },
  {
   "cell_type": "markdown",
   "metadata": {},
   "source": [
    "## Add prompt to data"
   ]
  },
  {
   "cell_type": "code",
   "execution_count": null,
   "metadata": {},
   "outputs": [],
   "source": [
    "def add_gold_prompt(df):\n",
    "    for idx, row in df.iterrows():\n",
    "    _, text_prompt_emp, _ = generate_prompt(\n",
    "                                row['essay'],\n",
    "                                row['article_id'],\n",
    "                                row['gender'],\n",
    "                                row['education'],\n",
    "                                row['race'],\n",
    "                                row['age'],\n",
    "                                row['income'],\n",
    "                                row['empathy_level'],\n",
    "                                row['distress_level']\n",
    "                                )\n",
    "    df.at[idx, \"prompt_emo\"] = text_prompt_emp\n",
    "    return df"
   ]
  },
  {
   "cell_type": "code",
   "execution_count": null,
   "metadata": {},
   "outputs": [],
   "source": [
    "test_df = pd.read_csv('./datasets/WASSA23_essay_level_test_preproc.tsv', sep='\\t')\n",
    "test_df = get_emp_levels(test_df, mean_pred_test['empathy'], mean_pred_test['distress'])\n",
    "test_df = add_gold_prompt(test_df)"
   ]
  },
  {
   "cell_type": "code",
   "execution_count": null,
   "metadata": {},
   "outputs": [],
   "source": [
    "test_df.to_csv('./WASSA22_emp_pred/WASSA23_essay_level_test_gold_prompt.tsv', sep='\\t', index=False)"
   ]
  },
  {
   "cell_type": "code",
   "execution_count": null,
   "metadata": {},
   "outputs": [],
   "source": [
    "train_df = pd.read_csv('./datasets/WASSA23_essay_level_preproc.tsv', sep='\\t')\n",
    "train_df = get_emp_levels(train_df, mean_pred23['empathy'], mean_pred23['distress'])\n",
    "train_df = add_gold_prompt(train_df)"
   ]
  },
  {
   "cell_type": "code",
   "execution_count": null,
   "metadata": {},
   "outputs": [],
   "source": [
    "train_df.to_csv('./WASSA22_emp_pred/WASSA23_essay_level_gold_prompt.tsv', sep='\\t', index=False)"
   ]
  }
 ],
 "metadata": {
  "kernelspec": {
   "display_name": "base",
   "language": "python",
   "name": "python3"
  },
  "language_info": {
   "codemirror_mode": {
    "name": "ipython",
    "version": 3
   },
   "file_extension": ".py",
   "mimetype": "text/x-python",
   "name": "python",
   "nbconvert_exporter": "python",
   "pygments_lexer": "ipython3",
   "version": "3.10.9"
  },
  "orig_nbformat": 4
 },
 "nbformat": 4,
 "nbformat_minor": 2
}
