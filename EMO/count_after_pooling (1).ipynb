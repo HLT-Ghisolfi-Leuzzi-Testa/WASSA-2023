{
  "metadata": {
    "accelerator": "GPU",
    "colab": {
      "gpuType": "T4",
      "provenance": []
    },
    "kernelspec": {
      "name": "python3",
      "display_name": "Python 3",
      "language": "python"
    },
    "language_info": {
      "name": "python",
      "version": "3.10.10",
      "mimetype": "text/x-python",
      "codemirror_mode": {
        "name": "ipython",
        "version": 3
      },
      "pygments_lexer": "ipython3",
      "nbconvert_exporter": "python",
      "file_extension": ".py"
    }
  },
  "nbformat_minor": 0,
  "nbformat": 4,
  "cells": [
    {
      "cell_type": "markdown",
      "source": [
        "# EMO task"
      ],
      "metadata": {
        "id": "9_B-_QwdhWLe"
      }
    },
    {
      "cell_type": "code",
      "source": [
        "\"\"\"from google.colab import drive\n",
        "drive.mount('/content/drive')\"\"\""
      ],
      "metadata": {
        "colab": {
          "base_uri": "https://localhost:8080/",
          "height": 36
        },
        "id": "9sDeMksltGSk",
        "outputId": "f187861e-8ca9-489c-b4ea-66d1e2145c9d",
        "execution": {
          "iopub.status.busy": "2023-07-06T18:38:38.963795Z",
          "iopub.execute_input": "2023-07-06T18:38:38.964085Z",
          "iopub.status.idle": "2023-07-06T18:38:38.978388Z",
          "shell.execute_reply.started": "2023-07-06T18:38:38.964059Z",
          "shell.execute_reply": "2023-07-06T18:38:38.977303Z"
        },
        "trusted": true
      },
      "execution_count": null,
      "outputs": [
        {
          "output_type": "execute_result",
          "data": {
            "text/plain": [
              "\"from google.colab import drive\\ndrive.mount('/content/drive')\""
            ],
            "application/vnd.google.colaboratory.intrinsic+json": {
              "type": "string"
            }
          },
          "metadata": {},
          "execution_count": 1
        }
      ]
    },
    {
      "cell_type": "markdown",
      "source": [
        "## Dependencies"
      ],
      "metadata": {
        "id": "15KoBLrVhbI8"
      }
    },
    {
      "cell_type": "code",
      "source": [
        "!pip install transformers -q\n",
        "!pip install accelerate -U -q\n",
        "!pip install datasets -q\n",
        "!pip install torch-summary -q\n",
        "!pip install graphviz -q\n",
        "!pip install torchview -q\n",
        "!pip install bertviz -q\n",
        "\n",
        "repo_path = \"https://raw.githubusercontent.com/HLT-Ghisolfi-Leuzzi-Testa/WASSA-2023/\"\n",
        "branch = \"main\""
      ],
      "metadata": {
        "id": "1gnWTVNYDMx2",
        "execution": {
          "iopub.status.busy": "2023-07-06T18:38:38.987443Z",
          "iopub.execute_input": "2023-07-06T18:38:38.987782Z",
          "iopub.status.idle": "2023-07-06T18:40:14.142816Z",
          "shell.execute_reply.started": "2023-07-06T18:38:38.987714Z",
          "shell.execute_reply": "2023-07-06T18:40:14.141561Z"
        },
        "trusted": true
      },
      "execution_count": null,
      "outputs": []
    },
    {
      "cell_type": "code",
      "source": [
        "utils_url = f\"{repo_path}{branch}/utils.py\"\n",
        "evaluation_url = f\"{repo_path}{branch}/evaluation.py\"\n",
        "\n",
        "import os\n",
        "if os.path.exists(\"utils.py\"):\n",
        "  !rm \"utils.py\"\n",
        "if os.path.exists(\"evaluation.py\"):\n",
        "  !rm \"evaluation.py\"\n",
        "\n",
        "!wget {utils_url}\n",
        "!wget {evaluation_url}"
      ],
      "metadata": {
        "colab": {
          "base_uri": "https://localhost:8080/"
        },
        "id": "9Xbo-Ei3IAYB",
        "outputId": "4dd4186f-facb-4852-be6a-202575097eee",
        "execution": {
          "iopub.status.busy": "2023-07-06T18:40:14.145346Z",
          "iopub.execute_input": "2023-07-06T18:40:14.146172Z",
          "iopub.status.idle": "2023-07-06T18:40:17.190363Z",
          "shell.execute_reply.started": "2023-07-06T18:40:14.146118Z",
          "shell.execute_reply": "2023-07-06T18:40:17.189141Z"
        },
        "trusted": true
      },
      "execution_count": null,
      "outputs": [
        {
          "output_type": "stream",
          "name": "stdout",
          "text": [
            "--2023-07-06 21:42:00--  https://raw.githubusercontent.com/HLT-Ghisolfi-Leuzzi-Testa/WASSA-2023/main/utils.py\n",
            "Resolving raw.githubusercontent.com (raw.githubusercontent.com)... 185.199.110.133, 185.199.108.133, 185.199.111.133, ...\n",
            "Connecting to raw.githubusercontent.com (raw.githubusercontent.com)|185.199.110.133|:443... connected.\n",
            "HTTP request sent, awaiting response... 200 OK\n",
            "Length: 19809 (19K) [text/plain]\n",
            "Saving to: ‘utils.py’\n",
            "\n",
            "\rutils.py              0%[                    ]       0  --.-KB/s               \rutils.py            100%[===================>]  19.34K  --.-KB/s    in 0s      \n",
            "\n",
            "2023-07-06 21:42:00 (123 MB/s) - ‘utils.py’ saved [19809/19809]\n",
            "\n",
            "--2023-07-06 21:42:00--  https://raw.githubusercontent.com/HLT-Ghisolfi-Leuzzi-Testa/WASSA-2023/main/evaluation.py\n",
            "Resolving raw.githubusercontent.com (raw.githubusercontent.com)... 185.199.108.133, 185.199.109.133, 185.199.110.133, ...\n",
            "Connecting to raw.githubusercontent.com (raw.githubusercontent.com)|185.199.108.133|:443... connected.\n",
            "HTTP request sent, awaiting response... 200 OK\n",
            "Length: 10675 (10K) [text/plain]\n",
            "Saving to: ‘evaluation.py’\n",
            "\n",
            "evaluation.py       100%[===================>]  10.42K  --.-KB/s    in 0s      \n",
            "\n",
            "2023-07-06 21:42:00 (78.4 MB/s) - ‘evaluation.py’ saved [10675/10675]\n",
            "\n"
          ]
        }
      ]
    },
    {
      "cell_type": "code",
      "source": [
        "import json\n",
        "import torch\n",
        "from torch import nn\n",
        "from torch.nn import BCEWithLogitsLoss\n",
        "import pandas as pd\n",
        "import numpy as np\n",
        "from transformers import AutoTokenizer, AutoModelForSequenceClassification, AutoModel\n",
        "from transformers import TrainingArguments, Trainer, TrainerCallback, EarlyStoppingCallback\n",
        "from transformers import BertPreTrainedModel, BertModel\n",
        "from transformers import RobertaModel,RobertaPreTrainedModel\n",
        "from transformers.modeling_outputs import SequenceClassifierOutput\n",
        "import importlib\n",
        "import sys\n",
        "from utils import *\n",
        "importlib.reload(sys.modules['utils'])"
      ],
      "metadata": {
        "colab": {
          "base_uri": "https://localhost:8080/"
        },
        "id": "XDmQslVxDhy1",
        "outputId": "72add060-24af-43ae-ceed-5ef4c6d5d1cb",
        "execution": {
          "iopub.status.busy": "2023-07-06T18:40:17.192233Z",
          "iopub.execute_input": "2023-07-06T18:40:17.192615Z",
          "iopub.status.idle": "2023-07-06T18:40:43.317494Z",
          "shell.execute_reply.started": "2023-07-06T18:40:17.192576Z",
          "shell.execute_reply": "2023-07-06T18:40:43.311177Z"
        },
        "trusted": true
      },
      "execution_count": null,
      "outputs": [
        {
          "output_type": "execute_result",
          "data": {
            "text/plain": [
              "<module 'utils' from '/content/utils.py'>"
            ]
          },
          "metadata": {},
          "execution_count": 4
        }
      ]
    },
    {
      "cell_type": "code",
      "source": [
        "# set CUDA if available\n",
        "if torch.cuda.is_available():\n",
        "    device = torch.device('cuda')\n",
        "    print(\"======= CUDA Available =======\")\n",
        "else:\n",
        "    device = torch.device('cpu')\n",
        "    print(\"======= CUDA NOT Available, run on CPU =======\")\n",
        "device = torch.device('cpu') # otw goes out of memory"
      ],
      "metadata": {
        "colab": {
          "base_uri": "https://localhost:8080/"
        },
        "id": "quom7lWCDiiI",
        "outputId": "8724be70-2988-4dbf-a8c0-9c7b6679aa1f",
        "execution": {
          "iopub.status.busy": "2023-07-06T18:40:43.320320Z",
          "iopub.execute_input": "2023-07-06T18:40:43.329847Z",
          "iopub.status.idle": "2023-07-06T18:40:43.535157Z",
          "shell.execute_reply.started": "2023-07-06T18:40:43.329807Z",
          "shell.execute_reply": "2023-07-06T18:40:43.534235Z"
        },
        "trusted": true
      },
      "execution_count": null,
      "outputs": [
        {
          "output_type": "stream",
          "name": "stdout",
          "text": [
            "======= CUDA Available =======\n"
          ]
        }
      ]
    },
    {
      "cell_type": "markdown",
      "source": [
        "## Dataset"
      ],
      "metadata": {
        "id": "4gsXzUtCBv-j"
      }
    },
    {
      "cell_type": "markdown",
      "source": [
        "Dataset paths"
      ],
      "metadata": {
        "id": "VUd7BQjSsVMJ"
      }
    },
    {
      "cell_type": "code",
      "source": [
        "TRAIN_DATA = f\"{repo_path}{branch}/datasets/WASSA23_essay_level_internal_train_preproc.tsv\" # f\"{repo_path}{branch}/datasets/WASSA23_essay_level_internal_train_preproc.tsv\"\n",
        "VAL_DATA = f\"{repo_path}{branch}/datasets/WASSA23_essay_level_internal_val_preproc.tsv\"\n",
        "DEV_DATA = f\"{repo_path}{branch}/datasets/WASSA23_essay_level_dev_preproc.tsv\""
      ],
      "metadata": {
        "id": "BjM03TscDwcz",
        "execution": {
          "iopub.status.busy": "2023-07-06T18:40:43.538299Z",
          "iopub.execute_input": "2023-07-06T18:40:43.539528Z",
          "iopub.status.idle": "2023-07-06T18:40:43.550748Z",
          "shell.execute_reply.started": "2023-07-06T18:40:43.539493Z",
          "shell.execute_reply": "2023-07-06T18:40:43.548846Z"
        },
        "trusted": true
      },
      "execution_count": null,
      "outputs": []
    },
    {
      "cell_type": "markdown",
      "source": [
        "Read dataframes"
      ],
      "metadata": {
        "id": "EFI6AulQsYci"
      }
    },
    {
      "cell_type": "code",
      "source": [
        "train_df = pd.read_csv(TRAIN_DATA, sep='\\t')\n",
        "val_df = pd.read_csv(VAL_DATA, sep='\\t')\n",
        "dev_df = pd.read_csv(DEV_DATA, sep='\\t')"
      ],
      "metadata": {
        "id": "Sppn6sPYsBqA",
        "execution": {
          "iopub.status.busy": "2023-07-06T18:40:43.554679Z",
          "iopub.execute_input": "2023-07-06T18:40:43.555429Z",
          "iopub.status.idle": "2023-07-06T18:40:44.128377Z",
          "shell.execute_reply.started": "2023-07-06T18:40:43.555396Z",
          "shell.execute_reply": "2023-07-06T18:40:44.127406Z"
        },
        "trusted": true
      },
      "execution_count": null,
      "outputs": []
    },
    {
      "cell_type": "code",
      "source": [
        "label_encoder = EmotionsLabelEncoder()\n",
        "label_encoder.fit(train_df.emotion)"
      ],
      "metadata": {
        "id": "1_tFO0RSlVm8",
        "execution": {
          "iopub.status.busy": "2023-07-06T18:40:44.129766Z",
          "iopub.execute_input": "2023-07-06T18:40:44.130123Z",
          "iopub.status.idle": "2023-07-06T18:40:44.139614Z",
          "shell.execute_reply.started": "2023-07-06T18:40:44.130092Z",
          "shell.execute_reply": "2023-07-06T18:40:44.138602Z"
        },
        "trusted": true
      },
      "execution_count": null,
      "outputs": []
    },
    {
      "cell_type": "markdown",
      "source": [
        "Optional subsample"
      ],
      "metadata": {
        "id": "yn_tGpeFsNqb"
      }
    },
    {
      "cell_type": "code",
      "source": [
        "train_df = train_df\n",
        "val_df = val_df\n",
        "dev_df = dev_df"
      ],
      "metadata": {
        "id": "wkCC492RsNSU",
        "execution": {
          "iopub.status.busy": "2023-07-06T18:40:44.141012Z",
          "iopub.execute_input": "2023-07-06T18:40:44.142091Z",
          "iopub.status.idle": "2023-07-06T18:40:44.152190Z",
          "shell.execute_reply.started": "2023-07-06T18:40:44.142055Z",
          "shell.execute_reply": "2023-07-06T18:40:44.151316Z"
        },
        "trusted": true
      },
      "execution_count": null,
      "outputs": []
    },
    {
      "cell_type": "code",
      "source": [
        "y_train = label_encoder.encode(train_df.emotion)\n",
        "y_val = label_encoder.encode(val_df.emotion)\n",
        "y_dev = label_encoder.encode(dev_df.emotion)"
      ],
      "metadata": {
        "id": "gMZ3v24xlgKt",
        "execution": {
          "iopub.status.busy": "2023-07-06T18:40:44.154663Z",
          "iopub.execute_input": "2023-07-06T18:40:44.155336Z",
          "iopub.status.idle": "2023-07-06T18:40:44.175309Z",
          "shell.execute_reply.started": "2023-07-06T18:40:44.155300Z",
          "shell.execute_reply": "2023-07-06T18:40:44.174253Z"
        },
        "trusted": true
      },
      "execution_count": null,
      "outputs": []
    },
    {
      "cell_type": "markdown",
      "source": [
        "Encode targets"
      ],
      "metadata": {
        "id": "mDJWlHhwsfwL"
      }
    },
    {
      "cell_type": "code",
      "source": [
        "features_list = ['anger_count', 'disgust_count', 'fear_count', 'joy_count', 'sadness_count', 'surprise_count', 'hope_count']\n",
        "features_train =  np.array(train_df[features_list])\n",
        "features_val =  np.array(val_df[features_list])\n",
        "features_dev =  np.array(dev_df[features_list])"
      ],
      "metadata": {
        "id": "lteCDGLXtO7R",
        "execution": {
          "iopub.status.busy": "2023-07-06T18:40:44.181033Z",
          "iopub.execute_input": "2023-07-06T18:40:44.181443Z",
          "iopub.status.idle": "2023-07-06T18:40:44.195391Z",
          "shell.execute_reply.started": "2023-07-06T18:40:44.181419Z",
          "shell.execute_reply": "2023-07-06T18:40:44.194189Z"
        },
        "trusted": true
      },
      "execution_count": null,
      "outputs": []
    },
    {
      "cell_type": "markdown",
      "source": [
        "## Model"
      ],
      "metadata": {
        "id": "oXIimY5ABmlc"
      }
    },
    {
      "cell_type": "code",
      "source": [
        "model_type ={\n",
        "  'distilroberta-emotion':'j-hartmann/emotion-english-distilroberta-base',\n",
        "  'roberta-emotion':'j-hartmann/emotion-english-roberta-large',\n",
        "  'bert-base':'bert-base-cased'\n",
        "}"
      ],
      "metadata": {
        "id": "wtbV4tekujaC",
        "execution": {
          "iopub.status.busy": "2023-07-06T18:40:44.196688Z",
          "iopub.execute_input": "2023-07-06T18:40:44.198088Z",
          "iopub.status.idle": "2023-07-06T18:40:44.204184Z",
          "shell.execute_reply.started": "2023-07-06T18:40:44.198049Z",
          "shell.execute_reply": "2023-07-06T18:40:44.202601Z"
        },
        "trusted": true
      },
      "execution_count": null,
      "outputs": []
    },
    {
      "cell_type": "code",
      "source": [
        "NUM_LABELS = 8\n",
        "\n",
        "model_config = {\n",
        "    'model_id': 'bert_lexicon',\n",
        "    'tokenizer_name': model_type.get('bert-base'),\n",
        "    'model_name': model_type.get('bert-base'),\n",
        "    'train_batch_size': 4,\n",
        "    'val_batch_size': 4,\n",
        "    'learning_rate': 5e-5,\n",
        "    'weight_decay': 0,\n",
        "    'epochs': 10,\n",
        "    'seed': 42,\n",
        "    'patience': 10,\n",
        "    'early_stopping_threshold': 0\n",
        "} # TODO: expand..."
      ],
      "metadata": {
        "id": "dA224FxADpqd",
        "execution": {
          "iopub.status.busy": "2023-07-06T18:40:44.206219Z",
          "iopub.execute_input": "2023-07-06T18:40:44.206665Z",
          "iopub.status.idle": "2023-07-06T18:40:44.216182Z",
          "shell.execute_reply.started": "2023-07-06T18:40:44.206597Z",
          "shell.execute_reply": "2023-07-06T18:40:44.215145Z"
        },
        "trusted": true
      },
      "execution_count": null,
      "outputs": []
    },
    {
      "cell_type": "code",
      "source": [
        "tokenizer = AutoTokenizer.from_pretrained(model_config['tokenizer_name'], truncation=True)"
      ],
      "metadata": {
        "id": "wd7W2HhYsbai",
        "execution": {
          "iopub.status.busy": "2023-07-06T18:40:44.217772Z",
          "iopub.execute_input": "2023-07-06T18:40:44.218379Z",
          "iopub.status.idle": "2023-07-06T18:40:44.915364Z",
          "shell.execute_reply.started": "2023-07-06T18:40:44.218344Z",
          "shell.execute_reply": "2023-07-06T18:40:44.914389Z"
        },
        "trusted": true
      },
      "execution_count": null,
      "outputs": []
    },
    {
      "cell_type": "markdown",
      "source": [
        "**Baseline model**"
      ],
      "metadata": {
        "id": "FluTFZjYtzXo"
      }
    },
    {
      "cell_type": "code",
      "source": [
        "model = AutoModelForSequenceClassification.from_pretrained(\n",
        "    'bert-base-cased',\n",
        "    num_labels=NUM_LABELS,\n",
        "    ignore_mismatched_sizes=True,\n",
        "    problem_type=\"multi_label_classification\")\n",
        "model.to(device)"
      ],
      "metadata": {
        "id": "jT8tJyZusZ97",
        "colab": {
          "base_uri": "https://localhost:8080/"
        },
        "outputId": "f5689f60-3af7-458d-bc10-9ffa047801ca",
        "execution": {
          "iopub.status.busy": "2023-07-06T18:40:44.916817Z",
          "iopub.execute_input": "2023-07-06T18:40:44.917301Z",
          "iopub.status.idle": "2023-07-06T18:40:48.679064Z",
          "shell.execute_reply.started": "2023-07-06T18:40:44.917266Z",
          "shell.execute_reply": "2023-07-06T18:40:48.678065Z"
        },
        "trusted": true
      },
      "execution_count": null,
      "outputs": [
        {
          "output_type": "stream",
          "name": "stderr",
          "text": [
            "Some weights of the model checkpoint at bert-base-cased were not used when initializing BertForSequenceClassification: ['cls.predictions.transform.dense.bias', 'cls.predictions.bias', 'cls.predictions.transform.LayerNorm.weight', 'cls.seq_relationship.weight', 'cls.seq_relationship.bias', 'cls.predictions.transform.LayerNorm.bias', 'cls.predictions.transform.dense.weight']\n",
            "- This IS expected if you are initializing BertForSequenceClassification from the checkpoint of a model trained on another task or with another architecture (e.g. initializing a BertForSequenceClassification model from a BertForPreTraining model).\n",
            "- This IS NOT expected if you are initializing BertForSequenceClassification from the checkpoint of a model that you expect to be exactly identical (initializing a BertForSequenceClassification model from a BertForSequenceClassification model).\n",
            "Some weights of BertForSequenceClassification were not initialized from the model checkpoint at bert-base-cased and are newly initialized: ['classifier.bias', 'classifier.weight']\n",
            "You should probably TRAIN this model on a down-stream task to be able to use it for predictions and inference.\n"
          ]
        },
        {
          "output_type": "execute_result",
          "data": {
            "text/plain": [
              "BertForSequenceClassification(\n",
              "  (bert): BertModel(\n",
              "    (embeddings): BertEmbeddings(\n",
              "      (word_embeddings): Embedding(28996, 768, padding_idx=0)\n",
              "      (position_embeddings): Embedding(512, 768)\n",
              "      (token_type_embeddings): Embedding(2, 768)\n",
              "      (LayerNorm): LayerNorm((768,), eps=1e-12, elementwise_affine=True)\n",
              "      (dropout): Dropout(p=0.1, inplace=False)\n",
              "    )\n",
              "    (encoder): BertEncoder(\n",
              "      (layer): ModuleList(\n",
              "        (0-11): 12 x BertLayer(\n",
              "          (attention): BertAttention(\n",
              "            (self): BertSelfAttention(\n",
              "              (query): Linear(in_features=768, out_features=768, bias=True)\n",
              "              (key): Linear(in_features=768, out_features=768, bias=True)\n",
              "              (value): Linear(in_features=768, out_features=768, bias=True)\n",
              "              (dropout): Dropout(p=0.1, inplace=False)\n",
              "            )\n",
              "            (output): BertSelfOutput(\n",
              "              (dense): Linear(in_features=768, out_features=768, bias=True)\n",
              "              (LayerNorm): LayerNorm((768,), eps=1e-12, elementwise_affine=True)\n",
              "              (dropout): Dropout(p=0.1, inplace=False)\n",
              "            )\n",
              "          )\n",
              "          (intermediate): BertIntermediate(\n",
              "            (dense): Linear(in_features=768, out_features=3072, bias=True)\n",
              "            (intermediate_act_fn): GELUActivation()\n",
              "          )\n",
              "          (output): BertOutput(\n",
              "            (dense): Linear(in_features=3072, out_features=768, bias=True)\n",
              "            (LayerNorm): LayerNorm((768,), eps=1e-12, elementwise_affine=True)\n",
              "            (dropout): Dropout(p=0.1, inplace=False)\n",
              "          )\n",
              "        )\n",
              "      )\n",
              "    )\n",
              "    (pooler): BertPooler(\n",
              "      (dense): Linear(in_features=768, out_features=768, bias=True)\n",
              "      (activation): Tanh()\n",
              "    )\n",
              "  )\n",
              "  (dropout): Dropout(p=0.1, inplace=False)\n",
              "  (classifier): Linear(in_features=768, out_features=8, bias=True)\n",
              ")"
            ]
          },
          "metadata": {},
          "execution_count": 15
        }
      ]
    },
    {
      "cell_type": "markdown",
      "source": [
        "**Custom \"lexicon\" Bert model**"
      ],
      "metadata": {
        "id": "w6aAhPift1UL"
      }
    },
    {
      "cell_type": "code",
      "source": [
        "num_features=0# features_train.shape[1]\n",
        "empathy_lexicon = True\n",
        "distress_lexicon = True\n",
        "emotion_lexicon = False\n",
        "class BertPerWordLexiconPooling(BertPreTrainedModel):\n",
        "  def __init__(self, config):\n",
        "    super().__init__(config)\n",
        "    self.num_labels = config.num_labels\n",
        "    self.config = config\n",
        "    self.n_features = num_features\n",
        "    self.empathy = 1 if empathy_lexicon else 0\n",
        "    self.distress = 1 if distress_lexicon else 0\n",
        "    self.emotion = 7 if emotion_lexicon else 0\n",
        "    self.bert = BertModel(config)\n",
        "    self.dropout = nn.Dropout(0.3)\n",
        "    self.classifier_layer1 = nn.Linear(config.hidden_size+self.n_features+self.empathy+self.distress+self.emotion,\n",
        "                                       int((config.hidden_size+self.n_features+self.empathy+self.distress+self.emotion)/5))\n",
        "    self.classifier_layer2 = nn.Linear(int((config.hidden_size+self.n_features+self.empathy+self.distress+self.emotion)/5), config.num_labels)\n",
        "    self.tanh_layer = nn.Tanh()\n",
        "    self.post_init()\n",
        "\n",
        "  def forward(\n",
        "    self,\n",
        "    input_ids=None,\n",
        "    attention_mask=None,\n",
        "    token_type_ids=None,\n",
        "    position_ids=None,\n",
        "    head_mask=None,\n",
        "    inputs_embeds=None,\n",
        "    labels=None,\n",
        "    output_attentions=None,\n",
        "    output_hidden_states=None,\n",
        "    return_dict=None,\n",
        "    features=None,\n",
        "    empathy_values=None,\n",
        "    distress_values=None,\n",
        "    emotion_values=None,\n",
        "  ):\n",
        "    return_dict = return_dict if return_dict is not None else self.config.use_return_dict\n",
        "\n",
        "    outputs = self.bert(\n",
        "      input_ids,\n",
        "      attention_mask=attention_mask,\n",
        "      token_type_ids=token_type_ids,\n",
        "      position_ids=position_ids,\n",
        "      head_mask=head_mask,\n",
        "      inputs_embeds=inputs_embeds,\n",
        "      output_attentions=output_attentions,\n",
        "      output_hidden_states=output_hidden_states,\n",
        "      return_dict=return_dict,\n",
        "    )\n",
        "\n",
        "    # pooling\n",
        "    input_mask_expanded = attention_mask.unsqueeze(-1).expand(outputs.last_hidden_state.size()).float()\n",
        "    sum_embeddings = torch.sum(outputs.last_hidden_state * input_mask_expanded, 1)\n",
        "    sum_mask = input_mask_expanded.sum(1)\n",
        "    sum_mask = torch.clamp(sum_mask, min = 1e-9)\n",
        "    pooled_output = sum_embeddings/sum_mask\n",
        "\n",
        "    # concat emotions values\n",
        "    if empathy_values is not None:\n",
        "      empathy_values_sum = torch.sum(empathy_values * attention_mask, 1)\n",
        "      pooled_output = torch.cat(\n",
        "          (\n",
        "            pooled_output,\n",
        "            empathy_values_sum.reshape(pooled_output.shape[0], 1)), dim=1)\n",
        "    if distress_values is not None:\n",
        "      distress_values_sum = torch.sum(distress_values * attention_mask, 1)\n",
        "      pooled_output = torch.cat(\n",
        "          (\n",
        "            pooled_output,\n",
        "            distress_values_sum.reshape(pooled_output.shape[0], 1)), dim=1)\n",
        "    \"\"\"if emotion_values is not None:\n",
        "      emotion_values = emotion_values.permute(1, 0, 2)\n",
        "      for emotion_value in emotion_values:\n",
        "        emotion_value_sum = torch.sum(emotion_value * attention_mask, 1)\n",
        "        pooled_output = torch.cat(\n",
        "            (\n",
        "              pooled_output,\n",
        "              emotion_value_sum.reshape(pooled_output.shape[0], 1)), dim=1)\"\"\"\n",
        "\n",
        "    # layer 1: dropout layer\n",
        "    output_layer1 = self.dropout(pooled_output)\n",
        "    if features is not None:\n",
        "      # concat features\n",
        "      output_layer1 = torch.cat((output_layer1, features), dim=0)\n",
        "\n",
        "    # layer 2: classifier\n",
        "    output_layer2 = self.classifier_layer1(output_layer1)\n",
        "\n",
        "    # layer 3: tanh\n",
        "    output_layer3 = self.tanh_layer(output_layer2)\n",
        "\n",
        "    # layer 4: classifier\n",
        "    output_layer4 = self.classifier_layer2(output_layer3)\n",
        "\n",
        "    # compute loss\n",
        "    logits = output_layer4\n",
        "    loss = None\n",
        "    if labels is not None:\n",
        "      loss_fct = BCEWithLogitsLoss()\n",
        "      loss = loss_fct(logits, labels)\n",
        "    if not return_dict:\n",
        "      output = (logits,) + outputs[2:]\n",
        "      return ((loss,) + output) if loss is not None else output\n",
        "\n",
        "    return SequenceClassifierOutput(\n",
        "      loss=loss,\n",
        "      logits=logits,\n",
        "      hidden_states=outputs.hidden_states,\n",
        "      attentions=outputs.attentions,\n",
        "    )"
      ],
      "metadata": {
        "id": "e-qwNumjsiDp",
        "execution": {
          "iopub.status.busy": "2023-07-06T18:40:48.680784Z",
          "iopub.execute_input": "2023-07-06T18:40:48.681166Z",
          "iopub.status.idle": "2023-07-06T18:40:48.701658Z",
          "shell.execute_reply.started": "2023-07-06T18:40:48.681118Z",
          "shell.execute_reply": "2023-07-06T18:40:48.700448Z"
        },
        "trusted": true
      },
      "execution_count": null,
      "outputs": []
    },
    {
      "cell_type": "code",
      "source": [
        "model = BertPerWordLexiconPooling.from_pretrained(model_type.get('bert-base'),num_labels=NUM_LABELS)\n",
        "model.to(device)"
      ],
      "metadata": {
        "colab": {
          "base_uri": "https://localhost:8080/"
        },
        "id": "KCXMNCXHxJJu",
        "outputId": "379de532-a705-4c3b-da1e-113491ce88ff",
        "execution": {
          "iopub.status.busy": "2023-07-06T18:40:48.703361Z",
          "iopub.execute_input": "2023-07-06T18:40:48.703820Z",
          "iopub.status.idle": "2023-07-06T18:40:49.939719Z",
          "shell.execute_reply.started": "2023-07-06T18:40:48.703785Z",
          "shell.execute_reply": "2023-07-06T18:40:49.938674Z"
        },
        "trusted": true
      },
      "execution_count": null,
      "outputs": [
        {
          "output_type": "stream",
          "name": "stderr",
          "text": [
            "Some weights of the model checkpoint at bert-base-cased were not used when initializing BertPerWordLexiconPooling: ['cls.predictions.transform.dense.bias', 'cls.predictions.bias', 'cls.predictions.transform.LayerNorm.weight', 'cls.seq_relationship.weight', 'cls.seq_relationship.bias', 'cls.predictions.transform.LayerNorm.bias', 'cls.predictions.transform.dense.weight']\n",
            "- This IS expected if you are initializing BertPerWordLexiconPooling from the checkpoint of a model trained on another task or with another architecture (e.g. initializing a BertForSequenceClassification model from a BertForPreTraining model).\n",
            "- This IS NOT expected if you are initializing BertPerWordLexiconPooling from the checkpoint of a model that you expect to be exactly identical (initializing a BertForSequenceClassification model from a BertForSequenceClassification model).\n",
            "Some weights of BertPerWordLexiconPooling were not initialized from the model checkpoint at bert-base-cased and are newly initialized: ['classifier_layer2.bias', 'classifier_layer1.weight', 'classifier_layer1.bias', 'classifier_layer2.weight']\n",
            "You should probably TRAIN this model on a down-stream task to be able to use it for predictions and inference.\n"
          ]
        },
        {
          "output_type": "execute_result",
          "data": {
            "text/plain": [
              "BertPerWordLexiconPooling(\n",
              "  (bert): BertModel(\n",
              "    (embeddings): BertEmbeddings(\n",
              "      (word_embeddings): Embedding(28996, 768, padding_idx=0)\n",
              "      (position_embeddings): Embedding(512, 768)\n",
              "      (token_type_embeddings): Embedding(2, 768)\n",
              "      (LayerNorm): LayerNorm((768,), eps=1e-12, elementwise_affine=True)\n",
              "      (dropout): Dropout(p=0.1, inplace=False)\n",
              "    )\n",
              "    (encoder): BertEncoder(\n",
              "      (layer): ModuleList(\n",
              "        (0-11): 12 x BertLayer(\n",
              "          (attention): BertAttention(\n",
              "            (self): BertSelfAttention(\n",
              "              (query): Linear(in_features=768, out_features=768, bias=True)\n",
              "              (key): Linear(in_features=768, out_features=768, bias=True)\n",
              "              (value): Linear(in_features=768, out_features=768, bias=True)\n",
              "              (dropout): Dropout(p=0.1, inplace=False)\n",
              "            )\n",
              "            (output): BertSelfOutput(\n",
              "              (dense): Linear(in_features=768, out_features=768, bias=True)\n",
              "              (LayerNorm): LayerNorm((768,), eps=1e-12, elementwise_affine=True)\n",
              "              (dropout): Dropout(p=0.1, inplace=False)\n",
              "            )\n",
              "          )\n",
              "          (intermediate): BertIntermediate(\n",
              "            (dense): Linear(in_features=768, out_features=3072, bias=True)\n",
              "            (intermediate_act_fn): GELUActivation()\n",
              "          )\n",
              "          (output): BertOutput(\n",
              "            (dense): Linear(in_features=3072, out_features=768, bias=True)\n",
              "            (LayerNorm): LayerNorm((768,), eps=1e-12, elementwise_affine=True)\n",
              "            (dropout): Dropout(p=0.1, inplace=False)\n",
              "          )\n",
              "        )\n",
              "      )\n",
              "    )\n",
              "    (pooler): BertPooler(\n",
              "      (dense): Linear(in_features=768, out_features=768, bias=True)\n",
              "      (activation): Tanh()\n",
              "    )\n",
              "  )\n",
              "  (dropout): Dropout(p=0.3, inplace=False)\n",
              "  (classifier_layer1): Linear(in_features=770, out_features=154, bias=True)\n",
              "  (classifier_layer2): Linear(in_features=154, out_features=8, bias=True)\n",
              "  (tanh_layer): Tanh()\n",
              ")"
            ]
          },
          "metadata": {},
          "execution_count": 68
        }
      ]
    },
    {
      "cell_type": "code",
      "source": [
        "class WASSADataset(Dataset):\n",
        "    '''\n",
        "    This class is used to create a pytorch dataset for the EMO task.\n",
        "    '''\n",
        "\n",
        "    def __init__(\n",
        "        self,\n",
        "        tokenizer,\n",
        "        essay,\n",
        "        targets,\n",
        "        features=None, # np.array([[], []])\n",
        "        essay_EMP_lexicon=None, # {'empathy': [, ... ,], 'ditress': [, ..., ]}\n",
        "        essay_EMO_lexicon=None, # {'anger': [, ... ,], ..., 'sadness': [, ..., ]}\n",
        "        ):\n",
        "        self.tokenizer = tokenizer\n",
        "        self.essay = essay\n",
        "        self.targets = targets\n",
        "        self.essay_EMP_lexicon = essay_EMP_lexicon\n",
        "        self.essay_EMO_lexicon = essay_EMO_lexicon\n",
        "        self.features = features\n",
        "\n",
        "    def __len__(self):\n",
        "        return len(self.essay)\n",
        "\n",
        "    def __getitem__(self, index):\n",
        "      essay = str(self.essay[index])\n",
        "      inputs = tokenizer(\n",
        "          text=essay,\n",
        "          add_special_tokens=True,\n",
        "          padding='max_length',\n",
        "          truncation=True,\n",
        "          return_attention_mask=True,\n",
        "          return_tensors='pt',\n",
        "          return_token_type_ids=True\n",
        "        )\n",
        "\n",
        "      tokens_empathy = np.full(tokenizer.model_max_length, 4.0)\n",
        "      tokens_distress = np.zeros(tokenizer.model_max_length)\n",
        "      tokens_emotions = np.zeros((7, tokenizer.model_max_length))\n",
        "\n",
        "      item = {\n",
        "        'input_ids': inputs['input_ids'].flatten(),\n",
        "        'attention_mask': inputs['attention_mask'].flatten(),\n",
        "        'token_type_ids': inputs[\"token_type_ids\"].flatten()\n",
        "      }\n",
        "      if self.features is not None:\n",
        "        item['features'] = torch.FloatTensor(self.features[index])\n",
        "      if self.targets is not None:\n",
        "        item['labels'] = torch.FloatTensor(self.targets[index])\n",
        "      if self.essay_EMP_lexicon is None and self.essay_EMO_lexicon is None:\n",
        "        return item\n",
        "      word_count=0\n",
        "      first_char=True\n",
        "      last_char_is_space=False\n",
        "      for char_idx, char in enumerate(essay):\n",
        "        token_idx = inputs.char_to_token(char_idx)\n",
        "        if token_idx is None and not first_char:\n",
        "          if not last_char_is_space:\n",
        "            word_count+=1\n",
        "            last_char_is_space=True\n",
        "          continue\n",
        "        elif last_char_is_space:\n",
        "          last_char_is_space=False\n",
        "        first_char=False\n",
        "        if self.essay_EMP_lexicon is not None:\n",
        "          tokens_empathy[token_idx] = self.essay_EMP_lexicon[index]['empathy'][word_count]\n",
        "          tokens_distress[token_idx] = self.essay_EMP_lexicon[index]['distress'][word_count]\n",
        "        if self.essay_EMO_lexicon is not None:\n",
        "          for i, emotion in enumerate(self.essay_EMO_lexicon[index]):\n",
        "            tokens_emotions[i][token_idx] = self.essay_EMO_lexicon[index][emotion][word_count]\n",
        "      if self.essay_EMP_lexicon is not None:\n",
        "        item['empathy_values'] = torch.FloatTensor(tokens_empathy)\n",
        "        item['distress_values'] = torch.FloatTensor(tokens_distress)\n",
        "      if self.essay_EMO_lexicon is not None:\n",
        "        item['emotion_values'] = torch.FloatTensor(tokens_emotions)\n",
        "      return item"
      ],
      "metadata": {
        "id": "u3pK0ZBHWDZ1",
        "execution": {
          "iopub.status.busy": "2023-07-06T18:40:49.941447Z",
          "iopub.execute_input": "2023-07-06T18:40:49.941852Z",
          "iopub.status.idle": "2023-07-06T18:40:49.960351Z",
          "shell.execute_reply.started": "2023-07-06T18:40:49.941816Z",
          "shell.execute_reply": "2023-07-06T18:40:49.959268Z"
        },
        "trusted": true
      },
      "execution_count": null,
      "outputs": []
    },
    {
      "cell_type": "code",
      "source": [
        "EMO_json_path_train = 'https://raw.githubusercontent.com/HLT-Ghisolfi-Leuzzi-Testa/WASSA-2023/main/lexicon/train_per_word_lexicon_EMO.json'\n",
        "EMP_json_path_train = 'https://raw.githubusercontent.com/HLT-Ghisolfi-Leuzzi-Testa/WASSA-2023/main/lexicon/train_per_word_lexicon_EMP.json'\n",
        "EMO_json_path_dev = 'https://raw.githubusercontent.com/HLT-Ghisolfi-Leuzzi-Testa/WASSA-2023/main/lexicon/dev_per_word_lexicon_EMO.json'\n",
        "EMP_json_path_dev = 'https://raw.githubusercontent.com/HLT-Ghisolfi-Leuzzi-Testa/WASSA-2023/main/lexicon/dev_per_word_lexicon_EMP.json'\n",
        "EMO_json_path_test = 'https://raw.githubusercontent.com/HLT-Ghisolfi-Leuzzi-Testa/WASSA-2023/main/lexicon/test_per_word_lexicon_EMO.json'\n",
        "EMP_json_path_test = 'https://raw.githubusercontent.com/HLT-Ghisolfi-Leuzzi-Testa/WASSA-2023/main/lexicon/test_per_word_lexicon_EMP.json'\n",
        "\n",
        "!wget {EMO_json_path_train}\n",
        "!wget {EMP_json_path_train}\n",
        "!wget {EMO_json_path_dev}\n",
        "!wget {EMP_json_path_dev}\n",
        "!wget {EMO_json_path_test}\n",
        "!wget {EMP_json_path_test}"
      ],
      "metadata": {
        "id": "a6T9cnjwZugv",
        "execution": {
          "iopub.status.busy": "2023-07-06T18:40:49.962522Z",
          "iopub.execute_input": "2023-07-06T18:40:49.963264Z",
          "iopub.status.idle": "2023-07-06T18:40:57.310811Z",
          "shell.execute_reply.started": "2023-07-06T18:40:49.963228Z",
          "shell.execute_reply": "2023-07-06T18:40:57.309707Z"
        },
        "trusted": true,
        "colab": {
          "base_uri": "https://localhost:8080/"
        },
        "outputId": "b59cc9f4-9947-4cf7-8815-d2b57ed1ff99"
      },
      "execution_count": null,
      "outputs": [
        {
          "output_type": "stream",
          "name": "stdout",
          "text": [
            "--2023-07-06 22:32:38--  https://raw.githubusercontent.com/HLT-Ghisolfi-Leuzzi-Testa/WASSA-2023/main/lexicon/train_per_word_lexicon_EMO.json\n",
            "Resolving raw.githubusercontent.com (raw.githubusercontent.com)... 185.199.110.133, 185.199.111.133, 185.199.109.133, ...\n",
            "Connecting to raw.githubusercontent.com (raw.githubusercontent.com)|185.199.110.133|:443... connected.\n",
            "HTTP request sent, awaiting response... 200 OK\n",
            "Length: 3559244 (3.4M) [text/plain]\n",
            "Saving to: ‘train_per_word_lexicon_EMO.json.18’\n",
            "\n",
            "\r          train_per   0%[                    ]       0  --.-KB/s               \rtrain_per_word_lexi 100%[===================>]   3.39M  --.-KB/s    in 0.03s   \n",
            "\n",
            "2023-07-06 22:32:38 (102 MB/s) - ‘train_per_word_lexicon_EMO.json.18’ saved [3559244/3559244]\n",
            "\n",
            "--2023-07-06 22:32:38--  https://raw.githubusercontent.com/HLT-Ghisolfi-Leuzzi-Testa/WASSA-2023/main/lexicon/train_per_word_lexicon_EMP.json\n",
            "Resolving raw.githubusercontent.com (raw.githubusercontent.com)... 185.199.109.133, 185.199.110.133, 185.199.108.133, ...\n",
            "Connecting to raw.githubusercontent.com (raw.githubusercontent.com)|185.199.109.133|:443... connected.\n",
            "HTTP request sent, awaiting response... 200 OK\n",
            "Length: 2671839 (2.5M) [text/plain]\n",
            "Saving to: ‘train_per_word_lexicon_EMP.json.18’\n",
            "\n",
            "train_per_word_lexi 100%[===================>]   2.55M  --.-KB/s    in 0.03s   \n",
            "\n",
            "2023-07-06 22:32:38 (73.9 MB/s) - ‘train_per_word_lexicon_EMP.json.18’ saved [2671839/2671839]\n",
            "\n",
            "--2023-07-06 22:32:38--  https://raw.githubusercontent.com/HLT-Ghisolfi-Leuzzi-Testa/WASSA-2023/main/lexicon/dev_per_word_lexicon_EMO.json\n",
            "Resolving raw.githubusercontent.com (raw.githubusercontent.com)... 185.199.111.133, 185.199.110.133, 185.199.109.133, ...\n",
            "Connecting to raw.githubusercontent.com (raw.githubusercontent.com)|185.199.111.133|:443... connected.\n",
            "HTTP request sent, awaiting response... 200 OK\n",
            "Length: 888098 (867K) [text/plain]\n",
            "Saving to: ‘dev_per_word_lexicon_EMO.json.18’\n",
            "\n",
            "dev_per_word_lexico 100%[===================>] 867.28K  --.-KB/s    in 0.02s   \n",
            "\n",
            "2023-07-06 22:32:38 (51.8 MB/s) - ‘dev_per_word_lexicon_EMO.json.18’ saved [888098/888098]\n",
            "\n",
            "--2023-07-06 22:32:38--  https://raw.githubusercontent.com/HLT-Ghisolfi-Leuzzi-Testa/WASSA-2023/main/lexicon/dev_per_word_lexicon_EMP.json\n",
            "Resolving raw.githubusercontent.com (raw.githubusercontent.com)... 185.199.110.133, 185.199.109.133, 185.199.111.133, ...\n",
            "Connecting to raw.githubusercontent.com (raw.githubusercontent.com)|185.199.110.133|:443... connected.\n",
            "HTTP request sent, awaiting response... 200 OK\n",
            "Length: 666890 (651K) [text/plain]\n",
            "Saving to: ‘dev_per_word_lexicon_EMP.json.18’\n",
            "\n",
            "dev_per_word_lexico 100%[===================>] 651.26K  --.-KB/s    in 0.02s   \n",
            "\n",
            "2023-07-06 22:32:38 (28.4 MB/s) - ‘dev_per_word_lexicon_EMP.json.18’ saved [666890/666890]\n",
            "\n",
            "--2023-07-06 22:32:38--  https://raw.githubusercontent.com/HLT-Ghisolfi-Leuzzi-Testa/WASSA-2023/main/lexicon/test_per_word_lexicon_EMO.json\n",
            "Resolving raw.githubusercontent.com (raw.githubusercontent.com)... 185.199.108.133, 185.199.109.133, 185.199.110.133, ...\n",
            "Connecting to raw.githubusercontent.com (raw.githubusercontent.com)|185.199.108.133|:443... connected.\n",
            "HTTP request sent, awaiting response... 200 OK\n",
            "Length: 547688 (535K) [text/plain]\n",
            "Saving to: ‘test_per_word_lexicon_EMO.json.18’\n",
            "\n",
            "test_per_word_lexic 100%[===================>] 534.85K  --.-KB/s    in 0.02s   \n",
            "\n",
            "2023-07-06 22:32:38 (25.0 MB/s) - ‘test_per_word_lexicon_EMO.json.18’ saved [547688/547688]\n",
            "\n",
            "--2023-07-06 22:32:38--  https://raw.githubusercontent.com/HLT-Ghisolfi-Leuzzi-Testa/WASSA-2023/main/lexicon/test_per_word_lexicon_EMP.json\n",
            "Resolving raw.githubusercontent.com (raw.githubusercontent.com)... 185.199.108.133, 185.199.111.133, 185.199.110.133, ...\n",
            "Connecting to raw.githubusercontent.com (raw.githubusercontent.com)|185.199.108.133|:443... connected.\n",
            "HTTP request sent, awaiting response... 200 OK\n",
            "Length: 410615 (401K) [text/plain]\n",
            "Saving to: ‘test_per_word_lexicon_EMP.json.18’\n",
            "\n",
            "test_per_word_lexic 100%[===================>] 400.99K  --.-KB/s    in 0.01s   \n",
            "\n",
            "2023-07-06 22:32:38 (30.2 MB/s) - ‘test_per_word_lexicon_EMP.json.18’ saved [410615/410615]\n",
            "\n"
          ]
        }
      ]
    },
    {
      "cell_type": "code",
      "source": [
        "import json\n",
        "\n",
        "with open('train_per_word_lexicon_EMO.json') as json_file:\n",
        "  essay_EMO_lexicon_train_dict = json.load(json_file)\n",
        "with open('train_per_word_lexicon_EMP.json') as json_file:\n",
        "  essay_EMP_lexicon_train_dict = json.load(json_file)\n",
        "\n",
        "with open('dev_per_word_lexicon_EMO.json') as json_file:\n",
        "  essay_EMO_lexicon_dev_dict = json.load(json_file)\n",
        "with open('dev_per_word_lexicon_EMP.json') as json_file:\n",
        "  essay_EMP_lexicon_dev_dict = json.load(json_file)\n",
        "\n",
        "with open('test_per_word_lexicon_EMO.json') as json_file:\n",
        "  essay_EMO_lexicon_test_dict = json.load(json_file)\n",
        "with open('test_per_word_lexicon_EMP.json') as json_file:\n",
        "  essay_EMP_lexicon_test_dict = json.load(json_file)\n"
      ],
      "metadata": {
        "id": "ReChwywEacF5",
        "execution": {
          "iopub.status.busy": "2023-07-06T18:40:57.313296Z",
          "iopub.execute_input": "2023-07-06T18:40:57.314415Z",
          "iopub.status.idle": "2023-07-06T18:40:57.527025Z",
          "shell.execute_reply.started": "2023-07-06T18:40:57.314363Z",
          "shell.execute_reply": "2023-07-06T18:40:57.526087Z"
        },
        "trusted": true
      },
      "execution_count": null,
      "outputs": []
    },
    {
      "cell_type": "code",
      "source": [
        "essay_EMP_lexicon_train = [essay_EMP_lexicon_train_dict[str(id)] for id in train_df['essay_id']]\n",
        "essay_EMO_lexicon_train = [essay_EMO_lexicon_train_dict[str(id)] for id in train_df['essay_id']]\n",
        "\n",
        "essay_EMP_lexicon_val = [essay_EMP_lexicon_train_dict[str(id)] for id in val_df['essay_id']]\n",
        "essay_EMO_lexicon_val = [essay_EMO_lexicon_train_dict[str(id)] for id in val_df['essay_id']]\n",
        "\n",
        "essay_EMP_lexicon_dev = [essay_EMP_lexicon_dev_dict[str(id)] for id in dev_df['essay_id']]\n",
        "essay_EMO_lexicon_dev = [essay_EMO_lexicon_dev_dict[str(id)] for id in dev_df['essay_id']]"
      ],
      "metadata": {
        "id": "v1mNoNH5bIwT",
        "execution": {
          "iopub.status.busy": "2023-07-06T18:40:57.528415Z",
          "iopub.execute_input": "2023-07-06T18:40:57.528743Z",
          "iopub.status.idle": "2023-07-06T18:40:57.537436Z",
          "shell.execute_reply.started": "2023-07-06T18:40:57.528712Z",
          "shell.execute_reply": "2023-07-06T18:40:57.535908Z"
        },
        "trusted": true
      },
      "execution_count": null,
      "outputs": []
    },
    {
      "cell_type": "code",
      "source": [
        "train_set = WASSADataset(tokenizer=tokenizer, essay=train_df.essay, targets=y_train, features=None, essay_EMP_lexicon=essay_EMP_lexicon_train, essay_EMO_lexicon=essay_EMO_lexicon_train)\n",
        "val_set = WASSADataset(tokenizer=tokenizer, essay=val_df.essay, targets=y_val, features=None, essay_EMP_lexicon=essay_EMP_lexicon_val, essay_EMO_lexicon=essay_EMO_lexicon_val)\n",
        "dev_set = WASSADataset(tokenizer=tokenizer, essay=dev_df.essay, targets=y_dev, features=None, essay_EMP_lexicon=essay_EMP_lexicon_dev, essay_EMO_lexicon=essay_EMO_lexicon_dev)"
      ],
      "metadata": {
        "id": "vzv9_pOaWReO",
        "execution": {
          "iopub.status.busy": "2023-07-06T18:40:57.538916Z",
          "iopub.execute_input": "2023-07-06T18:40:57.539571Z",
          "iopub.status.idle": "2023-07-06T18:40:57.556626Z",
          "shell.execute_reply.started": "2023-07-06T18:40:57.539541Z",
          "shell.execute_reply": "2023-07-06T18:40:57.555763Z"
        },
        "trusted": true
      },
      "execution_count": null,
      "outputs": []
    },
    {
      "cell_type": "markdown",
      "source": [
        "## Training"
      ],
      "metadata": {
        "id": "9xvHbhOhhttG"
      }
    },
    {
      "cell_type": "markdown",
      "source": [
        "Prepare datasets"
      ],
      "metadata": {
        "id": "bY0SLN6usjYs"
      }
    },
    {
      "cell_type": "code",
      "source": [
        "\"\"\"train_set = EMODataset(tokenizer=tokenizer, essay=train_df.essay, targets=y_train)#, features=features_train)\n",
        "val_set = EMODataset(tokenizer=tokenizer, essay=val_df.essay, targets=y_val)#, features=features_val)\n",
        "dev_set = EMODataset(tokenizer=tokenizer, essay=dev_df.essay, targets=y_dev)#, features=features_dev)\"\"\""
      ],
      "metadata": {
        "id": "vai1ZHsCHZI8",
        "execution": {
          "iopub.status.busy": "2023-07-06T18:40:57.558029Z",
          "iopub.execute_input": "2023-07-06T18:40:57.558402Z",
          "iopub.status.idle": "2023-07-06T18:40:57.570626Z",
          "shell.execute_reply.started": "2023-07-06T18:40:57.558357Z",
          "shell.execute_reply": "2023-07-06T18:40:57.569709Z"
        },
        "trusted": true,
        "colab": {
          "base_uri": "https://localhost:8080/",
          "height": 70
        },
        "outputId": "5d6a17e7-e77f-4d50-ad3d-7c42e72260b2"
      },
      "execution_count": null,
      "outputs": [
        {
          "output_type": "execute_result",
          "data": {
            "text/plain": [
              "'train_set = EMODataset(tokenizer=tokenizer, essay=train_df.essay, targets=y_train)#, features=features_train)\\nval_set = EMODataset(tokenizer=tokenizer, essay=val_df.essay, targets=y_val)#, features=features_val)\\ndev_set = EMODataset(tokenizer=tokenizer, essay=dev_df.essay, targets=y_dev)#, features=features_dev)'"
            ],
            "application/vnd.google.colaboratory.intrinsic+json": {
              "type": "string"
            }
          },
          "metadata": {},
          "execution_count": 74
        }
      ]
    },
    {
      "cell_type": "code",
      "source": [
        "\"\"\"train_set = EMODataset(tokenizer=tokenizer, essay=train_df.essay, targets=y_train, features=features_train)\n",
        "val_set = EMODataset(tokenizer=tokenizer, essay=val_df.essay, targets=y_val, features=features_val)\n",
        "dev_set = EMODataset(tokenizer=tokenizer, essay=dev_df.essay, targets=y_dev, features=features_dev)\"\"\""
      ],
      "metadata": {
        "id": "LSIofccfsTqg",
        "execution": {
          "iopub.status.busy": "2023-07-06T18:40:57.572316Z",
          "iopub.execute_input": "2023-07-06T18:40:57.572668Z",
          "iopub.status.idle": "2023-07-06T18:40:57.583521Z",
          "shell.execute_reply.started": "2023-07-06T18:40:57.572637Z",
          "shell.execute_reply": "2023-07-06T18:40:57.582391Z"
        },
        "trusted": true,
        "colab": {
          "base_uri": "https://localhost:8080/",
          "height": 70
        },
        "outputId": "f22051d4-bf8f-4add-f5e7-ecd639aaa24a"
      },
      "execution_count": null,
      "outputs": [
        {
          "output_type": "execute_result",
          "data": {
            "text/plain": [
              "'train_set = EMODataset(tokenizer=tokenizer, essay=train_df.essay, targets=y_train, features=features_train)\\nval_set = EMODataset(tokenizer=tokenizer, essay=val_df.essay, targets=y_val, features=features_val)\\ndev_set = EMODataset(tokenizer=tokenizer, essay=dev_df.essay, targets=y_dev, features=features_dev)'"
            ],
            "application/vnd.google.colaboratory.intrinsic+json": {
              "type": "string"
            }
          },
          "metadata": {},
          "execution_count": 75
        }
      ]
    },
    {
      "cell_type": "markdown",
      "source": [
        "Set up training"
      ],
      "metadata": {
        "id": "rvduRx8HsteS"
      }
    },
    {
      "cell_type": "code",
      "source": [
        "train_arguments = TrainingArguments(\n",
        "    output_dir=f\"./{model_config['model_name']}\",\n",
        "    per_device_train_batch_size=model_config['train_batch_size'],\n",
        "    per_device_eval_batch_size=model_config['val_batch_size'],\n",
        "    num_train_epochs=model_config['epochs'],\n",
        "    evaluation_strategy=\"steps\",\n",
        "    save_strategy=\"steps\",\n",
        "    eval_steps = 300,\n",
        "    save_steps = 300,\n",
        "    learning_rate=model_config['learning_rate'],\n",
        "    weight_decay=model_config['weight_decay'],\n",
        "    load_best_model_at_end=True,\n",
        "    metric_for_best_model='eval_loss',\n",
        "    seed=model_config['seed'],\n",
        "    logging_strategy = \"epoch\"\n",
        ") # TODO: custom other params"
      ],
      "metadata": {
        "id": "Z1DbZxhkD1R7",
        "execution": {
          "iopub.status.busy": "2023-07-06T18:40:57.584993Z",
          "iopub.execute_input": "2023-07-06T18:40:57.585379Z",
          "iopub.status.idle": "2023-07-06T18:40:57.617342Z",
          "shell.execute_reply.started": "2023-07-06T18:40:57.585350Z",
          "shell.execute_reply": "2023-07-06T18:40:57.616518Z"
        },
        "trusted": true
      },
      "execution_count": null,
      "outputs": []
    },
    {
      "cell_type": "code",
      "source": [
        "trainer = Trainer(\n",
        "    model=model,\n",
        "    args=train_arguments,\n",
        "    train_dataset=train_set,\n",
        "    eval_dataset=val_set,\n",
        "    tokenizer=tokenizer,\n",
        "    compute_metrics=compute_EMO_metrics_trainer\n",
        ")"
      ],
      "metadata": {
        "id": "hrI2rj4U3K2Q",
        "execution": {
          "iopub.status.busy": "2023-07-06T18:40:57.618349Z",
          "iopub.execute_input": "2023-07-06T18:40:57.618641Z",
          "iopub.status.idle": "2023-07-06T18:41:06.317502Z",
          "shell.execute_reply.started": "2023-07-06T18:40:57.618612Z",
          "shell.execute_reply": "2023-07-06T18:41:06.316478Z"
        },
        "trusted": true
      },
      "execution_count": null,
      "outputs": []
    },
    {
      "cell_type": "markdown",
      "source": [
        "Callbacks"
      ],
      "metadata": {
        "id": "A-sruHQdsraI"
      }
    },
    {
      "cell_type": "code",
      "source": [
        "class TrainerLoggingCallback(TrainerCallback):\n",
        "    def __init__(self, log_path):\n",
        "        self.log_path = log_path\n",
        "\n",
        "    def on_log(self, args, state, control, logs=None, **kwargs):\n",
        "        _ = logs.pop(\"total_flos\", None)\n",
        "        if state.is_local_process_zero: # whether this process is the main one in a distributed setting\n",
        "            with open(self.log_path, \"a\") as f:\n",
        "                f.write(json.dumps(logs) + \"\\n\")\n",
        "\n",
        "trainer.add_callback(EarlyStoppingCallback(\n",
        "    early_stopping_patience=model_config['patience'],\n",
        "    early_stopping_threshold=model_config['early_stopping_threshold']))\n",
        "\n",
        "trainer.add_callback(TrainerLoggingCallback(model_config['model_id']+\"_log.json\"))"
      ],
      "metadata": {
        "id": "4kUY7tU3sqr3",
        "execution": {
          "iopub.status.busy": "2023-07-06T18:41:06.319009Z",
          "iopub.execute_input": "2023-07-06T18:41:06.319404Z",
          "iopub.status.idle": "2023-07-06T18:41:06.327087Z",
          "shell.execute_reply.started": "2023-07-06T18:41:06.319370Z",
          "shell.execute_reply": "2023-07-06T18:41:06.325966Z"
        },
        "trusted": true
      },
      "execution_count": null,
      "outputs": []
    },
    {
      "cell_type": "markdown",
      "source": [
        "Start training"
      ],
      "metadata": {
        "id": "dcCqSooFsw0X"
      }
    },
    {
      "cell_type": "code",
      "source": [
        "trainer.train()"
      ],
      "metadata": {
        "id": "L8xAPa81D5tu",
        "execution": {
          "iopub.status.busy": "2023-07-06T18:41:06.328925Z",
          "iopub.execute_input": "2023-07-06T18:41:06.329315Z",
          "iopub.status.idle": "2023-07-06T18:42:00.344416Z",
          "shell.execute_reply.started": "2023-07-06T18:41:06.329265Z",
          "shell.execute_reply": "2023-07-06T18:42:00.339240Z"
        },
        "trusted": true,
        "colab": {
          "base_uri": "https://localhost:8080/",
          "height": 547
        },
        "outputId": "46f3d258-1fe8-4ca4-c86c-d8daafe7b66d"
      },
      "execution_count": null,
      "outputs": [
        {
          "output_type": "stream",
          "name": "stderr",
          "text": [
            "/usr/local/lib/python3.10/dist-packages/transformers/optimization.py:411: FutureWarning: This implementation of AdamW is deprecated and will be removed in a future version. Use the PyTorch implementation torch.optim.AdamW instead, or set `no_deprecation_warning=True` to disable this warning\n",
            "  warnings.warn(\n"
          ]
        },
        {
          "output_type": "display_data",
          "data": {
            "text/plain": [
              "<IPython.core.display.HTML object>"
            ],
            "text/html": [
              "\n",
              "    <div>\n",
              "      \n",
              "      <progress value='1550' max='1550' style='width:300px; height:20px; vertical-align: middle;'></progress>\n",
              "      [1550/1550 11:12, Epoch 10/10]\n",
              "    </div>\n",
              "    <table border=\"1\" class=\"dataframe\">\n",
              "  <thead>\n",
              " <tr style=\"text-align: left;\">\n",
              "      <th>Step</th>\n",
              "      <th>Training Loss</th>\n",
              "      <th>Validation Loss</th>\n",
              "      <th>Sklearn Accuracy</th>\n",
              "      <th>Roc Auc Micro</th>\n",
              "      <th>Accuracy</th>\n",
              "      <th>Micro Precision</th>\n",
              "      <th>Micro Recall</th>\n",
              "      <th>Micro F</th>\n",
              "      <th>Macro Precision</th>\n",
              "      <th>Macro Recall</th>\n",
              "      <th>Macro F</th>\n",
              "    </tr>\n",
              "  </thead>\n",
              "  <tbody>\n",
              "    <tr>\n",
              "      <td>300</td>\n",
              "      <td>0.538900</td>\n",
              "      <td>0.354705</td>\n",
              "      <td>0.000000</td>\n",
              "      <td>0.500000</td>\n",
              "      <td>0.000000</td>\n",
              "      <td>0.000000</td>\n",
              "      <td>0.000000</td>\n",
              "      <td>0.000000</td>\n",
              "      <td>0.000000</td>\n",
              "      <td>0.000000</td>\n",
              "      <td>0.000000</td>\n",
              "    </tr>\n",
              "    <tr>\n",
              "      <td>600</td>\n",
              "      <td>0.338200</td>\n",
              "      <td>0.320118</td>\n",
              "      <td>0.012346</td>\n",
              "      <td>0.505128</td>\n",
              "      <td>0.010256</td>\n",
              "      <td>1.000000</td>\n",
              "      <td>0.010256</td>\n",
              "      <td>0.020305</td>\n",
              "      <td>0.125000</td>\n",
              "      <td>0.003333</td>\n",
              "      <td>0.006494</td>\n",
              "    </tr>\n",
              "    <tr>\n",
              "      <td>900</td>\n",
              "      <td>0.306200</td>\n",
              "      <td>0.305188</td>\n",
              "      <td>0.351852</td>\n",
              "      <td>0.672969</td>\n",
              "      <td>0.330233</td>\n",
              "      <td>0.780220</td>\n",
              "      <td>0.364103</td>\n",
              "      <td>0.496503</td>\n",
              "      <td>0.097527</td>\n",
              "      <td>0.118333</td>\n",
              "      <td>0.106928</td>\n",
              "    </tr>\n",
              "    <tr>\n",
              "      <td>1200</td>\n",
              "      <td>0.289900</td>\n",
              "      <td>0.304495</td>\n",
              "      <td>0.339506</td>\n",
              "      <td>0.664368</td>\n",
              "      <td>0.313364</td>\n",
              "      <td>0.755556</td>\n",
              "      <td>0.348718</td>\n",
              "      <td>0.477193</td>\n",
              "      <td>0.094444</td>\n",
              "      <td>0.113333</td>\n",
              "      <td>0.103030</td>\n",
              "    </tr>\n",
              "    <tr>\n",
              "      <td>1500</td>\n",
              "      <td>0.279100</td>\n",
              "      <td>0.302055</td>\n",
              "      <td>0.327160</td>\n",
              "      <td>0.658492</td>\n",
              "      <td>0.305164</td>\n",
              "      <td>0.783133</td>\n",
              "      <td>0.333333</td>\n",
              "      <td>0.467626</td>\n",
              "      <td>0.097892</td>\n",
              "      <td>0.108333</td>\n",
              "      <td>0.102848</td>\n",
              "    </tr>\n",
              "  </tbody>\n",
              "</table><p>"
            ]
          },
          "metadata": {}
        },
        {
          "output_type": "stream",
          "name": "stderr",
          "text": [
            "/usr/local/lib/python3.10/dist-packages/sklearn/metrics/_classification.py:1344: UndefinedMetricWarning: Precision and F-score are ill-defined and being set to 0.0 due to no predicted samples. Use `zero_division` parameter to control this behavior.\n",
            "  _warn_prf(average, modifier, msg_start, len(result))\n",
            "/usr/local/lib/python3.10/dist-packages/sklearn/metrics/_classification.py:1344: UndefinedMetricWarning: Precision and F-score are ill-defined and being set to 0.0 in labels with no predicted samples. Use `zero_division` parameter to control this behavior.\n",
            "  _warn_prf(average, modifier, msg_start, len(result))\n",
            "/usr/local/lib/python3.10/dist-packages/sklearn/metrics/_classification.py:1344: UndefinedMetricWarning: Precision and F-score are ill-defined and being set to 0.0 in labels with no predicted samples. Use `zero_division` parameter to control this behavior.\n",
            "  _warn_prf(average, modifier, msg_start, len(result))\n",
            "/usr/local/lib/python3.10/dist-packages/sklearn/metrics/_classification.py:1344: UndefinedMetricWarning: Precision and F-score are ill-defined and being set to 0.0 in labels with no predicted samples. Use `zero_division` parameter to control this behavior.\n",
            "  _warn_prf(average, modifier, msg_start, len(result))\n",
            "/usr/local/lib/python3.10/dist-packages/sklearn/metrics/_classification.py:1344: UndefinedMetricWarning: Precision and F-score are ill-defined and being set to 0.0 in labels with no predicted samples. Use `zero_division` parameter to control this behavior.\n",
            "  _warn_prf(average, modifier, msg_start, len(result))\n",
            "/usr/local/lib/python3.10/dist-packages/sklearn/metrics/_classification.py:1344: UndefinedMetricWarning: Precision and F-score are ill-defined and being set to 0.0 in labels with no predicted samples. Use `zero_division` parameter to control this behavior.\n",
            "  _warn_prf(average, modifier, msg_start, len(result))\n"
          ]
        },
        {
          "output_type": "execute_result",
          "data": {
            "text/plain": [
              "TrainOutput(global_step=1550, training_loss=0.3319778762325164, metrics={'train_runtime': 672.5186, 'train_samples_per_second': 9.174, 'train_steps_per_second': 2.305, 'train_loss': 0.3319778762325164, 'epoch': 10.0})"
            ]
          },
          "metadata": {},
          "execution_count": 79
        }
      ]
    },
    {
      "cell_type": "code",
      "source": [
        "# Access the training logs\n",
        "train_logs = trainer.state.log_history\n",
        "\n",
        "# Extract the loss values from the logs\n",
        "train_loss_values = [log.get('loss') for log in train_logs if log.get('loss') is not None]\n",
        "eval_loss_values = [log.get('eval_loss') for log in train_logs if log.get('eval_loss') is not None]\n",
        "train_epochs = [log.get('epoch') for log in train_logs if log.get('loss') is not None]\n",
        "eval_epochs = [log.get('epoch') for log in train_logs if log.get('eval_loss') is not None]"
      ],
      "metadata": {
        "id": "Dd-3octehTlH",
        "execution": {
          "iopub.status.busy": "2023-07-06T18:42:00.347926Z",
          "iopub.status.idle": "2023-07-06T18:42:00.350724Z",
          "shell.execute_reply.started": "2023-07-06T18:42:00.350427Z",
          "shell.execute_reply": "2023-07-06T18:42:00.350456Z"
        },
        "trusted": true
      },
      "execution_count": null,
      "outputs": []
    },
    {
      "cell_type": "code",
      "source": [
        "train_logs"
      ],
      "metadata": {
        "id": "C7mO8pWYK-y3",
        "execution": {
          "iopub.status.busy": "2023-07-06T18:42:00.354243Z",
          "iopub.status.idle": "2023-07-06T18:42:00.357577Z",
          "shell.execute_reply.started": "2023-07-06T18:42:00.357281Z",
          "shell.execute_reply": "2023-07-06T18:42:00.357309Z"
        },
        "trusted": true,
        "colab": {
          "base_uri": "https://localhost:8080/"
        },
        "outputId": "82bb0d83-dc9a-4242-b76e-2aadf5d53dc3"
      },
      "execution_count": null,
      "outputs": [
        {
          "output_type": "execute_result",
          "data": {
            "text/plain": [
              "[{'loss': 0.5389, 'learning_rate': 4.5e-05, 'epoch': 1.0, 'step': 155},\n",
              " {'eval_loss': 0.3547051250934601,\n",
              "  'eval_sklearn_accuracy': 0.0,\n",
              "  'eval_roc_auc_micro': 0.5,\n",
              "  'eval_accuracy': 0.0,\n",
              "  'eval_micro_precision': 0.0,\n",
              "  'eval_micro_recall': 0.0,\n",
              "  'eval_micro_f': 0.0,\n",
              "  'eval_macro_precision': 0.0,\n",
              "  'eval_macro_recall': 0.0,\n",
              "  'eval_macro_f': 0.0,\n",
              "  'eval_runtime': 5.8632,\n",
              "  'eval_samples_per_second': 27.63,\n",
              "  'eval_steps_per_second': 6.993,\n",
              "  'epoch': 1.94,\n",
              "  'step': 300},\n",
              " {'loss': 0.3931, 'learning_rate': 4e-05, 'epoch': 2.0, 'step': 310},\n",
              " {'loss': 0.3382, 'learning_rate': 3.5e-05, 'epoch': 3.0, 'step': 465},\n",
              " {'eval_loss': 0.32011833786964417,\n",
              "  'eval_sklearn_accuracy': 0.012345679012345678,\n",
              "  'eval_roc_auc_micro': 0.5051282051282051,\n",
              "  'eval_accuracy': 0.010256410256410256,\n",
              "  'eval_micro_precision': 1.0,\n",
              "  'eval_micro_recall': 0.010256410256410256,\n",
              "  'eval_micro_f': 0.020304568527918784,\n",
              "  'eval_macro_precision': 0.125,\n",
              "  'eval_macro_recall': 0.0033333333333333335,\n",
              "  'eval_macro_f': 0.006493506493506494,\n",
              "  'eval_runtime': 5.847,\n",
              "  'eval_samples_per_second': 27.706,\n",
              "  'eval_steps_per_second': 7.012,\n",
              "  'epoch': 3.87,\n",
              "  'step': 600},\n",
              " {'loss': 0.3198, 'learning_rate': 3e-05, 'epoch': 4.0, 'step': 620},\n",
              " {'loss': 0.3062, 'learning_rate': 2.5e-05, 'epoch': 5.0, 'step': 775},\n",
              " {'eval_loss': 0.3051876127719879,\n",
              "  'eval_sklearn_accuracy': 0.35185185185185186,\n",
              "  'eval_roc_auc_micro': 0.6729686299168588,\n",
              "  'eval_accuracy': 0.3302325581395349,\n",
              "  'eval_micro_precision': 0.7802197802197802,\n",
              "  'eval_micro_recall': 0.3641025641025641,\n",
              "  'eval_micro_f': 0.4965034965034965,\n",
              "  'eval_macro_precision': 0.09752747252747253,\n",
              "  'eval_macro_recall': 0.11833333333333333,\n",
              "  'eval_macro_f': 0.10692771084337349,\n",
              "  'eval_runtime': 5.5889,\n",
              "  'eval_samples_per_second': 28.986,\n",
              "  'eval_steps_per_second': 7.336,\n",
              "  'epoch': 5.81,\n",
              "  'step': 900},\n",
              " {'loss': 0.2953, 'learning_rate': 2e-05, 'epoch': 6.0, 'step': 930},\n",
              " {'loss': 0.2899, 'learning_rate': 1.5e-05, 'epoch': 7.0, 'step': 1085},\n",
              " {'eval_loss': 0.30449503660202026,\n",
              "  'eval_sklearn_accuracy': 0.3395061728395062,\n",
              "  'eval_roc_auc_micro': 0.6643680570111089,\n",
              "  'eval_accuracy': 0.31336405529953915,\n",
              "  'eval_micro_precision': 0.7555555555555555,\n",
              "  'eval_micro_recall': 0.3487179487179487,\n",
              "  'eval_micro_f': 0.4771929824561402,\n",
              "  'eval_macro_precision': 0.09444444444444444,\n",
              "  'eval_macro_recall': 0.11333333333333333,\n",
              "  'eval_macro_f': 0.10303030303030303,\n",
              "  'eval_runtime': 6.0447,\n",
              "  'eval_samples_per_second': 26.8,\n",
              "  'eval_steps_per_second': 6.783,\n",
              "  'epoch': 7.74,\n",
              "  'step': 1200},\n",
              " {'loss': 0.2835, 'learning_rate': 1e-05, 'epoch': 8.0, 'step': 1240},\n",
              " {'loss': 0.2791, 'learning_rate': 5e-06, 'epoch': 9.0, 'step': 1395},\n",
              " {'eval_loss': 0.3020549416542053,\n",
              "  'eval_sklearn_accuracy': 0.3271604938271605,\n",
              "  'eval_roc_auc_micro': 0.6584922797456857,\n",
              "  'eval_accuracy': 0.3051643192488263,\n",
              "  'eval_micro_precision': 0.7831325301204819,\n",
              "  'eval_micro_recall': 0.3333333333333333,\n",
              "  'eval_micro_f': 0.4676258992805755,\n",
              "  'eval_macro_precision': 0.09789156626506024,\n",
              "  'eval_macro_recall': 0.10833333333333334,\n",
              "  'eval_macro_f': 0.10284810126582279,\n",
              "  'eval_runtime': 5.8444,\n",
              "  'eval_samples_per_second': 27.719,\n",
              "  'eval_steps_per_second': 7.015,\n",
              "  'epoch': 9.68,\n",
              "  'step': 1500},\n",
              " {'loss': 0.2758, 'learning_rate': 0.0, 'epoch': 10.0, 'step': 1550},\n",
              " {'train_runtime': 672.5186,\n",
              "  'train_samples_per_second': 9.174,\n",
              "  'train_steps_per_second': 2.305,\n",
              "  'total_flos': 1625640075939840.0,\n",
              "  'train_loss': 0.3319778762325164,\n",
              "  'epoch': 10.0,\n",
              "  'step': 1550}]"
            ]
          },
          "metadata": {},
          "execution_count": 81
        }
      ]
    },
    {
      "cell_type": "code",
      "source": [
        "plot_loss_curve(train_loss_values, eval_loss_values, loss_epochs, eval_epochs,\"loss\", f\"{model_config['model_name']}_loss.png\")"
      ],
      "metadata": {
        "id": "ECEu3ajRl6k3",
        "execution": {
          "iopub.status.busy": "2023-07-06T18:42:00.359108Z",
          "iopub.status.idle": "2023-07-06T18:42:00.359965Z",
          "shell.execute_reply.started": "2023-07-06T18:42:00.359696Z",
          "shell.execute_reply": "2023-07-06T18:42:00.359721Z"
        },
        "trusted": true,
        "colab": {
          "base_uri": "https://localhost:8080/",
          "height": 81
        },
        "outputId": "477aa600-2eb3-43a7-c79e-a1d57559ddcb"
      },
      "execution_count": null,
      "outputs": [
        {
          "output_type": "display_data",
          "data": {
            "text/plain": [
              "\u001b[31m╭─\u001b[0m\u001b[31m──────────────────────────────\u001b[0m\u001b[31m \u001b[0m\u001b[1;31mTraceback \u001b[0m\u001b[1;2;31m(most recent call last)\u001b[0m\u001b[31m \u001b[0m\u001b[31m───────────────────────────────\u001b[0m\u001b[31m─╮\u001b[0m\n",
              "\u001b[31m│\u001b[0m in \u001b[92m<cell line: 1>\u001b[0m:\u001b[94m1\u001b[0m                                                                              \u001b[31m│\u001b[0m\n",
              "\u001b[31m╰──────────────────────────────────────────────────────────────────────────────────────────────────╯\u001b[0m\n",
              "\u001b[1;91mNameError: \u001b[0mname \u001b[32m'loss_epochs'\u001b[0m is not defined\n"
            ],
            "text/html": [
              "<pre style=\"white-space:pre;overflow-x:auto;line-height:normal;font-family:Menlo,'DejaVu Sans Mono',consolas,'Courier New',monospace\"><span style=\"color: #800000; text-decoration-color: #800000\">╭─────────────────────────────── </span><span style=\"color: #800000; text-decoration-color: #800000; font-weight: bold\">Traceback </span><span style=\"color: #bf7f7f; text-decoration-color: #bf7f7f; font-weight: bold\">(most recent call last)</span><span style=\"color: #800000; text-decoration-color: #800000\"> ────────────────────────────────╮</span>\n",
              "<span style=\"color: #800000; text-decoration-color: #800000\">│</span> in <span style=\"color: #00ff00; text-decoration-color: #00ff00\">&lt;cell line: 1&gt;</span>:<span style=\"color: #0000ff; text-decoration-color: #0000ff\">1</span>                                                                              <span style=\"color: #800000; text-decoration-color: #800000\">│</span>\n",
              "<span style=\"color: #800000; text-decoration-color: #800000\">╰──────────────────────────────────────────────────────────────────────────────────────────────────╯</span>\n",
              "<span style=\"color: #ff0000; text-decoration-color: #ff0000; font-weight: bold\">NameError: </span>name <span style=\"color: #008000; text-decoration-color: #008000\">'loss_epochs'</span> is not defined\n",
              "</pre>\n"
            ]
          },
          "metadata": {}
        }
      ]
    },
    {
      "cell_type": "markdown",
      "source": [
        "## Evaluation"
      ],
      "metadata": {
        "id": "Rc5stfSah0Kj"
      }
    },
    {
      "cell_type": "code",
      "source": [
        "def predict_emotions(results, gold_emotions):\n",
        "\n",
        "  binarized_predictions = np.where(results.predictions >= 0.5, 1, 0)\n",
        "\n",
        "  for i, bin_pred in enumerate(binarized_predictions):\n",
        "    if np.all(bin_pred==0):\n",
        "      binarized_predictions[i][np.argmax(results.predictions[i])] = 1\n",
        "\n",
        "  predicted_emotions = label_encoder.decode(binarized_predictions)\n",
        "  return predicted_emotions\n"
      ],
      "metadata": {
        "id": "19G80dVoH3HZ",
        "execution": {
          "iopub.status.busy": "2023-07-06T18:42:00.367790Z",
          "iopub.status.idle": "2023-07-06T18:42:00.368657Z",
          "shell.execute_reply.started": "2023-07-06T18:42:00.368396Z",
          "shell.execute_reply": "2023-07-06T18:42:00.368420Z"
        },
        "trusted": true
      },
      "execution_count": null,
      "outputs": []
    },
    {
      "cell_type": "code",
      "source": [
        "trainer.state.best_model_checkpoint"
      ],
      "metadata": {
        "id": "2YlWuaKoRH5r",
        "execution": {
          "iopub.status.busy": "2023-07-06T18:42:00.370248Z",
          "iopub.status.idle": "2023-07-06T18:42:00.371093Z",
          "shell.execute_reply.started": "2023-07-06T18:42:00.370825Z",
          "shell.execute_reply": "2023-07-06T18:42:00.370850Z"
        },
        "trusted": true,
        "colab": {
          "base_uri": "https://localhost:8080/",
          "height": 36
        },
        "outputId": "8c401328-0ff3-41e1-8c76-c13a71a07345"
      },
      "execution_count": null,
      "outputs": [
        {
          "output_type": "execute_result",
          "data": {
            "text/plain": [
              "'./bert-base-cased/checkpoint-1500'"
            ],
            "application/vnd.google.colaboratory.intrinsic+json": {
              "type": "string"
            }
          },
          "metadata": {},
          "execution_count": 84
        }
      ]
    },
    {
      "cell_type": "code",
      "source": [
        "outs = trainer.predict(dev_set)"
      ],
      "metadata": {
        "id": "S35gRAI-D8cY",
        "execution": {
          "iopub.status.busy": "2023-07-06T18:42:00.372638Z",
          "iopub.status.idle": "2023-07-06T18:42:00.373520Z",
          "shell.execute_reply.started": "2023-07-06T18:42:00.373240Z",
          "shell.execute_reply": "2023-07-06T18:42:00.373266Z"
        },
        "trusted": true,
        "colab": {
          "base_uri": "https://localhost:8080/",
          "height": 72
        },
        "outputId": "aa123d5b-fcdb-4342-d223-f2304c21c7f6"
      },
      "execution_count": null,
      "outputs": [
        {
          "output_type": "display_data",
          "data": {
            "text/plain": [
              "<IPython.core.display.HTML object>"
            ],
            "text/html": []
          },
          "metadata": {}
        },
        {
          "output_type": "stream",
          "name": "stderr",
          "text": [
            "/usr/local/lib/python3.10/dist-packages/sklearn/metrics/_classification.py:1344: UndefinedMetricWarning: Precision and F-score are ill-defined and being set to 0.0 in labels with no predicted samples. Use `zero_division` parameter to control this behavior.\n",
            "  _warn_prf(average, modifier, msg_start, len(result))\n"
          ]
        }
      ]
    },
    {
      "cell_type": "code",
      "source": [
        "gold_emotions = gold_emotions = label_encoder.decode(outs.label_ids)\n",
        "predicted_emotions = predict_emotions(outs, gold_emotions)"
      ],
      "metadata": {
        "id": "PIKGrBNlYDa1",
        "execution": {
          "iopub.status.busy": "2023-07-06T18:42:00.375053Z",
          "iopub.status.idle": "2023-07-06T18:42:00.375932Z",
          "shell.execute_reply.started": "2023-07-06T18:42:00.375656Z",
          "shell.execute_reply": "2023-07-06T18:42:00.375682Z"
        },
        "trusted": true
      },
      "execution_count": null,
      "outputs": []
    },
    {
      "cell_type": "code",
      "source": [
        "write_EMO_predictions(predicted_emotions, model_config['model_id']+\"_predictions_EMO.tsv\")\n",
        "challenge_metrics = compute_EMO_metrics(golds=gold_emotions, predictions=predicted_emotions)\n",
        "write_dict_to_json(challenge_metrics, model_config['model_id']+\"_dev_metrics.json\")\n",
        "challenge_metrics"
      ],
      "metadata": {
        "id": "Im2VGnmQs7bY",
        "execution": {
          "iopub.status.busy": "2023-07-06T18:42:00.384473Z",
          "iopub.status.idle": "2023-07-06T18:42:00.385530Z",
          "shell.execute_reply.started": "2023-07-06T18:42:00.385219Z",
          "shell.execute_reply": "2023-07-06T18:42:00.385250Z"
        },
        "trusted": true,
        "colab": {
          "base_uri": "https://localhost:8080/"
        },
        "outputId": "e822a526-eb52-4efe-d735-45b100226906"
      },
      "execution_count": null,
      "outputs": [
        {
          "output_type": "stream",
          "name": "stderr",
          "text": [
            "/usr/local/lib/python3.10/dist-packages/sklearn/metrics/_classification.py:1344: UndefinedMetricWarning: Precision and F-score are ill-defined and being set to 0.0 in labels with no predicted samples. Use `zero_division` parameter to control this behavior.\n",
            "  _warn_prf(average, modifier, msg_start, len(result))\n"
          ]
        },
        {
          "output_type": "execute_result",
          "data": {
            "text/plain": [
              "{'micro_recall': 0.5407,\n",
              " 'micro_precision': 0.6394,\n",
              " 'micro_f': 0.5859,\n",
              " 'macro_recall': 0.2131,\n",
              " 'macro_precision': 0.1574,\n",
              " 'macro_F': 0.1783,\n",
              " 'accuracy': 0.4143}"
            ]
          },
          "metadata": {},
          "execution_count": 87
        }
      ]
    },
    {
      "cell_type": "code",
      "source": [
        "plot_confusion_matrix(golds=gold_emotions, predictions=predicted_emotions, path=model_config['model_id']+\"_confusion_matrix.pdf\", title=model_config['model_id'])"
      ],
      "metadata": {
        "id": "ITunC36XXLoN",
        "execution": {
          "iopub.status.busy": "2023-07-06T18:42:00.387124Z",
          "iopub.status.idle": "2023-07-06T18:42:00.388005Z",
          "shell.execute_reply.started": "2023-07-06T18:42:00.387717Z",
          "shell.execute_reply": "2023-07-06T18:42:00.387743Z"
        },
        "trusted": true,
        "colab": {
          "base_uri": "https://localhost:8080/",
          "height": 707
        },
        "outputId": "83a62616-aac8-4aee-fdb2-c100db2f3f44"
      },
      "execution_count": null,
      "outputs": [
        {
          "output_type": "display_data",
          "data": {
            "text/plain": [
              "<Figure size 1000x700 with 2 Axes>"
            ],
            "image/png": "[encoded data removed]"
          },
          "metadata": {}
        }
      ]
    },
    {
      "cell_type": "code",
      "source": [
        "plot_model_graph(model=model, input_data=tokenizer(\"Hello world!\", return_tensors=\"pt\"), path=model_config['model_id']+\"_graph\")"
      ],
      "metadata": {
        "id": "TJHxnmO7v8SJ",
        "execution": {
          "iopub.status.busy": "2023-07-06T18:42:00.389528Z",
          "iopub.status.idle": "2023-07-06T18:42:00.390408Z",
          "shell.execute_reply.started": "2023-07-06T18:42:00.390119Z",
          "shell.execute_reply": "2023-07-06T18:42:00.390161Z"
        },
        "trusted": true
      },
      "execution_count": null,
      "outputs": []
    },
    {
      "cell_type": "code",
      "source": [
        "print_model_summary(model=model, path=model_config['model_id']+\"_summary.txt\")"
      ],
      "metadata": {
        "id": "K33Q2SfFwR30",
        "execution": {
          "iopub.status.busy": "2023-07-06T18:42:00.391912Z",
          "iopub.status.idle": "2023-07-06T18:42:00.392776Z",
          "shell.execute_reply.started": "2023-07-06T18:42:00.392500Z",
          "shell.execute_reply": "2023-07-06T18:42:00.392526Z"
        },
        "trusted": true,
        "colab": {
          "base_uri": "https://localhost:8080/"
        },
        "outputId": "82ca98e0-4efe-4bb6-f122-26607ce12c4e"
      },
      "execution_count": null,
      "outputs": [
        {
          "output_type": "stream",
          "name": "stdout",
          "text": [
            "=================================================================\n",
            "Layer (type:depth-idx)                   Param #\n",
            "=================================================================\n",
            "├─BertModel: 1-1                         --\n",
            "|    └─BertEmbeddings: 2-1               --\n",
            "|    |    └─Embedding: 3-1               22,268,928\n",
            "|    |    └─Embedding: 3-2               393,216\n",
            "|    |    └─Embedding: 3-3               1,536\n",
            "|    |    └─LayerNorm: 3-4               1,536\n",
            "|    |    └─Dropout: 3-5                 --\n",
            "|    └─BertEncoder: 2-2                  --\n",
            "|    |    └─ModuleList: 3-6              85,054,464\n",
            "|    └─BertPooler: 2-3                   --\n",
            "|    |    └─Linear: 3-7                  590,592\n",
            "|    |    └─Tanh: 3-8                    --\n",
            "├─Dropout: 1-2                           --\n",
            "├─Linear: 1-3                            118,734\n",
            "├─Linear: 1-4                            1,240\n",
            "├─Tanh: 1-5                              --\n",
            "=================================================================\n",
            "Total params: 108,430,246\n",
            "Trainable params: 108,430,246\n",
            "Non-trainable params: 0\n",
            "=================================================================\n"
          ]
        }
      ]
    },
    {
      "cell_type": "code",
      "source": [
        "len(predicted_emotions)"
      ],
      "metadata": {
        "colab": {
          "base_uri": "https://localhost:8080/"
        },
        "id": "AS6qK0VQNnVw",
        "outputId": "1740fa30-3589-4f2f-e564-102f110b739a"
      },
      "execution_count": null,
      "outputs": [
        {
          "output_type": "execute_result",
          "data": {
            "text/plain": [
              "208"
            ]
          },
          "metadata": {},
          "execution_count": 90
        }
      ]
    },
    {
      "cell_type": "code",
      "source": [
        "# Define the desired label names\n",
        "label_names = ['Anger', 'Disgust', 'Fear', 'Hope', 'Joy', 'Neutral', 'Sadness', 'Surprise']\n",
        "\n",
        "# Compute the confusion matrix\n",
        "cm = confusion_matrix(gold_emotions, predicted_emotions, labels=label_names)\n",
        "\n",
        "# Plot the confusion matrix\n",
        "fig, ax = plt.subplots()\n",
        "im = ax.imshow(cm, cmap='Blues')\n",
        "\n",
        "# Customize the plot\n",
        "ax.set_xticks(np.arange(len(label_names)))\n",
        "ax.set_yticks(np.arange(len(label_names)))\n",
        "ax.set_xticklabels(label_names, rotation=45)\n",
        "ax.set_yticklabels(label_names)\n",
        "plt.xlabel(\"Predicted\")\n",
        "plt.ylabel(\"True\")\n",
        "plt.title(\"Confusion Matrix\")\n",
        "\n",
        "# Add colorbar\n",
        "cbar = ax.figure.colorbar(im, ax=ax)\n",
        "\n",
        "# Show the plot\n",
        "plt.tight_layout()\n",
        "plt.show()"
      ],
      "metadata": {
        "execution": {
          "iopub.status.busy": "2023-07-06T18:42:00.424966Z",
          "iopub.status.idle": "2023-07-06T18:42:00.425882Z",
          "shell.execute_reply.started": "2023-07-06T18:42:00.425574Z",
          "shell.execute_reply": "2023-07-06T18:42:00.425600Z"
        },
        "trusted": true,
        "colab": {
          "base_uri": "https://localhost:8080/",
          "height": 487
        },
        "id": "g0l0yly8ha4F",
        "outputId": "2a7071ed-551c-4db5-f1d7-3653cd0247b1"
      },
      "execution_count": null,
      "outputs": [
        {
          "output_type": "display_data",
          "data": {
            "text/plain": [
              "<Figure size 640x480 with 2 Axes>"
            ],
            "image/png": "[encoded data removed]"
          },
          "metadata": {}
        }
      ]
    },
    {
      "cell_type": "markdown",
      "source": [
        "## Save model on Google Drive"
      ],
      "metadata": {
        "id": "7DuCaju6tSHB"
      }
    },
    {
      "cell_type": "code",
      "source": [
        "#trainer.state.best_model_checkpoint"
      ],
      "metadata": {
        "id": "QtK-k5ITtRzN",
        "execution": {
          "iopub.status.busy": "2023-07-06T18:42:00.401020Z",
          "iopub.status.idle": "2023-07-06T18:42:00.401918Z",
          "shell.execute_reply.started": "2023-07-06T18:42:00.401627Z",
          "shell.execute_reply": "2023-07-06T18:42:00.401655Z"
        },
        "trusted": true
      },
      "execution_count": null,
      "outputs": []
    },
    {
      "cell_type": "code",
      "source": [
        "#!mv $trainer.state.best_model_checkpoint /content/drive/MyDrive/hlt"
      ],
      "metadata": {
        "id": "b1KcxQQ0uUl6",
        "execution": {
          "iopub.status.busy": "2023-07-06T18:42:00.403443Z",
          "iopub.status.idle": "2023-07-06T18:42:00.404312Z",
          "shell.execute_reply.started": "2023-07-06T18:42:00.404020Z",
          "shell.execute_reply": "2023-07-06T18:42:00.404045Z"
        },
        "trusted": true
      },
      "execution_count": null,
      "outputs": []
    },
    {
      "cell_type": "markdown",
      "source": [
        "## Inference"
      ],
      "metadata": {
        "id": "9pkHv9w4tM1F"
      }
    },
    {
      "cell_type": "code",
      "source": [
        "MODEL_PATH = \"/content/drive/MyDrive/hlt/best-roberta\""
      ],
      "metadata": {
        "id": "v6hEtBLztMeC",
        "execution": {
          "iopub.status.busy": "2023-07-06T18:42:00.405878Z",
          "iopub.status.idle": "2023-07-06T18:42:00.406758Z",
          "shell.execute_reply.started": "2023-07-06T18:42:00.406488Z",
          "shell.execute_reply": "2023-07-06T18:42:00.406514Z"
        },
        "trusted": true
      },
      "execution_count": null,
      "outputs": []
    },
    {
      "cell_type": "code",
      "source": [
        "tokenizer = AutoTokenizer.from_pretrained(MODEL_PATH, truncation=True)\n",
        "model = AutoModelForSequenceClassification.from_pretrained(\n",
        "    MODEL_PATH,\n",
        "    num_labels=NUM_LABELS,\n",
        "    ignore_mismatched_sizes=True,\n",
        "    problem_type=\"multi_label_classification\")"
      ],
      "metadata": {
        "id": "hWFw9keWvCy3",
        "execution": {
          "iopub.status.busy": "2023-07-06T18:42:00.408311Z",
          "iopub.status.idle": "2023-07-06T18:42:00.409216Z",
          "shell.execute_reply.started": "2023-07-06T18:42:00.408917Z",
          "shell.execute_reply": "2023-07-06T18:42:00.408943Z"
        },
        "trusted": true
      },
      "execution_count": null,
      "outputs": []
    },
    {
      "cell_type": "markdown",
      "source": [
        "load checkpoint"
      ],
      "metadata": {
        "id": "Xi38gs-o1IGp"
      }
    },
    {
      "cell_type": "code",
      "source": [
        "# Load the checkpoint file\n",
        "checkpoint_file = \"./bert-base-cased/checkpoint-1200\"\n",
        "#model = AutoModelForSequenceClassification.from_pretrained(checkpoint_file, num_labels=NUM_LABELS)\n",
        "model = BertLexicon.from_pretrained(checkpoint_file, num_labels=NUM_LABELS)\n",
        "trainer = Trainer(model=model)\n",
        "# Perform prediction using the loaded checkpoint\n",
        "predictions = trainer.predict(dev_set)"
      ],
      "metadata": {
        "id": "ncPpGans0XIG",
        "execution": {
          "iopub.status.busy": "2023-07-06T18:42:00.410821Z",
          "iopub.status.idle": "2023-07-06T18:42:00.418539Z",
          "shell.execute_reply.started": "2023-07-06T18:42:00.418244Z",
          "shell.execute_reply": "2023-07-06T18:42:00.418271Z"
        },
        "trusted": true
      },
      "execution_count": null,
      "outputs": []
    },
    {
      "cell_type": "code",
      "source": [
        "gold_emotions = label_encoder.decode(predictions.label_ids)\n",
        "predicted_emotions = predict_emotions(predictions, gold_emotions)"
      ],
      "metadata": {
        "id": "dOOGuVrJ00R2",
        "execution": {
          "iopub.status.busy": "2023-07-06T18:42:00.420102Z",
          "iopub.status.idle": "2023-07-06T18:42:00.420984Z",
          "shell.execute_reply.started": "2023-07-06T18:42:00.420699Z",
          "shell.execute_reply": "2023-07-06T18:42:00.420724Z"
        },
        "trusted": true
      },
      "execution_count": null,
      "outputs": []
    },
    {
      "cell_type": "code",
      "source": [
        "write_EMO_predictions(predicted_emotions, model_config['model_id']+\"_predictions_EMO.tsv\")\n",
        "challenge_metrics = compute_EMO_metrics(golds=gold_emotions, predictions=predicted_emotions)\n",
        "write_dict_to_json(challenge_metrics, model_config['model_id']+\"_dev_metrics.json\")\n",
        "challenge_metrics"
      ],
      "metadata": {
        "id": "rWWcct0E06bQ",
        "execution": {
          "iopub.status.busy": "2023-07-06T18:42:00.422517Z",
          "iopub.status.idle": "2023-07-06T18:42:00.423411Z",
          "shell.execute_reply.started": "2023-07-06T18:42:00.423121Z",
          "shell.execute_reply": "2023-07-06T18:42:00.423166Z"
        },
        "trusted": true
      },
      "execution_count": null,
      "outputs": []
    }
  ]
}