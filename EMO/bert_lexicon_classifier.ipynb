{
  "metadata": {
    "accelerator": "GPU",
    "colab": {
      "gpuType": "T4",
      "provenance": []
    },
    "kernelspec": {
      "name": "python3",
      "display_name": "Python 3",
      "language": "python"
    },
    "language_info": {
      "name": "python",
      "version": "3.10.12",
      "mimetype": "text/x-python",
      "codemirror_mode": {
        "name": "ipython",
        "version": 3
      },
      "pygments_lexer": "ipython3",
      "nbconvert_exporter": "python",
      "file_extension": ".py"
    },
    "widgets": {
      "application/vnd.jupyter.widget-state+json": {
        "bc66fe3498cf4ee49875074b5a0b930d": {
          "model_module": "@jupyter-widgets/controls",
          "model_name": "HBoxModel",
          "model_module_version": "1.5.0",
          "state": {
            "_dom_classes": [],
            "_model_module": "@jupyter-widgets/controls",
            "_model_module_version": "1.5.0",
            "_model_name": "HBoxModel",
            "_view_count": null,
            "_view_module": "@jupyter-widgets/controls",
            "_view_module_version": "1.5.0",
            "_view_name": "HBoxView",
            "box_style": "",
            "children": [
              "IPY_MODEL_636d597e9d9047608401c337b3188fea",
              "IPY_MODEL_2ffd6f631b68404e989f04eebc144739",
              "IPY_MODEL_e661cf694e19494dbdc9bbada898fe41"
            ],
            "layout": "IPY_MODEL_2e1e45bf770b4d4fa97beb06c3f4d405"
          }
        },
        "636d597e9d9047608401c337b3188fea": {
          "model_module": "@jupyter-widgets/controls",
          "model_name": "HTMLModel",
          "model_module_version": "1.5.0",
          "state": {
            "_dom_classes": [],
            "_model_module": "@jupyter-widgets/controls",
            "_model_module_version": "1.5.0",
            "_model_name": "HTMLModel",
            "_view_count": null,
            "_view_module": "@jupyter-widgets/controls",
            "_view_module_version": "1.5.0",
            "_view_name": "HTMLView",
            "description": "",
            "description_tooltip": null,
            "layout": "IPY_MODEL_9f17484abbcb4f218830e7e0cbabc4a0",
            "placeholder": "​",
            "style": "IPY_MODEL_2045e20a53a24976874c7db3dd27b60e",
            "value": "Downloading (…)okenizer_config.json: 100%"
          }
        },
        "2ffd6f631b68404e989f04eebc144739": {
          "model_module": "@jupyter-widgets/controls",
          "model_name": "FloatProgressModel",
          "model_module_version": "1.5.0",
          "state": {
            "_dom_classes": [],
            "_model_module": "@jupyter-widgets/controls",
            "_model_module_version": "1.5.0",
            "_model_name": "FloatProgressModel",
            "_view_count": null,
            "_view_module": "@jupyter-widgets/controls",
            "_view_module_version": "1.5.0",
            "_view_name": "ProgressView",
            "bar_style": "success",
            "description": "",
            "description_tooltip": null,
            "layout": "IPY_MODEL_c0abce67c0d64ab5ad965c894013d612",
            "max": 29,
            "min": 0,
            "orientation": "horizontal",
            "style": "IPY_MODEL_2e8c33199b544517b620f3bca5a07f5d",
            "value": 29
          }
        },
        "e661cf694e19494dbdc9bbada898fe41": {
          "model_module": "@jupyter-widgets/controls",
          "model_name": "HTMLModel",
          "model_module_version": "1.5.0",
          "state": {
            "_dom_classes": [],
            "_model_module": "@jupyter-widgets/controls",
            "_model_module_version": "1.5.0",
            "_model_name": "HTMLModel",
            "_view_count": null,
            "_view_module": "@jupyter-widgets/controls",
            "_view_module_version": "1.5.0",
            "_view_name": "HTMLView",
            "description": "",
            "description_tooltip": null,
            "layout": "IPY_MODEL_0c3ddbf063b1414e9de30210a88ef58d",
            "placeholder": "​",
            "style": "IPY_MODEL_37c9f12d61534cfca9854f8a361aab5b",
            "value": " 29.0/29.0 [00:00&lt;00:00, 1.76kB/s]"
          }
        },
        "2e1e45bf770b4d4fa97beb06c3f4d405": {
          "model_module": "@jupyter-widgets/base",
          "model_name": "LayoutModel",
          "model_module_version": "1.2.0",
          "state": {
            "_model_module": "@jupyter-widgets/base",
            "_model_module_version": "1.2.0",
            "_model_name": "LayoutModel",
            "_view_count": null,
            "_view_module": "@jupyter-widgets/base",
            "_view_module_version": "1.2.0",
            "_view_name": "LayoutView",
            "align_content": null,
            "align_items": null,
            "align_self": null,
            "border": null,
            "bottom": null,
            "display": null,
            "flex": null,
            "flex_flow": null,
            "grid_area": null,
            "grid_auto_columns": null,
            "grid_auto_flow": null,
            "grid_auto_rows": null,
            "grid_column": null,
            "grid_gap": null,
            "grid_row": null,
            "grid_template_areas": null,
            "grid_template_columns": null,
            "grid_template_rows": null,
            "height": null,
            "justify_content": null,
            "justify_items": null,
            "left": null,
            "margin": null,
            "max_height": null,
            "max_width": null,
            "min_height": null,
            "min_width": null,
            "object_fit": null,
            "object_position": null,
            "order": null,
            "overflow": null,
            "overflow_x": null,
            "overflow_y": null,
            "padding": null,
            "right": null,
            "top": null,
            "visibility": null,
            "width": null
          }
        },
        "9f17484abbcb4f218830e7e0cbabc4a0": {
          "model_module": "@jupyter-widgets/base",
          "model_name": "LayoutModel",
          "model_module_version": "1.2.0",
          "state": {
            "_model_module": "@jupyter-widgets/base",
            "_model_module_version": "1.2.0",
            "_model_name": "LayoutModel",
            "_view_count": null,
            "_view_module": "@jupyter-widgets/base",
            "_view_module_version": "1.2.0",
            "_view_name": "LayoutView",
            "align_content": null,
            "align_items": null,
            "align_self": null,
            "border": null,
            "bottom": null,
            "display": null,
            "flex": null,
            "flex_flow": null,
            "grid_area": null,
            "grid_auto_columns": null,
            "grid_auto_flow": null,
            "grid_auto_rows": null,
            "grid_column": null,
            "grid_gap": null,
            "grid_row": null,
            "grid_template_areas": null,
            "grid_template_columns": null,
            "grid_template_rows": null,
            "height": null,
            "justify_content": null,
            "justify_items": null,
            "left": null,
            "margin": null,
            "max_height": null,
            "max_width": null,
            "min_height": null,
            "min_width": null,
            "object_fit": null,
            "object_position": null,
            "order": null,
            "overflow": null,
            "overflow_x": null,
            "overflow_y": null,
            "padding": null,
            "right": null,
            "top": null,
            "visibility": null,
            "width": null
          }
        },
        "2045e20a53a24976874c7db3dd27b60e": {
          "model_module": "@jupyter-widgets/controls",
          "model_name": "DescriptionStyleModel",
          "model_module_version": "1.5.0",
          "state": {
            "_model_module": "@jupyter-widgets/controls",
            "_model_module_version": "1.5.0",
            "_model_name": "DescriptionStyleModel",
            "_view_count": null,
            "_view_module": "@jupyter-widgets/base",
            "_view_module_version": "1.2.0",
            "_view_name": "StyleView",
            "description_width": ""
          }
        },
        "c0abce67c0d64ab5ad965c894013d612": {
          "model_module": "@jupyter-widgets/base",
          "model_name": "LayoutModel",
          "model_module_version": "1.2.0",
          "state": {
            "_model_module": "@jupyter-widgets/base",
            "_model_module_version": "1.2.0",
            "_model_name": "LayoutModel",
            "_view_count": null,
            "_view_module": "@jupyter-widgets/base",
            "_view_module_version": "1.2.0",
            "_view_name": "LayoutView",
            "align_content": null,
            "align_items": null,
            "align_self": null,
            "border": null,
            "bottom": null,
            "display": null,
            "flex": null,
            "flex_flow": null,
            "grid_area": null,
            "grid_auto_columns": null,
            "grid_auto_flow": null,
            "grid_auto_rows": null,
            "grid_column": null,
            "grid_gap": null,
            "grid_row": null,
            "grid_template_areas": null,
            "grid_template_columns": null,
            "grid_template_rows": null,
            "height": null,
            "justify_content": null,
            "justify_items": null,
            "left": null,
            "margin": null,
            "max_height": null,
            "max_width": null,
            "min_height": null,
            "min_width": null,
            "object_fit": null,
            "object_position": null,
            "order": null,
            "overflow": null,
            "overflow_x": null,
            "overflow_y": null,
            "padding": null,
            "right": null,
            "top": null,
            "visibility": null,
            "width": null
          }
        },
        "2e8c33199b544517b620f3bca5a07f5d": {
          "model_module": "@jupyter-widgets/controls",
          "model_name": "ProgressStyleModel",
          "model_module_version": "1.5.0",
          "state": {
            "_model_module": "@jupyter-widgets/controls",
            "_model_module_version": "1.5.0",
            "_model_name": "ProgressStyleModel",
            "_view_count": null,
            "_view_module": "@jupyter-widgets/base",
            "_view_module_version": "1.2.0",
            "_view_name": "StyleView",
            "bar_color": null,
            "description_width": ""
          }
        },
        "0c3ddbf063b1414e9de30210a88ef58d": {
          "model_module": "@jupyter-widgets/base",
          "model_name": "LayoutModel",
          "model_module_version": "1.2.0",
          "state": {
            "_model_module": "@jupyter-widgets/base",
            "_model_module_version": "1.2.0",
            "_model_name": "LayoutModel",
            "_view_count": null,
            "_view_module": "@jupyter-widgets/base",
            "_view_module_version": "1.2.0",
            "_view_name": "LayoutView",
            "align_content": null,
            "align_items": null,
            "align_self": null,
            "border": null,
            "bottom": null,
            "display": null,
            "flex": null,
            "flex_flow": null,
            "grid_area": null,
            "grid_auto_columns": null,
            "grid_auto_flow": null,
            "grid_auto_rows": null,
            "grid_column": null,
            "grid_gap": null,
            "grid_row": null,
            "grid_template_areas": null,
            "grid_template_columns": null,
            "grid_template_rows": null,
            "height": null,
            "justify_content": null,
            "justify_items": null,
            "left": null,
            "margin": null,
            "max_height": null,
            "max_width": null,
            "min_height": null,
            "min_width": null,
            "object_fit": null,
            "object_position": null,
            "order": null,
            "overflow": null,
            "overflow_x": null,
            "overflow_y": null,
            "padding": null,
            "right": null,
            "top": null,
            "visibility": null,
            "width": null
          }
        },
        "37c9f12d61534cfca9854f8a361aab5b": {
          "model_module": "@jupyter-widgets/controls",
          "model_name": "DescriptionStyleModel",
          "model_module_version": "1.5.0",
          "state": {
            "_model_module": "@jupyter-widgets/controls",
            "_model_module_version": "1.5.0",
            "_model_name": "DescriptionStyleModel",
            "_view_count": null,
            "_view_module": "@jupyter-widgets/base",
            "_view_module_version": "1.2.0",
            "_view_name": "StyleView",
            "description_width": ""
          }
        },
        "a229971f65374936874bc31db82bdc9d": {
          "model_module": "@jupyter-widgets/controls",
          "model_name": "HBoxModel",
          "model_module_version": "1.5.0",
          "state": {
            "_dom_classes": [],
            "_model_module": "@jupyter-widgets/controls",
            "_model_module_version": "1.5.0",
            "_model_name": "HBoxModel",
            "_view_count": null,
            "_view_module": "@jupyter-widgets/controls",
            "_view_module_version": "1.5.0",
            "_view_name": "HBoxView",
            "box_style": "",
            "children": [
              "IPY_MODEL_80ed7dd3154447baa6191cad98b71b83",
              "IPY_MODEL_a00a16c485c246d48c05b941349d8f1a",
              "IPY_MODEL_8f5863817714445d9fefee6dbe61ee1a"
            ],
            "layout": "IPY_MODEL_ca1d677286d04ef28a7a25cc31bb728b"
          }
        },
        "80ed7dd3154447baa6191cad98b71b83": {
          "model_module": "@jupyter-widgets/controls",
          "model_name": "HTMLModel",
          "model_module_version": "1.5.0",
          "state": {
            "_dom_classes": [],
            "_model_module": "@jupyter-widgets/controls",
            "_model_module_version": "1.5.0",
            "_model_name": "HTMLModel",
            "_view_count": null,
            "_view_module": "@jupyter-widgets/controls",
            "_view_module_version": "1.5.0",
            "_view_name": "HTMLView",
            "description": "",
            "description_tooltip": null,
            "layout": "IPY_MODEL_7e8c66b945224664bdacf25957b99204",
            "placeholder": "​",
            "style": "IPY_MODEL_272b428dc65347b79b8ffdaaca2cf78a",
            "value": "Downloading (…)lve/main/config.json: 100%"
          }
        },
        "a00a16c485c246d48c05b941349d8f1a": {
          "model_module": "@jupyter-widgets/controls",
          "model_name": "FloatProgressModel",
          "model_module_version": "1.5.0",
          "state": {
            "_dom_classes": [],
            "_model_module": "@jupyter-widgets/controls",
            "_model_module_version": "1.5.0",
            "_model_name": "FloatProgressModel",
            "_view_count": null,
            "_view_module": "@jupyter-widgets/controls",
            "_view_module_version": "1.5.0",
            "_view_name": "ProgressView",
            "bar_style": "success",
            "description": "",
            "description_tooltip": null,
            "layout": "IPY_MODEL_0a56988e6f154a52918d2cc03d390be7",
            "max": 570,
            "min": 0,
            "orientation": "horizontal",
            "style": "IPY_MODEL_f136993b21f344518d47311d7ffc067f",
            "value": 570
          }
        },
        "8f5863817714445d9fefee6dbe61ee1a": {
          "model_module": "@jupyter-widgets/controls",
          "model_name": "HTMLModel",
          "model_module_version": "1.5.0",
          "state": {
            "_dom_classes": [],
            "_model_module": "@jupyter-widgets/controls",
            "_model_module_version": "1.5.0",
            "_model_name": "HTMLModel",
            "_view_count": null,
            "_view_module": "@jupyter-widgets/controls",
            "_view_module_version": "1.5.0",
            "_view_name": "HTMLView",
            "description": "",
            "description_tooltip": null,
            "layout": "IPY_MODEL_8fbd0d1174a14319bab594ba18fc06b2",
            "placeholder": "​",
            "style": "IPY_MODEL_d6393042bc784c6eacca8c84dfc24012",
            "value": " 570/570 [00:00&lt;00:00, 20.5kB/s]"
          }
        },
        "ca1d677286d04ef28a7a25cc31bb728b": {
          "model_module": "@jupyter-widgets/base",
          "model_name": "LayoutModel",
          "model_module_version": "1.2.0",
          "state": {
            "_model_module": "@jupyter-widgets/base",
            "_model_module_version": "1.2.0",
            "_model_name": "LayoutModel",
            "_view_count": null,
            "_view_module": "@jupyter-widgets/base",
            "_view_module_version": "1.2.0",
            "_view_name": "LayoutView",
            "align_content": null,
            "align_items": null,
            "align_self": null,
            "border": null,
            "bottom": null,
            "display": null,
            "flex": null,
            "flex_flow": null,
            "grid_area": null,
            "grid_auto_columns": null,
            "grid_auto_flow": null,
            "grid_auto_rows": null,
            "grid_column": null,
            "grid_gap": null,
            "grid_row": null,
            "grid_template_areas": null,
            "grid_template_columns": null,
            "grid_template_rows": null,
            "height": null,
            "justify_content": null,
            "justify_items": null,
            "left": null,
            "margin": null,
            "max_height": null,
            "max_width": null,
            "min_height": null,
            "min_width": null,
            "object_fit": null,
            "object_position": null,
            "order": null,
            "overflow": null,
            "overflow_x": null,
            "overflow_y": null,
            "padding": null,
            "right": null,
            "top": null,
            "visibility": null,
            "width": null
          }
        },
        "7e8c66b945224664bdacf25957b99204": {
          "model_module": "@jupyter-widgets/base",
          "model_name": "LayoutModel",
          "model_module_version": "1.2.0",
          "state": {
            "_model_module": "@jupyter-widgets/base",
            "_model_module_version": "1.2.0",
            "_model_name": "LayoutModel",
            "_view_count": null,
            "_view_module": "@jupyter-widgets/base",
            "_view_module_version": "1.2.0",
            "_view_name": "LayoutView",
            "align_content": null,
            "align_items": null,
            "align_self": null,
            "border": null,
            "bottom": null,
            "display": null,
            "flex": null,
            "flex_flow": null,
            "grid_area": null,
            "grid_auto_columns": null,
            "grid_auto_flow": null,
            "grid_auto_rows": null,
            "grid_column": null,
            "grid_gap": null,
            "grid_row": null,
            "grid_template_areas": null,
            "grid_template_columns": null,
            "grid_template_rows": null,
            "height": null,
            "justify_content": null,
            "justify_items": null,
            "left": null,
            "margin": null,
            "max_height": null,
            "max_width": null,
            "min_height": null,
            "min_width": null,
            "object_fit": null,
            "object_position": null,
            "order": null,
            "overflow": null,
            "overflow_x": null,
            "overflow_y": null,
            "padding": null,
            "right": null,
            "top": null,
            "visibility": null,
            "width": null
          }
        },
        "272b428dc65347b79b8ffdaaca2cf78a": {
          "model_module": "@jupyter-widgets/controls",
          "model_name": "DescriptionStyleModel",
          "model_module_version": "1.5.0",
          "state": {
            "_model_module": "@jupyter-widgets/controls",
            "_model_module_version": "1.5.0",
            "_model_name": "DescriptionStyleModel",
            "_view_count": null,
            "_view_module": "@jupyter-widgets/base",
            "_view_module_version": "1.2.0",
            "_view_name": "StyleView",
            "description_width": ""
          }
        },
        "0a56988e6f154a52918d2cc03d390be7": {
          "model_module": "@jupyter-widgets/base",
          "model_name": "LayoutModel",
          "model_module_version": "1.2.0",
          "state": {
            "_model_module": "@jupyter-widgets/base",
            "_model_module_version": "1.2.0",
            "_model_name": "LayoutModel",
            "_view_count": null,
            "_view_module": "@jupyter-widgets/base",
            "_view_module_version": "1.2.0",
            "_view_name": "LayoutView",
            "align_content": null,
            "align_items": null,
            "align_self": null,
            "border": null,
            "bottom": null,
            "display": null,
            "flex": null,
            "flex_flow": null,
            "grid_area": null,
            "grid_auto_columns": null,
            "grid_auto_flow": null,
            "grid_auto_rows": null,
            "grid_column": null,
            "grid_gap": null,
            "grid_row": null,
            "grid_template_areas": null,
            "grid_template_columns": null,
            "grid_template_rows": null,
            "height": null,
            "justify_content": null,
            "justify_items": null,
            "left": null,
            "margin": null,
            "max_height": null,
            "max_width": null,
            "min_height": null,
            "min_width": null,
            "object_fit": null,
            "object_position": null,
            "order": null,
            "overflow": null,
            "overflow_x": null,
            "overflow_y": null,
            "padding": null,
            "right": null,
            "top": null,
            "visibility": null,
            "width": null
          }
        },
        "f136993b21f344518d47311d7ffc067f": {
          "model_module": "@jupyter-widgets/controls",
          "model_name": "ProgressStyleModel",
          "model_module_version": "1.5.0",
          "state": {
            "_model_module": "@jupyter-widgets/controls",
            "_model_module_version": "1.5.0",
            "_model_name": "ProgressStyleModel",
            "_view_count": null,
            "_view_module": "@jupyter-widgets/base",
            "_view_module_version": "1.2.0",
            "_view_name": "StyleView",
            "bar_color": null,
            "description_width": ""
          }
        },
        "8fbd0d1174a14319bab594ba18fc06b2": {
          "model_module": "@jupyter-widgets/base",
          "model_name": "LayoutModel",
          "model_module_version": "1.2.0",
          "state": {
            "_model_module": "@jupyter-widgets/base",
            "_model_module_version": "1.2.0",
            "_model_name": "LayoutModel",
            "_view_count": null,
            "_view_module": "@jupyter-widgets/base",
            "_view_module_version": "1.2.0",
            "_view_name": "LayoutView",
            "align_content": null,
            "align_items": null,
            "align_self": null,
            "border": null,
            "bottom": null,
            "display": null,
            "flex": null,
            "flex_flow": null,
            "grid_area": null,
            "grid_auto_columns": null,
            "grid_auto_flow": null,
            "grid_auto_rows": null,
            "grid_column": null,
            "grid_gap": null,
            "grid_row": null,
            "grid_template_areas": null,
            "grid_template_columns": null,
            "grid_template_rows": null,
            "height": null,
            "justify_content": null,
            "justify_items": null,
            "left": null,
            "margin": null,
            "max_height": null,
            "max_width": null,
            "min_height": null,
            "min_width": null,
            "object_fit": null,
            "object_position": null,
            "order": null,
            "overflow": null,
            "overflow_x": null,
            "overflow_y": null,
            "padding": null,
            "right": null,
            "top": null,
            "visibility": null,
            "width": null
          }
        },
        "d6393042bc784c6eacca8c84dfc24012": {
          "model_module": "@jupyter-widgets/controls",
          "model_name": "DescriptionStyleModel",
          "model_module_version": "1.5.0",
          "state": {
            "_model_module": "@jupyter-widgets/controls",
            "_model_module_version": "1.5.0",
            "_model_name": "DescriptionStyleModel",
            "_view_count": null,
            "_view_module": "@jupyter-widgets/base",
            "_view_module_version": "1.2.0",
            "_view_name": "StyleView",
            "description_width": ""
          }
        },
        "2dceb52848074322a60074bced99d7d6": {
          "model_module": "@jupyter-widgets/controls",
          "model_name": "HBoxModel",
          "model_module_version": "1.5.0",
          "state": {
            "_dom_classes": [],
            "_model_module": "@jupyter-widgets/controls",
            "_model_module_version": "1.5.0",
            "_model_name": "HBoxModel",
            "_view_count": null,
            "_view_module": "@jupyter-widgets/controls",
            "_view_module_version": "1.5.0",
            "_view_name": "HBoxView",
            "box_style": "",
            "children": [
              "IPY_MODEL_4e32d35923184f3f831100ecdf781b01",
              "IPY_MODEL_47a35c3d94ac489f8aa7476c316e7851",
              "IPY_MODEL_2cf9d7e7ffa24385a87999057d295a91"
            ],
            "layout": "IPY_MODEL_5411d947e8954796a9e3aec7c5db69fb"
          }
        },
        "4e32d35923184f3f831100ecdf781b01": {
          "model_module": "@jupyter-widgets/controls",
          "model_name": "HTMLModel",
          "model_module_version": "1.5.0",
          "state": {
            "_dom_classes": [],
            "_model_module": "@jupyter-widgets/controls",
            "_model_module_version": "1.5.0",
            "_model_name": "HTMLModel",
            "_view_count": null,
            "_view_module": "@jupyter-widgets/controls",
            "_view_module_version": "1.5.0",
            "_view_name": "HTMLView",
            "description": "",
            "description_tooltip": null,
            "layout": "IPY_MODEL_48c4a8373c194ec1b110aca0d706b534",
            "placeholder": "​",
            "style": "IPY_MODEL_b9f098fee0a24c49a4820025347a06bb",
            "value": "Downloading (…)solve/main/vocab.txt: 100%"
          }
        },
        "47a35c3d94ac489f8aa7476c316e7851": {
          "model_module": "@jupyter-widgets/controls",
          "model_name": "FloatProgressModel",
          "model_module_version": "1.5.0",
          "state": {
            "_dom_classes": [],
            "_model_module": "@jupyter-widgets/controls",
            "_model_module_version": "1.5.0",
            "_model_name": "FloatProgressModel",
            "_view_count": null,
            "_view_module": "@jupyter-widgets/controls",
            "_view_module_version": "1.5.0",
            "_view_name": "ProgressView",
            "bar_style": "success",
            "description": "",
            "description_tooltip": null,
            "layout": "IPY_MODEL_db82f0afaf654098911b34267d663ff5",
            "max": 213450,
            "min": 0,
            "orientation": "horizontal",
            "style": "IPY_MODEL_582fa6ebd2df4cb5a9371352e81ea3d4",
            "value": 213450
          }
        },
        "2cf9d7e7ffa24385a87999057d295a91": {
          "model_module": "@jupyter-widgets/controls",
          "model_name": "HTMLModel",
          "model_module_version": "1.5.0",
          "state": {
            "_dom_classes": [],
            "_model_module": "@jupyter-widgets/controls",
            "_model_module_version": "1.5.0",
            "_model_name": "HTMLModel",
            "_view_count": null,
            "_view_module": "@jupyter-widgets/controls",
            "_view_module_version": "1.5.0",
            "_view_name": "HTMLView",
            "description": "",
            "description_tooltip": null,
            "layout": "IPY_MODEL_a5569caa7f474c0bbc4b4812f3aea0a9",
            "placeholder": "​",
            "style": "IPY_MODEL_04e2a75c080b484790fcd4cdf2aa5a89",
            "value": " 213k/213k [00:00&lt;00:00, 4.04MB/s]"
          }
        },
        "5411d947e8954796a9e3aec7c5db69fb": {
          "model_module": "@jupyter-widgets/base",
          "model_name": "LayoutModel",
          "model_module_version": "1.2.0",
          "state": {
            "_model_module": "@jupyter-widgets/base",
            "_model_module_version": "1.2.0",
            "_model_name": "LayoutModel",
            "_view_count": null,
            "_view_module": "@jupyter-widgets/base",
            "_view_module_version": "1.2.0",
            "_view_name": "LayoutView",
            "align_content": null,
            "align_items": null,
            "align_self": null,
            "border": null,
            "bottom": null,
            "display": null,
            "flex": null,
            "flex_flow": null,
            "grid_area": null,
            "grid_auto_columns": null,
            "grid_auto_flow": null,
            "grid_auto_rows": null,
            "grid_column": null,
            "grid_gap": null,
            "grid_row": null,
            "grid_template_areas": null,
            "grid_template_columns": null,
            "grid_template_rows": null,
            "height": null,
            "justify_content": null,
            "justify_items": null,
            "left": null,
            "margin": null,
            "max_height": null,
            "max_width": null,
            "min_height": null,
            "min_width": null,
            "object_fit": null,
            "object_position": null,
            "order": null,
            "overflow": null,
            "overflow_x": null,
            "overflow_y": null,
            "padding": null,
            "right": null,
            "top": null,
            "visibility": null,
            "width": null
          }
        },
        "48c4a8373c194ec1b110aca0d706b534": {
          "model_module": "@jupyter-widgets/base",
          "model_name": "LayoutModel",
          "model_module_version": "1.2.0",
          "state": {
            "_model_module": "@jupyter-widgets/base",
            "_model_module_version": "1.2.0",
            "_model_name": "LayoutModel",
            "_view_count": null,
            "_view_module": "@jupyter-widgets/base",
            "_view_module_version": "1.2.0",
            "_view_name": "LayoutView",
            "align_content": null,
            "align_items": null,
            "align_self": null,
            "border": null,
            "bottom": null,
            "display": null,
            "flex": null,
            "flex_flow": null,
            "grid_area": null,
            "grid_auto_columns": null,
            "grid_auto_flow": null,
            "grid_auto_rows": null,
            "grid_column": null,
            "grid_gap": null,
            "grid_row": null,
            "grid_template_areas": null,
            "grid_template_columns": null,
            "grid_template_rows": null,
            "height": null,
            "justify_content": null,
            "justify_items": null,
            "left": null,
            "margin": null,
            "max_height": null,
            "max_width": null,
            "min_height": null,
            "min_width": null,
            "object_fit": null,
            "object_position": null,
            "order": null,
            "overflow": null,
            "overflow_x": null,
            "overflow_y": null,
            "padding": null,
            "right": null,
            "top": null,
            "visibility": null,
            "width": null
          }
        },
        "b9f098fee0a24c49a4820025347a06bb": {
          "model_module": "@jupyter-widgets/controls",
          "model_name": "DescriptionStyleModel",
          "model_module_version": "1.5.0",
          "state": {
            "_model_module": "@jupyter-widgets/controls",
            "_model_module_version": "1.5.0",
            "_model_name": "DescriptionStyleModel",
            "_view_count": null,
            "_view_module": "@jupyter-widgets/base",
            "_view_module_version": "1.2.0",
            "_view_name": "StyleView",
            "description_width": ""
          }
        },
        "db82f0afaf654098911b34267d663ff5": {
          "model_module": "@jupyter-widgets/base",
          "model_name": "LayoutModel",
          "model_module_version": "1.2.0",
          "state": {
            "_model_module": "@jupyter-widgets/base",
            "_model_module_version": "1.2.0",
            "_model_name": "LayoutModel",
            "_view_count": null,
            "_view_module": "@jupyter-widgets/base",
            "_view_module_version": "1.2.0",
            "_view_name": "LayoutView",
            "align_content": null,
            "align_items": null,
            "align_self": null,
            "border": null,
            "bottom": null,
            "display": null,
            "flex": null,
            "flex_flow": null,
            "grid_area": null,
            "grid_auto_columns": null,
            "grid_auto_flow": null,
            "grid_auto_rows": null,
            "grid_column": null,
            "grid_gap": null,
            "grid_row": null,
            "grid_template_areas": null,
            "grid_template_columns": null,
            "grid_template_rows": null,
            "height": null,
            "justify_content": null,
            "justify_items": null,
            "left": null,
            "margin": null,
            "max_height": null,
            "max_width": null,
            "min_height": null,
            "min_width": null,
            "object_fit": null,
            "object_position": null,
            "order": null,
            "overflow": null,
            "overflow_x": null,
            "overflow_y": null,
            "padding": null,
            "right": null,
            "top": null,
            "visibility": null,
            "width": null
          }
        },
        "582fa6ebd2df4cb5a9371352e81ea3d4": {
          "model_module": "@jupyter-widgets/controls",
          "model_name": "ProgressStyleModel",
          "model_module_version": "1.5.0",
          "state": {
            "_model_module": "@jupyter-widgets/controls",
            "_model_module_version": "1.5.0",
            "_model_name": "ProgressStyleModel",
            "_view_count": null,
            "_view_module": "@jupyter-widgets/base",
            "_view_module_version": "1.2.0",
            "_view_name": "StyleView",
            "bar_color": null,
            "description_width": ""
          }
        },
        "a5569caa7f474c0bbc4b4812f3aea0a9": {
          "model_module": "@jupyter-widgets/base",
          "model_name": "LayoutModel",
          "model_module_version": "1.2.0",
          "state": {
            "_model_module": "@jupyter-widgets/base",
            "_model_module_version": "1.2.0",
            "_model_name": "LayoutModel",
            "_view_count": null,
            "_view_module": "@jupyter-widgets/base",
            "_view_module_version": "1.2.0",
            "_view_name": "LayoutView",
            "align_content": null,
            "align_items": null,
            "align_self": null,
            "border": null,
            "bottom": null,
            "display": null,
            "flex": null,
            "flex_flow": null,
            "grid_area": null,
            "grid_auto_columns": null,
            "grid_auto_flow": null,
            "grid_auto_rows": null,
            "grid_column": null,
            "grid_gap": null,
            "grid_row": null,
            "grid_template_areas": null,
            "grid_template_columns": null,
            "grid_template_rows": null,
            "height": null,
            "justify_content": null,
            "justify_items": null,
            "left": null,
            "margin": null,
            "max_height": null,
            "max_width": null,
            "min_height": null,
            "min_width": null,
            "object_fit": null,
            "object_position": null,
            "order": null,
            "overflow": null,
            "overflow_x": null,
            "overflow_y": null,
            "padding": null,
            "right": null,
            "top": null,
            "visibility": null,
            "width": null
          }
        },
        "04e2a75c080b484790fcd4cdf2aa5a89": {
          "model_module": "@jupyter-widgets/controls",
          "model_name": "DescriptionStyleModel",
          "model_module_version": "1.5.0",
          "state": {
            "_model_module": "@jupyter-widgets/controls",
            "_model_module_version": "1.5.0",
            "_model_name": "DescriptionStyleModel",
            "_view_count": null,
            "_view_module": "@jupyter-widgets/base",
            "_view_module_version": "1.2.0",
            "_view_name": "StyleView",
            "description_width": ""
          }
        },
        "d31bc4c4cf59495591f4543104f53aac": {
          "model_module": "@jupyter-widgets/controls",
          "model_name": "HBoxModel",
          "model_module_version": "1.5.0",
          "state": {
            "_dom_classes": [],
            "_model_module": "@jupyter-widgets/controls",
            "_model_module_version": "1.5.0",
            "_model_name": "HBoxModel",
            "_view_count": null,
            "_view_module": "@jupyter-widgets/controls",
            "_view_module_version": "1.5.0",
            "_view_name": "HBoxView",
            "box_style": "",
            "children": [
              "IPY_MODEL_793ebb414dd54e7ebcdbc9c44f9b78a9",
              "IPY_MODEL_15fbe3d99cf24d188955d6cf6ed285d3",
              "IPY_MODEL_cc04fb35bf17461ca98af3adce23b18e"
            ],
            "layout": "IPY_MODEL_e485c299516f44d289ece747a312cccb"
          }
        },
        "793ebb414dd54e7ebcdbc9c44f9b78a9": {
          "model_module": "@jupyter-widgets/controls",
          "model_name": "HTMLModel",
          "model_module_version": "1.5.0",
          "state": {
            "_dom_classes": [],
            "_model_module": "@jupyter-widgets/controls",
            "_model_module_version": "1.5.0",
            "_model_name": "HTMLModel",
            "_view_count": null,
            "_view_module": "@jupyter-widgets/controls",
            "_view_module_version": "1.5.0",
            "_view_name": "HTMLView",
            "description": "",
            "description_tooltip": null,
            "layout": "IPY_MODEL_1a18163daaf54431b514093747b1d82d",
            "placeholder": "​",
            "style": "IPY_MODEL_157cf4eb309042d2b03131bdd1d3b561",
            "value": "Downloading (…)/main/tokenizer.json: 100%"
          }
        },
        "15fbe3d99cf24d188955d6cf6ed285d3": {
          "model_module": "@jupyter-widgets/controls",
          "model_name": "FloatProgressModel",
          "model_module_version": "1.5.0",
          "state": {
            "_dom_classes": [],
            "_model_module": "@jupyter-widgets/controls",
            "_model_module_version": "1.5.0",
            "_model_name": "FloatProgressModel",
            "_view_count": null,
            "_view_module": "@jupyter-widgets/controls",
            "_view_module_version": "1.5.0",
            "_view_name": "ProgressView",
            "bar_style": "success",
            "description": "",
            "description_tooltip": null,
            "layout": "IPY_MODEL_e15ad86616d7475e928f66595c9640e7",
            "max": 435797,
            "min": 0,
            "orientation": "horizontal",
            "style": "IPY_MODEL_373a306c856b4934b9655ce6945ede20",
            "value": 435797
          }
        },
        "cc04fb35bf17461ca98af3adce23b18e": {
          "model_module": "@jupyter-widgets/controls",
          "model_name": "HTMLModel",
          "model_module_version": "1.5.0",
          "state": {
            "_dom_classes": [],
            "_model_module": "@jupyter-widgets/controls",
            "_model_module_version": "1.5.0",
            "_model_name": "HTMLModel",
            "_view_count": null,
            "_view_module": "@jupyter-widgets/controls",
            "_view_module_version": "1.5.0",
            "_view_name": "HTMLView",
            "description": "",
            "description_tooltip": null,
            "layout": "IPY_MODEL_2b42dbd268e8493894891060433fe90b",
            "placeholder": "​",
            "style": "IPY_MODEL_a887c2ce16864838b23af08187472941",
            "value": " 436k/436k [00:00&lt;00:00, 19.2MB/s]"
          }
        },
        "e485c299516f44d289ece747a312cccb": {
          "model_module": "@jupyter-widgets/base",
          "model_name": "LayoutModel",
          "model_module_version": "1.2.0",
          "state": {
            "_model_module": "@jupyter-widgets/base",
            "_model_module_version": "1.2.0",
            "_model_name": "LayoutModel",
            "_view_count": null,
            "_view_module": "@jupyter-widgets/base",
            "_view_module_version": "1.2.0",
            "_view_name": "LayoutView",
            "align_content": null,
            "align_items": null,
            "align_self": null,
            "border": null,
            "bottom": null,
            "display": null,
            "flex": null,
            "flex_flow": null,
            "grid_area": null,
            "grid_auto_columns": null,
            "grid_auto_flow": null,
            "grid_auto_rows": null,
            "grid_column": null,
            "grid_gap": null,
            "grid_row": null,
            "grid_template_areas": null,
            "grid_template_columns": null,
            "grid_template_rows": null,
            "height": null,
            "justify_content": null,
            "justify_items": null,
            "left": null,
            "margin": null,
            "max_height": null,
            "max_width": null,
            "min_height": null,
            "min_width": null,
            "object_fit": null,
            "object_position": null,
            "order": null,
            "overflow": null,
            "overflow_x": null,
            "overflow_y": null,
            "padding": null,
            "right": null,
            "top": null,
            "visibility": null,
            "width": null
          }
        },
        "1a18163daaf54431b514093747b1d82d": {
          "model_module": "@jupyter-widgets/base",
          "model_name": "LayoutModel",
          "model_module_version": "1.2.0",
          "state": {
            "_model_module": "@jupyter-widgets/base",
            "_model_module_version": "1.2.0",
            "_model_name": "LayoutModel",
            "_view_count": null,
            "_view_module": "@jupyter-widgets/base",
            "_view_module_version": "1.2.0",
            "_view_name": "LayoutView",
            "align_content": null,
            "align_items": null,
            "align_self": null,
            "border": null,
            "bottom": null,
            "display": null,
            "flex": null,
            "flex_flow": null,
            "grid_area": null,
            "grid_auto_columns": null,
            "grid_auto_flow": null,
            "grid_auto_rows": null,
            "grid_column": null,
            "grid_gap": null,
            "grid_row": null,
            "grid_template_areas": null,
            "grid_template_columns": null,
            "grid_template_rows": null,
            "height": null,
            "justify_content": null,
            "justify_items": null,
            "left": null,
            "margin": null,
            "max_height": null,
            "max_width": null,
            "min_height": null,
            "min_width": null,
            "object_fit": null,
            "object_position": null,
            "order": null,
            "overflow": null,
            "overflow_x": null,
            "overflow_y": null,
            "padding": null,
            "right": null,
            "top": null,
            "visibility": null,
            "width": null
          }
        },
        "157cf4eb309042d2b03131bdd1d3b561": {
          "model_module": "@jupyter-widgets/controls",
          "model_name": "DescriptionStyleModel",
          "model_module_version": "1.5.0",
          "state": {
            "_model_module": "@jupyter-widgets/controls",
            "_model_module_version": "1.5.0",
            "_model_name": "DescriptionStyleModel",
            "_view_count": null,
            "_view_module": "@jupyter-widgets/base",
            "_view_module_version": "1.2.0",
            "_view_name": "StyleView",
            "description_width": ""
          }
        },
        "e15ad86616d7475e928f66595c9640e7": {
          "model_module": "@jupyter-widgets/base",
          "model_name": "LayoutModel",
          "model_module_version": "1.2.0",
          "state": {
            "_model_module": "@jupyter-widgets/base",
            "_model_module_version": "1.2.0",
            "_model_name": "LayoutModel",
            "_view_count": null,
            "_view_module": "@jupyter-widgets/base",
            "_view_module_version": "1.2.0",
            "_view_name": "LayoutView",
            "align_content": null,
            "align_items": null,
            "align_self": null,
            "border": null,
            "bottom": null,
            "display": null,
            "flex": null,
            "flex_flow": null,
            "grid_area": null,
            "grid_auto_columns": null,
            "grid_auto_flow": null,
            "grid_auto_rows": null,
            "grid_column": null,
            "grid_gap": null,
            "grid_row": null,
            "grid_template_areas": null,
            "grid_template_columns": null,
            "grid_template_rows": null,
            "height": null,
            "justify_content": null,
            "justify_items": null,
            "left": null,
            "margin": null,
            "max_height": null,
            "max_width": null,
            "min_height": null,
            "min_width": null,
            "object_fit": null,
            "object_position": null,
            "order": null,
            "overflow": null,
            "overflow_x": null,
            "overflow_y": null,
            "padding": null,
            "right": null,
            "top": null,
            "visibility": null,
            "width": null
          }
        },
        "373a306c856b4934b9655ce6945ede20": {
          "model_module": "@jupyter-widgets/controls",
          "model_name": "ProgressStyleModel",
          "model_module_version": "1.5.0",
          "state": {
            "_model_module": "@jupyter-widgets/controls",
            "_model_module_version": "1.5.0",
            "_model_name": "ProgressStyleModel",
            "_view_count": null,
            "_view_module": "@jupyter-widgets/base",
            "_view_module_version": "1.2.0",
            "_view_name": "StyleView",
            "bar_color": null,
            "description_width": ""
          }
        },
        "2b42dbd268e8493894891060433fe90b": {
          "model_module": "@jupyter-widgets/base",
          "model_name": "LayoutModel",
          "model_module_version": "1.2.0",
          "state": {
            "_model_module": "@jupyter-widgets/base",
            "_model_module_version": "1.2.0",
            "_model_name": "LayoutModel",
            "_view_count": null,
            "_view_module": "@jupyter-widgets/base",
            "_view_module_version": "1.2.0",
            "_view_name": "LayoutView",
            "align_content": null,
            "align_items": null,
            "align_self": null,
            "border": null,
            "bottom": null,
            "display": null,
            "flex": null,
            "flex_flow": null,
            "grid_area": null,
            "grid_auto_columns": null,
            "grid_auto_flow": null,
            "grid_auto_rows": null,
            "grid_column": null,
            "grid_gap": null,
            "grid_row": null,
            "grid_template_areas": null,
            "grid_template_columns": null,
            "grid_template_rows": null,
            "height": null,
            "justify_content": null,
            "justify_items": null,
            "left": null,
            "margin": null,
            "max_height": null,
            "max_width": null,
            "min_height": null,
            "min_width": null,
            "object_fit": null,
            "object_position": null,
            "order": null,
            "overflow": null,
            "overflow_x": null,
            "overflow_y": null,
            "padding": null,
            "right": null,
            "top": null,
            "visibility": null,
            "width": null
          }
        },
        "a887c2ce16864838b23af08187472941": {
          "model_module": "@jupyter-widgets/controls",
          "model_name": "DescriptionStyleModel",
          "model_module_version": "1.5.0",
          "state": {
            "_model_module": "@jupyter-widgets/controls",
            "_model_module_version": "1.5.0",
            "_model_name": "DescriptionStyleModel",
            "_view_count": null,
            "_view_module": "@jupyter-widgets/base",
            "_view_module_version": "1.2.0",
            "_view_name": "StyleView",
            "description_width": ""
          }
        },
        "b647812c03e148f6b96fee950ed892c0": {
          "model_module": "@jupyter-widgets/controls",
          "model_name": "HBoxModel",
          "model_module_version": "1.5.0",
          "state": {
            "_dom_classes": [],
            "_model_module": "@jupyter-widgets/controls",
            "_model_module_version": "1.5.0",
            "_model_name": "HBoxModel",
            "_view_count": null,
            "_view_module": "@jupyter-widgets/controls",
            "_view_module_version": "1.5.0",
            "_view_name": "HBoxView",
            "box_style": "",
            "children": [
              "IPY_MODEL_ebc94616ac1746218178fc588d5274bd",
              "IPY_MODEL_04168687f1d046fdbb28aff266cb0462",
              "IPY_MODEL_59f4d250e475439682a674e63aae13e9"
            ],
            "layout": "IPY_MODEL_b08c08ad39d644e2baaa929811a18baf"
          }
        },
        "ebc94616ac1746218178fc588d5274bd": {
          "model_module": "@jupyter-widgets/controls",
          "model_name": "HTMLModel",
          "model_module_version": "1.5.0",
          "state": {
            "_dom_classes": [],
            "_model_module": "@jupyter-widgets/controls",
            "_model_module_version": "1.5.0",
            "_model_name": "HTMLModel",
            "_view_count": null,
            "_view_module": "@jupyter-widgets/controls",
            "_view_module_version": "1.5.0",
            "_view_name": "HTMLView",
            "description": "",
            "description_tooltip": null,
            "layout": "IPY_MODEL_ca08b93ae9a7479da0c5ffa14985ced9",
            "placeholder": "​",
            "style": "IPY_MODEL_18b5b3fc2506400e9dc94140c516cd85",
            "value": "Downloading model.safetensors: 100%"
          }
        },
        "04168687f1d046fdbb28aff266cb0462": {
          "model_module": "@jupyter-widgets/controls",
          "model_name": "FloatProgressModel",
          "model_module_version": "1.5.0",
          "state": {
            "_dom_classes": [],
            "_model_module": "@jupyter-widgets/controls",
            "_model_module_version": "1.5.0",
            "_model_name": "FloatProgressModel",
            "_view_count": null,
            "_view_module": "@jupyter-widgets/controls",
            "_view_module_version": "1.5.0",
            "_view_name": "ProgressView",
            "bar_style": "success",
            "description": "",
            "description_tooltip": null,
            "layout": "IPY_MODEL_d9c0c4dcdd4b4ebebc7b8161f37a9592",
            "max": 435755784,
            "min": 0,
            "orientation": "horizontal",
            "style": "IPY_MODEL_a50ea4e766e1412c9f3d2dce4f4bb438",
            "value": 435755784
          }
        },
        "59f4d250e475439682a674e63aae13e9": {
          "model_module": "@jupyter-widgets/controls",
          "model_name": "HTMLModel",
          "model_module_version": "1.5.0",
          "state": {
            "_dom_classes": [],
            "_model_module": "@jupyter-widgets/controls",
            "_model_module_version": "1.5.0",
            "_model_name": "HTMLModel",
            "_view_count": null,
            "_view_module": "@jupyter-widgets/controls",
            "_view_module_version": "1.5.0",
            "_view_name": "HTMLView",
            "description": "",
            "description_tooltip": null,
            "layout": "IPY_MODEL_b85123ea2845451997892d0f409b7a2e",
            "placeholder": "​",
            "style": "IPY_MODEL_ee3c6bb7336a4e9eb1c7d0d1ce4cbdac",
            "value": " 436M/436M [00:04&lt;00:00, 74.6MB/s]"
          }
        },
        "b08c08ad39d644e2baaa929811a18baf": {
          "model_module": "@jupyter-widgets/base",
          "model_name": "LayoutModel",
          "model_module_version": "1.2.0",
          "state": {
            "_model_module": "@jupyter-widgets/base",
            "_model_module_version": "1.2.0",
            "_model_name": "LayoutModel",
            "_view_count": null,
            "_view_module": "@jupyter-widgets/base",
            "_view_module_version": "1.2.0",
            "_view_name": "LayoutView",
            "align_content": null,
            "align_items": null,
            "align_self": null,
            "border": null,
            "bottom": null,
            "display": null,
            "flex": null,
            "flex_flow": null,
            "grid_area": null,
            "grid_auto_columns": null,
            "grid_auto_flow": null,
            "grid_auto_rows": null,
            "grid_column": null,
            "grid_gap": null,
            "grid_row": null,
            "grid_template_areas": null,
            "grid_template_columns": null,
            "grid_template_rows": null,
            "height": null,
            "justify_content": null,
            "justify_items": null,
            "left": null,
            "margin": null,
            "max_height": null,
            "max_width": null,
            "min_height": null,
            "min_width": null,
            "object_fit": null,
            "object_position": null,
            "order": null,
            "overflow": null,
            "overflow_x": null,
            "overflow_y": null,
            "padding": null,
            "right": null,
            "top": null,
            "visibility": null,
            "width": null
          }
        },
        "ca08b93ae9a7479da0c5ffa14985ced9": {
          "model_module": "@jupyter-widgets/base",
          "model_name": "LayoutModel",
          "model_module_version": "1.2.0",
          "state": {
            "_model_module": "@jupyter-widgets/base",
            "_model_module_version": "1.2.0",
            "_model_name": "LayoutModel",
            "_view_count": null,
            "_view_module": "@jupyter-widgets/base",
            "_view_module_version": "1.2.0",
            "_view_name": "LayoutView",
            "align_content": null,
            "align_items": null,
            "align_self": null,
            "border": null,
            "bottom": null,
            "display": null,
            "flex": null,
            "flex_flow": null,
            "grid_area": null,
            "grid_auto_columns": null,
            "grid_auto_flow": null,
            "grid_auto_rows": null,
            "grid_column": null,
            "grid_gap": null,
            "grid_row": null,
            "grid_template_areas": null,
            "grid_template_columns": null,
            "grid_template_rows": null,
            "height": null,
            "justify_content": null,
            "justify_items": null,
            "left": null,
            "margin": null,
            "max_height": null,
            "max_width": null,
            "min_height": null,
            "min_width": null,
            "object_fit": null,
            "object_position": null,
            "order": null,
            "overflow": null,
            "overflow_x": null,
            "overflow_y": null,
            "padding": null,
            "right": null,
            "top": null,
            "visibility": null,
            "width": null
          }
        },
        "18b5b3fc2506400e9dc94140c516cd85": {
          "model_module": "@jupyter-widgets/controls",
          "model_name": "DescriptionStyleModel",
          "model_module_version": "1.5.0",
          "state": {
            "_model_module": "@jupyter-widgets/controls",
            "_model_module_version": "1.5.0",
            "_model_name": "DescriptionStyleModel",
            "_view_count": null,
            "_view_module": "@jupyter-widgets/base",
            "_view_module_version": "1.2.0",
            "_view_name": "StyleView",
            "description_width": ""
          }
        },
        "d9c0c4dcdd4b4ebebc7b8161f37a9592": {
          "model_module": "@jupyter-widgets/base",
          "model_name": "LayoutModel",
          "model_module_version": "1.2.0",
          "state": {
            "_model_module": "@jupyter-widgets/base",
            "_model_module_version": "1.2.0",
            "_model_name": "LayoutModel",
            "_view_count": null,
            "_view_module": "@jupyter-widgets/base",
            "_view_module_version": "1.2.0",
            "_view_name": "LayoutView",
            "align_content": null,
            "align_items": null,
            "align_self": null,
            "border": null,
            "bottom": null,
            "display": null,
            "flex": null,
            "flex_flow": null,
            "grid_area": null,
            "grid_auto_columns": null,
            "grid_auto_flow": null,
            "grid_auto_rows": null,
            "grid_column": null,
            "grid_gap": null,
            "grid_row": null,
            "grid_template_areas": null,
            "grid_template_columns": null,
            "grid_template_rows": null,
            "height": null,
            "justify_content": null,
            "justify_items": null,
            "left": null,
            "margin": null,
            "max_height": null,
            "max_width": null,
            "min_height": null,
            "min_width": null,
            "object_fit": null,
            "object_position": null,
            "order": null,
            "overflow": null,
            "overflow_x": null,
            "overflow_y": null,
            "padding": null,
            "right": null,
            "top": null,
            "visibility": null,
            "width": null
          }
        },
        "a50ea4e766e1412c9f3d2dce4f4bb438": {
          "model_module": "@jupyter-widgets/controls",
          "model_name": "ProgressStyleModel",
          "model_module_version": "1.5.0",
          "state": {
            "_model_module": "@jupyter-widgets/controls",
            "_model_module_version": "1.5.0",
            "_model_name": "ProgressStyleModel",
            "_view_count": null,
            "_view_module": "@jupyter-widgets/base",
            "_view_module_version": "1.2.0",
            "_view_name": "StyleView",
            "bar_color": null,
            "description_width": ""
          }
        },
        "b85123ea2845451997892d0f409b7a2e": {
          "model_module": "@jupyter-widgets/base",
          "model_name": "LayoutModel",
          "model_module_version": "1.2.0",
          "state": {
            "_model_module": "@jupyter-widgets/base",
            "_model_module_version": "1.2.0",
            "_model_name": "LayoutModel",
            "_view_count": null,
            "_view_module": "@jupyter-widgets/base",
            "_view_module_version": "1.2.0",
            "_view_name": "LayoutView",
            "align_content": null,
            "align_items": null,
            "align_self": null,
            "border": null,
            "bottom": null,
            "display": null,
            "flex": null,
            "flex_flow": null,
            "grid_area": null,
            "grid_auto_columns": null,
            "grid_auto_flow": null,
            "grid_auto_rows": null,
            "grid_column": null,
            "grid_gap": null,
            "grid_row": null,
            "grid_template_areas": null,
            "grid_template_columns": null,
            "grid_template_rows": null,
            "height": null,
            "justify_content": null,
            "justify_items": null,
            "left": null,
            "margin": null,
            "max_height": null,
            "max_width": null,
            "min_height": null,
            "min_width": null,
            "object_fit": null,
            "object_position": null,
            "order": null,
            "overflow": null,
            "overflow_x": null,
            "overflow_y": null,
            "padding": null,
            "right": null,
            "top": null,
            "visibility": null,
            "width": null
          }
        },
        "ee3c6bb7336a4e9eb1c7d0d1ce4cbdac": {
          "model_module": "@jupyter-widgets/controls",
          "model_name": "DescriptionStyleModel",
          "model_module_version": "1.5.0",
          "state": {
            "_model_module": "@jupyter-widgets/controls",
            "_model_module_version": "1.5.0",
            "_model_name": "DescriptionStyleModel",
            "_view_count": null,
            "_view_module": "@jupyter-widgets/base",
            "_view_module_version": "1.2.0",
            "_view_name": "StyleView",
            "description_width": ""
          }
        }
      }
    }
  },
  "nbformat_minor": 0,
  "nbformat": 4,
  "cells": [
    {
      "cell_type": "markdown",
      "source": [
        "# EMO task"
      ],
      "metadata": {
        "id": "9_B-_QwdhWLe"
      }
    },
    {
      "cell_type": "code",
      "source": [
        "from google.colab import drive\n",
        "drive.mount('/content/drive')"
      ],
      "metadata": {
        "colab": {
          "base_uri": "https://localhost:8080/"
        },
        "id": "9sDeMksltGSk",
        "outputId": "d98259a6-f79e-4829-f70b-e9db9b171c4a",
        "execution": {
          "iopub.status.busy": "2023-07-11T19:04:39.938937Z",
          "iopub.execute_input": "2023-07-11T19:04:39.939508Z",
          "iopub.status.idle": "2023-07-11T19:04:39.955669Z",
          "shell.execute_reply.started": "2023-07-11T19:04:39.939467Z",
          "shell.execute_reply": "2023-07-11T19:04:39.954582Z"
        },
        "trusted": true
      },
      "execution_count": 2,
      "outputs": [
        {
          "output_type": "stream",
          "name": "stdout",
          "text": [
            "Mounted at /content/drive\n"
          ]
        }
      ]
    },
    {
      "cell_type": "markdown",
      "source": [
        "## Dependencies"
      ],
      "metadata": {
        "id": "15KoBLrVhbI8"
      }
    },
    {
      "cell_type": "code",
      "source": [
        "!pip install transformers -q\n",
        "!pip install accelerate -U -q\n",
        "!pip install datasets -q\n",
        "!pip install torch-summary -q\n",
        "!pip install graphviz -q\n",
        "!pip install torchview -q\n",
        "!pip install bertviz -q\n",
        "!pip install NRCLex -q\n",
        "!pip install textblob -q\n",
        "!python -m textblob.download_corpora -q\n",
        "\n",
        "repo_path = \"https://raw.githubusercontent.com/HLT-Ghisolfi-Leuzzi-Testa/WASSA-2023/\"\n",
        "branch = \"main\""
      ],
      "metadata": {
        "colab": {
          "base_uri": "https://localhost:8080/"
        },
        "id": "1gnWTVNYDMx2",
        "outputId": "cbe9d0b0-d86b-4496-c0c4-15c799ac465d",
        "execution": {
          "iopub.status.busy": "2023-07-11T19:04:39.958022Z",
          "iopub.execute_input": "2023-07-11T19:04:39.958361Z",
          "iopub.status.idle": "2023-07-11T19:06:28.298280Z",
          "shell.execute_reply.started": "2023-07-11T19:04:39.958330Z",
          "shell.execute_reply": "2023-07-11T19:06:28.297057Z"
        },
        "trusted": true
      },
      "execution_count": 9,
      "outputs": [
        {
          "output_type": "stream",
          "name": "stdout",
          "text": [
            "[nltk_data] Downloading package brown to /root/nltk_data...\n",
            "[nltk_data]   Package brown is already up-to-date!\n",
            "[nltk_data] Downloading package punkt to /root/nltk_data...\n",
            "[nltk_data]   Package punkt is already up-to-date!\n",
            "[nltk_data] Downloading package wordnet to /root/nltk_data...\n",
            "[nltk_data]   Package wordnet is already up-to-date!\n",
            "[nltk_data] Downloading package averaged_perceptron_tagger to\n",
            "[nltk_data]     /root/nltk_data...\n",
            "[nltk_data]   Package averaged_perceptron_tagger is already up-to-\n",
            "[nltk_data]       date!\n",
            "[nltk_data] Downloading package conll2000 to /root/nltk_data...\n",
            "[nltk_data]   Package conll2000 is already up-to-date!\n",
            "[nltk_data] Downloading package movie_reviews to /root/nltk_data...\n",
            "[nltk_data]   Package movie_reviews is already up-to-date!\n",
            "Finished.\n"
          ]
        }
      ]
    },
    {
      "cell_type": "code",
      "source": [
        "utils_url = f\"{repo_path}{branch}/utils.py\"\n",
        "evaluation_url = f\"{repo_path}{branch}/evaluation.py\"\n",
        "\n",
        "import os\n",
        "if os.path.exists(\"utils.py\"):\n",
        "  !rm \"utils.py\"\n",
        "if os.path.exists(\"evaluation.py\"):\n",
        "  !rm \"evaluation.py\"\n",
        "\n",
        "!wget {utils_url}\n",
        "!wget {evaluation_url}"
      ],
      "metadata": {
        "colab": {
          "base_uri": "https://localhost:8080/"
        },
        "id": "9Xbo-Ei3IAYB",
        "outputId": "fc7d0b91-a7c8-45e0-e967-2a41a36fb4d5",
        "execution": {
          "iopub.status.busy": "2023-07-11T19:06:28.299931Z",
          "iopub.execute_input": "2023-07-11T19:06:28.300542Z",
          "iopub.status.idle": "2023-07-11T19:06:30.619028Z",
          "shell.execute_reply.started": "2023-07-11T19:06:28.300504Z",
          "shell.execute_reply": "2023-07-11T19:06:30.617896Z"
        },
        "trusted": true
      },
      "execution_count": 4,
      "outputs": [
        {
          "output_type": "stream",
          "name": "stdout",
          "text": [
            "--2023-07-12 09:14:33--  https://raw.githubusercontent.com/HLT-Ghisolfi-Leuzzi-Testa/WASSA-2023/main/utils.py\n",
            "Resolving raw.githubusercontent.com (raw.githubusercontent.com)... 185.199.108.133, 185.199.109.133, 185.199.110.133, ...\n",
            "Connecting to raw.githubusercontent.com (raw.githubusercontent.com)|185.199.108.133|:443... connected.\n",
            "HTTP request sent, awaiting response... 200 OK\n",
            "Length: 27697 (27K) [text/plain]\n",
            "Saving to: ‘utils.py’\n",
            "\n",
            "\rutils.py              0%[                    ]       0  --.-KB/s               \rutils.py            100%[===================>]  27.05K  --.-KB/s    in 0.002s  \n",
            "\n",
            "2023-07-12 09:14:34 (14.8 MB/s) - ‘utils.py’ saved [27697/27697]\n",
            "\n",
            "--2023-07-12 09:14:34--  https://raw.githubusercontent.com/HLT-Ghisolfi-Leuzzi-Testa/WASSA-2023/main/evaluation.py\n",
            "Resolving raw.githubusercontent.com (raw.githubusercontent.com)... 185.199.108.133, 185.199.109.133, 185.199.110.133, ...\n",
            "Connecting to raw.githubusercontent.com (raw.githubusercontent.com)|185.199.108.133|:443... connected.\n",
            "HTTP request sent, awaiting response... 200 OK\n",
            "Length: 10675 (10K) [text/plain]\n",
            "Saving to: ‘evaluation.py’\n",
            "\n",
            "evaluation.py       100%[===================>]  10.42K  --.-KB/s    in 0s      \n",
            "\n",
            "2023-07-12 09:14:34 (93.8 MB/s) - ‘evaluation.py’ saved [10675/10675]\n",
            "\n"
          ]
        }
      ]
    },
    {
      "cell_type": "code",
      "source": [
        "EMO_json_path_train = f\"{repo_path}{branch}/datasets/EMO23_lexicon_per_word_train.json\"\n",
        "EMP_json_path_train = f\"{repo_path}{branch}/datasets/EMP23_lexicon_per_word_train.json\"\n",
        "EMO_json_path_dev = f\"{repo_path}{branch}/datasets/EMO23_lexicon_per_word_dev.json\"\n",
        "EMP_json_path_dev = f\"{repo_path}{branch}/datasets/EMP23_lexicon_per_word_dev.json\"\n",
        "EMO_json_path_test = f\"{repo_path}{branch}/datasets/EMO23_lexicon_per_word_test.json\"\n",
        "EMP_json_path_test = f\"{repo_path}{branch}/datasets/EMP23_lexicon_per_word_test.json\"\n",
        "\n",
        "!wget {EMO_json_path_train}\n",
        "!wget {EMP_json_path_train}\n",
        "!wget {EMO_json_path_dev}\n",
        "!wget {EMP_json_path_dev}\n",
        "!wget {EMO_json_path_test}\n",
        "!wget {EMP_json_path_test}"
      ],
      "metadata": {
        "colab": {
          "base_uri": "https://localhost:8080/"
        },
        "id": "kEVk5afqZjf1",
        "outputId": "fff2a4bb-be93-4466-9277-9f538d2239be",
        "execution": {
          "iopub.status.busy": "2023-07-11T19:06:30.622582Z",
          "iopub.execute_input": "2023-07-11T19:06:30.622919Z",
          "iopub.status.idle": "2023-07-11T19:06:38.755450Z",
          "shell.execute_reply.started": "2023-07-11T19:06:30.622890Z",
          "shell.execute_reply": "2023-07-11T19:06:38.754266Z"
        },
        "trusted": true
      },
      "execution_count": 5,
      "outputs": [
        {
          "output_type": "stream",
          "name": "stdout",
          "text": [
            "--2023-07-12 09:14:34--  https://raw.githubusercontent.com/HLT-Ghisolfi-Leuzzi-Testa/WASSA-2023/main/datasets/EMO23_lexicon_per_word_train.json\n",
            "Resolving raw.githubusercontent.com (raw.githubusercontent.com)... 185.199.108.133, 185.199.109.133, 185.199.110.133, ...\n",
            "Connecting to raw.githubusercontent.com (raw.githubusercontent.com)|185.199.108.133|:443... connected.\n",
            "HTTP request sent, awaiting response... 200 OK\n",
            "Length: 13477977 (13M) [text/plain]\n",
            "Saving to: ‘EMO23_lexicon_per_word_train.json’\n",
            "\n",
            "EMO23_lexicon_per_w 100%[===================>]  12.85M  75.7MB/s    in 0.2s    \n",
            "\n",
            "2023-07-12 09:14:34 (75.7 MB/s) - ‘EMO23_lexicon_per_word_train.json’ saved [13477977/13477977]\n",
            "\n",
            "--2023-07-12 09:14:34--  https://raw.githubusercontent.com/HLT-Ghisolfi-Leuzzi-Testa/WASSA-2023/main/datasets/EMP23_lexicon_per_word_train.json\n",
            "Resolving raw.githubusercontent.com (raw.githubusercontent.com)... 185.199.108.133, 185.199.109.133, 185.199.110.133, ...\n",
            "Connecting to raw.githubusercontent.com (raw.githubusercontent.com)|185.199.108.133|:443... connected.\n",
            "HTTP request sent, awaiting response... 200 OK\n",
            "Length: 7607723 (7.3M) [text/plain]\n",
            "Saving to: ‘EMP23_lexicon_per_word_train.json’\n",
            "\n",
            "EMP23_lexicon_per_w 100%[===================>]   7.25M  --.-KB/s    in 0.09s   \n",
            "\n",
            "2023-07-12 09:14:35 (82.4 MB/s) - ‘EMP23_lexicon_per_word_train.json’ saved [7607723/7607723]\n",
            "\n",
            "--2023-07-12 09:14:35--  https://raw.githubusercontent.com/HLT-Ghisolfi-Leuzzi-Testa/WASSA-2023/main/datasets/EMO23_lexicon_per_word_dev.json\n",
            "Resolving raw.githubusercontent.com (raw.githubusercontent.com)... 185.199.108.133, 185.199.109.133, 185.199.110.133, ...\n",
            "Connecting to raw.githubusercontent.com (raw.githubusercontent.com)|185.199.108.133|:443... connected.\n",
            "HTTP request sent, awaiting response... 200 OK\n",
            "Length: 1058526 (1.0M) [text/plain]\n",
            "Saving to: ‘EMO23_lexicon_per_word_dev.json’\n",
            "\n",
            "EMO23_lexicon_per_w 100%[===================>]   1.01M  --.-KB/s    in 0.05s   \n",
            "\n",
            "2023-07-12 09:14:35 (20.0 MB/s) - ‘EMO23_lexicon_per_word_dev.json’ saved [1058526/1058526]\n",
            "\n",
            "--2023-07-12 09:14:35--  https://raw.githubusercontent.com/HLT-Ghisolfi-Leuzzi-Testa/WASSA-2023/main/datasets/EMP23_lexicon_per_word_dev.json\n",
            "Resolving raw.githubusercontent.com (raw.githubusercontent.com)... 185.199.109.133, 185.199.111.133, 185.199.110.133, ...\n",
            "Connecting to raw.githubusercontent.com (raw.githubusercontent.com)|185.199.109.133|:443... connected.\n",
            "HTTP request sent, awaiting response... 200 OK\n",
            "Length: 595839 (582K) [text/plain]\n",
            "Saving to: ‘EMP23_lexicon_per_word_dev.json’\n",
            "\n",
            "EMP23_lexicon_per_w 100%[===================>] 581.87K  --.-KB/s    in 0.04s   \n",
            "\n",
            "2023-07-12 09:14:35 (13.1 MB/s) - ‘EMP23_lexicon_per_word_dev.json’ saved [595839/595839]\n",
            "\n",
            "--2023-07-12 09:14:35--  https://raw.githubusercontent.com/HLT-Ghisolfi-Leuzzi-Testa/WASSA-2023/main/datasets/EMO23_lexicon_per_word_test.json\n",
            "Resolving raw.githubusercontent.com (raw.githubusercontent.com)... 185.199.108.133, 185.199.109.133, 185.199.110.133, ...\n",
            "Connecting to raw.githubusercontent.com (raw.githubusercontent.com)|185.199.108.133|:443... connected.\n",
            "HTTP request sent, awaiting response... 200 OK\n",
            "Length: 651198 (636K) [text/plain]\n",
            "Saving to: ‘EMO23_lexicon_per_word_test.json’\n",
            "\n",
            "EMO23_lexicon_per_w 100%[===================>] 635.94K  --.-KB/s    in 0.05s   \n",
            "\n",
            "2023-07-12 09:14:36 (12.7 MB/s) - ‘EMO23_lexicon_per_word_test.json’ saved [651198/651198]\n",
            "\n",
            "--2023-07-12 09:14:36--  https://raw.githubusercontent.com/HLT-Ghisolfi-Leuzzi-Testa/WASSA-2023/main/datasets/EMP23_lexicon_per_word_test.json\n",
            "Resolving raw.githubusercontent.com (raw.githubusercontent.com)... 185.199.108.133, 185.199.109.133, 185.199.110.133, ...\n",
            "Connecting to raw.githubusercontent.com (raw.githubusercontent.com)|185.199.108.133|:443... connected.\n",
            "HTTP request sent, awaiting response... 200 OK\n",
            "Length: 362281 (354K) [text/plain]\n",
            "Saving to: ‘EMP23_lexicon_per_word_test.json’\n",
            "\n",
            "EMP23_lexicon_per_w 100%[===================>] 353.79K  --.-KB/s    in 0.03s   \n",
            "\n",
            "2023-07-12 09:14:36 (10.2 MB/s) - ‘EMP23_lexicon_per_word_test.json’ saved [362281/362281]\n",
            "\n"
          ]
        }
      ]
    },
    {
      "cell_type": "code",
      "source": [
        "import json\n",
        "import torch\n",
        "import string\n",
        "from torch import nn\n",
        "from torch.nn import BCEWithLogitsLoss\n",
        "import pandas as pd\n",
        "import numpy as np\n",
        "from transformers import AutoTokenizer, AutoModelForSequenceClassification, AutoModel\n",
        "from transformers import TrainingArguments, Trainer, TrainerCallback, EarlyStoppingCallback\n",
        "from transformers import BertPreTrainedModel, BertModel\n",
        "from transformers.modeling_outputs import SequenceClassifierOutput\n",
        "import torch\n",
        "from torch import nn\n",
        "from transformers import AutoConfig, BertForSequenceClassification, RobertaForSequenceClassification, RobertaModel\n",
        "from transformers.modeling_outputs import SequenceClassifierOutput\n",
        "from typing import Optional, Union, Tuple\n",
        "from nrclex import NRCLex\n",
        "import importlib\n",
        "import sys\n",
        "from torch.utils.data import Dataset\n",
        "from utils import *\n",
        "importlib.reload(sys.modules['utils'])"
      ],
      "metadata": {
        "colab": {
          "base_uri": "https://localhost:8080/"
        },
        "id": "XDmQslVxDhy1",
        "outputId": "f6007805-50be-49bc-9606-89f9fd6765f6",
        "execution": {
          "iopub.status.busy": "2023-07-11T19:06:38.757555Z",
          "iopub.execute_input": "2023-07-11T19:06:38.757963Z",
          "iopub.status.idle": "2023-07-11T19:06:52.358142Z",
          "shell.execute_reply.started": "2023-07-11T19:06:38.757924Z",
          "shell.execute_reply": "2023-07-11T19:06:52.357177Z"
        },
        "trusted": true
      },
      "execution_count": 1,
      "outputs": [
        {
          "output_type": "execute_result",
          "data": {
            "text/plain": [
              "<module 'utils' from '/content/utils.py'>"
            ]
          },
          "metadata": {},
          "execution_count": 1
        }
      ]
    },
    {
      "cell_type": "code",
      "source": [
        "# set CUDA if available\n",
        "if torch.cuda.is_available():\n",
        "    device = torch.device('cuda')\n",
        "    print(\"======= CUDA Available =======\")\n",
        "else:\n",
        "    device = torch.device('cpu')\n",
        "    print(\"======= CUDA NOT Available, run on CPU =======\")"
      ],
      "metadata": {
        "colab": {
          "base_uri": "https://localhost:8080/"
        },
        "id": "quom7lWCDiiI",
        "outputId": "331f0efa-c33a-444a-c80d-9d2e7a4a3d17",
        "execution": {
          "iopub.status.busy": "2023-07-11T19:06:52.359527Z",
          "iopub.execute_input": "2023-07-11T19:06:52.360520Z",
          "iopub.status.idle": "2023-07-11T19:06:52.392731Z",
          "shell.execute_reply.started": "2023-07-11T19:06:52.360482Z",
          "shell.execute_reply": "2023-07-11T19:06:52.391807Z"
        },
        "trusted": true
      },
      "execution_count": 10,
      "outputs": [
        {
          "output_type": "stream",
          "name": "stdout",
          "text": [
            "======= CUDA Available =======\n"
          ]
        }
      ]
    },
    {
      "cell_type": "markdown",
      "source": [
        "## Dataset"
      ],
      "metadata": {
        "id": "4gsXzUtCBv-j"
      }
    },
    {
      "cell_type": "markdown",
      "source": [
        "### WASSA dataset"
      ],
      "metadata": {
        "id": "dIUOnGp-_6lV"
      }
    },
    {
      "cell_type": "code",
      "source": [
        "emotions_names = [\n",
        "    'fear',\n",
        "    'anger',\n",
        "    'anticipation',\n",
        "    'trust',\n",
        "    'surprise',\n",
        "    'positive',\n",
        "    'negative',\n",
        "    'sadness',\n",
        "    'disgust',\n",
        "    'joy',\n",
        "    'hope'\n",
        "]"
      ],
      "metadata": {
        "id": "S2o5IfHdgXXf",
        "execution": {
          "iopub.status.busy": "2023-07-11T19:06:52.394204Z",
          "iopub.execute_input": "2023-07-11T19:06:52.394814Z",
          "iopub.status.idle": "2023-07-11T19:06:52.406593Z",
          "shell.execute_reply.started": "2023-07-11T19:06:52.394779Z",
          "shell.execute_reply": "2023-07-11T19:06:52.405612Z"
        },
        "trusted": true
      },
      "execution_count": 11,
      "outputs": []
    },
    {
      "cell_type": "code",
      "source": [
        "class WASSADataset(Dataset):\n",
        "\n",
        "    def __init__(\n",
        "        self,\n",
        "        tokenizer,\n",
        "        essay,\n",
        "        essay_id,\n",
        "        targets,\n",
        "        sep=False,\n",
        "        prompt=None,\n",
        "        EMP_lexicon = None,\n",
        "        EMO_lexicon = None,\n",
        "        global_features = None,\n",
        "        local_emotions = False,\n",
        "        local_empathy = False,\n",
        "        local_distress = False,\n",
        "        max_len=None\n",
        "        ):\n",
        "        self.tokenizer = tokenizer\n",
        "        self.max_len = max_len\n",
        "        self.essay = essay\n",
        "        self.essay_id = essay_id\n",
        "        self.targets = targets\n",
        "        self.EMP_lexicon = EMP_lexicon\n",
        "        self.EMO_lexicon = EMO_lexicon\n",
        "        self.sep = sep\n",
        "        self.prompt = prompt\n",
        "\n",
        "        self.global_features = global_features\n",
        "        self.local_emotions = local_emotions\n",
        "        self.local_empathy = local_empathy\n",
        "        self.local_distress = local_distress\n",
        "\n",
        "    def __len__(self):\n",
        "        print(\"dentro len\")\n",
        "        return len(self.essay) # len(self.essay) + 1 + len(self.prompt) if self.prompt is not None else len(self.essay)\n",
        "\n",
        "    def __getitem__(self, index):\n",
        "        essay = str(self.essay[index])\n",
        "\n",
        "        essay_id = self.essay_id[index]\n",
        "\n",
        "\n",
        "        if self.prompt is not None:\n",
        "          prompt = str(self.prompt[index])\n",
        "\n",
        "        text = essay\n",
        "        text_pair = None\n",
        "        if self.sep:\n",
        "          text_pair = prompt\n",
        "        else:\n",
        "          if self.prompt is not None:\n",
        "            text += \" \" + prompt\n",
        "\n",
        "        inputs = self.tokenizer.encode_plus(\n",
        "            text=essay,\n",
        "            text_pair=text_pair,\n",
        "            add_special_tokens=True,\n",
        "            max_length=self.max_len,\n",
        "            padding='max_length',\n",
        "            truncation=True,\n",
        "            return_attention_mask=True,\n",
        "            return_tensors='pt',\n",
        "            return_token_type_ids=True\n",
        "        )\n",
        "\n",
        "        item = {\n",
        "          'input_ids': inputs['input_ids'].flatten(),\n",
        "          'attention_mask': inputs['attention_mask'].flatten(),\n",
        "          'token_type_ids': inputs[\"token_type_ids\"].flatten()\n",
        "        }\n",
        "\n",
        "        if self.targets is not None:\n",
        "          item['labels'] = torch.FloatTensor(self.targets[index])\n",
        "\n",
        "        if self.global_features is not None:\n",
        "          item['global_features'] = self.global_features[index]\n",
        "\n",
        "        n_local_features = 0\n",
        "        features_tokens_row = []\n",
        "        if self.local_emotions:\n",
        "            n_local_features += len(emotions_names)\n",
        "            for i in range(len(emotions_names)):\n",
        "                features_tokens_row.append(0)\n",
        "        if self.local_empathy:\n",
        "            n_local_features += 1\n",
        "            features_tokens_row.append(4)\n",
        "        if self.local_distress:\n",
        "            n_local_features += 1\n",
        "            features_tokens_row.append(0)\n",
        "\n",
        "        if n_local_features > 0:\n",
        "            features_tokens = np.full((self.tokenizer.model_max_length, n_local_features), features_tokens_row)\n",
        "        else:\n",
        "          features_tokens = None\n",
        "\n",
        "        word_count=0\n",
        "        first_char=True\n",
        "        last_char_is_space=False\n",
        "        for char_idx, char in enumerate(essay):\n",
        "          token_idx = inputs.char_to_token(char_idx)\n",
        "          if token_idx is None:\n",
        "            if first_char: last_char_is_space=True\n",
        "            if not last_char_is_space and not first_char:\n",
        "              word_count+=1\n",
        "              last_char_is_space=True\n",
        "            continue\n",
        "          elif last_char_is_space:\n",
        "            last_char_is_space=False\n",
        "          first_char=False\n",
        "\n",
        "          j = 0\n",
        "          if char not in string.punctuation:\n",
        "            if self.local_emotions:\n",
        "              for i, emo in enumerate(emotions_names):\n",
        "                features_tokens[token_idx][i] = self.EMO_lexicon[str(essay_id)][emo][word_count]\n",
        "              j += len(emotions_names)\n",
        "\n",
        "            if self.local_empathy:\n",
        "              features_tokens[token_idx][j] = self.EMP_lexicon[str(essay_id)]['empathy'][word_count]\n",
        "              j += 1\n",
        "\n",
        "\n",
        "            if self.local_distress:\n",
        "              features_tokens[token_idx][j] = self.EMP_lexicon[str(essay_id)]['distress'][word_count]\n",
        "\n",
        "        if features_tokens is not None:\n",
        "            item['local_features'] = torch.FloatTensor(features_tokens)\n",
        "\n",
        "        #item['return_dict']=True\n",
        "\n",
        "        return item"
      ],
      "metadata": {
        "id": "WOuBgl-TmlM-",
        "execution": {
          "iopub.status.busy": "2023-07-11T19:06:52.409372Z",
          "iopub.execute_input": "2023-07-11T19:06:52.410007Z",
          "iopub.status.idle": "2023-07-11T19:06:52.429476Z",
          "shell.execute_reply.started": "2023-07-11T19:06:52.409972Z",
          "shell.execute_reply": "2023-07-11T19:06:52.428716Z"
        },
        "trusted": true
      },
      "execution_count": 12,
      "outputs": []
    },
    {
      "cell_type": "markdown",
      "source": [
        "Dataset paths"
      ],
      "metadata": {
        "id": "VUd7BQjSsVMJ"
      }
    },
    {
      "cell_type": "code",
      "source": [
        "TRAIN_DATA = f\"{repo_path}{branch}/datasets/WASSA23_essay_level_original_internal_train_preproc.tsv\"\n",
        "VAL_DATA = f\"{repo_path}{branch}/datasets/WASSA23_essay_level_original_internal_val_preproc.tsv\"\n",
        "DEV_DATA = f\"{repo_path}{branch}/datasets/WASSA23_essay_level_dev_preproc.tsv\""
      ],
      "metadata": {
        "id": "BjM03TscDwcz",
        "execution": {
          "iopub.status.busy": "2023-07-11T19:09:57.899102Z",
          "iopub.execute_input": "2023-07-11T19:09:57.899510Z",
          "iopub.status.idle": "2023-07-11T19:09:57.904814Z",
          "shell.execute_reply.started": "2023-07-11T19:09:57.899476Z",
          "shell.execute_reply": "2023-07-11T19:09:57.903813Z"
        },
        "trusted": true
      },
      "execution_count": 13,
      "outputs": []
    },
    {
      "cell_type": "markdown",
      "source": [
        "Read dataframes"
      ],
      "metadata": {
        "id": "EFI6AulQsYci"
      }
    },
    {
      "cell_type": "code",
      "source": [
        "train_df = pd.read_csv(TRAIN_DATA, sep='\\t')\n",
        "val_df = pd.read_csv(VAL_DATA, sep='\\t')\n",
        "dev_df = pd.read_csv(DEV_DATA, sep='\\t')"
      ],
      "metadata": {
        "id": "Sppn6sPYsBqA",
        "execution": {
          "iopub.status.busy": "2023-07-11T19:10:05.747000Z",
          "iopub.execute_input": "2023-07-11T19:10:05.747579Z",
          "iopub.status.idle": "2023-07-11T19:10:05.979691Z",
          "shell.execute_reply.started": "2023-07-11T19:10:05.747546Z",
          "shell.execute_reply": "2023-07-11T19:10:05.978760Z"
        },
        "trusted": true
      },
      "execution_count": 14,
      "outputs": []
    },
    {
      "cell_type": "code",
      "source": [
        "label_encoder = EmotionsLabelEncoder()\n",
        "label_encoder.fit(train_df.emotion)"
      ],
      "metadata": {
        "id": "hygjdzlasIEL",
        "execution": {
          "iopub.status.busy": "2023-07-11T19:10:05.982479Z",
          "iopub.execute_input": "2023-07-11T19:10:05.983199Z",
          "iopub.status.idle": "2023-07-11T19:10:05.991153Z",
          "shell.execute_reply.started": "2023-07-11T19:10:05.983164Z",
          "shell.execute_reply": "2023-07-11T19:10:05.989896Z"
        },
        "trusted": true
      },
      "execution_count": 15,
      "outputs": []
    },
    {
      "cell_type": "markdown",
      "source": [
        "Optional subsample"
      ],
      "metadata": {
        "id": "yn_tGpeFsNqb"
      }
    },
    {
      "cell_type": "code",
      "source": [
        "\"\"\"train_df = train_df[:10]\n",
        "val_df = val_df[:10]\n",
        "dev_df = dev_df[:10]\"\"\""
      ],
      "metadata": {
        "id": "wkCC492RsNSU",
        "colab": {
          "base_uri": "https://localhost:8080/",
          "height": 35
        },
        "outputId": "c02731a0-900f-4654-fabe-776ea774e26b",
        "execution": {
          "iopub.status.busy": "2023-07-11T19:10:05.992734Z",
          "iopub.execute_input": "2023-07-11T19:10:05.993094Z",
          "iopub.status.idle": "2023-07-11T19:10:06.005004Z",
          "shell.execute_reply.started": "2023-07-11T19:10:05.993062Z",
          "shell.execute_reply": "2023-07-11T19:10:06.003994Z"
        },
        "trusted": true
      },
      "execution_count": 13,
      "outputs": [
        {
          "output_type": "execute_result",
          "data": {
            "text/plain": [
              "'train_df = train_df[:10]\\nval_df = val_df[:10]\\ndev_df = dev_df[:10]'"
            ],
            "application/vnd.google.colaboratory.intrinsic+json": {
              "type": "string"
            }
          },
          "metadata": {},
          "execution_count": 13
        }
      ]
    },
    {
      "cell_type": "markdown",
      "source": [
        "Encode targets"
      ],
      "metadata": {
        "id": "mDJWlHhwsfwL"
      }
    },
    {
      "cell_type": "code",
      "source": [
        "y_train = label_encoder.encode(train_df.emotion)\n",
        "y_val = label_encoder.encode(val_df.emotion)\n",
        "y_dev = label_encoder.encode(dev_df.emotion)"
      ],
      "metadata": {
        "id": "6LKqRnKdsJdu",
        "execution": {
          "iopub.status.busy": "2023-07-11T19:10:06.006358Z",
          "iopub.execute_input": "2023-07-11T19:10:06.006808Z",
          "iopub.status.idle": "2023-07-11T19:10:06.021824Z",
          "shell.execute_reply.started": "2023-07-11T19:10:06.006776Z",
          "shell.execute_reply": "2023-07-11T19:10:06.020868Z"
        },
        "trusted": true
      },
      "execution_count": 14,
      "outputs": []
    },
    {
      "cell_type": "code",
      "source": [
        "#@title Global Features\n",
        "emo_count_global = True #@param {type:\"boolean\"}\n",
        "empathy_count_global = True #@param {type:\"boolean\"}\n",
        "distress_count_global = True #@param {type:\"boolean\"}\n",
        "bio_global = True #@param {type:\"boolean\"}\n",
        "global_features_names = []\n",
        "emotions_count = ['fear_count',\t'anger_count','anticipation_count',\t'trust_count',\n",
        "                 'positive_count',\t'negative_count', 'surprise_count',\n",
        "                 'sadness_count',\t'disgust_count',\t'joy_count',\t'hope_count']\n",
        "bio = ['gender', 'age', 'income', 'race', 'education']\n",
        "if emo_count_global:\n",
        "  for emo in emotions_count: global_features_names.append(emo)\n",
        "if empathy_count_global: global_features_names.append('empathy')\n",
        "if distress_count_global: global_features_names.append('distress')\n",
        "if bio_global:\n",
        "  for b in bio: global_features_names.append(b)\n"
      ],
      "metadata": {
        "cellView": "form",
        "id": "j6y4HnEP6gcI",
        "execution": {
          "iopub.status.busy": "2023-07-11T19:10:06.026313Z",
          "iopub.execute_input": "2023-07-11T19:10:06.026995Z",
          "iopub.status.idle": "2023-07-11T19:10:06.034340Z",
          "shell.execute_reply.started": "2023-07-11T19:10:06.026970Z",
          "shell.execute_reply": "2023-07-11T19:10:06.033205Z"
        },
        "trusted": true
      },
      "execution_count": 15,
      "outputs": []
    },
    {
      "cell_type": "code",
      "source": [
        "#@title Local Features\n",
        "emo_count_local = True #@param {type:\"boolean\"}\n",
        "empathy_count_local = True #@param {type:\"boolean\"}\n",
        "distress_count_local = True #@param {type:\"boolean\"}\n",
        "\n",
        "local_features_names = []\n",
        "if emo_count_local: local_features_names.append('emotions')\n",
        "if empathy_count_local: local_features_names.append('empathy')\n",
        "if distress_count_local: local_features_names.append('distress')\n",
        "\n"
      ],
      "metadata": {
        "cellView": "form",
        "id": "n3snAqfK6728",
        "execution": {
          "iopub.status.busy": "2023-07-11T19:10:06.035925Z",
          "iopub.execute_input": "2023-07-11T19:10:06.036262Z",
          "iopub.status.idle": "2023-07-11T19:10:06.048932Z",
          "shell.execute_reply.started": "2023-07-11T19:10:06.036232Z",
          "shell.execute_reply": "2023-07-11T19:10:06.048042Z"
        },
        "trusted": true
      },
      "execution_count": 16,
      "outputs": []
    },
    {
      "cell_type": "code",
      "source": [
        "#@title Number of labels\n",
        "num_labels = 8 #@param {type:\"number\"}\n"
      ],
      "metadata": {
        "cellView": "form",
        "id": "7JyTdDiw9TWP",
        "execution": {
          "iopub.status.busy": "2023-07-11T19:10:06.051958Z",
          "iopub.execute_input": "2023-07-11T19:10:06.052235Z",
          "iopub.status.idle": "2023-07-11T19:10:06.059593Z",
          "shell.execute_reply.started": "2023-07-11T19:10:06.052213Z",
          "shell.execute_reply": "2023-07-11T19:10:06.058689Z"
        },
        "trusted": true
      },
      "execution_count": 17,
      "outputs": []
    },
    {
      "cell_type": "code",
      "source": [
        "NUM_LABELS = num_labels\n",
        "GLOBAL_FEATURES_NAMES = global_features_names\n",
        "LOCAL_FEATURES_NAMES = local_features_names\n",
        "DIM_EXTRA_FEATURES_GLOBAL = len(GLOBAL_FEATURES_NAMES)"
      ],
      "metadata": {
        "id": "dA224FxADpqd",
        "execution": {
          "iopub.status.busy": "2023-07-11T19:10:06.061089Z",
          "iopub.execute_input": "2023-07-11T19:10:06.061536Z",
          "iopub.status.idle": "2023-07-11T19:10:06.069916Z",
          "shell.execute_reply.started": "2023-07-11T19:10:06.061505Z",
          "shell.execute_reply": "2023-07-11T19:10:06.069051Z"
        },
        "trusted": true
      },
      "execution_count": 18,
      "outputs": []
    },
    {
      "cell_type": "markdown",
      "source": [
        "Extra global features"
      ],
      "metadata": {
        "id": "FbCKVWh7-gpg"
      }
    },
    {
      "cell_type": "code",
      "source": [
        "features_train =  np.array(train_df[GLOBAL_FEATURES_NAMES])\n",
        "features_val =  np.array(val_df[GLOBAL_FEATURES_NAMES])\n",
        "features_dev =  np.array(dev_df[GLOBAL_FEATURES_NAMES])"
      ],
      "metadata": {
        "id": "RDqlrqx6-gDt",
        "execution": {
          "iopub.status.busy": "2023-07-11T19:10:06.072968Z",
          "iopub.execute_input": "2023-07-11T19:10:06.073234Z",
          "iopub.status.idle": "2023-07-11T19:10:06.084418Z",
          "shell.execute_reply.started": "2023-07-11T19:10:06.073203Z",
          "shell.execute_reply": "2023-07-11T19:10:06.083491Z"
        },
        "trusted": true
      },
      "execution_count": 19,
      "outputs": []
    },
    {
      "cell_type": "markdown",
      "source": [
        "## Lexicons"
      ],
      "metadata": {
        "id": "qwYXJId_-Sb5"
      }
    },
    {
      "cell_type": "code",
      "source": [
        "with open(\"/content/EMO23_lexicon_per_word_train.json\") as json_file:\n",
        "  EMO_lexicon_train_dict = json.load(json_file)\n",
        "with open(\"/content/EMP23_lexicon_per_word_train.json\") as json_file:\n",
        "  EMP_lexicon_train_dict = json.load(json_file)\n",
        "with open(\"/content/EMO23_lexicon_per_word_dev.json\") as json_file:\n",
        "  EMO_lexicon_dev_dict = json.load(json_file)\n",
        "with open(\"/content/EMP23_lexicon_per_word_dev.json\") as json_file:\n",
        "  EMP_lexicon_dev_dict = json.load(json_file)\n",
        "with open(\"/content/EMO23_lexicon_per_word_test.json\") as json_file:\n",
        "  EMO_lexicon_test_dict = json.load(json_file)\n",
        "with open(\"/content/EMP23_lexicon_per_word_test.json\") as json_file:\n",
        "  EMP_lexicon_test_dict = json.load(json_file)"
      ],
      "metadata": {
        "id": "Qg0D38kk-Rrv",
        "execution": {
          "iopub.status.busy": "2023-07-11T19:11:09.185261Z",
          "iopub.execute_input": "2023-07-11T19:11:09.185627Z",
          "iopub.status.idle": "2023-07-11T19:11:09.667265Z",
          "shell.execute_reply.started": "2023-07-11T19:11:09.185595Z",
          "shell.execute_reply": "2023-07-11T19:11:09.666254Z"
        },
        "trusted": true
      },
      "execution_count": 20,
      "outputs": []
    },
    {
      "cell_type": "markdown",
      "source": [
        "## Model"
      ],
      "metadata": {
        "id": "oXIimY5ABmlc"
      }
    },
    {
      "cell_type": "code",
      "source": [
        "model_type ={\n",
        "  'distilroberta-emotion':'j-hartmann/emotion-english-distilroberta-base',\n",
        "  'roberta-emotion':'j-hartmann/emotion-english-roberta-large',\n",
        "  'bert-base': 'bert-base-cased',\n",
        "  'roberta-base' : 'bert-base'\n",
        "}"
      ],
      "metadata": {
        "id": "wtbV4tekujaC",
        "execution": {
          "iopub.status.busy": "2023-07-11T19:11:17.217004Z",
          "iopub.execute_input": "2023-07-11T19:11:17.217440Z",
          "iopub.status.idle": "2023-07-11T19:11:17.225859Z",
          "shell.execute_reply.started": "2023-07-11T19:11:17.217403Z",
          "shell.execute_reply": "2023-07-11T19:11:17.224898Z"
        },
        "trusted": true
      },
      "execution_count": 33,
      "outputs": []
    },
    {
      "cell_type": "code",
      "source": [
        "model_config = {\n",
        "    'model_id': 'roberta_lexicon',\n",
        "    'tokenizer_name': model_type.get('bert-base'),\n",
        "    'model_name': model_type.get('bert-base'),\n",
        "    'train_batch_size': 4,\n",
        "    'val_batch_size': 4,\n",
        "    'learning_rate': 5e-5,\n",
        "    'weight_decay': 0,\n",
        "    'epochs': 10,\n",
        "    'seed': 42,\n",
        "    'patience': 10,\n",
        "    'early_stopping_threshold': 0,\n",
        "    'weighted_loss': True\n",
        "}"
      ],
      "metadata": {
        "id": "Cxq0isZT6KQW",
        "execution": {
          "iopub.status.busy": "2023-07-11T19:11:17.228297Z",
          "iopub.execute_input": "2023-07-11T19:11:17.229021Z",
          "iopub.status.idle": "2023-07-11T19:11:17.240056Z",
          "shell.execute_reply.started": "2023-07-11T19:11:17.228988Z",
          "shell.execute_reply": "2023-07-11T19:11:17.239129Z"
        },
        "trusted": true
      },
      "execution_count": 34,
      "outputs": []
    },
    {
      "cell_type": "code",
      "source": [
        "def get_loss_weights(y):\n",
        "  inverse_n_samples = 1 / np.sum(y, axis=0)\n",
        "  sum_inverses = sum(inverse_n_samples)\n",
        "  weights_train = inverse_n_samples / sum_inverses\n",
        "  return torch.cuda.FloatTensor(weights_train)"
      ],
      "metadata": {
        "id": "hfwVaaj-0qDq",
        "execution": {
          "iopub.status.busy": "2023-07-11T19:11:17.241592Z",
          "iopub.execute_input": "2023-07-11T19:11:17.243014Z",
          "iopub.status.idle": "2023-07-11T19:11:17.253391Z",
          "shell.execute_reply.started": "2023-07-11T19:11:17.242979Z",
          "shell.execute_reply": "2023-07-11T19:11:17.252383Z"
        },
        "trusted": true
      },
      "execution_count": 35,
      "outputs": []
    },
    {
      "cell_type": "code",
      "source": [
        "if model_config.get('weighted_loss'):\n",
        "  loss_weights_train = get_loss_weights(y_train)\n"
      ],
      "metadata": {
        "id": "wVh3_jCFzmK7",
        "execution": {
          "iopub.status.busy": "2023-07-11T19:11:17.255861Z",
          "iopub.execute_input": "2023-07-11T19:11:17.257384Z",
          "iopub.status.idle": "2023-07-11T19:11:22.360433Z",
          "shell.execute_reply.started": "2023-07-11T19:11:17.257351Z",
          "shell.execute_reply": "2023-07-11T19:11:22.359379Z"
        },
        "trusted": true
      },
      "execution_count": 36,
      "outputs": []
    },
    {
      "cell_type": "code",
      "source": [
        "tokenizer = AutoTokenizer.from_pretrained(model_config['tokenizer_name'], truncation=True)"
      ],
      "metadata": {
        "id": "wd7W2HhYsbai",
        "execution": {
          "iopub.status.busy": "2023-07-11T19:11:22.361776Z",
          "iopub.execute_input": "2023-07-11T19:11:22.362620Z",
          "iopub.status.idle": "2023-07-11T19:11:23.697235Z",
          "shell.execute_reply.started": "2023-07-11T19:11:22.362585Z",
          "shell.execute_reply": "2023-07-11T19:11:23.696230Z"
        },
        "trusted": true,
        "colab": {
          "base_uri": "https://localhost:8080/",
          "height": 145,
          "referenced_widgets": [
            "bc66fe3498cf4ee49875074b5a0b930d",
            "636d597e9d9047608401c337b3188fea",
            "2ffd6f631b68404e989f04eebc144739",
            "e661cf694e19494dbdc9bbada898fe41",
            "2e1e45bf770b4d4fa97beb06c3f4d405",
            "9f17484abbcb4f218830e7e0cbabc4a0",
            "2045e20a53a24976874c7db3dd27b60e",
            "c0abce67c0d64ab5ad965c894013d612",
            "2e8c33199b544517b620f3bca5a07f5d",
            "0c3ddbf063b1414e9de30210a88ef58d",
            "37c9f12d61534cfca9854f8a361aab5b",
            "a229971f65374936874bc31db82bdc9d",
            "80ed7dd3154447baa6191cad98b71b83",
            "a00a16c485c246d48c05b941349d8f1a",
            "8f5863817714445d9fefee6dbe61ee1a",
            "ca1d677286d04ef28a7a25cc31bb728b",
            "7e8c66b945224664bdacf25957b99204",
            "272b428dc65347b79b8ffdaaca2cf78a",
            "0a56988e6f154a52918d2cc03d390be7",
            "f136993b21f344518d47311d7ffc067f",
            "8fbd0d1174a14319bab594ba18fc06b2",
            "d6393042bc784c6eacca8c84dfc24012",
            "2dceb52848074322a60074bced99d7d6",
            "4e32d35923184f3f831100ecdf781b01",
            "47a35c3d94ac489f8aa7476c316e7851",
            "2cf9d7e7ffa24385a87999057d295a91",
            "5411d947e8954796a9e3aec7c5db69fb",
            "48c4a8373c194ec1b110aca0d706b534",
            "b9f098fee0a24c49a4820025347a06bb",
            "db82f0afaf654098911b34267d663ff5",
            "582fa6ebd2df4cb5a9371352e81ea3d4",
            "a5569caa7f474c0bbc4b4812f3aea0a9",
            "04e2a75c080b484790fcd4cdf2aa5a89",
            "d31bc4c4cf59495591f4543104f53aac",
            "793ebb414dd54e7ebcdbc9c44f9b78a9",
            "15fbe3d99cf24d188955d6cf6ed285d3",
            "cc04fb35bf17461ca98af3adce23b18e",
            "e485c299516f44d289ece747a312cccb",
            "1a18163daaf54431b514093747b1d82d",
            "157cf4eb309042d2b03131bdd1d3b561",
            "e15ad86616d7475e928f66595c9640e7",
            "373a306c856b4934b9655ce6945ede20",
            "2b42dbd268e8493894891060433fe90b",
            "a887c2ce16864838b23af08187472941"
          ]
        },
        "outputId": "264b6654-96ea-4e44-b370-7376ecce9c07"
      },
      "execution_count": 37,
      "outputs": [
        {
          "output_type": "display_data",
          "data": {
            "text/plain": [
              "Downloading (…)okenizer_config.json:   0%|          | 0.00/29.0 [00:00<?, ?B/s]"
            ],
            "application/vnd.jupyter.widget-view+json": {
              "version_major": 2,
              "version_minor": 0,
              "model_id": "bc66fe3498cf4ee49875074b5a0b930d"
            }
          },
          "metadata": {}
        },
        {
          "output_type": "display_data",
          "data": {
            "text/plain": [
              "Downloading (…)lve/main/config.json:   0%|          | 0.00/570 [00:00<?, ?B/s]"
            ],
            "application/vnd.jupyter.widget-view+json": {
              "version_major": 2,
              "version_minor": 0,
              "model_id": "a229971f65374936874bc31db82bdc9d"
            }
          },
          "metadata": {}
        },
        {
          "output_type": "display_data",
          "data": {
            "text/plain": [
              "Downloading (…)solve/main/vocab.txt:   0%|          | 0.00/213k [00:00<?, ?B/s]"
            ],
            "application/vnd.jupyter.widget-view+json": {
              "version_major": 2,
              "version_minor": 0,
              "model_id": "2dceb52848074322a60074bced99d7d6"
            }
          },
          "metadata": {}
        },
        {
          "output_type": "display_data",
          "data": {
            "text/plain": [
              "Downloading (…)/main/tokenizer.json:   0%|          | 0.00/436k [00:00<?, ?B/s]"
            ],
            "application/vnd.jupyter.widget-view+json": {
              "version_major": 2,
              "version_minor": 0,
              "model_id": "d31bc4c4cf59495591f4543104f53aac"
            }
          },
          "metadata": {}
        }
      ]
    },
    {
      "cell_type": "markdown",
      "source": [
        "### Custom \"lexicon\" model"
      ],
      "metadata": {
        "id": "w6aAhPift1UL"
      }
    },
    {
      "cell_type": "code",
      "source": [
        "class ClassificationHead(nn.Module):\n",
        "    #Head for sentence-level classification tasks.\n",
        "\n",
        "    def __init__(self, config, num_extra_dims, hidden_layers_to_concat, classifier_dropout, local_features):\n",
        "        super().__init__()\n",
        "        self.local_features = local_features\n",
        "        total_dims = config.hidden_size*hidden_layers_to_concat + num_extra_dims\n",
        "        if self.local_features:\n",
        "          total_dims += config.hidden_size\n",
        "        self.dense = nn.Linear(total_dims, total_dims)\n",
        "        self.dropout = nn.Dropout(classifier_dropout)\n",
        "        self.out_proj = nn.Linear(total_dims, config.num_labels)\n",
        "\n",
        "    def forward(self, features, **kwargs):\n",
        "        x = self.dense(features)\n",
        "        x = torch.tanh(x)\n",
        "        x = self.dropout(x)\n",
        "        x = self.out_proj(x)\n",
        "        return x\n",
        "\n",
        "class CustomSequenceClassification(BertForSequenceClassification):\n",
        "\n",
        "    def __init__(self, config, num_extra_dims=0, local_features_name=None, loss_weights=None, last_cls = 1, mean_last_cls = False):\n",
        "        super().__init__(config)\n",
        "        self.num_labels = config.num_labels\n",
        "        self.config = config\n",
        "        self.local_features_name = local_features_name\n",
        "        self.loss_weights = loss_weights\n",
        "        self.last_cls = last_cls\n",
        "        self.mean_last_cls = mean_last_cls\n",
        "        self.bert =  BertModel(config)\n",
        "        classifier_dropout = (\n",
        "            config.classifier_dropout if config.classifier_dropout is not None else config.hidden_dropout_prob\n",
        "        )\n",
        "        self.dropout = nn.Dropout(classifier_dropout)\n",
        "        self.classifier = ClassificationHead(config, num_extra_dims, last_cls, classifier_dropout, local_features_name is not None)\n",
        "        self.post_init()\n",
        "\n",
        "\n",
        "    def forward(\n",
        "        self,\n",
        "        input_ids: Optional[torch.LongTensor] = None,\n",
        "        attention_mask: Optional[torch.FloatTensor] = None,\n",
        "        local_features = None,\n",
        "        global_features = None,\n",
        "        token_type_ids: Optional[torch.LongTensor] = None,\n",
        "        position_ids: Optional[torch.LongTensor] = None,\n",
        "        head_mask: Optional[torch.FloatTensor] = None,\n",
        "        inputs_embeds: Optional[torch.FloatTensor] = None,\n",
        "        labels: Optional[torch.LongTensor] = None,\n",
        "        output_attentions: Optional[bool] = None,\n",
        "        output_hidden_states: Optional[bool] = True,\n",
        "        return_dict: Optional[bool] = None,\n",
        "    ) -> Union[Tuple, SequenceClassifierOutput]:\n",
        "        r'''\n",
        "        labels (`torch.LongTensor` of shape `(batch_size,)`, *optional*):\n",
        "            Labels for computing the sequence classification/regression loss. Indices should be in `[0, ...,\n",
        "            config.num_labels - 1]`. If `config.num_labels == 1` a regression loss is computed (Mean-Square loss), If\n",
        "            `config.num_labels > 1` a classification loss is computed (Cross-Entropy).\n",
        "        '''\n",
        "        return_dict = return_dict if return_dict is not None else self.config.use_return_dict\n",
        "\n",
        "        outputs = self.bert(\n",
        "            input_ids,\n",
        "            attention_mask=attention_mask,\n",
        "            token_type_ids=token_type_ids,\n",
        "            position_ids=position_ids,\n",
        "            head_mask=head_mask,\n",
        "            inputs_embeds=inputs_embeds,\n",
        "            output_attentions=output_attentions,\n",
        "            output_hidden_states=output_hidden_states,\n",
        "            return_dict=return_dict,\n",
        "        )\n",
        "\n",
        "        cls_tokens = []\n",
        "        for i in range(1, self.last_cls + 1):\n",
        "            cls_tokens.append(outputs.hidden_states[-1 * i][:, 0, :])\n",
        "        if self.mean_last_cls:\n",
        "          # average cls tokens\n",
        "          output = torch.mean(torch.stack(cls_tokens), dim=0)\n",
        "        else:\n",
        "          # concat cls tokens\n",
        "          output = torch.cat(cls_tokens, dim=1)\n",
        "\n",
        "        output = self.dropout(output)\n",
        "\n",
        "        if local_features is not None:\n",
        "          tokens_output = outputs.last_hidden_state\n",
        "          tokens_output = self.dropout(tokens_output)\n",
        "\n",
        "          tokens_output = torch.cat((\n",
        "                  tokens_output,\n",
        "                  local_features.reshape(outputs.last_hidden_state.shape[0], outputs.last_hidden_state.shape[1], -1)),\n",
        "                             dim=2)\n",
        "\n",
        "          mask = torch.zeros_like(attention_mask)\n",
        "          # unmask tokens with high or low empathy, high distress levels, or expressing at least one emotion\n",
        "          j = 0\n",
        "          if 'emotions' in self.local_features_name:\n",
        "            emotion_values = local_features[:,:,:11]\n",
        "            mask[emotion_values.sum(dim=-1)>=1] = 1.0\n",
        "            j += 11\n",
        "\n",
        "          if 'empathy' in self.local_features_name:\n",
        "            empathy_values = local_features[:,:,j]\n",
        "            mask[(empathy_values>5) | ((empathy_values<3) & (empathy_values>=1))] = 1.0\n",
        "            j += 1\n",
        "\n",
        "          if 'distress' in self.local_features_name:\n",
        "            distress_values = local_features[:,:,j]\n",
        "            mask[distress_values>4] = 1.0\n",
        "\n",
        "          # mean pooling of unmasked tokens\n",
        "          input_mask_expanded = mask.unsqueeze(-1).expand(tokens_output.size()).float()\n",
        "          sum_embeddings = torch.sum(tokens_output * input_mask_expanded, 1)\n",
        "          sum_mask = input_mask_expanded.sum(1)\n",
        "          sum_mask = torch.clamp(sum_mask, min = 1e-9)\n",
        "          tokens_output = sum_embeddings/sum_mask\n",
        "\n",
        "          # concat pooled tokens lexically relevant with cls token\n",
        "          output = torch.cat((output, tokens_output), dim=-1)\n",
        "\n",
        "\n",
        "        if global_features is not None: # global\n",
        "          output = torch.cat((output, global_features), dim=-1)\n",
        "\n",
        "        logits = self.classifier(output)\n",
        "\n",
        "        loss = None\n",
        "        if labels is not None:\n",
        "            if self.config.problem_type is None:\n",
        "                if self.num_labels == 1:\n",
        "                    self.config.problem_type = \"regression\"\n",
        "                elif self.num_labels > 1 and (labels.dtype == torch.long or labels.dtype == torch.int):\n",
        "                    self.config.problem_type = \"single_label_classification\"\n",
        "                else:\n",
        "                    self.config.problem_type = \"multi_label_classification\"\n",
        "\n",
        "            if self.config.problem_type == \"regression\":\n",
        "                loss_fct = nn.MSELoss()\n",
        "                if self.num_labels == 1:\n",
        "                    loss = loss_fct(logits.squeeze(), labels.squeeze())\n",
        "                else:\n",
        "                    loss = loss_fct(logits, labels)\n",
        "            elif self.config.problem_type == \"single_label_classification\":\n",
        "                loss_fct = nn.CrossEntropyLoss(weight = self.loss_weights)\n",
        "                loss = loss_fct(logits.view(-1, self.num_labels), labels.view(-1))\n",
        "            elif self.config.problem_type == \"multi_label_classification\":\n",
        "                loss_fct = nn.BCEWithLogitsLoss(weight = self.loss_weights)\n",
        "                loss = loss_fct(logits, labels)\n",
        "\n",
        "        if not return_dict:\n",
        "            output = (logits,) + outputs[2:]\n",
        "            return ((loss,) + output) if loss is not None else output\n",
        "\n",
        "        return SequenceClassifierOutput(\n",
        "            loss=loss,\n",
        "            logits=logits,\n",
        "            hidden_states=outputs.hidden_states,\n",
        "            attentions=outputs.attentions,\n",
        "        )\n",
        "\"\"\"class ClassificationHead(nn.Module):\n",
        "    #Head for sentence-level classification tasks.\n",
        "\n",
        "    def __init__(self, config, num_extra_dims, hidden_layers_to_concat, classifier_dropout, local_features):\n",
        "        super().__init__()\n",
        "        self.local_features = local_features\n",
        "        total_dims = config.hidden_size*hidden_layers_to_concat + num_extra_dims\n",
        "        if self.local_features:\n",
        "          total_dims += config.hidden_size\n",
        "        self.dense = nn.Linear(total_dims, total_dims)\n",
        "        self.dropout = nn.Dropout(classifier_dropout)\n",
        "        self.out_proj = nn.Linear(total_dims, config.num_labels)\n",
        "\n",
        "    def forward(self, features, **kwargs):\n",
        "        x = self.dense(features)\n",
        "        x = torch.tanh(x)\n",
        "        x = self.dropout(x)\n",
        "        x = self.out_proj(x)\n",
        "        return x\n",
        "\n",
        "class CustomSequenceClassification(RobertaForSequenceClassification):\n",
        "\n",
        "    def __init__(self, config, num_extra_dims=0, local_features_name=None, loss_weights=None, last_cls = 1, mean_last_cls = False):\n",
        "        super().__init__(config)\n",
        "        self.num_labels = config.num_labels\n",
        "        self.config = config\n",
        "        self.local_features_name = local_features_name\n",
        "        self.loss_weights = loss_weights\n",
        "        self.last_cls = last_cls\n",
        "        self.mean_last_cls = mean_last_cls\n",
        "        self.bert =  RobertaModel(config)\n",
        "        classifier_dropout = (\n",
        "            config.classifier_dropout if config.classifier_dropout is not None else config.hidden_dropout_prob\n",
        "        )\n",
        "        self.dropout = nn.Dropout(classifier_dropout)\n",
        "        self.classifier = ClassificationHead(config, num_extra_dims, last_cls, classifier_dropout, local_features_name is not None)\n",
        "        self.post_init()\n",
        "\n",
        "\n",
        "    def forward(\n",
        "        self,\n",
        "        input_ids: Optional[torch.LongTensor] = None,\n",
        "        attention_mask: Optional[torch.FloatTensor] = None,\n",
        "        local_features = None,\n",
        "        global_features = None,\n",
        "        token_type_ids: Optional[torch.LongTensor] = None,\n",
        "        position_ids: Optional[torch.LongTensor] = None,\n",
        "        head_mask: Optional[torch.FloatTensor] = None,\n",
        "        inputs_embeds: Optional[torch.FloatTensor] = None,\n",
        "        labels: Optional[torch.LongTensor] = None,\n",
        "        output_attentions: Optional[bool] = None,\n",
        "        output_hidden_states: Optional[bool] = True,\n",
        "        return_dict: Optional[bool] = True, # None,\n",
        "    ) -> Union[Tuple, SequenceClassifierOutput]:\n",
        "        r'''\n",
        "        labels (`torch.LongTensor` of shape `(batch_size,)`, *optional*):\n",
        "            Labels for computing the sequence classification/regression loss. Indices should be in `[0, ...,\n",
        "            config.num_labels - 1]`. If `config.num_labels == 1` a regression loss is computed (Mean-Square loss), If\n",
        "            `config.num_labels > 1` a classification loss is computed (Cross-Entropy).\n",
        "        '''\n",
        "        return_dict = return_dict if return_dict is not None else self.config.use_return_dict\n",
        "\n",
        "        outputs = self.bert(\n",
        "            input_ids,\n",
        "            attention_mask=attention_mask,\n",
        "            token_type_ids=token_type_ids,\n",
        "            position_ids=position_ids,\n",
        "            head_mask=head_mask,\n",
        "            inputs_embeds=inputs_embeds,\n",
        "            output_attentions=output_attentions,\n",
        "            output_hidden_states=output_hidden_states,\n",
        "            return_dict=return_dict,\n",
        "        )\n",
        "\n",
        "        cls_tokens = []\n",
        "        for i in range(1, self.last_cls + 1):\n",
        "            cls_tokens.append(outputs.hidden_states[-1 * i][:, 0, :])\n",
        "        if self.mean_last_cls:\n",
        "          # average cls tokens\n",
        "          output = torch.mean(torch.stack(cls_tokens), dim=0)\n",
        "        else:\n",
        "          # concat cls tokens\n",
        "          output = torch.cat(cls_tokens, dim=1)\n",
        "\n",
        "        output = self.dropout(output)\n",
        "\n",
        "        if local_features is not None:\n",
        "          tokens_output = outputs.last_hidden_state\n",
        "          tokens_output = self.dropout(tokens_output)\n",
        "\n",
        "          tokens_output = torch.cat((\n",
        "                  tokens_output,\n",
        "                  local_features.reshape(outputs.last_hidden_state.shape[0], outputs.last_hidden_state.shape[1], -1)),\n",
        "                             dim=2)\n",
        "\n",
        "          mask = torch.zeros_like(attention_mask)\n",
        "          # unmask tokens with high or low empathy, high distress levels, or expressing at least one emotion\n",
        "          j = 0\n",
        "          if 'emotions' in self.local_features_name:\n",
        "            emotion_values = local_features[:,:,:11]\n",
        "            mask[emotion_values.sum(dim=-1)>=1] = 1.0\n",
        "            j += 11\n",
        "\n",
        "          if 'empathy' in self.local_features_name:\n",
        "            empathy_values = local_features[:,:,j]\n",
        "            mask[(empathy_values>5) | ((empathy_values<3) & (empathy_values>=1))] = 1.0\n",
        "            j += 1\n",
        "\n",
        "          if 'distress' in self.local_features_name:\n",
        "            distress_values = local_features[:,:,j]\n",
        "            mask[distress_values>4] = 1.0\n",
        "\n",
        "          # mean pooling of unmasked tokens\n",
        "          input_mask_expanded = mask.unsqueeze(-1).expand(tokens_output.size()).float()\n",
        "          sum_embeddings = torch.sum(tokens_output * input_mask_expanded, 1)\n",
        "          sum_mask = input_mask_expanded.sum(1)\n",
        "          sum_mask = torch.clamp(sum_mask, min = 1e-9)\n",
        "          tokens_output = sum_embeddings/sum_mask\n",
        "\n",
        "          # concat pooled tokens lexically relevant with cls token\n",
        "          output = torch.cat((output, tokens_output), dim=-1)\n",
        "\n",
        "\n",
        "        if global_features is not None: # global\n",
        "          output = torch.cat((output, global_features), dim=-1)\n",
        "\n",
        "        logits = self.classifier(output)\n",
        "\n",
        "        loss = None\n",
        "        if labels is not None:\n",
        "            if self.config.problem_type is None:\n",
        "                if self.num_labels == 1:\n",
        "                    self.config.problem_type = \"regression\"\n",
        "                elif self.num_labels > 1 and (labels.dtype == torch.long or labels.dtype == torch.int):\n",
        "                    self.config.problem_type = \"single_label_classification\"\n",
        "                else:\n",
        "                    self.config.problem_type = \"multi_label_classification\"\n",
        "\n",
        "            if self.config.problem_type == \"regression\":\n",
        "                loss_fct = nn.MSELoss()\n",
        "                if self.num_labels == 1:\n",
        "                    loss = loss_fct(logits.squeeze(), labels.squeeze())\n",
        "                else:\n",
        "                    loss = loss_fct(logits, labels)\n",
        "            elif self.config.problem_type == \"single_label_classification\":\n",
        "                loss_fct = nn.CrossEntropyLoss(weight = self.loss_weights)\n",
        "                loss = loss_fct(logits.view(-1, self.num_labels), labels.view(-1))\n",
        "            elif self.config.problem_type == \"multi_label_classification\":\n",
        "                loss_fct = nn.BCEWithLogitsLoss(weight = self.loss_weights)\n",
        "                loss = loss_fct(logits, labels)\n",
        "\n",
        "        if not return_dict: # TODO:\n",
        "            output = (logits,) + outputs[2:]\n",
        "            return ((loss,) + output) if loss is not None else output\n",
        "\n",
        "        seq = SequenceClassifierOutput(\n",
        "            loss=loss,\n",
        "            logits=logits,\n",
        "            hidden_states=outputs.hidden_states,\n",
        "            attentions=outputs.attentions,\n",
        "        )\n",
        "        return seq\"\"\""
      ],
      "metadata": {
        "id": "2Vj3W-oUhBMZ",
        "execution": {
          "iopub.status.busy": "2023-07-11T19:11:23.702059Z",
          "iopub.execute_input": "2023-07-11T19:11:23.702374Z",
          "iopub.status.idle": "2023-07-11T19:11:23.732141Z",
          "shell.execute_reply.started": "2023-07-11T19:11:23.702348Z",
          "shell.execute_reply": "2023-07-11T19:11:23.730692Z"
        },
        "trusted": true,
        "colab": {
          "base_uri": "https://localhost:8080/",
          "height": 157
        },
        "outputId": "7b6b35e0-2f36-40bf-ee06-0c3e8db786c4"
      },
      "execution_count": 3,
      "outputs": [
        {
          "output_type": "execute_result",
          "data": {
            "text/plain": [
              "'class ClassificationHead(nn.Module):\\n    #Head for sentence-level classification tasks.\\n\\n    def __init__(self, config, num_extra_dims, hidden_layers_to_concat, classifier_dropout, local_features):\\n        super().__init__()\\n        self.local_features = local_features\\n        total_dims = config.hidden_size*hidden_layers_to_concat + num_extra_dims\\n        if self.local_features:\\n          total_dims += config.hidden_size\\n        self.dense = nn.Linear(total_dims, total_dims)\\n        self.dropout = nn.Dropout(classifier_dropout)\\n        self.out_proj = nn.Linear(total_dims, config.num_labels)\\n\\n    def forward(self, features, **kwargs):\\n        x = self.dense(features)\\n        x = torch.tanh(x)\\n        x = self.dropout(x)\\n        x = self.out_proj(x)\\n        return x\\n\\nclass CustomSequenceClassification(RobertaForSequenceClassification):\\n\\n    def __init__(self, config, num_extra_dims=0, local_features_name=None, loss_weights=None, last_cls = 1, mean_last_cls = False):\\n        super().__init__(config)\\n        self.num_labels = config.num_labels\\n        self.config = config\\n        self.local_features_name = local_features_name\\n        self.loss_weights = loss_weights\\n        self.last_cls = last_cls\\n        self.mean_last_cls = mean_last_cls\\n        self.bert =  RobertaModel(config)\\n        classifier_dropout = (\\n            config.classifier_dropout if config.classifier_dropout is not None else config.hidden_dropout_prob\\n        )\\n        self.dropout = nn.Dropout(classifier_dropout)\\n        self.classifier = ClassificationHead(config, num_extra_dims, last_cls, classifier_dropout, local_features_name is not None)\\n        self.post_init()\\n\\n\\n    def forward(\\n        self,\\n        input_ids: Optional[torch.LongTensor] = None,\\n        attention_mask: Optional[torch.FloatTensor] = None,\\n        local_features = None,\\n        global_features = None,\\n        token_type_ids: Optional[torch.LongTensor] = None,\\n        position_ids: Optional[torch.LongTensor] = None,\\n        head_mask: Optional[torch.FloatTensor] = None,\\n        inputs_embeds: Optional[torch.FloatTensor] = None,\\n        labels: Optional[torch.LongTensor] = None,\\n        output_attentions: Optional[bool] = None,\\n        output_hidden_states: Optional[bool] = True,\\n        return_dict: Optional[bool] = True, # None,\\n    ) -> Union[Tuple, SequenceClassifierOutput]:\\n        r\\'\\'\\'\\n        labels (`torch.LongTensor` of shape `(batch_size,)`, *optional*):\\n            Labels for computing the sequence classification/regression loss. Indices should be in `[0, ...,\\n            config.num_labels - 1]`. If `config.num_labels == 1` a regression loss is computed (Mean-Square loss), If\\n            `config.num_labels > 1` a classification loss is computed (Cross-Entropy).\\n        \\'\\'\\'\\n        return_dict = return_dict if return_dict is not None else self.config.use_return_dict\\n\\n        outputs = self.bert(\\n            input_ids,\\n            attention_mask=attention_mask,\\n            token_type_ids=token_type_ids,\\n            position_ids=position_ids,\\n            head_mask=head_mask,\\n            inputs_embeds=inputs_embeds,\\n            output_attentions=output_attentions,\\n            output_hidden_states=output_hidden_states,\\n            return_dict=return_dict,\\n        )\\n\\n        cls_tokens = []\\n        for i in range(1, self.last_cls + 1):\\n            cls_tokens.append(outputs.hidden_states[-1 * i][:, 0, :])\\n        if self.mean_last_cls:\\n          # average cls tokens\\n          output = torch.mean(torch.stack(cls_tokens), dim=0)\\n        else:\\n          # concat cls tokens\\n          output = torch.cat(cls_tokens, dim=1)\\n\\n        output = self.dropout(output)\\n\\n        if local_features is not None:\\n          tokens_output = outputs.last_hidden_state\\n          tokens_output = self.dropout(tokens_output)\\n\\n          tokens_output = torch.cat((\\n                  tokens_output,\\n                  local_features.reshape(outputs.last_hidden_state.shape[0], outputs.last_hidden_state.shape[1], -1)),\\n                             dim=2)\\n\\n          mask = torch.zeros_like(attention_mask)\\n          # unmask tokens with high or low empathy, high distress levels, or expressing at least one emotion\\n          j = 0\\n          if \\'emotions\\' in self.local_features_name:\\n            emotion_values = local_features[:,:,:11]\\n            mask[emotion_values.sum(dim=-1)>=1] = 1.0\\n            j += 11\\n\\n          if \\'empathy\\' in self.local_features_name:\\n            empathy_values = local_features[:,:,j]\\n            mask[(empathy_values>5) | ((empathy_values<3) & (empathy_values>=1))] = 1.0\\n            j += 1\\n\\n          if \\'distress\\' in self.local_features_name:\\n            distress_values = local_features[:,:,j]\\n            mask[distress_values>4] = 1.0\\n\\n          # mean pooling of unmasked tokens\\n          input_mask_expanded = mask.unsqueeze(-1).expand(tokens_output.size()).float()\\n          sum_embeddings = torch.sum(tokens_output * input_mask_expanded, 1)\\n          sum_mask = input_mask_expanded.sum(1)\\n          sum_mask = torch.clamp(sum_mask, min = 1e-9)\\n          tokens_output = sum_embeddings/sum_mask\\n\\n          # concat pooled tokens lexically relevant with cls token\\n          output = torch.cat((output, tokens_output), dim=-1)\\n\\n\\n        if global_features is not None: # global\\n          output = torch.cat((output, global_features), dim=-1)\\n\\n        logits = self.classifier(output)\\n\\n        loss = None\\n        if labels is not None:\\n            if self.config.problem_type is None:\\n                if self.num_labels == 1:\\n                    self.config.problem_type = \"regression\"\\n                elif self.num_labels > 1 and (labels.dtype == torch.long or labels.dtype == torch.int):\\n                    self.config.problem_type = \"single_label_classification\"\\n                else:\\n                    self.config.problem_type = \"multi_label_classification\"\\n\\n            if self.config.problem_type == \"regression\":\\n                loss_fct = nn.MSELoss()\\n                if self.num_labels == 1:\\n                    loss = loss_fct(logits.squeeze(), labels.squeeze())\\n                else:\\n                    loss = loss_fct(logits, labels)\\n            elif self.config.problem_type == \"single_label_classification\":\\n                loss_fct = nn.CrossEntropyLoss(weight = self.loss_weights)\\n                loss = loss_fct(logits.view(-1, self.num_labels), labels.view(-1))\\n            elif self.config.problem_type == \"multi_label_classification\":\\n                loss_fct = nn.BCEWithLogitsLoss(weight = self.loss_weights)\\n                loss = loss_fct(logits, labels)\\n\\n        if not return_dict: # TODO: \\n            output = (logits,) + outputs[2:]\\n            return ((loss,) + output) if loss is not None else output\\n\\n        seq = SequenceClassifierOutput(\\n            loss=loss,\\n            logits=logits,\\n            hidden_states=outputs.hidden_states,\\n            attentions=outputs.attentions,\\n        )\\n        return seq'"
            ],
            "application/vnd.google.colaboratory.intrinsic+json": {
              "type": "string"
            }
          },
          "metadata": {},
          "execution_count": 3
        }
      ]
    },
    {
      "cell_type": "code",
      "source": [
        "model = CustomSequenceClassification.from_pretrained(model_config.get(\"model_name\"),\n",
        "                                                     problem_type = \"multi_label_classification\",\n",
        "                                                     num_labels=NUM_LABELS,\n",
        "                                                     classifier_dropout=0.3,\n",
        "                                                     num_extra_dims = 0\n",
        "                                                     #num_extra_dims = DIM_EXTRA_FEATURES_GLOBAL,\n",
        "                                                     #local_features_name = LOCAL_FEATURES_NAMES,\n",
        "                                                     #loss_weights = loss_weights_train\n",
        "                                                     )"
      ],
      "metadata": {
        "colab": {
          "base_uri": "https://localhost:8080/",
          "height": 156,
          "referenced_widgets": [
            "b647812c03e148f6b96fee950ed892c0",
            "ebc94616ac1746218178fc588d5274bd",
            "04168687f1d046fdbb28aff266cb0462",
            "59f4d250e475439682a674e63aae13e9",
            "b08c08ad39d644e2baaa929811a18baf",
            "ca08b93ae9a7479da0c5ffa14985ced9",
            "18b5b3fc2506400e9dc94140c516cd85",
            "d9c0c4dcdd4b4ebebc7b8161f37a9592",
            "a50ea4e766e1412c9f3d2dce4f4bb438",
            "b85123ea2845451997892d0f409b7a2e",
            "ee3c6bb7336a4e9eb1c7d0d1ce4cbdac"
          ]
        },
        "id": "GvJbF80XhSDE",
        "outputId": "a5e4ce9b-f828-4526-89ee-7cbfd4deaf0a",
        "execution": {
          "iopub.status.busy": "2023-07-11T19:11:23.734558Z",
          "iopub.execute_input": "2023-07-11T19:11:23.734900Z",
          "iopub.status.idle": "2023-07-11T19:11:27.562951Z",
          "shell.execute_reply.started": "2023-07-11T19:11:23.734871Z",
          "shell.execute_reply": "2023-07-11T19:11:27.562030Z"
        },
        "trusted": true
      },
      "execution_count": 39,
      "outputs": [
        {
          "output_type": "display_data",
          "data": {
            "text/plain": [
              "Downloading model.safetensors:   0%|          | 0.00/436M [00:00<?, ?B/s]"
            ],
            "application/vnd.jupyter.widget-view+json": {
              "version_major": 2,
              "version_minor": 0,
              "model_id": "b647812c03e148f6b96fee950ed892c0"
            }
          },
          "metadata": {}
        },
        {
          "output_type": "stream",
          "name": "stderr",
          "text": [
            "Some weights of the model checkpoint at bert-base-cased were not used when initializing CustomSequenceClassification: ['cls.seq_relationship.bias', 'cls.predictions.transform.dense.bias', 'cls.predictions.transform.LayerNorm.weight', 'cls.seq_relationship.weight', 'cls.predictions.transform.LayerNorm.bias', 'cls.predictions.bias', 'cls.predictions.transform.dense.weight']\n",
            "- This IS expected if you are initializing CustomSequenceClassification from the checkpoint of a model trained on another task or with another architecture (e.g. initializing a BertForSequenceClassification model from a BertForPreTraining model).\n",
            "- This IS NOT expected if you are initializing CustomSequenceClassification from the checkpoint of a model that you expect to be exactly identical (initializing a BertForSequenceClassification model from a BertForSequenceClassification model).\n",
            "Some weights of CustomSequenceClassification were not initialized from the model checkpoint at bert-base-cased and are newly initialized: ['classifier.dense.bias', 'classifier.dense.weight', 'classifier.out_proj.weight', 'classifier.out_proj.bias']\n",
            "You should probably TRAIN this model on a down-stream task to be able to use it for predictions and inference.\n"
          ]
        }
      ]
    },
    {
      "cell_type": "markdown",
      "source": [
        "## Training"
      ],
      "metadata": {
        "id": "9xvHbhOhhttG"
      }
    },
    {
      "cell_type": "markdown",
      "source": [
        "Prepare datasets"
      ],
      "metadata": {
        "id": "bY0SLN6usjYs"
      }
    },
    {
      "cell_type": "code",
      "source": [
        "train_set = WASSADataset(tokenizer=tokenizer,\n",
        "                       EMO_lexicon=EMO_lexicon_train_dict,\n",
        "                       EMP_lexicon=EMP_lexicon_train_dict,\n",
        "                       essay=train_df.essay,\n",
        "                       essay_id = train_df.essay_id,\n",
        "                       targets=y_train #,\n",
        "                       #global_features = features_train,\n",
        "                       #local_emotions = True,\n",
        "                       #local_empathy = True,\n",
        "                       #local_distress = True\n",
        "                      )\n",
        "\n",
        "val_set = WASSADataset(tokenizer=tokenizer,\n",
        "                     EMO_lexicon=EMO_lexicon_train_dict,\n",
        "                     EMP_lexicon=EMP_lexicon_train_dict,\n",
        "                     essay=val_df.essay,\n",
        "                     essay_id = val_df.essay_id,\n",
        "                     targets=y_val #,\n",
        "                     #global_features = features_val,\n",
        "                     #local_emotions = True,\n",
        "                     #local_empathy = True,\n",
        "                     #local_distress = True\n",
        "                    )\n",
        "dev_set = WASSADataset(tokenizer=tokenizer,\n",
        "                     EMO_lexicon=EMO_lexicon_train_dict,\n",
        "                     EMP_lexicon=EMP_lexicon_train_dict,\n",
        "                     essay=dev_df.essay,\n",
        "                     essay_id = dev_df.essay_id,\n",
        "                     targets=y_dev #,\n",
        "                     #global_features = features_val,\n",
        "                     #local_emotions = True,\n",
        "                     #local_empathy = True,\n",
        "                     #local_distress = True\n",
        "                    )"
      ],
      "metadata": {
        "id": "DUIqO6AiZ8al",
        "execution": {
          "iopub.status.busy": "2023-07-11T19:11:27.564800Z",
          "iopub.execute_input": "2023-07-11T19:11:27.565429Z",
          "iopub.status.idle": "2023-07-11T19:11:27.572683Z",
          "shell.execute_reply.started": "2023-07-11T19:11:27.565394Z",
          "shell.execute_reply": "2023-07-11T19:11:27.571493Z"
        },
        "trusted": true
      },
      "execution_count": 40,
      "outputs": []
    },
    {
      "cell_type": "markdown",
      "source": [
        "Set up training"
      ],
      "metadata": {
        "id": "rvduRx8HsteS"
      }
    },
    {
      "cell_type": "code",
      "source": [
        "train_arguments = TrainingArguments(\n",
        "    output_dir=f\"./{model_config['model_name']}\",\n",
        "    per_device_train_batch_size=model_config['train_batch_size'],\n",
        "    per_device_eval_batch_size=model_config['val_batch_size'],\n",
        "    num_train_epochs=model_config['epochs'],\n",
        "    evaluation_strategy=\"steps\",\n",
        "    save_strategy=\"steps\",\n",
        "    eval_steps = 300,\n",
        "    save_steps = 300,\n",
        "    learning_rate=model_config['learning_rate'],\n",
        "    weight_decay=model_config['weight_decay'],\n",
        "    load_best_model_at_end=True,\n",
        "    metric_for_best_model='eval_loss', # TODO: change\n",
        "    seed=model_config['seed'],\n",
        "    logging_strategy = \"epoch\"\n",
        ") # TODO: custom other params"
      ],
      "metadata": {
        "id": "Z1DbZxhkD1R7",
        "execution": {
          "iopub.status.busy": "2023-07-11T19:11:27.574061Z",
          "iopub.execute_input": "2023-07-11T19:11:27.574736Z",
          "iopub.status.idle": "2023-07-11T19:11:27.586314Z",
          "shell.execute_reply.started": "2023-07-11T19:11:27.574702Z",
          "shell.execute_reply": "2023-07-11T19:11:27.585303Z"
        },
        "trusted": true
      },
      "execution_count": 41,
      "outputs": []
    },
    {
      "cell_type": "code",
      "source": [
        "trainer = Trainer(\n",
        "    model=model,\n",
        "    args=train_arguments,\n",
        "    train_dataset=train_set,\n",
        "    eval_dataset=val_set,\n",
        "    tokenizer=tokenizer,\n",
        "    compute_metrics=compute_EMO_metrics_trainer\n",
        ")"
      ],
      "metadata": {
        "id": "hrI2rj4U3K2Q",
        "colab": {
          "base_uri": "https://localhost:8080/"
        },
        "outputId": "cff10e03-2d31-4cb8-b763-48d78fc9663b",
        "execution": {
          "iopub.status.busy": "2023-07-11T19:11:27.587598Z",
          "iopub.execute_input": "2023-07-11T19:11:27.588557Z",
          "iopub.status.idle": "2023-07-11T19:11:27.726922Z",
          "shell.execute_reply.started": "2023-07-11T19:11:27.588523Z",
          "shell.execute_reply": "2023-07-11T19:11:27.725911Z"
        },
        "trusted": true
      },
      "execution_count": 42,
      "outputs": [
        {
          "output_type": "stream",
          "name": "stdout",
          "text": [
            "dentro len\n"
          ]
        }
      ]
    },
    {
      "cell_type": "markdown",
      "source": [
        "Callbacks"
      ],
      "metadata": {
        "id": "A-sruHQdsraI"
      }
    },
    {
      "cell_type": "code",
      "source": [
        "class TrainerLoggingCallback(TrainerCallback):\n",
        "    def __init__(self, log_path):\n",
        "        self.log_path = log_path\n",
        "\n",
        "    def on_log(self, args, state, control, logs=None, **kwargs):\n",
        "        _ = logs.pop(\"total_flos\", None)\n",
        "        if state.is_local_process_zero: # whether this process is the main one in a distributed setting\n",
        "            with open(self.log_path, \"a\") as f:\n",
        "                f.write(json.dumps(logs) + \"\\n\")\n",
        "\n",
        "trainer.add_callback(EarlyStoppingCallback(\n",
        "    early_stopping_patience=model_config['patience'],\n",
        "    early_stopping_threshold=model_config['early_stopping_threshold']))\n",
        "\n",
        "trainer.add_callback(TrainerLoggingCallback(model_config['model_id']+\"_log.json\"))"
      ],
      "metadata": {
        "id": "4kUY7tU3sqr3",
        "execution": {
          "iopub.status.busy": "2023-07-11T19:11:27.731059Z",
          "iopub.execute_input": "2023-07-11T19:11:27.731325Z",
          "iopub.status.idle": "2023-07-11T19:11:27.738285Z",
          "shell.execute_reply.started": "2023-07-11T19:11:27.731302Z",
          "shell.execute_reply": "2023-07-11T19:11:27.737157Z"
        },
        "trusted": true
      },
      "execution_count": 43,
      "outputs": []
    },
    {
      "cell_type": "markdown",
      "source": [
        "Start training"
      ],
      "metadata": {
        "id": "dcCqSooFsw0X"
      }
    },
    {
      "cell_type": "code",
      "source": [
        "trainer.train() # cambiare dropout, cambiare batch size, stampare predizioni, dentro len?"
      ],
      "metadata": {
        "colab": {
          "base_uri": "https://localhost:8080/",
          "height": 1000
        },
        "id": "L8xAPa81D5tu",
        "outputId": "44d891c0-8bbc-4b9c-89b1-04e482216f83",
        "execution": {
          "iopub.status.busy": "2023-07-11T19:11:27.740100Z",
          "iopub.execute_input": "2023-07-11T19:11:27.740439Z",
          "iopub.status.idle": "2023-07-11T19:20:18.229718Z",
          "shell.execute_reply.started": "2023-07-11T19:11:27.740408Z",
          "shell.execute_reply": "2023-07-11T19:20:18.228678Z"
        },
        "trusted": true
      },
      "execution_count": 44,
      "outputs": [
        {
          "output_type": "stream",
          "name": "stderr",
          "text": [
            "/usr/local/lib/python3.10/dist-packages/transformers/optimization.py:411: FutureWarning: This implementation of AdamW is deprecated and will be removed in a future version. Use the PyTorch implementation torch.optim.AdamW instead, or set `no_deprecation_warning=True` to disable this warning\n",
            "  warnings.warn(\n",
            "You're using a BertTokenizerFast tokenizer. Please note that with a fast tokenizer, using the `__call__` method is faster than using a method to encode the text followed by a call to the `pad` method to get a padded encoding.\n"
          ]
        },
        {
          "output_type": "stream",
          "name": "stdout",
          "text": [
            "dentro len\n",
            "dentro len\n",
            "dentro len\n",
            "dentro len\n",
            "dentro len\n",
            "dentro len\n",
            "dentro len\n",
            "dentro len\n",
            "dentro len\n",
            "dentro len\n"
          ]
        },
        {
          "output_type": "display_data",
          "data": {
            "text/plain": [
              "<IPython.core.display.HTML object>"
            ],
            "text/html": [
              "\n",
              "    <div>\n",
              "      \n",
              "      <progress value='1540' max='1540' style='width:300px; height:20px; vertical-align: middle;'></progress>\n",
              "      [1540/1540 12:21, Epoch 10/10]\n",
              "    </div>\n",
              "    <table border=\"1\" class=\"dataframe\">\n",
              "  <thead>\n",
              " <tr style=\"text-align: left;\">\n",
              "      <th>Step</th>\n",
              "      <th>Training Loss</th>\n",
              "      <th>Validation Loss</th>\n",
              "      <th>Macro F1</th>\n",
              "      <th>Micro F1</th>\n",
              "      <th>Micro Jaccard</th>\n",
              "      <th>Macro Precision</th>\n",
              "      <th>Macro Recall</th>\n",
              "      <th>Micro Precision</th>\n",
              "      <th>Micro Recall</th>\n",
              "      <th>Sklearn Accuracy</th>\n",
              "      <th>Roc Auc Micro</th>\n",
              "    </tr>\n",
              "  </thead>\n",
              "  <tbody>\n",
              "    <tr>\n",
              "      <td>300</td>\n",
              "      <td>0.327400</td>\n",
              "      <td>0.266248</td>\n",
              "      <td>0.257323</td>\n",
              "      <td>0.650000</td>\n",
              "      <td>0.481481</td>\n",
              "      <td>0.260795</td>\n",
              "      <td>0.260381</td>\n",
              "      <td>0.717791</td>\n",
              "      <td>0.593909</td>\n",
              "      <td>0.564417</td>\n",
              "      <td>0.776177</td>\n",
              "    </tr>\n",
              "    <tr>\n",
              "      <td>600</td>\n",
              "      <td>0.190000</td>\n",
              "      <td>0.269823</td>\n",
              "      <td>0.295221</td>\n",
              "      <td>0.661111</td>\n",
              "      <td>0.493776</td>\n",
              "      <td>0.334466</td>\n",
              "      <td>0.289418</td>\n",
              "      <td>0.730061</td>\n",
              "      <td>0.604061</td>\n",
              "      <td>0.570552</td>\n",
              "      <td>0.782157</td>\n",
              "    </tr>\n",
              "    <tr>\n",
              "      <td>900</td>\n",
              "      <td>0.119300</td>\n",
              "      <td>0.288014</td>\n",
              "      <td>0.431596</td>\n",
              "      <td>0.677686</td>\n",
              "      <td>0.512500</td>\n",
              "      <td>0.642691</td>\n",
              "      <td>0.370645</td>\n",
              "      <td>0.740964</td>\n",
              "      <td>0.624365</td>\n",
              "      <td>0.576687</td>\n",
              "      <td>0.792761</td>\n",
              "    </tr>\n",
              "    <tr>\n",
              "      <td>1200</td>\n",
              "      <td>0.066200</td>\n",
              "      <td>0.272682</td>\n",
              "      <td>0.473617</td>\n",
              "      <td>0.711590</td>\n",
              "      <td>0.552301</td>\n",
              "      <td>0.623855</td>\n",
              "      <td>0.421490</td>\n",
              "      <td>0.758621</td>\n",
              "      <td>0.670051</td>\n",
              "      <td>0.588957</td>\n",
              "      <td>0.816055</td>\n",
              "    </tr>\n",
              "    <tr>\n",
              "      <td>1500</td>\n",
              "      <td>0.040200</td>\n",
              "      <td>0.289041</td>\n",
              "      <td>0.459437</td>\n",
              "      <td>0.700809</td>\n",
              "      <td>0.539419</td>\n",
              "      <td>0.607171</td>\n",
              "      <td>0.407161</td>\n",
              "      <td>0.747126</td>\n",
              "      <td>0.659898</td>\n",
              "      <td>0.576687</td>\n",
              "      <td>0.810076</td>\n",
              "    </tr>\n",
              "  </tbody>\n",
              "</table><p>"
            ]
          },
          "metadata": {}
        },
        {
          "output_type": "stream",
          "name": "stdout",
          "text": [
            "dentro len\n",
            "dentro len\n",
            "dentro len\n",
            "dentro len\n",
            "dentro len\n",
            "dentro len\n",
            "dentro len\n",
            "dentro len\n",
            "dentro len\n",
            "dentro len\n",
            "dentro len\n",
            "dentro len\n",
            "dentro len\n",
            "dentro len\n",
            "dentro len\n",
            "dentro len\n",
            "dentro len\n",
            "dentro len\n",
            "dentro len\n",
            "dentro len\n",
            "dentro len\n",
            "dentro len\n",
            "dentro len\n",
            "dentro len\n",
            "dentro len\n",
            "dentro len\n",
            "dentro len\n",
            "dentro len\n",
            "dentro len\n",
            "dentro len\n",
            "dentro len\n",
            "dentro len\n",
            "dentro len\n",
            "dentro len\n",
            "dentro len\n",
            "dentro len\n",
            "dentro len\n",
            "dentro len\n",
            "dentro len\n",
            "dentro len\n",
            "dentro len\n",
            "dentro len\n",
            "dentro len\n",
            "dentro len\n",
            "dentro len\n",
            "dentro len\n",
            "dentro len\n",
            "dentro len\n",
            "dentro len\n",
            "dentro len\n",
            "dentro len\n"
          ]
        },
        {
          "output_type": "stream",
          "name": "stderr",
          "text": [
            "/usr/local/lib/python3.10/dist-packages/sklearn/metrics/_classification.py:1344: UndefinedMetricWarning: Precision and F-score are ill-defined and being set to 0.0 in labels with no predicted samples. Use `zero_division` parameter to control this behavior.\n",
            "  _warn_prf(average, modifier, msg_start, len(result))\n"
          ]
        },
        {
          "output_type": "stream",
          "name": "stdout",
          "text": [
            "dentro len\n",
            "dentro len\n",
            "dentro len\n",
            "dentro len\n",
            "dentro len\n",
            "dentro len\n",
            "dentro len\n",
            "dentro len\n",
            "dentro len\n",
            "dentro len\n",
            "dentro len\n",
            "dentro len\n",
            "dentro len\n",
            "dentro len\n",
            "dentro len\n",
            "dentro len\n",
            "dentro len\n",
            "dentro len\n",
            "dentro len\n",
            "dentro len\n",
            "dentro len\n",
            "dentro len\n",
            "dentro len\n",
            "dentro len\n",
            "dentro len\n",
            "dentro len\n",
            "dentro len\n",
            "dentro len\n",
            "dentro len\n",
            "dentro len\n",
            "dentro len\n",
            "dentro len\n",
            "dentro len\n",
            "dentro len\n",
            "dentro len\n",
            "dentro len\n",
            "dentro len\n",
            "dentro len\n",
            "dentro len\n",
            "dentro len\n",
            "dentro len\n",
            "dentro len\n",
            "dentro len\n",
            "dentro len\n",
            "dentro len\n",
            "dentro len\n",
            "dentro len\n",
            "dentro len\n",
            "dentro len\n",
            "dentro len\n",
            "dentro len\n",
            "dentro len\n",
            "dentro len\n",
            "dentro len\n",
            "dentro len\n"
          ]
        },
        {
          "output_type": "stream",
          "name": "stderr",
          "text": [
            "/usr/local/lib/python3.10/dist-packages/sklearn/metrics/_classification.py:1344: UndefinedMetricWarning: Precision and F-score are ill-defined and being set to 0.0 in labels with no predicted samples. Use `zero_division` parameter to control this behavior.\n",
            "  _warn_prf(average, modifier, msg_start, len(result))\n"
          ]
        },
        {
          "output_type": "stream",
          "name": "stdout",
          "text": [
            "dentro len\n",
            "dentro len\n",
            "dentro len\n",
            "dentro len\n",
            "dentro len\n",
            "dentro len\n",
            "dentro len\n",
            "dentro len\n",
            "dentro len\n",
            "dentro len\n",
            "dentro len\n",
            "dentro len\n",
            "dentro len\n",
            "dentro len\n",
            "dentro len\n",
            "dentro len\n",
            "dentro len\n",
            "dentro len\n",
            "dentro len\n",
            "dentro len\n",
            "dentro len\n",
            "dentro len\n",
            "dentro len\n",
            "dentro len\n",
            "dentro len\n",
            "dentro len\n",
            "dentro len\n",
            "dentro len\n",
            "dentro len\n",
            "dentro len\n",
            "dentro len\n",
            "dentro len\n",
            "dentro len\n",
            "dentro len\n",
            "dentro len\n",
            "dentro len\n",
            "dentro len\n",
            "dentro len\n",
            "dentro len\n",
            "dentro len\n",
            "dentro len\n",
            "dentro len\n",
            "dentro len\n",
            "dentro len\n",
            "dentro len\n",
            "dentro len\n",
            "dentro len\n",
            "dentro len\n",
            "dentro len\n",
            "dentro len\n",
            "dentro len\n",
            "dentro len\n",
            "dentro len\n",
            "dentro len\n",
            "dentro len\n"
          ]
        },
        {
          "output_type": "stream",
          "name": "stderr",
          "text": [
            "/usr/local/lib/python3.10/dist-packages/sklearn/metrics/_classification.py:1344: UndefinedMetricWarning: Precision and F-score are ill-defined and being set to 0.0 in labels with no predicted samples. Use `zero_division` parameter to control this behavior.\n",
            "  _warn_prf(average, modifier, msg_start, len(result))\n"
          ]
        },
        {
          "output_type": "stream",
          "name": "stdout",
          "text": [
            "dentro len\n",
            "dentro len\n",
            "dentro len\n",
            "dentro len\n",
            "dentro len\n",
            "dentro len\n",
            "dentro len\n",
            "dentro len\n",
            "dentro len\n",
            "dentro len\n",
            "dentro len\n",
            "dentro len\n",
            "dentro len\n",
            "dentro len\n",
            "dentro len\n",
            "dentro len\n",
            "dentro len\n",
            "dentro len\n",
            "dentro len\n",
            "dentro len\n",
            "dentro len\n",
            "dentro len\n",
            "dentro len\n",
            "dentro len\n",
            "dentro len\n",
            "dentro len\n",
            "dentro len\n",
            "dentro len\n",
            "dentro len\n",
            "dentro len\n",
            "dentro len\n",
            "dentro len\n",
            "dentro len\n",
            "dentro len\n",
            "dentro len\n",
            "dentro len\n",
            "dentro len\n",
            "dentro len\n",
            "dentro len\n",
            "dentro len\n",
            "dentro len\n",
            "dentro len\n",
            "dentro len\n",
            "dentro len\n",
            "dentro len\n",
            "dentro len\n",
            "dentro len\n",
            "dentro len\n",
            "dentro len\n",
            "dentro len\n",
            "dentro len\n",
            "dentro len\n",
            "dentro len\n",
            "dentro len\n",
            "dentro len\n"
          ]
        },
        {
          "output_type": "stream",
          "name": "stderr",
          "text": [
            "/usr/local/lib/python3.10/dist-packages/sklearn/metrics/_classification.py:1344: UndefinedMetricWarning: Precision and F-score are ill-defined and being set to 0.0 in labels with no predicted samples. Use `zero_division` parameter to control this behavior.\n",
            "  _warn_prf(average, modifier, msg_start, len(result))\n"
          ]
        },
        {
          "output_type": "stream",
          "name": "stdout",
          "text": [
            "dentro len\n",
            "dentro len\n",
            "dentro len\n",
            "dentro len\n",
            "dentro len\n",
            "dentro len\n",
            "dentro len\n",
            "dentro len\n",
            "dentro len\n",
            "dentro len\n",
            "dentro len\n",
            "dentro len\n",
            "dentro len\n",
            "dentro len\n",
            "dentro len\n",
            "dentro len\n",
            "dentro len\n",
            "dentro len\n",
            "dentro len\n",
            "dentro len\n",
            "dentro len\n",
            "dentro len\n",
            "dentro len\n",
            "dentro len\n",
            "dentro len\n",
            "dentro len\n",
            "dentro len\n",
            "dentro len\n",
            "dentro len\n",
            "dentro len\n",
            "dentro len\n",
            "dentro len\n",
            "dentro len\n",
            "dentro len\n",
            "dentro len\n",
            "dentro len\n",
            "dentro len\n",
            "dentro len\n",
            "dentro len\n",
            "dentro len\n",
            "dentro len\n",
            "dentro len\n",
            "dentro len\n",
            "dentro len\n",
            "dentro len\n",
            "dentro len\n",
            "dentro len\n",
            "dentro len\n",
            "dentro len\n",
            "dentro len\n",
            "dentro len\n",
            "dentro len\n",
            "dentro len\n",
            "dentro len\n",
            "dentro len\n"
          ]
        },
        {
          "output_type": "stream",
          "name": "stderr",
          "text": [
            "/usr/local/lib/python3.10/dist-packages/sklearn/metrics/_classification.py:1344: UndefinedMetricWarning: Precision and F-score are ill-defined and being set to 0.0 in labels with no predicted samples. Use `zero_division` parameter to control this behavior.\n",
            "  _warn_prf(average, modifier, msg_start, len(result))\n"
          ]
        },
        {
          "output_type": "execute_result",
          "data": {
            "text/plain": [
              "TrainOutput(global_step=1540, training_loss=0.13222367391957865, metrics={'train_runtime': 742.2486, 'train_samples_per_second': 8.299, 'train_steps_per_second': 2.075, 'train_loss': 0.13222367391957865, 'epoch': 10.0})"
            ]
          },
          "metadata": {},
          "execution_count": 44
        }
      ]
    },
    {
      "cell_type": "code",
      "source": [
        "# Access the training logs\n",
        "train_logs = trainer.state.log_history\n",
        "\n",
        "# Extract the loss values from the logs\n",
        "train_loss_values = [log.get('loss') for log in train_logs if log.get('loss') is not None]\n",
        "eval_loss_values = [log.get('eval_loss') for log in train_logs if log.get('eval_loss') is not None]\n",
        "train_epochs = [log.get('epoch') for log in train_logs if log.get('loss') is not None]\n",
        "eval_epochs = [log.get('epoch') for log in train_logs if log.get('eval_loss') is not None]"
      ],
      "metadata": {
        "id": "Dd-3octehTlH",
        "execution": {
          "iopub.status.busy": "2023-07-11T19:20:18.263461Z",
          "iopub.execute_input": "2023-07-11T19:20:18.263809Z",
          "iopub.status.idle": "2023-07-11T19:20:18.274394Z",
          "shell.execute_reply.started": "2023-07-11T19:20:18.263776Z",
          "shell.execute_reply": "2023-07-11T19:20:18.272774Z"
        },
        "trusted": true
      },
      "execution_count": 45,
      "outputs": []
    },
    {
      "cell_type": "code",
      "source": [
        "import seaborn as sns"
      ],
      "metadata": {
        "id": "C7mO8pWYK-y3",
        "execution": {
          "iopub.status.busy": "2023-07-11T19:20:18.275820Z",
          "iopub.execute_input": "2023-07-11T19:20:18.276280Z",
          "iopub.status.idle": "2023-07-11T19:20:18.302019Z",
          "shell.execute_reply.started": "2023-07-11T19:20:18.276222Z",
          "shell.execute_reply": "2023-07-11T19:20:18.300906Z"
        },
        "trusted": true
      },
      "execution_count": 46,
      "outputs": []
    },
    {
      "cell_type": "code",
      "source": [
        "plot_metric_curve(train_loss_values, eval_loss_values, train_epochs, eval_epochs, \"loss\")"
      ],
      "metadata": {
        "id": "ECEu3ajRl6k3",
        "colab": {
          "base_uri": "https://localhost:8080/",
          "height": 598
        },
        "outputId": "72802fd0-4c7e-453c-91af-d139f15033b8",
        "execution": {
          "iopub.status.busy": "2023-07-11T19:20:18.303144Z",
          "iopub.execute_input": "2023-07-11T19:20:18.303708Z",
          "iopub.status.idle": "2023-07-11T19:20:18.378460Z",
          "shell.execute_reply.started": "2023-07-11T19:20:18.303655Z",
          "shell.execute_reply": "2023-07-11T19:20:18.376257Z"
        },
        "trusted": true
      },
      "execution_count": 47,
      "outputs": [
        {
          "output_type": "display_data",
          "data": {
            "text/plain": [
              "<Figure size 1200x600 with 1 Axes>"
            ],
            "image/png": "[encoded data removed]"
          },
          "metadata": {}
        }
      ]
    },
    {
      "cell_type": "markdown",
      "source": [
        "## Evaluation"
      ],
      "metadata": {
        "id": "Rc5stfSah0Kj"
      }
    },
    {
      "cell_type": "code",
      "source": [
        "def predict_emotions(results, gold_emotions):\n",
        "\n",
        "  binarized_predictions = np.where(results >= 0.5, 1, 0)\n",
        "\n",
        "  for i, bin_pred in enumerate(binarized_predictions):\n",
        "    if np.all(bin_pred==0):\n",
        "      binarized_predictions[i][np.argmax(results[i])] = 1\n",
        "\n",
        "  predicted_emotions = label_encoder.decode(binarized_predictions)\n",
        "  return predicted_emotions\n"
      ],
      "metadata": {
        "id": "19G80dVoH3HZ",
        "execution": {
          "iopub.status.busy": "2023-07-11T19:32:52.625699Z",
          "iopub.execute_input": "2023-07-11T19:32:52.626228Z",
          "iopub.status.idle": "2023-07-11T19:32:52.641902Z",
          "shell.execute_reply.started": "2023-07-11T19:32:52.626186Z",
          "shell.execute_reply": "2023-07-11T19:32:52.638400Z"
        },
        "trusted": true
      },
      "execution_count": 48,
      "outputs": []
    },
    {
      "cell_type": "code",
      "source": [
        "outs = trainer.predict(dev_set)"
      ],
      "metadata": {
        "colab": {
          "base_uri": "https://localhost:8080/",
          "height": 1000
        },
        "id": "4WIAU6a7Mox4",
        "outputId": "cc307086-0338-4bc8-b9fe-4477693696dd"
      },
      "execution_count": 51,
      "outputs": [
        {
          "output_type": "stream",
          "name": "stdout",
          "text": [
            "dentro len\n",
            "dentro len\n",
            "dentro len\n",
            "dentro len\n",
            "dentro len\n"
          ]
        },
        {
          "output_type": "display_data",
          "data": {
            "text/plain": [
              "<IPython.core.display.HTML object>"
            ],
            "text/html": []
          },
          "metadata": {}
        },
        {
          "output_type": "stream",
          "name": "stdout",
          "text": [
            "dentro len\n",
            "dentro len\n",
            "dentro len\n",
            "dentro len\n",
            "dentro len\n",
            "dentro len\n",
            "dentro len\n",
            "dentro len\n",
            "dentro len\n",
            "dentro len\n",
            "dentro len\n",
            "dentro len\n",
            "dentro len\n",
            "dentro len\n",
            "dentro len\n",
            "dentro len\n",
            "dentro len\n",
            "dentro len\n",
            "dentro len\n",
            "dentro len\n",
            "dentro len\n",
            "dentro len\n",
            "dentro len\n",
            "dentro len\n",
            "dentro len\n",
            "dentro len\n",
            "dentro len\n",
            "dentro len\n",
            "dentro len\n",
            "dentro len\n",
            "dentro len\n",
            "dentro len\n",
            "dentro len\n",
            "dentro len\n",
            "dentro len\n",
            "dentro len\n",
            "dentro len\n",
            "dentro len\n",
            "dentro len\n",
            "dentro len\n",
            "dentro len\n",
            "dentro len\n",
            "dentro len\n",
            "dentro len\n",
            "dentro len\n",
            "dentro len\n",
            "dentro len\n",
            "dentro len\n",
            "dentro len\n",
            "dentro len\n",
            "dentro len\n",
            "dentro len\n",
            "dentro len\n"
          ]
        },
        {
          "output_type": "stream",
          "name": "stderr",
          "text": [
            "/usr/local/lib/python3.10/dist-packages/sklearn/metrics/_classification.py:1344: UndefinedMetricWarning: Precision and F-score are ill-defined and being set to 0.0 in labels with no predicted samples. Use `zero_division` parameter to control this behavior.\n",
            "  _warn_prf(average, modifier, msg_start, len(result))\n"
          ]
        }
      ]
    },
    {
      "cell_type": "code",
      "source": [
        "gold_emotions = label_encoder.decode(outs.label_ids)\n",
        "predicted_emotions = predict_emotions(outs.predictions[0], gold_emotions)"
      ],
      "metadata": {
        "id": "PIKGrBNlYDa1",
        "execution": {
          "iopub.status.busy": "2023-07-11T19:33:06.725448Z",
          "iopub.execute_input": "2023-07-11T19:33:06.725818Z",
          "iopub.status.idle": "2023-07-11T19:33:06.789138Z",
          "shell.execute_reply.started": "2023-07-11T19:33:06.725788Z",
          "shell.execute_reply": "2023-07-11T19:33:06.786525Z"
        },
        "trusted": true
      },
      "execution_count": 52,
      "outputs": []
    },
    {
      "cell_type": "code",
      "source": [
        "write_EMO_predictions(predicted_emotions, model_config['model_id']+\"_predictions_EMO.tsv\")\n",
        "challenge_metrics = compute_EMO_metrics(golds=gold_emotions, predictions=predicted_emotions)\n",
        "write_dict_to_json(challenge_metrics, model_config['model_id']+\"_dev_metrics.json\")\n",
        "challenge_metrics"
      ],
      "metadata": {
        "id": "Im2VGnmQs7bY",
        "execution": {
          "iopub.status.busy": "2023-07-11T19:20:18.388286Z",
          "iopub.status.idle": "2023-07-11T19:20:18.389135Z",
          "shell.execute_reply.started": "2023-07-11T19:20:18.388873Z",
          "shell.execute_reply": "2023-07-11T19:20:18.388900Z"
        },
        "trusted": true,
        "colab": {
          "base_uri": "https://localhost:8080/"
        },
        "outputId": "9130b349-a4cd-4b2b-feb0-6d490ea120e3"
      },
      "execution_count": 55,
      "outputs": [
        {
          "output_type": "stream",
          "name": "stderr",
          "text": [
            "/usr/local/lib/python3.10/dist-packages/sklearn/metrics/_classification.py:1344: UndefinedMetricWarning: Precision and F-score are ill-defined and being set to 0.0 in labels with no predicted samples. Use `zero_division` parameter to control this behavior.\n",
            "  _warn_prf(average, modifier, msg_start, len(result))\n"
          ]
        },
        {
          "output_type": "execute_result",
          "data": {
            "text/plain": [
              "{'micro_recall': 0.561,\n",
              " 'micro_precision': 0.6635,\n",
              " 'micro_f': 0.6079,\n",
              " 'macro_recall': 0.2319,\n",
              " 'macro_precision': 0.2702,\n",
              " 'macro_F': 0.2307,\n",
              " 'accuracy': 0.4367}"
            ]
          },
          "metadata": {},
          "execution_count": 55
        }
      ]
    },
    {
      "cell_type": "code",
      "source": [
        "plot_confusion_matrix(golds=gold_emotions, predictions=predicted_emotions, path=model_config['model_id']+\"_confusion_matrix.pdf\", title=model_config['model_id'])"
      ],
      "metadata": {
        "id": "ITunC36XXLoN",
        "execution": {
          "iopub.status.busy": "2023-07-11T19:20:18.390758Z",
          "iopub.status.idle": "2023-07-11T19:20:18.391292Z",
          "shell.execute_reply.started": "2023-07-11T19:20:18.391035Z",
          "shell.execute_reply": "2023-07-11T19:20:18.391058Z"
        },
        "trusted": true,
        "colab": {
          "base_uri": "https://localhost:8080/",
          "height": 701
        },
        "outputId": "7239a0e1-e1dc-46c3-a581-68f1f3524df9"
      },
      "execution_count": 56,
      "outputs": [
        {
          "output_type": "display_data",
          "data": {
            "text/plain": [
              "<Figure size 1000x700 with 2 Axes>"
            ],
            "image/png": "[encoded data removed]"
          },
          "metadata": {}
        }
      ]
    },
    {
      "cell_type": "code",
      "source": [
        "# Define the desired label names\n",
        "label_names = ['Anger', 'Disgust', 'Fear', 'Hope', 'Joy', 'Neutral', 'Sadness', 'Surprise']\n",
        "\n",
        "# Compute the confusion matrix\n",
        "cm = confusion_matrix(gold_emotions, predicted_emotions, labels=label_names)\n",
        "\n",
        "# Plot the confusion matrix\n",
        "fig, ax = plt.subplots()\n",
        "im = ax.imshow(cm, cmap='Blues')\n",
        "\n",
        "# Customize the plot\n",
        "ax.set_xticks(np.arange(len(label_names)))\n",
        "ax.set_yticks(np.arange(len(label_names)))\n",
        "ax.set_xticklabels(label_names, rotation=45)\n",
        "ax.set_yticklabels(label_names)\n",
        "plt.xlabel(\"Predicted\")\n",
        "plt.ylabel(\"True\")\n",
        "plt.title(\"Confusion Matrix\")\n",
        "\n",
        "# Add numbers in each cell\n",
        "for i in range(len(label_names)):\n",
        "    for j in range(len(label_names)):\n",
        "        text = ax.text(j, i, cm[i, j], ha=\"center\", va=\"center\", color=\"w\")\n",
        "\n",
        "# Add colorbar\n",
        "cbar = ax.figure.colorbar(im, ax=ax)\n",
        "\n",
        "# Show the plot\n",
        "plt.tight_layout()\n",
        "plt.show()\n"
      ],
      "metadata": {
        "id": "NNDV2IPmgaWy",
        "execution": {
          "iopub.status.busy": "2023-07-11T19:20:18.392998Z",
          "iopub.status.idle": "2023-07-11T19:20:18.393458Z",
          "shell.execute_reply.started": "2023-07-11T19:20:18.393223Z",
          "shell.execute_reply": "2023-07-11T19:20:18.393244Z"
        },
        "trusted": true,
        "colab": {
          "base_uri": "https://localhost:8080/",
          "height": 259
        },
        "outputId": "187612bd-fcef-4723-90e5-6b8238d8b320"
      },
      "execution_count": 57,
      "outputs": [
        {
          "output_type": "display_data",
          "data": {
            "text/plain": [
              "\u001b[31m╭─\u001b[0m\u001b[31m──────────────────────────────\u001b[0m\u001b[31m \u001b[0m\u001b[1;31mTraceback \u001b[0m\u001b[1;2;31m(most recent call last)\u001b[0m\u001b[31m \u001b[0m\u001b[31m───────────────────────────────\u001b[0m\u001b[31m─╮\u001b[0m\n",
              "\u001b[31m│\u001b[0m in \u001b[92m<cell line: 5>\u001b[0m:\u001b[94m5\u001b[0m                                                                              \u001b[31m│\u001b[0m\n",
              "\u001b[31m│\u001b[0m                                                                                                  \u001b[31m│\u001b[0m\n",
              "\u001b[31m│\u001b[0m \u001b[2;33m/usr/local/lib/python3.10/dist-packages/sklearn/metrics/\u001b[0m\u001b[1;33m_classification.py\u001b[0m:\u001b[94m331\u001b[0m in                \u001b[31m│\u001b[0m\n",
              "\u001b[31m│\u001b[0m \u001b[92mconfusion_matrix\u001b[0m                                                                                 \u001b[31m│\u001b[0m\n",
              "\u001b[31m│\u001b[0m                                                                                                  \u001b[31m│\u001b[0m\n",
              "\u001b[31m│\u001b[0m   \u001b[2m 328 \u001b[0m\u001b[2m│   │   \u001b[0m\u001b[94melif\u001b[0m y_true.size == \u001b[94m0\u001b[0m:                                                            \u001b[31m│\u001b[0m\n",
              "\u001b[31m│\u001b[0m   \u001b[2m 329 \u001b[0m\u001b[2m│   │   │   \u001b[0m\u001b[94mreturn\u001b[0m np.zeros((n_labels, n_labels), dtype=\u001b[96mint\u001b[0m)                              \u001b[31m│\u001b[0m\n",
              "\u001b[31m│\u001b[0m   \u001b[2m 330 \u001b[0m\u001b[2m│   │   \u001b[0m\u001b[94melif\u001b[0m \u001b[96mlen\u001b[0m(np.intersect1d(y_true, labels)) == \u001b[94m0\u001b[0m:                                    \u001b[31m│\u001b[0m\n",
              "\u001b[31m│\u001b[0m \u001b[31m❱ \u001b[0m 331 \u001b[2m│   │   │   \u001b[0m\u001b[94mraise\u001b[0m \u001b[96mValueError\u001b[0m(\u001b[33m\"\u001b[0m\u001b[33mAt least one label specified must be in y_true\u001b[0m\u001b[33m\"\u001b[0m)            \u001b[31m│\u001b[0m\n",
              "\u001b[31m│\u001b[0m   \u001b[2m 332 \u001b[0m\u001b[2m│   \u001b[0m                                                                                      \u001b[31m│\u001b[0m\n",
              "\u001b[31m│\u001b[0m   \u001b[2m 333 \u001b[0m\u001b[2m│   \u001b[0m\u001b[94mif\u001b[0m sample_weight \u001b[95mis\u001b[0m \u001b[94mNone\u001b[0m:                                                             \u001b[31m│\u001b[0m\n",
              "\u001b[31m│\u001b[0m   \u001b[2m 334 \u001b[0m\u001b[2m│   │   \u001b[0msample_weight = np.ones(y_true.shape[\u001b[94m0\u001b[0m], dtype=np.int64)                          \u001b[31m│\u001b[0m\n",
              "\u001b[31m╰──────────────────────────────────────────────────────────────────────────────────────────────────╯\u001b[0m\n",
              "\u001b[1;91mValueError: \u001b[0mAt least one label specified must be in y_true\n"
            ],
            "text/html": [
              "<pre style=\"white-space:pre;overflow-x:auto;line-height:normal;font-family:Menlo,'DejaVu Sans Mono',consolas,'Courier New',monospace\"><span style=\"color: #800000; text-decoration-color: #800000\">╭─────────────────────────────── </span><span style=\"color: #800000; text-decoration-color: #800000; font-weight: bold\">Traceback </span><span style=\"color: #bf7f7f; text-decoration-color: #bf7f7f; font-weight: bold\">(most recent call last)</span><span style=\"color: #800000; text-decoration-color: #800000\"> ────────────────────────────────╮</span>\n",
              "<span style=\"color: #800000; text-decoration-color: #800000\">│</span> in <span style=\"color: #00ff00; text-decoration-color: #00ff00\">&lt;cell line: 5&gt;</span>:<span style=\"color: #0000ff; text-decoration-color: #0000ff\">5</span>                                                                              <span style=\"color: #800000; text-decoration-color: #800000\">│</span>\n",
              "<span style=\"color: #800000; text-decoration-color: #800000\">│</span>                                                                                                  <span style=\"color: #800000; text-decoration-color: #800000\">│</span>\n",
              "<span style=\"color: #800000; text-decoration-color: #800000\">│</span> <span style=\"color: #bfbf7f; text-decoration-color: #bfbf7f\">/usr/local/lib/python3.10/dist-packages/sklearn/metrics/</span><span style=\"color: #808000; text-decoration-color: #808000; font-weight: bold\">_classification.py</span>:<span style=\"color: #0000ff; text-decoration-color: #0000ff\">331</span> in                <span style=\"color: #800000; text-decoration-color: #800000\">│</span>\n",
              "<span style=\"color: #800000; text-decoration-color: #800000\">│</span> <span style=\"color: #00ff00; text-decoration-color: #00ff00\">confusion_matrix</span>                                                                                 <span style=\"color: #800000; text-decoration-color: #800000\">│</span>\n",
              "<span style=\"color: #800000; text-decoration-color: #800000\">│</span>                                                                                                  <span style=\"color: #800000; text-decoration-color: #800000\">│</span>\n",
              "<span style=\"color: #800000; text-decoration-color: #800000\">│</span>   <span style=\"color: #7f7f7f; text-decoration-color: #7f7f7f\"> 328 </span><span style=\"color: #7f7f7f; text-decoration-color: #7f7f7f\">│   │   </span><span style=\"color: #0000ff; text-decoration-color: #0000ff\">elif</span> y_true.size == <span style=\"color: #0000ff; text-decoration-color: #0000ff\">0</span>:                                                            <span style=\"color: #800000; text-decoration-color: #800000\">│</span>\n",
              "<span style=\"color: #800000; text-decoration-color: #800000\">│</span>   <span style=\"color: #7f7f7f; text-decoration-color: #7f7f7f\"> 329 </span><span style=\"color: #7f7f7f; text-decoration-color: #7f7f7f\">│   │   │   </span><span style=\"color: #0000ff; text-decoration-color: #0000ff\">return</span> np.zeros((n_labels, n_labels), dtype=<span style=\"color: #00ffff; text-decoration-color: #00ffff\">int</span>)                              <span style=\"color: #800000; text-decoration-color: #800000\">│</span>\n",
              "<span style=\"color: #800000; text-decoration-color: #800000\">│</span>   <span style=\"color: #7f7f7f; text-decoration-color: #7f7f7f\"> 330 </span><span style=\"color: #7f7f7f; text-decoration-color: #7f7f7f\">│   │   </span><span style=\"color: #0000ff; text-decoration-color: #0000ff\">elif</span> <span style=\"color: #00ffff; text-decoration-color: #00ffff\">len</span>(np.intersect1d(y_true, labels)) == <span style=\"color: #0000ff; text-decoration-color: #0000ff\">0</span>:                                    <span style=\"color: #800000; text-decoration-color: #800000\">│</span>\n",
              "<span style=\"color: #800000; text-decoration-color: #800000\">│</span> <span style=\"color: #800000; text-decoration-color: #800000\">❱ </span> 331 <span style=\"color: #7f7f7f; text-decoration-color: #7f7f7f\">│   │   │   </span><span style=\"color: #0000ff; text-decoration-color: #0000ff\">raise</span> <span style=\"color: #00ffff; text-decoration-color: #00ffff\">ValueError</span>(<span style=\"color: #808000; text-decoration-color: #808000\">\"At least one label specified must be in y_true\"</span>)            <span style=\"color: #800000; text-decoration-color: #800000\">│</span>\n",
              "<span style=\"color: #800000; text-decoration-color: #800000\">│</span>   <span style=\"color: #7f7f7f; text-decoration-color: #7f7f7f\"> 332 </span><span style=\"color: #7f7f7f; text-decoration-color: #7f7f7f\">│   </span>                                                                                      <span style=\"color: #800000; text-decoration-color: #800000\">│</span>\n",
              "<span style=\"color: #800000; text-decoration-color: #800000\">│</span>   <span style=\"color: #7f7f7f; text-decoration-color: #7f7f7f\"> 333 </span><span style=\"color: #7f7f7f; text-decoration-color: #7f7f7f\">│   </span><span style=\"color: #0000ff; text-decoration-color: #0000ff\">if</span> sample_weight <span style=\"color: #ff00ff; text-decoration-color: #ff00ff\">is</span> <span style=\"color: #0000ff; text-decoration-color: #0000ff\">None</span>:                                                             <span style=\"color: #800000; text-decoration-color: #800000\">│</span>\n",
              "<span style=\"color: #800000; text-decoration-color: #800000\">│</span>   <span style=\"color: #7f7f7f; text-decoration-color: #7f7f7f\"> 334 </span><span style=\"color: #7f7f7f; text-decoration-color: #7f7f7f\">│   │   </span>sample_weight = np.ones(y_true.shape[<span style=\"color: #0000ff; text-decoration-color: #0000ff\">0</span>], dtype=np.int64)                          <span style=\"color: #800000; text-decoration-color: #800000\">│</span>\n",
              "<span style=\"color: #800000; text-decoration-color: #800000\">╰──────────────────────────────────────────────────────────────────────────────────────────────────╯</span>\n",
              "<span style=\"color: #ff0000; text-decoration-color: #ff0000; font-weight: bold\">ValueError: </span>At least one label specified must be in y_true\n",
              "</pre>\n"
            ]
          },
          "metadata": {}
        }
      ]
    },
    {
      "cell_type": "code",
      "source": [
        "plot_model_graph(model=model, input_data=tokenizer(\"Hello world!\", return_tensors=\"pt\"), path=model_config['model_id']+\"_graph\")"
      ],
      "metadata": {
        "id": "TJHxnmO7v8SJ",
        "execution": {
          "iopub.status.busy": "2023-07-11T19:20:18.394734Z",
          "iopub.status.idle": "2023-07-11T19:20:18.395569Z",
          "shell.execute_reply.started": "2023-07-11T19:20:18.395308Z",
          "shell.execute_reply": "2023-07-11T19:20:18.395348Z"
        },
        "trusted": true
      },
      "execution_count": null,
      "outputs": []
    },
    {
      "cell_type": "code",
      "source": [
        "print_model_summary(model=model, path=model_config['model_id']+\"_summary.txt\")"
      ],
      "metadata": {
        "id": "K33Q2SfFwR30",
        "execution": {
          "iopub.status.busy": "2023-07-11T19:20:18.401230Z",
          "iopub.status.idle": "2023-07-11T19:20:18.401577Z",
          "shell.execute_reply.started": "2023-07-11T19:20:18.401408Z",
          "shell.execute_reply": "2023-07-11T19:20:18.401425Z"
        },
        "trusted": true
      },
      "execution_count": null,
      "outputs": []
    },
    {
      "cell_type": "markdown",
      "source": [
        "## Save model on Google Drive"
      ],
      "metadata": {
        "id": "7DuCaju6tSHB"
      }
    },
    {
      "cell_type": "code",
      "source": [
        "trainer.state.best_model_checkpoint"
      ],
      "metadata": {
        "id": "QtK-k5ITtRzN",
        "execution": {
          "iopub.status.busy": "2023-07-11T19:20:18.403059Z",
          "iopub.status.idle": "2023-07-11T19:20:18.404275Z",
          "shell.execute_reply.started": "2023-07-11T19:20:18.404030Z",
          "shell.execute_reply": "2023-07-11T19:20:18.404052Z"
        },
        "trusted": true
      },
      "execution_count": null,
      "outputs": []
    },
    {
      "cell_type": "code",
      "source": [
        "!mv $trainer.state.best_model_checkpoint /content/drive/MyDrive/hlt"
      ],
      "metadata": {
        "id": "b1KcxQQ0uUl6",
        "execution": {
          "iopub.status.busy": "2023-07-11T19:20:18.405534Z",
          "iopub.status.idle": "2023-07-11T19:20:18.406365Z",
          "shell.execute_reply.started": "2023-07-11T19:20:18.406111Z",
          "shell.execute_reply": "2023-07-11T19:20:18.406135Z"
        },
        "trusted": true
      },
      "execution_count": null,
      "outputs": []
    },
    {
      "cell_type": "markdown",
      "source": [
        "## Inference"
      ],
      "metadata": {
        "id": "9pkHv9w4tM1F"
      }
    },
    {
      "cell_type": "code",
      "source": [
        "\"\"\"MODEL_PATH = \"/content/drive/MyDrive/hlt/best-roberta\"\"\"\""
      ],
      "metadata": {
        "id": "v6hEtBLztMeC",
        "execution": {
          "iopub.status.busy": "2023-07-11T19:20:18.408046Z",
          "iopub.status.idle": "2023-07-11T19:20:18.408865Z",
          "shell.execute_reply.started": "2023-07-11T19:20:18.408599Z",
          "shell.execute_reply": "2023-07-11T19:20:18.408622Z"
        },
        "trusted": true
      },
      "execution_count": null,
      "outputs": []
    },
    {
      "cell_type": "code",
      "source": [
        "\"\"\"tokenizer = AutoTokenizer.from_pretrained(MODEL_PATH, truncation=True)\n",
        "model = AutoModelForSequenceClassification.from_pretrained(\n",
        "    MODEL_PATH,\n",
        "    num_labels=NUM_LABELS,\n",
        "    ignore_mismatched_sizes=True,\n",
        "    problem_type=\"multi_label_classification\")\"\"\""
      ],
      "metadata": {
        "id": "hWFw9keWvCy3",
        "execution": {
          "iopub.status.busy": "2023-07-11T19:20:18.410255Z",
          "iopub.status.idle": "2023-07-11T19:20:18.411058Z",
          "shell.execute_reply.started": "2023-07-11T19:20:18.410790Z",
          "shell.execute_reply": "2023-07-11T19:20:18.410815Z"
        },
        "trusted": true
      },
      "execution_count": null,
      "outputs": []
    },
    {
      "cell_type": "code",
      "source": [
        "NUM_LABELS=8"
      ],
      "metadata": {
        "id": "xpg9CfGIhZ5E"
      },
      "execution_count": 5,
      "outputs": []
    },
    {
      "cell_type": "markdown",
      "source": [
        "load checkpoint"
      ],
      "metadata": {
        "id": "Xi38gs-o1IGp"
      }
    },
    {
      "cell_type": "code",
      "source": [
        "# Load the checkpoint file\n",
        "checkpoint_file = \"/content/bert-base-cased/checkpoint-1200\"\n",
        "#model = AutoModelForSequenceClassification.from_pretrained(checkpoint_file, num_labels=NUM_LABELS)\n",
        "model = CustomSequenceClassification.from_pretrained(checkpoint_file, num_labels=NUM_LABELS, num_extra_dims = 0)\n",
        "trainer = Trainer(model=model)\n",
        "# Perform prediction using the loaded checkpoint\n",
        "predictions = trainer.predict(dev_set)"
      ],
      "metadata": {
        "id": "ncPpGans0XIG",
        "execution": {
          "iopub.status.busy": "2023-07-11T19:20:18.412448Z",
          "iopub.status.idle": "2023-07-11T19:20:18.413241Z",
          "shell.execute_reply.started": "2023-07-11T19:20:18.412991Z",
          "shell.execute_reply": "2023-07-11T19:20:18.413014Z"
        },
        "trusted": true,
        "colab": {
          "base_uri": "https://localhost:8080/",
          "height": 81
        },
        "outputId": "16da3126-038d-43e1-8e3f-8113e7bd47b7"
      },
      "execution_count": 6,
      "outputs": [
        {
          "output_type": "display_data",
          "data": {
            "text/plain": [
              "\u001b[31m╭─\u001b[0m\u001b[31m──────────────────────────────\u001b[0m\u001b[31m \u001b[0m\u001b[1;31mTraceback \u001b[0m\u001b[1;2;31m(most recent call last)\u001b[0m\u001b[31m \u001b[0m\u001b[31m───────────────────────────────\u001b[0m\u001b[31m─╮\u001b[0m\n",
              "\u001b[31m│\u001b[0m in \u001b[92m<cell line: 7>\u001b[0m:\u001b[94m7\u001b[0m                                                                              \u001b[31m│\u001b[0m\n",
              "\u001b[31m╰──────────────────────────────────────────────────────────────────────────────────────────────────╯\u001b[0m\n",
              "\u001b[1;91mNameError: \u001b[0mname \u001b[32m'dev_set'\u001b[0m is not defined\n"
            ],
            "text/html": [
              "<pre style=\"white-space:pre;overflow-x:auto;line-height:normal;font-family:Menlo,'DejaVu Sans Mono',consolas,'Courier New',monospace\"><span style=\"color: #800000; text-decoration-color: #800000\">╭─────────────────────────────── </span><span style=\"color: #800000; text-decoration-color: #800000; font-weight: bold\">Traceback </span><span style=\"color: #bf7f7f; text-decoration-color: #bf7f7f; font-weight: bold\">(most recent call last)</span><span style=\"color: #800000; text-decoration-color: #800000\"> ────────────────────────────────╮</span>\n",
              "<span style=\"color: #800000; text-decoration-color: #800000\">│</span> in <span style=\"color: #00ff00; text-decoration-color: #00ff00\">&lt;cell line: 7&gt;</span>:<span style=\"color: #0000ff; text-decoration-color: #0000ff\">7</span>                                                                              <span style=\"color: #800000; text-decoration-color: #800000\">│</span>\n",
              "<span style=\"color: #800000; text-decoration-color: #800000\">╰──────────────────────────────────────────────────────────────────────────────────────────────────╯</span>\n",
              "<span style=\"color: #ff0000; text-decoration-color: #ff0000; font-weight: bold\">NameError: </span>name <span style=\"color: #008000; text-decoration-color: #008000\">'dev_set'</span> is not defined\n",
              "</pre>\n"
            ]
          },
          "metadata": {}
        }
      ]
    },
    {
      "cell_type": "code",
      "source": [
        "gold_emotions = label_encoder.decode(predictions.label_ids)\n",
        "predicted_emotions = predict_emotions(predictions.predictions[0], gold_emotions)"
      ],
      "metadata": {
        "id": "dOOGuVrJ00R2",
        "execution": {
          "iopub.status.busy": "2023-07-11T19:20:18.414655Z",
          "iopub.status.idle": "2023-07-11T19:20:18.415470Z",
          "shell.execute_reply.started": "2023-07-11T19:20:18.415200Z",
          "shell.execute_reply": "2023-07-11T19:20:18.415222Z"
        },
        "trusted": true
      },
      "execution_count": null,
      "outputs": []
    },
    {
      "cell_type": "code",
      "source": [
        "write_EMO_predictions(predicted_emotions, model_config['model_id']+\"_predictions_EMO.tsv\")\n",
        "challenge_metrics = compute_EMO_metrics(golds=gold_emotions, predictions=predicted_emotions)\n",
        "write_dict_to_json(challenge_metrics, model_config['model_id']+\"_dev_metrics.json\")\n",
        "challenge_metrics"
      ],
      "metadata": {
        "id": "rWWcct0E06bQ",
        "execution": {
          "iopub.status.busy": "2023-07-11T19:20:18.416884Z",
          "iopub.status.idle": "2023-07-11T19:20:18.417767Z",
          "shell.execute_reply.started": "2023-07-11T19:20:18.417439Z",
          "shell.execute_reply": "2023-07-11T19:20:18.417463Z"
        },
        "trusted": true
      },
      "execution_count": null,
      "outputs": []
    }
  ]
}