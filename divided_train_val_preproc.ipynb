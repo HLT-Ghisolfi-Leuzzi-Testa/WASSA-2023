{
 "cells": [
  {
   "cell_type": "code",
   "execution_count": 10,
   "metadata": {},
   "outputs": [],
   "source": [
    "import pandas as pd\n",
    "from sklearn.model_selection import train_test_split\n",
    "\n",
    "VAL_SIZE = 0.2\n",
    "\n",
    "TRAIN_DATA_PATH = \"./datasets/train_essay_level_preproc.tsv\"\n",
    "train_df = pd.read_csv(TRAIN_DATA_PATH, sep='\\t')"
   ]
  },
  {
   "cell_type": "code",
   "execution_count": 11,
   "metadata": {},
   "outputs": [],
   "source": [
    "# splitting train data into train and validation with a stratified approach\n",
    "emotions = train_df['emotion'].unique().tolist()\n",
    "internal_train_df = pd.DataFrame()\n",
    "internal_val_df = pd.DataFrame()\n",
    "for emotion in emotions:\n",
    "    emotion_df = train_df.loc[train_df['emotion']==emotion]\n",
    "    if emotion_df.shape[0] < 2 : # if a class has a single sample it is added to the train set\n",
    "        internal_train_df = pd.concat([internal_train_df, emotion_df])\n",
    "    else:\n",
    "        t_df, v_df = train_test_split(emotion_df, test_size=VAL_SIZE, stratify=emotion_df['emotion'], shuffle=True)\n",
    "        internal_train_df = pd.concat([internal_train_df, t_df])\n",
    "        internal_val_df = pd.concat([internal_val_df, v_df])"
   ]
  },
  {
   "cell_type": "code",
   "execution_count": 12,
   "metadata": {},
   "outputs": [],
   "source": [
    "internal_train_df.to_csv(\"datasets/internal_train_essay_level_preproc.tsv\", index=False, sep='\\t')\n",
    "internal_val_df.to_csv(\"datasets/internal_val_essay_level_preproc.tsv\", index=False, sep='\\t')"
   ]
  }
 ],
 "metadata": {
  "kernelspec": {
   "display_name": "base",
   "language": "python",
   "name": "python3"
  },
  "language_info": {
   "codemirror_mode": {
    "name": "ipython",
    "version": 3
   },
   "file_extension": ".py",
   "mimetype": "text/x-python",
   "name": "python",
   "nbconvert_exporter": "python",
   "pygments_lexer": "ipython3",
   "version": "3.10.9"
  },
  "orig_nbformat": 4
 },
 "nbformat": 4,
 "nbformat_minor": 2
}
