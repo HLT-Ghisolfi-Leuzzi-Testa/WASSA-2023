{
  "cells": [
    {
      "cell_type": "markdown",
      "metadata": {
        "id": "9_B-_QwdhWLe"
      },
      "source": [
        "# WASSA2023"
      ]
    },
    {
      "cell_type": "code",
      "execution_count": 1,
      "metadata": {
        "colab": {
          "base_uri": "https://localhost:8080/"
        },
        "execution": {
          "iopub.execute_input": "2023-07-11T19:04:39.939508Z",
          "iopub.status.busy": "2023-07-11T19:04:39.938937Z",
          "iopub.status.idle": "2023-07-11T19:04:39.955669Z",
          "shell.execute_reply": "2023-07-11T19:04:39.954582Z",
          "shell.execute_reply.started": "2023-07-11T19:04:39.939467Z"
        },
        "id": "9sDeMksltGSk",
        "outputId": "19ca51b6-8930-43dc-d1e8-ab4f04df2054",
        "trusted": true
      },
      "outputs": [
        {
          "output_type": "stream",
          "name": "stdout",
          "text": [
            "Mounted at /content/drive\n"
          ]
        }
      ],
      "source": [
        "from google.colab import drive\n",
        "drive.mount('/content/drive')"
      ]
    },
    {
      "cell_type": "markdown",
      "metadata": {
        "id": "15KoBLrVhbI8"
      },
      "source": [
        "## Dependencies"
      ]
    },
    {
      "cell_type": "code",
      "execution_count": 2,
      "metadata": {
        "id": "FTWi38mQKxUK"
      },
      "outputs": [],
      "source": [
        "repo_path = \"https://raw.githubusercontent.com/HLT-Ghisolfi-Leuzzi-Testa/WASSA-2023/\"\n",
        "branch = \"main\""
      ]
    },
    {
      "cell_type": "code",
      "execution_count": 3,
      "metadata": {
        "colab": {
          "base_uri": "https://localhost:8080/"
        },
        "execution": {
          "iopub.execute_input": "2023-07-11T19:04:39.958361Z",
          "iopub.status.busy": "2023-07-11T19:04:39.958022Z",
          "iopub.status.idle": "2023-07-11T19:06:28.298280Z",
          "shell.execute_reply": "2023-07-11T19:06:28.297057Z",
          "shell.execute_reply.started": "2023-07-11T19:04:39.958330Z"
        },
        "id": "1gnWTVNYDMx2",
        "outputId": "8bd78cb9-8fe1-4f09-f5ae-af0a3274f4d3",
        "trusted": true
      },
      "outputs": [
        {
          "output_type": "stream",
          "name": "stdout",
          "text": [
            "\u001b[2K     \u001b[90m━━━━━━━━━━━━━━━━━━━━━━━━━━━━━━━━━━━━━━━━\u001b[0m \u001b[32m7.2/7.2 MB\u001b[0m \u001b[31m54.6 MB/s\u001b[0m eta \u001b[36m0:00:00\u001b[0m\n",
            "\u001b[2K     \u001b[90m━━━━━━━━━━━━━━━━━━━━━━━━━━━━━━━━━━━━━━\u001b[0m \u001b[32m268.8/268.8 kB\u001b[0m \u001b[31m28.0 MB/s\u001b[0m eta \u001b[36m0:00:00\u001b[0m\n",
            "\u001b[2K     \u001b[90m━━━━━━━━━━━━━━━━━━━━━━━━━━━━━━━━━━━━━━━━\u001b[0m \u001b[32m7.8/7.8 MB\u001b[0m \u001b[31m81.9 MB/s\u001b[0m eta \u001b[36m0:00:00\u001b[0m\n",
            "\u001b[2K     \u001b[90m━━━━━━━━━━━━━━━━━━━━━━━━━━━━━━━━━━━━━━━━\u001b[0m \u001b[32m1.3/1.3 MB\u001b[0m \u001b[31m59.9 MB/s\u001b[0m eta \u001b[36m0:00:00\u001b[0m\n",
            "\u001b[2K     \u001b[90m━━━━━━━━━━━━━━━━━━━━━━━━━━━━━━━━━━━━━━━\u001b[0m \u001b[32m244.2/244.2 kB\u001b[0m \u001b[31m5.4 MB/s\u001b[0m eta \u001b[36m0:00:00\u001b[0m\n",
            "\u001b[2K     \u001b[90m━━━━━━━━━━━━━━━━━━━━━━━━━━━━━━━━━━━━━━━\u001b[0m \u001b[32m486.2/486.2 kB\u001b[0m \u001b[31m7.7 MB/s\u001b[0m eta \u001b[36m0:00:00\u001b[0m\n",
            "\u001b[2K     \u001b[90m━━━━━━━━━━━━━━━━━━━━━━━━━━━━━━━━━━━━━━\u001b[0m \u001b[32m110.5/110.5 kB\u001b[0m \u001b[31m14.4 MB/s\u001b[0m eta \u001b[36m0:00:00\u001b[0m\n",
            "\u001b[2K     \u001b[90m━━━━━━━━━━━━━━━━━━━━━━━━━━━━━━━━━━━━━━\u001b[0m \u001b[32m212.5/212.5 kB\u001b[0m \u001b[31m21.3 MB/s\u001b[0m eta \u001b[36m0:00:00\u001b[0m\n",
            "\u001b[2K     \u001b[90m━━━━━━━━━━━━━━━━━━━━━━━━━━━━━━━━━━━━━━\u001b[0m \u001b[32m134.3/134.3 kB\u001b[0m \u001b[31m12.8 MB/s\u001b[0m eta \u001b[36m0:00:00\u001b[0m\n",
            "\u001b[2K     \u001b[90m━━━━━━━━━━━━━━━━━━━━━━━━━━━━━━━━━━━━━━━\u001b[0m \u001b[32m157.6/157.6 kB\u001b[0m \u001b[31m4.5 MB/s\u001b[0m eta \u001b[36m0:00:00\u001b[0m\n",
            "\u001b[2K     \u001b[90m━━━━━━━━━━━━━━━━━━━━━━━━━━━━━━━━━━━━━━\u001b[0m \u001b[32m135.7/135.7 kB\u001b[0m \u001b[31m14.4 MB/s\u001b[0m eta \u001b[36m0:00:00\u001b[0m\n",
            "\u001b[2K     \u001b[90m━━━━━━━━━━━━━━━━━━━━━━━━━━━━━━━━━━━━━━━━\u001b[0m \u001b[32m1.3/1.3 MB\u001b[0m \u001b[31m29.4 MB/s\u001b[0m eta \u001b[36m0:00:00\u001b[0m\n",
            "\u001b[2K     \u001b[90m━━━━━━━━━━━━━━━━━━━━━━━━━━━━━━━━━━━━━━━━\u001b[0m \u001b[32m11.0/11.0 MB\u001b[0m \u001b[31m97.5 MB/s\u001b[0m eta \u001b[36m0:00:00\u001b[0m\n",
            "\u001b[2K     \u001b[90m━━━━━━━━━━━━━━━━━━━━━━━━━━━━━━━━━━━━━━━━\u001b[0m \u001b[32m79.8/79.8 kB\u001b[0m \u001b[31m9.8 MB/s\u001b[0m eta \u001b[36m0:00:00\u001b[0m\n",
            "\u001b[2K     \u001b[90m━━━━━━━━━━━━━━━━━━━━━━━━━━━━━━━━━━━━━━━\u001b[0m \u001b[32m396.4/396.4 kB\u001b[0m \u001b[31m7.6 MB/s\u001b[0m eta \u001b[36m0:00:00\u001b[0m\n",
            "\u001b[?25h  Preparing metadata (setup.py) ... \u001b[?25l\u001b[?25hdone\n",
            "  Building wheel for NRCLex (setup.py) ... \u001b[?25l\u001b[?25hdone\n",
            "[nltk_data] Downloading package brown to /root/nltk_data...\n",
            "[nltk_data]   Unzipping corpora/brown.zip.\n",
            "[nltk_data] Downloading package punkt to /root/nltk_data...\n",
            "[nltk_data]   Unzipping tokenizers/punkt.zip.\n",
            "[nltk_data] Downloading package wordnet to /root/nltk_data...\n",
            "[nltk_data] Downloading package averaged_perceptron_tagger to\n",
            "[nltk_data]     /root/nltk_data...\n",
            "[nltk_data]   Unzipping taggers/averaged_perceptron_tagger.zip.\n",
            "[nltk_data] Downloading package conll2000 to /root/nltk_data...\n",
            "[nltk_data]   Unzipping corpora/conll2000.zip.\n",
            "[nltk_data] Downloading package movie_reviews to /root/nltk_data...\n",
            "[nltk_data]   Unzipping corpora/movie_reviews.zip.\n",
            "Finished.\n"
          ]
        }
      ],
      "source": [
        "!pip install transformers -q\n",
        "!pip install accelerate -U -q\n",
        "!pip install datasets -q\n",
        "!pip install torch-summary -q\n",
        "!pip install graphviz -q\n",
        "!pip install torchview -q\n",
        "!pip install bertviz -q\n",
        "!pip install NRCLex -q\n",
        "!pip install textblob -q\n",
        "!python -m textblob.download_corpora -q"
      ]
    },
    {
      "cell_type": "code",
      "execution_count": 4,
      "metadata": {
        "colab": {
          "base_uri": "https://localhost:8080/"
        },
        "execution": {
          "iopub.execute_input": "2023-07-11T19:06:28.300542Z",
          "iopub.status.busy": "2023-07-11T19:06:28.299931Z",
          "iopub.status.idle": "2023-07-11T19:06:30.619028Z",
          "shell.execute_reply": "2023-07-11T19:06:30.617896Z",
          "shell.execute_reply.started": "2023-07-11T19:06:28.300504Z"
        },
        "id": "9Xbo-Ei3IAYB",
        "outputId": "1bdca2d6-f0d3-4c50-db56-05a8ae5c4833",
        "trusted": true
      },
      "outputs": [
        {
          "output_type": "stream",
          "name": "stdout",
          "text": [
            "--2023-07-14 19:21:26--  https://raw.githubusercontent.com/HLT-Ghisolfi-Leuzzi-Testa/WASSA-2023/main/utils.py\n",
            "Resolving raw.githubusercontent.com (raw.githubusercontent.com)... 185.199.111.133, 185.199.109.133, 185.199.110.133, ...\n",
            "Connecting to raw.githubusercontent.com (raw.githubusercontent.com)|185.199.111.133|:443... connected.\n",
            "HTTP request sent, awaiting response... 200 OK\n",
            "Length: 29165 (28K) [text/plain]\n",
            "Saving to: ‘utils.py’\n",
            "\n",
            "utils.py            100%[===================>]  28.48K  --.-KB/s    in 0.003s  \n",
            "\n",
            "2023-07-14 19:21:27 (9.19 MB/s) - ‘utils.py’ saved [29165/29165]\n",
            "\n",
            "--2023-07-14 19:21:27--  https://raw.githubusercontent.com/HLT-Ghisolfi-Leuzzi-Testa/WASSA-2023/main/evaluation.py\n",
            "Resolving raw.githubusercontent.com (raw.githubusercontent.com)... 185.199.111.133, 185.199.109.133, 185.199.110.133, ...\n",
            "Connecting to raw.githubusercontent.com (raw.githubusercontent.com)|185.199.111.133|:443... connected.\n",
            "HTTP request sent, awaiting response... 200 OK\n",
            "Length: 10675 (10K) [text/plain]\n",
            "Saving to: ‘evaluation.py’\n",
            "\n",
            "evaluation.py       100%[===================>]  10.42K  --.-KB/s    in 0.001s  \n",
            "\n",
            "2023-07-14 19:21:27 (19.1 MB/s) - ‘evaluation.py’ saved [10675/10675]\n",
            "\n"
          ]
        }
      ],
      "source": [
        "utils_url = f\"{repo_path}{branch}/utils.py\"\n",
        "evaluation_url = f\"{repo_path}{branch}/evaluation.py\"\n",
        "\n",
        "import os\n",
        "if os.path.exists(\"utils.py\"):\n",
        "  !rm \"utils.py\"\n",
        "if os.path.exists(\"evaluation.py\"):\n",
        "  !rm \"evaluation.py\"\n",
        "\n",
        "!wget {utils_url}\n",
        "!wget {evaluation_url}"
      ]
    },
    {
      "cell_type": "code",
      "execution_count": 5,
      "metadata": {
        "colab": {
          "base_uri": "https://localhost:8080/"
        },
        "execution": {
          "iopub.execute_input": "2023-07-11T19:06:30.622919Z",
          "iopub.status.busy": "2023-07-11T19:06:30.622582Z",
          "iopub.status.idle": "2023-07-11T19:06:38.755450Z",
          "shell.execute_reply": "2023-07-11T19:06:38.754266Z",
          "shell.execute_reply.started": "2023-07-11T19:06:30.622890Z"
        },
        "id": "kEVk5afqZjf1",
        "outputId": "d6257f18-cb39-4d40-da37-cfd8331abe86",
        "trusted": true
      },
      "outputs": [
        {
          "output_type": "stream",
          "name": "stdout",
          "text": [
            "--2023-07-14 19:21:27--  https://raw.githubusercontent.com/HLT-Ghisolfi-Leuzzi-Testa/WASSA-2023/main/datasets/EMO23_lexicon_per_word_train.json\n",
            "Resolving raw.githubusercontent.com (raw.githubusercontent.com)... 185.199.109.133, 185.199.108.133, 185.199.110.133, ...\n",
            "Connecting to raw.githubusercontent.com (raw.githubusercontent.com)|185.199.109.133|:443... connected.\n",
            "HTTP request sent, awaiting response... 200 OK\n",
            "Length: 13477977 (13M) [text/plain]\n",
            "Saving to: ‘EMO23_lexicon_per_word_train.json’\n",
            "\n",
            "EMO23_lexicon_per_w 100%[===================>]  12.85M  --.-KB/s    in 0.1s    \n",
            "\n",
            "2023-07-14 19:21:29 (102 MB/s) - ‘EMO23_lexicon_per_word_train.json’ saved [13477977/13477977]\n",
            "\n",
            "--2023-07-14 19:21:29--  https://raw.githubusercontent.com/HLT-Ghisolfi-Leuzzi-Testa/WASSA-2023/main/datasets/EMP23_lexicon_per_word_train.json\n",
            "Resolving raw.githubusercontent.com (raw.githubusercontent.com)... 185.199.108.133, 185.199.111.133, 185.199.109.133, ...\n",
            "Connecting to raw.githubusercontent.com (raw.githubusercontent.com)|185.199.108.133|:443... connected.\n",
            "HTTP request sent, awaiting response... 200 OK\n",
            "Length: 7607723 (7.3M) [text/plain]\n",
            "Saving to: ‘EMP23_lexicon_per_word_train.json’\n",
            "\n",
            "EMP23_lexicon_per_w 100%[===================>]   7.25M  --.-KB/s    in 0.1s    \n",
            "\n",
            "2023-07-14 19:21:30 (67.9 MB/s) - ‘EMP23_lexicon_per_word_train.json’ saved [7607723/7607723]\n",
            "\n",
            "--2023-07-14 19:21:30--  https://raw.githubusercontent.com/HLT-Ghisolfi-Leuzzi-Testa/WASSA-2023/main/datasets/EMO23_lexicon_per_word_dev.json\n",
            "Resolving raw.githubusercontent.com (raw.githubusercontent.com)... 185.199.110.133, 185.199.109.133, 185.199.108.133, ...\n",
            "Connecting to raw.githubusercontent.com (raw.githubusercontent.com)|185.199.110.133|:443... connected.\n",
            "HTTP request sent, awaiting response... 200 OK\n",
            "Length: 1058526 (1.0M) [text/plain]\n",
            "Saving to: ‘EMO23_lexicon_per_word_dev.json’\n",
            "\n",
            "EMO23_lexicon_per_w 100%[===================>]   1.01M  --.-KB/s    in 0.07s   \n",
            "\n",
            "2023-07-14 19:21:30 (15.5 MB/s) - ‘EMO23_lexicon_per_word_dev.json’ saved [1058526/1058526]\n",
            "\n",
            "--2023-07-14 19:21:30--  https://raw.githubusercontent.com/HLT-Ghisolfi-Leuzzi-Testa/WASSA-2023/main/datasets/EMP23_lexicon_per_word_dev.json\n",
            "Resolving raw.githubusercontent.com (raw.githubusercontent.com)... 185.199.109.133, 185.199.111.133, 185.199.108.133, ...\n",
            "Connecting to raw.githubusercontent.com (raw.githubusercontent.com)|185.199.109.133|:443... connected.\n",
            "HTTP request sent, awaiting response... 200 OK\n",
            "Length: 595839 (582K) [text/plain]\n",
            "Saving to: ‘EMP23_lexicon_per_word_dev.json’\n",
            "\n",
            "EMP23_lexicon_per_w 100%[===================>] 581.87K  --.-KB/s    in 0.05s   \n",
            "\n",
            "2023-07-14 19:21:31 (11.6 MB/s) - ‘EMP23_lexicon_per_word_dev.json’ saved [595839/595839]\n",
            "\n",
            "--2023-07-14 19:21:31--  https://raw.githubusercontent.com/HLT-Ghisolfi-Leuzzi-Testa/WASSA-2023/main/datasets/EMO23_lexicon_per_word_test.json\n",
            "Resolving raw.githubusercontent.com (raw.githubusercontent.com)... 185.199.108.133, 185.199.109.133, 185.199.110.133, ...\n",
            "Connecting to raw.githubusercontent.com (raw.githubusercontent.com)|185.199.108.133|:443... connected.\n",
            "HTTP request sent, awaiting response... 200 OK\n",
            "Length: 651198 (636K) [text/plain]\n",
            "Saving to: ‘EMO23_lexicon_per_word_test.json’\n",
            "\n",
            "EMO23_lexicon_per_w 100%[===================>] 635.94K  --.-KB/s    in 0.05s   \n",
            "\n",
            "2023-07-14 19:21:31 (11.9 MB/s) - ‘EMO23_lexicon_per_word_test.json’ saved [651198/651198]\n",
            "\n",
            "--2023-07-14 19:21:31--  https://raw.githubusercontent.com/HLT-Ghisolfi-Leuzzi-Testa/WASSA-2023/main/datasets/EMP23_lexicon_per_word_test.json\n",
            "Resolving raw.githubusercontent.com (raw.githubusercontent.com)... 185.199.109.133, 185.199.111.133, 185.199.110.133, ...\n",
            "Connecting to raw.githubusercontent.com (raw.githubusercontent.com)|185.199.109.133|:443... connected.\n",
            "HTTP request sent, awaiting response... 200 OK\n",
            "Length: 362281 (354K) [text/plain]\n",
            "Saving to: ‘EMP23_lexicon_per_word_test.json’\n",
            "\n",
            "EMP23_lexicon_per_w 100%[===================>] 353.79K  --.-KB/s    in 0.04s   \n",
            "\n",
            "2023-07-14 19:21:32 (8.68 MB/s) - ‘EMP23_lexicon_per_word_test.json’ saved [362281/362281]\n",
            "\n"
          ]
        }
      ],
      "source": [
        "EMO_json_path_train = f\"{repo_path}{branch}/datasets/EMO23_lexicon_per_word_train.json\"\n",
        "EMP_json_path_train = f\"{repo_path}{branch}/datasets/EMP23_lexicon_per_word_train.json\"\n",
        "EMO_json_path_dev = f\"{repo_path}{branch}/datasets/EMO23_lexicon_per_word_dev.json\"\n",
        "EMP_json_path_dev = f\"{repo_path}{branch}/datasets/EMP23_lexicon_per_word_dev.json\"\n",
        "EMO_json_path_test = f\"{repo_path}{branch}/datasets/EMO23_lexicon_per_word_test.json\"\n",
        "EMP_json_path_test = f\"{repo_path}{branch}/datasets/EMP23_lexicon_per_word_test.json\"\n",
        "\n",
        "!wget {EMO_json_path_train}\n",
        "!wget {EMP_json_path_train}\n",
        "!wget {EMO_json_path_dev}\n",
        "!wget {EMP_json_path_dev}\n",
        "!wget {EMO_json_path_test}\n",
        "!wget {EMP_json_path_test}"
      ]
    },
    {
      "cell_type": "code",
      "execution_count": 6,
      "metadata": {
        "colab": {
          "base_uri": "https://localhost:8080/"
        },
        "execution": {
          "iopub.execute_input": "2023-07-11T19:06:38.757963Z",
          "iopub.status.busy": "2023-07-11T19:06:38.757555Z",
          "iopub.status.idle": "2023-07-11T19:06:52.358142Z",
          "shell.execute_reply": "2023-07-11T19:06:52.357177Z",
          "shell.execute_reply.started": "2023-07-11T19:06:38.757924Z"
        },
        "id": "XDmQslVxDhy1",
        "outputId": "4f9da32b-4835-4aeb-e209-1e9f74d2273d",
        "trusted": true
      },
      "outputs": [
        {
          "output_type": "execute_result",
          "data": {
            "text/plain": [
              "<module 'utils' from '/content/utils.py'>"
            ]
          },
          "metadata": {},
          "execution_count": 6
        }
      ],
      "source": [
        "import json\n",
        "import torch\n",
        "import string\n",
        "from torch import nn\n",
        "from torch.nn import BCEWithLogitsLoss\n",
        "import pandas as pd\n",
        "import numpy as np\n",
        "from sklearn.preprocessing import StandardScaler\n",
        "from transformers import AutoTokenizer, AutoModelForSequenceClassification, AutoModel\n",
        "from transformers import TrainingArguments, Trainer, TrainerCallback, EarlyStoppingCallback\n",
        "from transformers import BertPreTrainedModel, BertModel\n",
        "from transformers.modeling_outputs import SequenceClassifierOutput\n",
        "import torch\n",
        "from torch import nn\n",
        "from transformers import AutoConfig, BertForSequenceClassification, RobertaForSequenceClassification, RobertaModel\n",
        "from transformers.modeling_outputs import SequenceClassifierOutput\n",
        "from typing import Optional, Union, Tuple\n",
        "from nrclex import NRCLex\n",
        "import importlib\n",
        "import sys\n",
        "from torch.utils.data import Dataset\n",
        "from utils import *\n",
        "importlib.reload(sys.modules['utils'])"
      ]
    },
    {
      "cell_type": "code",
      "execution_count": 7,
      "metadata": {
        "colab": {
          "base_uri": "https://localhost:8080/"
        },
        "execution": {
          "iopub.execute_input": "2023-07-11T19:06:52.360520Z",
          "iopub.status.busy": "2023-07-11T19:06:52.359527Z",
          "iopub.status.idle": "2023-07-11T19:06:52.392731Z",
          "shell.execute_reply": "2023-07-11T19:06:52.391807Z",
          "shell.execute_reply.started": "2023-07-11T19:06:52.360482Z"
        },
        "id": "quom7lWCDiiI",
        "outputId": "260c6871-9e57-4a87-a5ef-36ed4a236b49",
        "trusted": true
      },
      "outputs": [
        {
          "output_type": "stream",
          "name": "stdout",
          "text": [
            "======= CUDA Available =======\n"
          ]
        }
      ],
      "source": [
        "# set CUDA if available\n",
        "if torch.cuda.is_available():\n",
        "    device = torch.device('cuda')\n",
        "    print(\"======= CUDA Available =======\")\n",
        "else:\n",
        "    device = torch.device('cpu')\n",
        "    print(\"======= CUDA NOT Available, run on CPU =======\")"
      ]
    },
    {
      "cell_type": "markdown",
      "source": [
        "## Set up"
      ],
      "metadata": {
        "id": "oLrhz2zGdhJT"
      }
    },
    {
      "cell_type": "code",
      "execution_count": 8,
      "metadata": {
        "execution": {
          "iopub.execute_input": "2023-07-11T19:06:52.394814Z",
          "iopub.status.busy": "2023-07-11T19:06:52.394204Z",
          "iopub.status.idle": "2023-07-11T19:06:52.406593Z",
          "shell.execute_reply": "2023-07-11T19:06:52.405612Z",
          "shell.execute_reply.started": "2023-07-11T19:06:52.394779Z"
        },
        "id": "S2o5IfHdgXXf",
        "trusted": true
      },
      "outputs": [],
      "source": [
        "EMOTIONS_NAMES = [\n",
        "    'fear',\n",
        "    'anger',\n",
        "    'anticipation',\n",
        "    'trust',\n",
        "    'surprise',\n",
        "    'positive',\n",
        "    'negative',\n",
        "    'sadness',\n",
        "    'disgust',\n",
        "    'joy',\n",
        "    'hope'\n",
        "]\n",
        "\n",
        "config = {}"
      ]
    },
    {
      "cell_type": "code",
      "source": [
        "#@title Global Features\n",
        "TASK = \"EMO\" #@param [\"EMO\", \"EMP\"]"
      ],
      "metadata": {
        "id": "GMoRVEFkQIPx"
      },
      "execution_count": 9,
      "outputs": []
    },
    {
      "cell_type": "code",
      "execution_count": 10,
      "metadata": {
        "execution": {
          "iopub.execute_input": "2023-07-11T19:10:06.052235Z",
          "iopub.status.busy": "2023-07-11T19:10:06.051958Z",
          "iopub.status.idle": "2023-07-11T19:10:06.059593Z",
          "shell.execute_reply": "2023-07-11T19:10:06.058689Z",
          "shell.execute_reply.started": "2023-07-11T19:10:06.052213Z"
        },
        "id": "7JyTdDiw9TWP",
        "trusted": true
      },
      "outputs": [],
      "source": [
        "#@title Number of labels\n",
        "num_labels = 8 #@param {type:\"integer\"}\n",
        "config['num_labels'] = num_labels"
      ]
    },
    {
      "cell_type": "code",
      "execution_count": 11,
      "metadata": {
        "id": "g78XkRZL6xHY"
      },
      "outputs": [],
      "source": [
        "#@title Model Class\n",
        "model_id = 'roberta-all-before' #@param {type:\"string\"}\n",
        "model_class_string = \"RobertaPreTrainedModel\" #@param [\"BertPreTrainedModel\", \"RobertaPreTrainedModel\"]\n",
        "model_name = 'roberta-base' #@param [\"bert-base\", \"roberta-base\"]\n",
        "\n",
        "if model_class_string == \"BertPreTrainedModel\":\n",
        "  model_class = BertForSequenceClassification\n",
        "else:\n",
        "  model_class = RobertaForSequenceClassification\n",
        "\n",
        "config['model_id'] = model_id\n",
        "config['model_class_string'] = model_class_string\n",
        "config['model_name'] = model_name"
      ]
    },
    {
      "cell_type": "code",
      "execution_count": 12,
      "metadata": {
        "execution": {
          "iopub.execute_input": "2023-07-11T19:10:06.026995Z",
          "iopub.status.busy": "2023-07-11T19:10:06.026313Z",
          "iopub.status.idle": "2023-07-11T19:10:06.034340Z",
          "shell.execute_reply": "2023-07-11T19:10:06.033205Z",
          "shell.execute_reply.started": "2023-07-11T19:10:06.026970Z"
        },
        "id": "j6y4HnEP6gcI",
        "trusted": true
      },
      "outputs": [],
      "source": [
        "#@title Global Features\n",
        "emo_count_global = True #@param {type:\"boolean\"}\n",
        "empathy_count_global = True #@param {type:\"boolean\"}\n",
        "distress_count_global = True #@param {type:\"boolean\"}\n",
        "bio_global = True #@param {type:\"boolean\"}\n",
        "gold_emotions = True #@param {type:\"boolean\"}\n",
        "gold_empathy = True #@param {type:\"boolean\"}\n",
        "gold_distress = True #@param {type:\"boolean\"}\n",
        "\n",
        "if TASK == \"EMO\":\n",
        "  gold_emotions = False\n",
        "if TASK ==\"EMP\":\n",
        "  gold_distress = False\n",
        "  gold_empathy = False\n",
        "\n",
        "global_features_names = []\n",
        "emotions_count = ['fear_count',\t'anger_count','anticipation_count',\t'trust_count',\n",
        "                 'positive_count',\t'negative_count', 'surprise_count',\n",
        "                 'sadness_count',\t'disgust_count',\t'joy_count',\t'hope_count']\n",
        "bio = ['gender', 'age', 'income', 'race', 'education']\n",
        "if emo_count_global:\n",
        "  for emo in emotions_count: global_features_names.append(emo)\n",
        "if empathy_count_global: global_features_names.append('empathy_count')\n",
        "if distress_count_global: global_features_names.append('distress_count')\n",
        "if bio_global:\n",
        "  for b in bio: global_features_names.append(b)\n",
        "\n",
        "if gold_empathy: global_features_names.append('empathy')\n",
        "if gold_distress: global_features_names.append('distress')\n",
        "\n",
        "config['emo_count_global'] = emo_count_global\n",
        "config['empathy_count_global'] = empathy_count_global\n",
        "config['distress_count_global'] = distress_count_global\n",
        "config['bio_global'] = bio_global\n",
        "config['gold_emotions'] = gold_emotions\n",
        "config['gold_empathy'] = gold_empathy\n",
        "config['gold_distress'] = gold_distress\n",
        "config['global_features_names'] = global_features_names\n"
      ]
    },
    {
      "cell_type": "code",
      "execution_count": 13,
      "metadata": {
        "execution": {
          "iopub.execute_input": "2023-07-11T19:10:06.036262Z",
          "iopub.status.busy": "2023-07-11T19:10:06.035925Z",
          "iopub.status.idle": "2023-07-11T19:10:06.048932Z",
          "shell.execute_reply": "2023-07-11T19:10:06.048042Z",
          "shell.execute_reply.started": "2023-07-11T19:10:06.036232Z"
        },
        "id": "n3snAqfK6728",
        "trusted": true
      },
      "outputs": [],
      "source": [
        "#@title Local Features\n",
        "emo_count_local = True #@param {type:\"boolean\"}\n",
        "empathy_count_local = True #@param {type:\"boolean\"}\n",
        "distress_count_local = True #@param {type:\"boolean\"}\n",
        "\n",
        "local_features_names = []\n",
        "num_local_features = 0\n",
        "if emo_count_local:\n",
        "  local_features_names.append('emotions')\n",
        "  num_local_features += len(EMOTIONS_NAMES)\n",
        "if empathy_count_local:\n",
        "  local_features_names.append('empathy')\n",
        "  num_local_features += 1\n",
        "if distress_count_local:\n",
        "  local_features_names.append('distress')\n",
        "  num_local_features += 1\n",
        "\n",
        "if len(local_features_names) == 0: local_features_names = None\n",
        "\n",
        "config['emo_count_local'] = emo_count_local\n",
        "config['empathy_count_local'] = empathy_count_local\n",
        "config['distress_count_local'] = distress_count_local\n",
        "config['local_features_names'] = local_features_names\n",
        "\n",
        "dim_extra_features = 0\n",
        "if gold_emotions:\n",
        "  dim_extra_features = len(global_features_names) + 8\n",
        "else:\n",
        "  dim_extra_features = len(global_features_names)"
      ]
    },
    {
      "cell_type": "code",
      "execution_count": 14,
      "metadata": {
        "id": "EaTQUHDY6xHZ"
      },
      "outputs": [],
      "source": [
        "#@title Prompt\n",
        "bio_prompt = True #@param {type:\"boolean\"}\n",
        "emo_prompt = True #@param {type:\"boolean\"}\n",
        "empathy_prompt = True #@param {type:\"boolean\"}\n",
        "\n",
        "prompt_names = []\n",
        "if bio_prompt:\n",
        "    prompt_names.append('prompt_bio')\n",
        "if empathy_prompt:\n",
        "    prompt_names.append('prompt_emo')\n",
        "if emo_prompt:\n",
        "    prompt_names.append('prompt_emp')\n",
        "\n",
        "sep_string = 'before SEP' #@param [\"after SEP\", \"before SEP\"]\n",
        "if sep_string == 'after SEP':\n",
        "  sep = True\n",
        "else:\n",
        "  sep = False\n",
        "\n",
        "config['bio_prompt'] = bio_prompt\n",
        "config['emo_prompt'] = emo_prompt\n",
        "config['empathy_prompt'] = empathy_prompt\n",
        "config['prompt_names'] = prompt_names\n",
        "config['sep'] = sep"
      ]
    },
    {
      "cell_type": "code",
      "source": [
        "#@title Last CLSs\n",
        "n_last_cls = 1 #@param {type:\"integer\"}\n",
        "mean_last_cls = False #@param {type: \"boolean\"}\n",
        "concat_local_features = False #@param {type: \"boolean\"}\n",
        "config['n_last_cls'] = n_last_cls\n",
        "config['mean_last_cls'] = mean_last_cls\n",
        "config['concat_local_features'] = concat_local_features\n",
        "\n",
        "if concat_local_features:\n",
        "  dim_extra_features += num_local_features\n",
        "\n",
        "config['dim_extra_features'] = dim_extra_features"
      ],
      "metadata": {
        "id": "V361RpgifLr-"
      },
      "execution_count": 15,
      "outputs": []
    },
    {
      "cell_type": "code",
      "source": [
        "#@title Model configuration\n",
        "train_batch_size = 8 #@param {type:\"integer\"}\n",
        "val_batch_size = 8 #@param {type:\"integer\"}\n",
        "learning_rate = 5e-5 #@param {type:\"number\"}\n",
        "weight_decay = 0 #@param {type:\"number\"}\n",
        "epochs = 30 #@param {type:\"integer\"}\n",
        "patience = 5 #@param {type:\"integer\"}\n",
        "dropout = 0.3 #@param {type:\"number\"}\n",
        "weighted_loss = False #@param {type:\"boolean\"}\n",
        "\n",
        "model_type ={\n",
        "  'distilroberta-emotion':'j-hartmann/emotion-english-distilroberta-base',\n",
        "  'roberta-emotion':'j-hartmann/emotion-english-roberta-large',\n",
        "  'bert-base': 'bert-base-cased',\n",
        "  'roberta-base' : 'roberta-base'\n",
        "}\n",
        "\n",
        "model_config = {\n",
        "    'model_id': model_id,\n",
        "    'tokenizer_name': model_type.get(model_name),\n",
        "    'model_name': model_type.get(model_name),\n",
        "    'train_batch_size': train_batch_size,\n",
        "    'val_batch_size': val_batch_size,\n",
        "    'learning_rate': learning_rate,\n",
        "    'weight_decay': weight_decay,\n",
        "    'epochs': epochs,\n",
        "    'seed': 42,\n",
        "    'patience': patience,\n",
        "    'early_stopping_threshold': 0,\n",
        "    'weighted_loss': weighted_loss,\n",
        "    'dropout' : dropout\n",
        "}\n",
        "\n"
      ],
      "metadata": {
        "id": "SwMOxxRRg0Vh"
      },
      "execution_count": 16,
      "outputs": []
    },
    {
      "cell_type": "code",
      "execution_count": 17,
      "metadata": {
        "execution": {
          "iopub.execute_input": "2023-07-11T19:10:06.061536Z",
          "iopub.status.busy": "2023-07-11T19:10:06.061089Z",
          "iopub.status.idle": "2023-07-11T19:10:06.069916Z",
          "shell.execute_reply": "2023-07-11T19:10:06.069051Z",
          "shell.execute_reply.started": "2023-07-11T19:10:06.061505Z"
        },
        "id": "dA224FxADpqd",
        "trusted": true,
        "colab": {
          "base_uri": "https://localhost:8080/"
        },
        "outputId": "f7908859-963a-4914-b3b8-a2b422d8eaa2"
      },
      "outputs": [
        {
          "output_type": "stream",
          "name": "stdout",
          "text": [
            "\n",
            "CONFIGURATION\n",
            "num_labels: 8\n",
            "model_id: roberta-all-before\n",
            "model_class_string: RobertaPreTrainedModel\n",
            "model_name: roberta-base\n",
            "emo_count_global: True\n",
            "empathy_count_global: True\n",
            "distress_count_global: True\n",
            "bio_global: True\n",
            "gold_emotions: False\n",
            "gold_empathy: True\n",
            "gold_distress: True\n",
            "global_features_names: ['fear_count', 'anger_count', 'anticipation_count', 'trust_count', 'positive_count', 'negative_count', 'surprise_count', 'sadness_count', 'disgust_count', 'joy_count', 'hope_count', 'empathy_count', 'distress_count', 'gender', 'age', 'income', 'race', 'education', 'empathy', 'distress']\n",
            "emo_count_local: True\n",
            "empathy_count_local: True\n",
            "distress_count_local: True\n",
            "local_features_names: ['emotions', 'empathy', 'distress']\n",
            "bio_prompt: True\n",
            "emo_prompt: True\n",
            "empathy_prompt: True\n",
            "prompt_names: ['prompt_bio', 'prompt_emo', 'prompt_emp']\n",
            "sep: False\n",
            "n_last_cls: 1\n",
            "mean_last_cls: False\n",
            "concat_local_features: False\n",
            "dim_extra_features: 20\n",
            "tokenizer_name: roberta-base\n",
            "train_batch_size: 8\n",
            "val_batch_size: 8\n",
            "learning_rate: 5e-05\n",
            "weight_decay: 0\n",
            "epochs: 30\n",
            "seed: 42\n",
            "patience: 5\n",
            "early_stopping_threshold: 0\n",
            "weighted_loss: False\n",
            "dropout: 0.3\n"
          ]
        }
      ],
      "source": [
        "path_tosave = f\"{TASK}_{model_config['model_id']}\"\n",
        "!mkdir $path_tosave\n",
        "\n",
        "config.update(model_config)\n",
        "write_dict_to_json(config, f\"{path_tosave}/config.json\")\n",
        "\n",
        "print(\"\\nCONFIGURATION\")\n",
        "for k,v in config.items():\n",
        "  print(f\"{k}: {v}\")"
      ]
    },
    {
      "cell_type": "markdown",
      "metadata": {
        "id": "4gsXzUtCBv-j"
      },
      "source": [
        "## Dataset"
      ]
    },
    {
      "cell_type": "markdown",
      "metadata": {
        "id": "dIUOnGp-_6lV"
      },
      "source": [
        "### WASSA dataset"
      ]
    },
    {
      "cell_type": "code",
      "execution_count": 18,
      "metadata": {
        "execution": {
          "iopub.execute_input": "2023-07-11T19:06:52.410007Z",
          "iopub.status.busy": "2023-07-11T19:06:52.409372Z",
          "iopub.status.idle": "2023-07-11T19:06:52.429476Z",
          "shell.execute_reply": "2023-07-11T19:06:52.428716Z",
          "shell.execute_reply.started": "2023-07-11T19:06:52.409972Z"
        },
        "id": "WOuBgl-TmlM-",
        "trusted": true
      },
      "outputs": [],
      "source": [
        "class WASSADataset(Dataset):\n",
        "\n",
        "    def __init__(\n",
        "        self,\n",
        "        tokenizer,\n",
        "        essay,\n",
        "        essay_id,\n",
        "        targets,\n",
        "        sep=False,\n",
        "        prompt=None,\n",
        "        EMP_lexicon = None,\n",
        "        EMO_lexicon = None,\n",
        "        global_features = None,\n",
        "        local_emotions = False,\n",
        "        local_empathy = False,\n",
        "        local_distress = False,\n",
        "        max_len=None\n",
        "        ):\n",
        "        self.tokenizer = tokenizer\n",
        "        self.max_len = max_len\n",
        "        self.essay = essay\n",
        "        self.essay_id = essay_id\n",
        "        self.targets = targets\n",
        "        self.EMP_lexicon = EMP_lexicon\n",
        "        self.EMO_lexicon = EMO_lexicon\n",
        "        self.sep = sep\n",
        "        self.prompt = prompt\n",
        "\n",
        "        self.global_features = global_features\n",
        "        self.local_emotions = local_emotions\n",
        "        self.local_empathy = local_empathy\n",
        "        self.local_distress = local_distress\n",
        "\n",
        "    def __len__(self):\n",
        "        return len(self.targets)\n",
        "\n",
        "    def __getitem__(self, index):\n",
        "        essay = str(self.essay[index])\n",
        "\n",
        "        essay_id = self.essay_id[index]\n",
        "\n",
        "        prompt = \"\"\n",
        "        if self.prompt is not None:\n",
        "          for i, p in enumerate(self.prompt[index]):\n",
        "            prompt += \" \" + str(p)\n",
        "\n",
        "        text = essay\n",
        "        text_pair = None\n",
        "        if self.sep:\n",
        "          text_pair = prompt\n",
        "        else:\n",
        "          if self.prompt is not None:\n",
        "            text += prompt\n",
        "\n",
        "        inputs = self.tokenizer.encode_plus(\n",
        "            text=essay,\n",
        "            text_pair=text_pair,\n",
        "            add_special_tokens=True,\n",
        "            max_length=self.max_len,\n",
        "            padding='max_length',\n",
        "            truncation=True,\n",
        "            return_attention_mask=True,\n",
        "            return_tensors='pt',\n",
        "            return_token_type_ids=True\n",
        "        )\n",
        "\n",
        "        item = {\n",
        "          'input_ids': inputs['input_ids'].flatten(),\n",
        "          'attention_mask': inputs['attention_mask'].flatten(),\n",
        "          'token_type_ids': inputs[\"token_type_ids\"].flatten()\n",
        "        }\n",
        "\n",
        "        if self.targets is not None:\n",
        "          item['labels'] = torch.FloatTensor(self.targets[index])\n",
        "\n",
        "        if self.global_features is not None:\n",
        "          item['global_features'] = self.global_features[index]\n",
        "\n",
        "        n_local_features = 0\n",
        "        features_tokens_row = []\n",
        "        if self.local_emotions:\n",
        "            n_local_features += len(EMOTIONS_NAMES)\n",
        "            for i in range(len(EMOTIONS_NAMES)):\n",
        "                features_tokens_row.append(0)\n",
        "        if self.local_empathy:\n",
        "            n_local_features += 1\n",
        "            features_tokens_row.append(4)\n",
        "        if self.local_distress:\n",
        "            n_local_features += 1\n",
        "            features_tokens_row.append(0)\n",
        "\n",
        "        if n_local_features > 0:\n",
        "            features_tokens = np.full((self.tokenizer.model_max_length, n_local_features), features_tokens_row)\n",
        "        else:\n",
        "          features_tokens = None\n",
        "\n",
        "        word_count=0\n",
        "        first_char=True\n",
        "        last_char_is_space=False\n",
        "        for char_idx, char in enumerate(essay):\n",
        "          token_idx = inputs.char_to_token(char_idx)\n",
        "          if token_idx is None:\n",
        "            if first_char: last_char_is_space=True\n",
        "            if not last_char_is_space and not first_char:\n",
        "              word_count+=1\n",
        "              last_char_is_space=True\n",
        "            continue\n",
        "          elif last_char_is_space:\n",
        "            last_char_is_space=False\n",
        "          first_char=False\n",
        "\n",
        "          j = 0\n",
        "          if char not in string.punctuation:\n",
        "            if self.local_emotions:\n",
        "              for i, emo in enumerate(EMOTIONS_NAMES):\n",
        "                features_tokens[token_idx][i] = self.EMO_lexicon[str(essay_id)][emo][word_count]\n",
        "              j += len(EMOTIONS_NAMES)\n",
        "\n",
        "            if self.local_empathy:\n",
        "              features_tokens[token_idx][j] = self.EMP_lexicon[str(essay_id)]['empathy'][word_count]\n",
        "              j += 1\n",
        "\n",
        "\n",
        "            if self.local_distress:\n",
        "              features_tokens[token_idx][j] = self.EMP_lexicon[str(essay_id)]['distress'][word_count]\n",
        "\n",
        "        if features_tokens is not None:\n",
        "            item['local_features'] = torch.FloatTensor(features_tokens)\n",
        "\n",
        "        #item['return_dict']=True\n",
        "\n",
        "        return item"
      ]
    },
    {
      "cell_type": "markdown",
      "metadata": {
        "id": "EFI6AulQsYci"
      },
      "source": [
        "Read dataframes"
      ]
    },
    {
      "cell_type": "code",
      "execution_count": 19,
      "metadata": {
        "execution": {
          "iopub.execute_input": "2023-07-11T19:09:57.899510Z",
          "iopub.status.busy": "2023-07-11T19:09:57.899102Z",
          "iopub.status.idle": "2023-07-11T19:09:57.904814Z",
          "shell.execute_reply": "2023-07-11T19:09:57.903813Z",
          "shell.execute_reply.started": "2023-07-11T19:09:57.899476Z"
        },
        "id": "BjM03TscDwcz",
        "trusted": true
      },
      "outputs": [],
      "source": [
        "TRAIN_DATA = f\"{repo_path}{branch}/datasets/WASSA23_essay_level_internal_train_preproc.tsv\"\n",
        "VAL_DATA = f\"{repo_path}{branch}/datasets/WASSA_essay_level_internal_val_preproc.tsv\"\n",
        "DEV_DATA = f\"{repo_path}{branch}/datasets/WASSA_essay_level_dev_preproc.tsv\"\n",
        "\n",
        "train_df = pd.read_csv(TRAIN_DATA, sep='\\t')\n",
        "val_df = pd.read_csv(VAL_DATA, sep='\\t')\n",
        "dev_df = pd.read_csv(DEV_DATA, sep='\\t')"
      ]
    },
    {
      "cell_type": "markdown",
      "metadata": {
        "id": "mDJWlHhwsfwL"
      },
      "source": [
        "Encode targets"
      ]
    },
    {
      "cell_type": "code",
      "execution_count": 20,
      "metadata": {
        "execution": {
          "iopub.execute_input": "2023-07-11T19:10:06.006808Z",
          "iopub.status.busy": "2023-07-11T19:10:06.006358Z",
          "iopub.status.idle": "2023-07-11T19:10:06.021824Z",
          "shell.execute_reply": "2023-07-11T19:10:06.020868Z",
          "shell.execute_reply.started": "2023-07-11T19:10:06.006776Z"
        },
        "id": "6LKqRnKdsJdu",
        "trusted": true
      },
      "outputs": [],
      "source": [
        "if TASK ==\"EMO\":\n",
        "  label_encoder = EmotionsLabelEncoder()\n",
        "  label_encoder.fit(train_df.emotion)\n",
        "  y_train = label_encoder.encode(train_df.emotion)\n",
        "  y_val = label_encoder.encode(val_df.emotion)\n",
        "  y_dev = label_encoder.encode(dev_df.emotion)\n",
        "\n",
        "if TASK == \"EMP\":\n",
        "  y_train = np.array(train_df[['empathy', 'distress']])\n",
        "  y_val = np.array(val_df[['empathy', 'distress']])\n",
        "  y_dev = np.array(dev_df[['empathy', 'distress']])"
      ]
    },
    {
      "cell_type": "markdown",
      "metadata": {
        "id": "FbCKVWh7-gpg"
      },
      "source": [
        "Extra global features"
      ]
    },
    {
      "cell_type": "code",
      "execution_count": 21,
      "metadata": {
        "id": "7VpOAsXL6xHa"
      },
      "outputs": [],
      "source": [
        "global_features_train = None\n",
        "global_features_val = None\n",
        "global_features_dev = None\n",
        "\n",
        "if len(config.get('global_features_names')) > 0:\n",
        "  scaler = StandardScaler()\n",
        "  scaler.fit(np.array(train_df[config.get('global_features_names')]))\n",
        "\n",
        "  def standard_scalar_features(features):\n",
        "    return scaler.transform(features)\n",
        "\n",
        "\n",
        "  global_features_train =  standard_scalar_features(np.array(train_df[config.get('global_features_names')]))\n",
        "  global_features_val =  standard_scalar_features(np.array(val_df[config.get('global_features_names')]))\n",
        "  global_features_dev =  standard_scalar_features(np.array(dev_df[config.get('global_features_names')]))\n",
        "\n",
        "  if TASK == \"EMP\":\n",
        "    label_encoder = EmotionsLabelEncoder()\n",
        "    label_encoder.fit(train_df.emotion)\n",
        "    gold_emotions_train = label_encoder.encode(train_df.emotion)\n",
        "    gold_emotions_val = label_encoder.encode(val_df.emotion)\n",
        "    gold_emotions_dev = label_encoder.encode(dev_df.emotion)\n",
        "    global_features_train = np.concatenate((global_features_train, gold_emotions_train), axis = 1)\n",
        "    global_features_val = np.concatenate((global_features_val, gold_emotions_val), axis = 1)\n",
        "    global_features_dev = np.concatenate((global_features_dev, gold_emotions_dev), axis = 1)"
      ]
    },
    {
      "cell_type": "markdown",
      "metadata": {
        "id": "nfm0n2Mk6xHb"
      },
      "source": [
        "Prompt"
      ]
    },
    {
      "cell_type": "code",
      "execution_count": 22,
      "metadata": {
        "id": "5WnGSQwv6xHb"
      },
      "outputs": [],
      "source": [
        "prompt_train = None\n",
        "prompt_val = None\n",
        "prompt_dev = None\n",
        "\n",
        "if len(config.get('prompt_names')) > 0:\n",
        "  prompt_train = np.array(train_df[config.get('prompt_names')])\n",
        "  prompt_val = np.array(val_df[config.get('prompt_names')])\n",
        "  prompt_dev = np.array(dev_df[config.get('prompt_names')])"
      ]
    },
    {
      "cell_type": "markdown",
      "metadata": {
        "id": "qwYXJId_-Sb5"
      },
      "source": [
        "Lexicons"
      ]
    },
    {
      "cell_type": "code",
      "execution_count": 23,
      "metadata": {
        "execution": {
          "iopub.execute_input": "2023-07-11T19:11:09.185627Z",
          "iopub.status.busy": "2023-07-11T19:11:09.185261Z",
          "iopub.status.idle": "2023-07-11T19:11:09.667265Z",
          "shell.execute_reply": "2023-07-11T19:11:09.666254Z",
          "shell.execute_reply.started": "2023-07-11T19:11:09.185595Z"
        },
        "id": "Qg0D38kk-Rrv",
        "trusted": true
      },
      "outputs": [],
      "source": [
        "EMO_lexicon_train_dict = None\n",
        "EMP_lexicon_train_dict = None\n",
        "EMO_lexicon_dev_dict = None\n",
        "EMP_lexicon_dev_dict = None\n",
        "EMO_lexicon_test_dict = None\n",
        "EMP_lexicon_test_dict = None\n",
        "if config.get('local_features_names') is not None:\n",
        "  if 'emotions' in config.get('local_features_names'):\n",
        "    with open(\"/content/EMO23_lexicon_per_word_train.json\") as json_file:\n",
        "      EMO_lexicon_train_dict = json.load(json_file)\n",
        "    with open(\"/content/EMO23_lexicon_per_word_dev.json\") as json_file:\n",
        "      EMO_lexicon_dev_dict = json.load(json_file)\n",
        "    with open(\"/content/EMO23_lexicon_per_word_test.json\") as json_file:\n",
        "      EMO_lexicon_test_dict = json.load(json_file)\n",
        "\n",
        "  if 'empathy' in config.get('local_features_names') or 'distress' in config.get('local_features_names'):\n",
        "    with open(\"/content/EMP23_lexicon_per_word_train.json\") as json_file:\n",
        "      EMP_lexicon_train_dict = json.load(json_file)\n",
        "    with open(\"/content/EMP23_lexicon_per_word_dev.json\") as json_file:\n",
        "      EMP_lexicon_dev_dict = json.load(json_file)\n",
        "    with open(\"/content/EMP23_lexicon_per_word_test.json\") as json_file:\n",
        "      EMP_lexicon_test_dict = json.load(json_file)"
      ]
    },
    {
      "cell_type": "markdown",
      "metadata": {
        "id": "oXIimY5ABmlc"
      },
      "source": [
        "## Model"
      ]
    },
    {
      "cell_type": "code",
      "execution_count": 24,
      "metadata": {
        "execution": {
          "iopub.execute_input": "2023-07-11T19:11:17.243014Z",
          "iopub.status.busy": "2023-07-11T19:11:17.241592Z",
          "iopub.status.idle": "2023-07-11T19:11:17.253391Z",
          "shell.execute_reply": "2023-07-11T19:11:17.252383Z",
          "shell.execute_reply.started": "2023-07-11T19:11:17.242979Z"
        },
        "id": "hfwVaaj-0qDq",
        "trusted": true
      },
      "outputs": [],
      "source": [
        "def get_loss_weights(y):\n",
        "  inverse_n_samples = 1 / np.sum(y, axis=0)\n",
        "  sum_inverses = sum(inverse_n_samples)\n",
        "  weights_train = inverse_n_samples / sum_inverses\n",
        "  return torch.cuda.FloatTensor(weights_train)"
      ]
    },
    {
      "cell_type": "code",
      "execution_count": 25,
      "metadata": {
        "execution": {
          "iopub.execute_input": "2023-07-11T19:11:17.257384Z",
          "iopub.status.busy": "2023-07-11T19:11:17.255861Z",
          "iopub.status.idle": "2023-07-11T19:11:22.360433Z",
          "shell.execute_reply": "2023-07-11T19:11:22.359379Z",
          "shell.execute_reply.started": "2023-07-11T19:11:17.257351Z"
        },
        "id": "wVh3_jCFzmK7",
        "trusted": true
      },
      "outputs": [],
      "source": [
        "loss_weights_train = None\n",
        "if model_config.get('weighted_loss'):\n",
        "  loss_weights_train = get_loss_weights(y_train)"
      ]
    },
    {
      "cell_type": "markdown",
      "metadata": {
        "id": "w6aAhPift1UL"
      },
      "source": [
        "### Custom model"
      ]
    },
    {
      "cell_type": "code",
      "execution_count": 44,
      "metadata": {
        "execution": {
          "iopub.execute_input": "2023-07-11T19:11:23.702374Z",
          "iopub.status.busy": "2023-07-11T19:11:23.702059Z",
          "iopub.status.idle": "2023-07-11T19:11:23.732141Z",
          "shell.execute_reply": "2023-07-11T19:11:23.730692Z",
          "shell.execute_reply.started": "2023-07-11T19:11:23.702348Z"
        },
        "id": "2Vj3W-oUhBMZ",
        "trusted": true
      },
      "outputs": [],
      "source": [
        "class ClassificationHead(nn.Module):\n",
        "    #Head for sentence-level classification tasks.\n",
        "\n",
        "    def __init__(self, config, dim_extra_features, hidden_layers_to_concat, classifier_dropout, local_features, mean_last_cls):\n",
        "        super().__init__()\n",
        "        self.local_features = local_features\n",
        "\n",
        "        if mean_last_cls:\n",
        "          total_dims = config.hidden_size + dim_extra_features\n",
        "        else:\n",
        "          total_dims = config.hidden_size*hidden_layers_to_concat + dim_extra_features\n",
        "        if self.local_features:\n",
        "          total_dims += config.hidden_size\n",
        "        self.dense = nn.Linear(total_dims, total_dims)\n",
        "        self.dropout = nn.Dropout(classifier_dropout)\n",
        "        self.out_proj = nn.Linear(total_dims, config.num_labels)\n",
        "\n",
        "    def forward(self, features, **kwargs):\n",
        "        features = features.to(torch.float32) # by default float32 is used as the dtype\n",
        "        x = self.dense(features)\n",
        "        x = torch.tanh(x)\n",
        "        x = self.dropout(x)\n",
        "        x = self.out_proj(x)\n",
        "        return x\n",
        "\n",
        "class CustomSequenceClassification(model_class):\n",
        "\n",
        "    def __init__(self, config, dim_extra_features=0, model_class = None, local_features_names=None, loss_weights=None, n_last_cls = 1, mean_last_cls = False, concat_local_features = False):\n",
        "        super().__init__(config)\n",
        "        self.num_labels = config.num_labels\n",
        "        self.config = config\n",
        "        self.local_features_names = local_features_names\n",
        "        self.loss_weights = loss_weights\n",
        "        self.n_last_cls = n_last_cls\n",
        "        self.mean_last_cls = mean_last_cls\n",
        "        self.concat_local_features = concat_local_features\n",
        "        self.model_class = model_class\n",
        "        if self.model_class == \"BertPreTrainedModel\":\n",
        "          self.bert = BertModel(config)\n",
        "\n",
        "        if self.model_class == \"RobertaPreTrainedModel\":\n",
        "          self.roberta = RobertaModel(config)\n",
        "\n",
        "        classifier_dropout = (\n",
        "            config.classifier_dropout if config.classifier_dropout is not None else config.hidden_dropout_prob\n",
        "        )\n",
        "        self.dropout = nn.Dropout(classifier_dropout)\n",
        "        self.classifier = ClassificationHead(config,\n",
        "                                            dim_extra_features,\n",
        "                                            n_last_cls,\n",
        "                                            classifier_dropout,\n",
        "                                            local_features_names is not None,\n",
        "                                            mean_last_cls)\n",
        "        self.post_init()\n",
        "\n",
        "\n",
        "    def forward(\n",
        "        self,\n",
        "        input_ids: Optional[torch.LongTensor] = None,\n",
        "        attention_mask: Optional[torch.FloatTensor] = None,\n",
        "        local_features = None,\n",
        "        global_features = None,\n",
        "        token_type_ids: Optional[torch.LongTensor] = None,\n",
        "        position_ids: Optional[torch.LongTensor] = None,\n",
        "        head_mask: Optional[torch.FloatTensor] = None,\n",
        "        inputs_embeds: Optional[torch.FloatTensor] = None,\n",
        "        labels: Optional[torch.LongTensor] = None,\n",
        "        output_attentions: Optional[bool] = None,\n",
        "        output_hidden_states: Optional[bool] = True,\n",
        "        return_dict: Optional[bool] = None,\n",
        "    ) -> Union[Tuple, SequenceClassifierOutput]:\n",
        "\n",
        "        return_dict = return_dict if return_dict is not None else self.config.use_return_dict\n",
        "\n",
        "        if self.model_class == \"BertPreTrainedModel\":\n",
        "          outputs = self.bert(\n",
        "            input_ids,\n",
        "            attention_mask=attention_mask,\n",
        "            token_type_ids=token_type_ids,\n",
        "            position_ids=position_ids,\n",
        "            head_mask=head_mask,\n",
        "            inputs_embeds=inputs_embeds,\n",
        "            output_attentions=output_attentions,\n",
        "            output_hidden_states=output_hidden_states,\n",
        "            return_dict=return_dict,\n",
        "        )\n",
        "        if self.model_class == \"RobertaPreTrainedModel\":\n",
        "          outputs = self.roberta(\n",
        "              input_ids,\n",
        "              attention_mask=attention_mask,\n",
        "              token_type_ids=token_type_ids,\n",
        "              position_ids=position_ids,\n",
        "              head_mask=head_mask,\n",
        "              inputs_embeds=inputs_embeds,\n",
        "              output_attentions=output_attentions,\n",
        "              output_hidden_states=output_hidden_states,\n",
        "              return_dict=return_dict,\n",
        "          )\n",
        "\n",
        "        cls_tokens = []\n",
        "        for i in range(1, self.n_last_cls + 1):\n",
        "            cls_tokens.append(outputs.hidden_states[-1 * i][:, 0, :])\n",
        "        if self.mean_last_cls:\n",
        "          # average cls tokens\n",
        "          output = torch.mean(torch.stack(cls_tokens), dim=0)\n",
        "        else:\n",
        "          # concat cls tokens\n",
        "          output = torch.cat(cls_tokens, dim=1)\n",
        "\n",
        "        output = self.dropout(output)\n",
        "\n",
        "        if local_features is not None:\n",
        "          tokens_output = outputs.last_hidden_state\n",
        "          tokens_output = self.dropout(tokens_output)\n",
        "\n",
        "          if self.concat_local_features:\n",
        "            tokens_output = torch.cat((\n",
        "                    tokens_output,\n",
        "                    local_features.reshape(outputs.last_hidden_state.shape[0], outputs.last_hidden_state.shape[1], -1)),\n",
        "                              dim=2)\n",
        "\n",
        "          mask = torch.zeros_like(attention_mask)\n",
        "          # unmask tokens with high or low empathy, high distress levels, or expressing at least one emotion\n",
        "          j = 0\n",
        "          if 'emotions' in self.local_features_names:\n",
        "            emotion_values = local_features[:,:,:11]\n",
        "            mask[emotion_values.sum(dim=-1)>=1] = 1.0\n",
        "            j += 11\n",
        "\n",
        "          if 'empathy' in self.local_features_names:\n",
        "            empathy_values = local_features[:,:,j]\n",
        "            mask[(empathy_values>5) | ((empathy_values<3) & (empathy_values>=1))] = 1.0\n",
        "            j += 1\n",
        "\n",
        "          if 'distress' in self.local_features_names:\n",
        "            distress_values = local_features[:,:,j]\n",
        "            mask[distress_values>4] = 1.0\n",
        "\n",
        "          # mean pooling of unmasked tokens\n",
        "          input_mask_expanded = mask.unsqueeze(-1).expand(tokens_output.size()).float()\n",
        "          sum_embeddings = torch.sum(tokens_output * input_mask_expanded, 1)\n",
        "          sum_mask = input_mask_expanded.sum(1)\n",
        "          sum_mask = torch.clamp(sum_mask, min = 1e-9)\n",
        "          tokens_output = sum_embeddings/sum_mask\n",
        "\n",
        "          # concat pooled tokens lexically relevant with cls token\n",
        "          output = torch.cat((output, tokens_output), dim=-1)\n",
        "\n",
        "\n",
        "        if global_features is not None: # global\n",
        "          output = torch.cat((output, global_features), dim=-1)\n",
        "\n",
        "        logits = self.classifier(output)\n",
        "\n",
        "        loss = None\n",
        "        if labels is not None:\n",
        "            if self.config.problem_type is None:\n",
        "                if self.num_labels == 1:\n",
        "                    self.config.problem_type = \"regression\"\n",
        "                elif self.num_labels > 1 and (labels.dtype == torch.long or labels.dtype == torch.int):\n",
        "                    self.config.problem_type = \"single_label_classification\"\n",
        "                else:\n",
        "                    self.config.problem_type = \"multi_label_classification\"\n",
        "\n",
        "            if self.config.problem_type == \"regression\":\n",
        "                loss_fct = nn.MSELoss()\n",
        "                if self.num_labels == 1:\n",
        "                    loss = loss_fct(logits.squeeze(), labels.squeeze())\n",
        "                else:\n",
        "                    loss = loss_fct(logits, labels)\n",
        "            elif self.config.problem_type == \"single_label_classification\":\n",
        "                loss_fct = nn.CrossEntropyLoss(weight = self.loss_weights)\n",
        "                loss = loss_fct(logits.view(-1, self.num_labels), labels.view(-1))\n",
        "            elif self.config.problem_type == \"multi_label_classification\":\n",
        "                loss_fct = nn.BCEWithLogitsLoss(weight = self.loss_weights)\n",
        "                loss = loss_fct(logits, labels)\n",
        "\n",
        "        if not return_dict:\n",
        "            output = (logits,) + outputs[2:]\n",
        "            return ((loss,) + output) if loss is not None else output\n",
        "\n",
        "        return SequenceClassifierOutput(\n",
        "            loss=loss,\n",
        "            logits=logits,\n",
        "            hidden_states=outputs.hidden_states,\n",
        "            attentions=outputs.attentions,\n",
        "        )\n"
      ]
    },
    {
      "cell_type": "code",
      "execution_count": 27,
      "metadata": {
        "execution": {
          "iopub.execute_input": "2023-07-11T19:11:22.362620Z",
          "iopub.status.busy": "2023-07-11T19:11:22.361776Z",
          "iopub.status.idle": "2023-07-11T19:11:23.697235Z",
          "shell.execute_reply": "2023-07-11T19:11:23.696230Z",
          "shell.execute_reply.started": "2023-07-11T19:11:22.362585Z"
        },
        "id": "wd7W2HhYsbai",
        "trusted": true,
        "colab": {
          "base_uri": "https://localhost:8080/",
          "height": 196,
          "referenced_widgets": [
            "d89243cc40b6492facdebd9ceda9f843",
            "d03f8e30f040403b87369f074c505e80",
            "8aaf4bc3ec774eb79e69922a339fce6e",
            "48c068e410ad4124a4e72ea203ffb463",
            "77fd34e5dcfd43b2a8f1d3f5efc27072",
            "9790bc90363d4a7f85c55a5ec6da894b",
            "61b152f573c340bea15567dae419a83f",
            "360e8517e61d4b3a8fce64dd7cf12834",
            "105fa7748a91482fb28bdf9ca820162d",
            "fc578e8918fa4f08a9827a411660b1d6",
            "39d7100bb1054658a4f7641110ab07cf",
            "3c1ee3c97bf64ce6a825327dfe84666f",
            "23a8722f8608496c9864a836d7a0d181",
            "b72fbac2cbb74cd69d3f3d3140b080d1",
            "546f58430b7a4043af7c950951ec8cc9",
            "96564d558f4548f99ede47ee2255fc9e",
            "49f2f1d665c04dddaae7eff1cc2649b1",
            "72409363efd2434db67c356ce9204a3a",
            "697e9195ff1045e7b6d8d3de0f82df53",
            "393303452c74457da8efd1b9ec86ce72",
            "1d86b2c3e0804948bc628eb8ce09d14c",
            "4c3459daab2d4f3d948652029a9334fd",
            "6f49f6112d0b48f4828a2d5264cb9f34",
            "f28e969fe3b343379af540f080d57cdc",
            "3007a34ea1e14ebda2a5ce090ec9e2ce",
            "4813eb62416440a3a53bcab989efe01c",
            "4afc393cc4cb4f5bb56b7925e716eca2",
            "79c6955b050b4c6d80a11ae7a0b58871",
            "9efcf4a47f854fc38ab6699a2331a144",
            "9e51a00f08484eadba66978996451215",
            "94402cd185ee4f99a9c3c37b2e522317",
            "ff9e57e10b5744639b68311d9cfc2a64",
            "54875432fdee4c2eb2daacb60defd514",
            "53793af1ee9b466c8962ffda971ed081",
            "e1b79334a68a484f9846bf8847cd7f79",
            "477e7769a0054808b398117cd0ef89a1",
            "496562e54037402da5970ae1e6ccdb9a",
            "89adb790e73a42db82641230c92e701a",
            "2f4e03bcd65544db800097faf5415b2f",
            "51291901231a4dfd84fc00bd7e70366a",
            "21e225b6c258430eb44fbc699e3c6feb",
            "118382d5690d456b86e090c15eefb1ec",
            "5282629dfa384f82b2b9e321a3f1b3c3",
            "fc615e1900214347b7826375882b2d77"
          ]
        },
        "outputId": "5334efe3-3da4-467d-9f01-7e0f7a347d71"
      },
      "outputs": [
        {
          "output_type": "display_data",
          "data": {
            "text/plain": [
              "Downloading (…)lve/main/config.json:   0%|          | 0.00/481 [00:00<?, ?B/s]"
            ],
            "application/vnd.jupyter.widget-view+json": {
              "version_major": 2,
              "version_minor": 0,
              "model_id": "d89243cc40b6492facdebd9ceda9f843"
            }
          },
          "metadata": {}
        },
        {
          "output_type": "display_data",
          "data": {
            "text/plain": [
              "Downloading (…)olve/main/vocab.json:   0%|          | 0.00/899k [00:00<?, ?B/s]"
            ],
            "application/vnd.jupyter.widget-view+json": {
              "version_major": 2,
              "version_minor": 0,
              "model_id": "3c1ee3c97bf64ce6a825327dfe84666f"
            }
          },
          "metadata": {}
        },
        {
          "output_type": "display_data",
          "data": {
            "text/plain": [
              "Downloading (…)olve/main/merges.txt:   0%|          | 0.00/456k [00:00<?, ?B/s]"
            ],
            "application/vnd.jupyter.widget-view+json": {
              "version_major": 2,
              "version_minor": 0,
              "model_id": "6f49f6112d0b48f4828a2d5264cb9f34"
            }
          },
          "metadata": {}
        },
        {
          "output_type": "display_data",
          "data": {
            "text/plain": [
              "Downloading (…)/main/tokenizer.json:   0%|          | 0.00/1.36M [00:00<?, ?B/s]"
            ],
            "application/vnd.jupyter.widget-view+json": {
              "version_major": 2,
              "version_minor": 0,
              "model_id": "53793af1ee9b466c8962ffda971ed081"
            }
          },
          "metadata": {}
        },
        {
          "output_type": "execute_result",
          "data": {
            "text/plain": [
              "RobertaTokenizerFast(name_or_path='roberta-base', vocab_size=50265, model_max_length=512, is_fast=True, padding_side='right', truncation_side='right', special_tokens={'bos_token': '<s>', 'eos_token': '</s>', 'unk_token': '<unk>', 'sep_token': '</s>', 'pad_token': '<pad>', 'cls_token': '<s>', 'mask_token': AddedToken(\"<mask>\", rstrip=False, lstrip=True, single_word=False, normalized=False)}, clean_up_tokenization_spaces=True)"
            ]
          },
          "metadata": {},
          "execution_count": 27
        }
      ],
      "source": [
        "tokenizer = AutoTokenizer.from_pretrained(config.get('tokenizer_name'), truncation=True)\n",
        "tokenizer"
      ]
    },
    {
      "cell_type": "code",
      "execution_count": 45,
      "metadata": {
        "colab": {
          "base_uri": "https://localhost:8080/"
        },
        "execution": {
          "iopub.execute_input": "2023-07-11T19:11:23.734900Z",
          "iopub.status.busy": "2023-07-11T19:11:23.734558Z",
          "iopub.status.idle": "2023-07-11T19:11:27.562951Z",
          "shell.execute_reply": "2023-07-11T19:11:27.562030Z",
          "shell.execute_reply.started": "2023-07-11T19:11:23.734871Z"
        },
        "id": "GvJbF80XhSDE",
        "outputId": "0ac0c4e7-ba6c-42bf-cde1-8f8f1d209f9b",
        "trusted": true
      },
      "outputs": [
        {
          "output_type": "stream",
          "name": "stderr",
          "text": [
            "Some weights of the model checkpoint at roberta-base were not used when initializing CustomSequenceClassification: ['lm_head.dense.bias', 'lm_head.bias', 'lm_head.layer_norm.bias', 'lm_head.dense.weight', 'lm_head.layer_norm.weight']\n",
            "- This IS expected if you are initializing CustomSequenceClassification from the checkpoint of a model trained on another task or with another architecture (e.g. initializing a BertForSequenceClassification model from a BertForPreTraining model).\n",
            "- This IS NOT expected if you are initializing CustomSequenceClassification from the checkpoint of a model that you expect to be exactly identical (initializing a BertForSequenceClassification model from a BertForSequenceClassification model).\n",
            "Some weights of CustomSequenceClassification were not initialized from the model checkpoint at roberta-base and are newly initialized: ['roberta.pooler.dense.weight', 'classifier.dense.weight', 'classifier.out_proj.bias', 'classifier.out_proj.weight', 'classifier.dense.bias', 'roberta.pooler.dense.bias']\n",
            "You should probably TRAIN this model on a down-stream task to be able to use it for predictions and inference.\n"
          ]
        },
        {
          "output_type": "execute_result",
          "data": {
            "text/plain": [
              "CustomSequenceClassification(\n",
              "  (roberta): RobertaModel(\n",
              "    (embeddings): RobertaEmbeddings(\n",
              "      (word_embeddings): Embedding(50265, 768, padding_idx=1)\n",
              "      (position_embeddings): Embedding(514, 768, padding_idx=1)\n",
              "      (token_type_embeddings): Embedding(1, 768)\n",
              "      (LayerNorm): LayerNorm((768,), eps=1e-05, elementwise_affine=True)\n",
              "      (dropout): Dropout(p=0.1, inplace=False)\n",
              "    )\n",
              "    (encoder): RobertaEncoder(\n",
              "      (layer): ModuleList(\n",
              "        (0-11): 12 x RobertaLayer(\n",
              "          (attention): RobertaAttention(\n",
              "            (self): RobertaSelfAttention(\n",
              "              (query): Linear(in_features=768, out_features=768, bias=True)\n",
              "              (key): Linear(in_features=768, out_features=768, bias=True)\n",
              "              (value): Linear(in_features=768, out_features=768, bias=True)\n",
              "              (dropout): Dropout(p=0.1, inplace=False)\n",
              "            )\n",
              "            (output): RobertaSelfOutput(\n",
              "              (dense): Linear(in_features=768, out_features=768, bias=True)\n",
              "              (LayerNorm): LayerNorm((768,), eps=1e-05, elementwise_affine=True)\n",
              "              (dropout): Dropout(p=0.1, inplace=False)\n",
              "            )\n",
              "          )\n",
              "          (intermediate): RobertaIntermediate(\n",
              "            (dense): Linear(in_features=768, out_features=3072, bias=True)\n",
              "            (intermediate_act_fn): GELUActivation()\n",
              "          )\n",
              "          (output): RobertaOutput(\n",
              "            (dense): Linear(in_features=3072, out_features=768, bias=True)\n",
              "            (LayerNorm): LayerNorm((768,), eps=1e-05, elementwise_affine=True)\n",
              "            (dropout): Dropout(p=0.1, inplace=False)\n",
              "          )\n",
              "        )\n",
              "      )\n",
              "    )\n",
              "    (pooler): RobertaPooler(\n",
              "      (dense): Linear(in_features=768, out_features=768, bias=True)\n",
              "      (activation): Tanh()\n",
              "    )\n",
              "  )\n",
              "  (classifier): ClassificationHead(\n",
              "    (dense): Linear(in_features=1556, out_features=1556, bias=True)\n",
              "    (dropout): Dropout(p=0.3, inplace=False)\n",
              "    (out_proj): Linear(in_features=1556, out_features=8, bias=True)\n",
              "  )\n",
              "  (dropout): Dropout(p=0.3, inplace=False)\n",
              ")"
            ]
          },
          "metadata": {},
          "execution_count": 45
        }
      ],
      "source": [
        "if TASK == \"EMO\":\n",
        "  problem_type = \"multi_label_classification\"\n",
        "if TASK == \"EMP\":\n",
        "  problem_type = \"regression\"\n",
        "\n",
        "model = CustomSequenceClassification.from_pretrained(config.get('model_name'),\n",
        "                                                     problem_type = problem_type,\n",
        "                                                     classifier_dropout = config.get('dropout'),\n",
        "                                                     model_class = config.get('model_class_string'),\n",
        "                                                     num_labels=config.get('num_labels'),\n",
        "                                                     dim_extra_features = config.get('dim_extra_features'),\n",
        "                                                     local_features_names = config.get('local_features_names'),\n",
        "                                                     n_last_cls = config.get('n_last_cls'),\n",
        "                                                     mean_last_cls = config.get('mean_last_cls'),\n",
        "                                                     concat_local_features = config.get('concat_local_features'),\n",
        "                                                     loss_weights = loss_weights_train\n",
        "                                                    )\n",
        "model"
      ]
    },
    {
      "cell_type": "markdown",
      "metadata": {
        "id": "9xvHbhOhhttG"
      },
      "source": [
        "## Training"
      ]
    },
    {
      "cell_type": "markdown",
      "metadata": {
        "id": "bY0SLN6usjYs"
      },
      "source": [
        "Prepare datasets"
      ]
    },
    {
      "cell_type": "code",
      "execution_count": 46,
      "metadata": {
        "execution": {
          "iopub.execute_input": "2023-07-11T19:11:27.565429Z",
          "iopub.status.busy": "2023-07-11T19:11:27.564800Z",
          "iopub.status.idle": "2023-07-11T19:11:27.572683Z",
          "shell.execute_reply": "2023-07-11T19:11:27.571493Z",
          "shell.execute_reply.started": "2023-07-11T19:11:27.565394Z"
        },
        "id": "DUIqO6AiZ8al",
        "trusted": true
      },
      "outputs": [],
      "source": [
        "train_set = WASSADataset(tokenizer=tokenizer,\n",
        "                    essay=train_df.essay,\n",
        "                    prompt=prompt_train,\n",
        "                    essay_id = train_df.essay_id,\n",
        "                    targets = y_train,\n",
        "                    global_features = global_features_train,\n",
        "                    EMO_lexicon = EMO_lexicon_train_dict,\n",
        "                    EMP_lexicon = EMP_lexicon_train_dict,\n",
        "                    sep = config.get('sep'),\n",
        "                    local_emotions = config.get('emo_count_local'),\n",
        "                    local_empathy = config.get('empathy_count_local'),\n",
        "                    local_distress = config.get('distress_count_local')\n",
        "                )\n",
        "\n",
        "val_set = WASSADataset(tokenizer=tokenizer,\n",
        "                    essay = val_df.essay,\n",
        "                    prompt = prompt_val,\n",
        "                    essay_id = val_df.essay_id,\n",
        "                    targets = y_val,\n",
        "                    global_features = global_features_val,\n",
        "                    EMO_lexicon = EMO_lexicon_train_dict,\n",
        "                    EMP_lexicon = EMP_lexicon_train_dict,\n",
        "                    sep = config.get('sep'),\n",
        "                    local_emotions = config.get('emo_count_local'),\n",
        "                    local_empathy = config.get('empathy_count_local'),\n",
        "                    local_distress = config.get('distress_count_local')\n",
        "                )\n",
        "dev_set = WASSADataset(tokenizer=tokenizer,\n",
        "                    essay = dev_df.essay,\n",
        "                    prompt = prompt_dev,\n",
        "                    essay_id = dev_df.essay_id,\n",
        "                    targets = y_dev,\n",
        "                    global_features = global_features_dev,\n",
        "                    EMO_lexicon = EMO_lexicon_dev_dict,\n",
        "                    EMP_lexicon = EMP_lexicon_dev_dict,\n",
        "                    sep = config.get('sep'),\n",
        "                    local_emotions = config.get('emo_count_local'),\n",
        "                    local_empathy = config.get('empathy_count_local'),\n",
        "                    local_distress = config.get('distress_count_local')\n",
        "                )"
      ]
    },
    {
      "cell_type": "markdown",
      "metadata": {
        "id": "rvduRx8HsteS"
      },
      "source": [
        "Set up training"
      ]
    },
    {
      "cell_type": "code",
      "source": [
        "if TASK == \"EMO\":\n",
        "  metric_for_val = \"eval_macro_f1\"\n",
        "  compute_metrics_trainer = compute_EMO_metrics_trainer\n",
        "if TASK == \"EMP\":\n",
        "  metric_for_val = \"eval_avg_pearson\"\n",
        "  compute_metrics_trainer = compute_EMP_metrics_trainer"
      ],
      "metadata": {
        "id": "ba9vfO44N58k"
      },
      "execution_count": 47,
      "outputs": []
    },
    {
      "cell_type": "code",
      "execution_count": 60,
      "metadata": {
        "execution": {
          "iopub.execute_input": "2023-07-11T19:11:27.574736Z",
          "iopub.status.busy": "2023-07-11T19:11:27.574061Z",
          "iopub.status.idle": "2023-07-11T19:11:27.586314Z",
          "shell.execute_reply": "2023-07-11T19:11:27.585303Z",
          "shell.execute_reply.started": "2023-07-11T19:11:27.574702Z"
        },
        "id": "Z1DbZxhkD1R7",
        "trusted": true
      },
      "outputs": [],
      "source": [
        "train_arguments = TrainingArguments(\n",
        "    output_dir=f\"./{config.get('model_name')}\",\n",
        "    per_device_train_batch_size = config.get('train_batch_size'),\n",
        "    per_device_eval_batch_size = config.get('val_batch_size'),\n",
        "    num_train_epochs = config.get('epochs'),\n",
        "    evaluation_strategy = \"steps\",\n",
        "    save_strategy = \"steps\",\n",
        "    logging_strategy = \"steps\",\n",
        "    logging_steps = 150,\n",
        "    eval_steps = 150,\n",
        "    save_steps = 150,\n",
        "    learning_rate=config.get('learning_rate'),\n",
        "    weight_decay=config.get('weight_decay'),\n",
        "    load_best_model_at_end=True,\n",
        "    metric_for_best_model = metric_for_val,\n",
        "    seed=config.get('seed'),\n",
        ") # TODO: custom other params"
      ]
    },
    {
      "cell_type": "code",
      "execution_count": 61,
      "metadata": {
        "execution": {
          "iopub.execute_input": "2023-07-11T19:11:27.588557Z",
          "iopub.status.busy": "2023-07-11T19:11:27.587598Z",
          "iopub.status.idle": "2023-07-11T19:11:27.726922Z",
          "shell.execute_reply": "2023-07-11T19:11:27.725911Z",
          "shell.execute_reply.started": "2023-07-11T19:11:27.588523Z"
        },
        "id": "hrI2rj4U3K2Q",
        "trusted": true
      },
      "outputs": [],
      "source": [
        "trainer = Trainer(\n",
        "    model=model,\n",
        "    args=train_arguments,\n",
        "    train_dataset=train_set,\n",
        "    eval_dataset=val_set,\n",
        "    tokenizer=tokenizer,\n",
        "    compute_metrics=compute_metrics_trainer\n",
        ")"
      ]
    },
    {
      "cell_type": "markdown",
      "metadata": {
        "id": "A-sruHQdsraI"
      },
      "source": [
        "Callbacks"
      ]
    },
    {
      "cell_type": "code",
      "execution_count": 62,
      "metadata": {
        "execution": {
          "iopub.execute_input": "2023-07-11T19:11:27.731325Z",
          "iopub.status.busy": "2023-07-11T19:11:27.731059Z",
          "iopub.status.idle": "2023-07-11T19:11:27.738285Z",
          "shell.execute_reply": "2023-07-11T19:11:27.737157Z",
          "shell.execute_reply.started": "2023-07-11T19:11:27.731302Z"
        },
        "id": "4kUY7tU3sqr3",
        "trusted": true
      },
      "outputs": [],
      "source": [
        "class TrainerLoggingCallback(TrainerCallback):\n",
        "    def __init__(self, log_path):\n",
        "        self.log_path = log_path\n",
        "\n",
        "    def on_log(self, args, state, control, logs=None, **kwargs):\n",
        "        _ = logs.pop(\"total_flos\", None)\n",
        "        if state.is_local_process_zero: # whether this process is the main one in a distributed setting\n",
        "            with open(self.log_path, \"a\") as f:\n",
        "                f.write(json.dumps(logs) + \"\\n\")\n",
        "\n",
        "trainer.add_callback(EarlyStoppingCallback(\n",
        "    early_stopping_patience = config.get('patience'),\n",
        "    early_stopping_threshold = config.get('early_stopping_threshold')))\n",
        "\n",
        "trainer.add_callback(TrainerLoggingCallback(config.get('model_id')+\"_log.json\"))"
      ]
    },
    {
      "cell_type": "markdown",
      "metadata": {
        "id": "dcCqSooFsw0X"
      },
      "source": [
        "Start training"
      ]
    },
    {
      "cell_type": "code",
      "execution_count": null,
      "metadata": {
        "colab": {
          "base_uri": "https://localhost:8080/",
          "height": 129
        },
        "execution": {
          "iopub.execute_input": "2023-07-11T19:11:27.740439Z",
          "iopub.status.busy": "2023-07-11T19:11:27.740100Z",
          "iopub.status.idle": "2023-07-11T19:20:18.229718Z",
          "shell.execute_reply": "2023-07-11T19:20:18.228678Z",
          "shell.execute_reply.started": "2023-07-11T19:11:27.740408Z"
        },
        "id": "L8xAPa81D5tu",
        "outputId": "14e7c6b4-5453-47f3-97b0-586cf873f0b9",
        "trusted": true
      },
      "outputs": [
        {
          "output_type": "stream",
          "name": "stderr",
          "text": [
            "/usr/local/lib/python3.10/dist-packages/transformers/optimization.py:411: FutureWarning: This implementation of AdamW is deprecated and will be removed in a future version. Use the PyTorch implementation torch.optim.AdamW instead, or set `no_deprecation_warning=True` to disable this warning\n",
            "  warnings.warn(\n"
          ]
        },
        {
          "output_type": "display_data",
          "data": {
            "text/plain": [
              "<IPython.core.display.HTML object>"
            ],
            "text/html": [
              "\n",
              "    <div>\n",
              "      \n",
              "      <progress value='48' max='2340' style='width:300px; height:20px; vertical-align: middle;'></progress>\n",
              "      [  48/2340 00:38 < 31:49, 1.20 it/s, Epoch 0.60/30]\n",
              "    </div>\n",
              "    <table border=\"1\" class=\"dataframe\">\n",
              "  <thead>\n",
              " <tr style=\"text-align: left;\">\n",
              "      <th>Step</th>\n",
              "      <th>Training Loss</th>\n",
              "      <th>Validation Loss</th>\n",
              "    </tr>\n",
              "  </thead>\n",
              "  <tbody>\n",
              "  </tbody>\n",
              "</table><p>"
            ]
          },
          "metadata": {}
        }
      ],
      "source": [
        "trainer.train()"
      ]
    },
    {
      "cell_type": "code",
      "execution_count": 52,
      "metadata": {
        "execution": {
          "iopub.execute_input": "2023-07-11T19:20:18.263809Z",
          "iopub.status.busy": "2023-07-11T19:20:18.263461Z",
          "iopub.status.idle": "2023-07-11T19:20:18.274394Z",
          "shell.execute_reply": "2023-07-11T19:20:18.272774Z",
          "shell.execute_reply.started": "2023-07-11T19:20:18.263776Z"
        },
        "id": "Dd-3octehTlH",
        "trusted": true
      },
      "outputs": [],
      "source": [
        "# Access the training logs\n",
        "train_logs = trainer.state.log_history\n",
        "\n",
        "metrics = [list(log.keys())[:-5] for log in train_logs if log.get('eval_loss') is not None][0]\n",
        "\n",
        "eval_metrics_values = []\n",
        "\n",
        "# Extract the values from the logs\n",
        "train_loss_values = [log.get('loss') for log in train_logs if log.get('loss') is not None]\n",
        "eval_loss_values = [log.get('eval_loss') for log in train_logs if log.get('eval_loss') is not None]\n",
        "for metric in metrics:\n",
        "  eval_metrics_values.append([log.get(metric) for log in train_logs if log.get(metric) is not None])\n",
        "train_epochs = [log.get('epoch') for log in train_logs if log.get('loss') is not None]\n",
        "eval_epochs = [log.get('epoch') for log in train_logs if log.get('eval_loss') is not None]\n",
        "\n",
        "best_steps = np.argmax([log.get('eval_loss')for log in train_logs if log.get('eval_loss') is not None])"
      ]
    },
    {
      "cell_type": "markdown",
      "metadata": {
        "id": "6V5eavAamxKr"
      },
      "source": [
        "Plot losses"
      ]
    },
    {
      "cell_type": "code",
      "execution_count": 53,
      "metadata": {
        "execution": {
          "iopub.execute_input": "2023-07-11T19:20:18.303708Z",
          "iopub.status.busy": "2023-07-11T19:20:18.303144Z",
          "iopub.status.idle": "2023-07-11T19:20:18.378460Z",
          "shell.execute_reply": "2023-07-11T19:20:18.376257Z",
          "shell.execute_reply.started": "2023-07-11T19:20:18.303655Z"
        },
        "id": "ECEu3ajRl6k3",
        "trusted": true,
        "colab": {
          "base_uri": "https://localhost:8080/",
          "height": 623
        },
        "outputId": "9819e070-7809-48cd-f22c-47bb9536a5c4"
      },
      "outputs": [
        {
          "output_type": "display_data",
          "data": {
            "text/plain": [
              "<Figure size 1200x600 with 1 Axes>"
            ],
            "image/png": "[encoded data removed]"
          },
          "metadata": {}
        }
      ],
      "source": [
        "fig_name = \"losses\"\n",
        "plot_metric_curve(\n",
        "    values = [train_loss_values, eval_loss_values],\n",
        "    epochs = [train_epochs, eval_epochs],\n",
        "    metrics = [\"train loss\", \"eval loss\"],\n",
        "    title = fig_name,\n",
        "    path = f\"{path_tosave}/{fig_name}.png\")"
      ]
    },
    {
      "cell_type": "markdown",
      "metadata": {
        "id": "ms0inN8amz33"
      },
      "source": [
        "Plot metrics"
      ]
    },
    {
      "cell_type": "code",
      "execution_count": 54,
      "metadata": {
        "id": "mgGrIimdm3si",
        "colab": {
          "base_uri": "https://localhost:8080/",
          "height": 623
        },
        "outputId": "1de1e37c-0b1e-47b6-bdfd-a0d105d2c68b"
      },
      "outputs": [
        {
          "output_type": "display_data",
          "data": {
            "text/plain": [
              "<Figure size 1200x600 with 1 Axes>"
            ],
            "image/png": "[encoded data removed]"
          },
          "metadata": {}
        }
      ],
      "source": [
        "fig_name = \"metrics\"\n",
        "plot_metric_curve(\n",
        "    values = eval_metrics_values,\n",
        "    epochs = [eval_epochs for _ in eval_metrics_values],\n",
        "    metrics = metrics,\n",
        "    title = fig_name,\n",
        "    path = f\"{path_tosave}/{fig_name}.png\")"
      ]
    },
    {
      "cell_type": "markdown",
      "metadata": {
        "id": "Rc5stfSah0Kj"
      },
      "source": [
        "## Evaluation"
      ]
    },
    {
      "cell_type": "code",
      "execution_count": 55,
      "metadata": {
        "execution": {
          "iopub.execute_input": "2023-07-11T19:32:52.626228Z",
          "iopub.status.busy": "2023-07-11T19:32:52.625699Z",
          "iopub.status.idle": "2023-07-11T19:32:52.641902Z",
          "shell.execute_reply": "2023-07-11T19:32:52.638400Z",
          "shell.execute_reply.started": "2023-07-11T19:32:52.626186Z"
        },
        "id": "19G80dVoH3HZ",
        "trusted": true
      },
      "outputs": [],
      "source": [
        "def predict_emotions(results, gold_emotions):\n",
        "\n",
        "  binarized_predictions = np.where(results >= 0.5, 1, 0)\n",
        "\n",
        "  for i, bin_pred in enumerate(binarized_predictions):\n",
        "    if np.all(bin_pred==0):\n",
        "      binarized_predictions[i][np.argmax(results[i])] = 1\n",
        "\n",
        "  predicted_emotions = label_encoder.decode(binarized_predictions)\n",
        "  return predicted_emotions\n"
      ]
    },
    {
      "cell_type": "code",
      "execution_count": 56,
      "metadata": {
        "id": "4WIAU6a7Mox4",
        "colab": {
          "base_uri": "https://localhost:8080/",
          "height": 88
        },
        "outputId": "7688f0e8-31dc-430c-fff3-83d3bb7a671d"
      },
      "outputs": [
        {
          "output_type": "stream",
          "name": "stdout",
          "text": [
            "./roberta-base/checkpoint-300\n"
          ]
        },
        {
          "output_type": "display_data",
          "data": {
            "text/plain": [
              "<IPython.core.display.HTML object>"
            ],
            "text/html": []
          },
          "metadata": {}
        },
        {
          "output_type": "stream",
          "name": "stderr",
          "text": [
            "/usr/local/lib/python3.10/dist-packages/sklearn/metrics/_classification.py:1344: UndefinedMetricWarning: Precision and F-score are ill-defined and being set to 0.0 in labels with no predicted samples. Use `zero_division` parameter to control this behavior.\n",
            "  _warn_prf(average, modifier, msg_start, len(result))\n"
          ]
        }
      ],
      "source": [
        "print(trainer.state.best_model_checkpoint)\n",
        "\n",
        "outs = trainer.predict(dev_set)"
      ]
    },
    {
      "cell_type": "code",
      "source": [
        "if TASK == \"EMO\":\n",
        "  golds = label_encoder.decode(outs.label_ids)\n",
        "  predictions = predict_emotions(outs.predictions[0], golds)\n",
        "if TASK == \"EMP\":\n",
        "  golds = outs.label_ids\n",
        "  predictions = outs.predictions[0]"
      ],
      "metadata": {
        "id": "DXgFzu32_RBo"
      },
      "execution_count": 57,
      "outputs": []
    },
    {
      "cell_type": "code",
      "execution_count": 58,
      "metadata": {
        "execution": {
          "iopub.status.busy": "2023-07-11T19:20:18.388286Z",
          "iopub.status.idle": "2023-07-11T19:20:18.389135Z",
          "shell.execute_reply": "2023-07-11T19:20:18.388900Z",
          "shell.execute_reply.started": "2023-07-11T19:20:18.388873Z"
        },
        "id": "Im2VGnmQs7bY",
        "trusted": true,
        "colab": {
          "base_uri": "https://localhost:8080/"
        },
        "outputId": "69c90f97-48c0-4d0f-96ee-68769a987028"
      },
      "outputs": [
        {
          "output_type": "stream",
          "name": "stderr",
          "text": [
            "/usr/local/lib/python3.10/dist-packages/sklearn/metrics/_classification.py:1344: UndefinedMetricWarning: Precision and F-score are ill-defined and being set to 0.0 in labels with no predicted samples. Use `zero_division` parameter to control this behavior.\n",
            "  _warn_prf(average, modifier, msg_start, len(result))\n"
          ]
        },
        {
          "output_type": "execute_result",
          "data": {
            "text/plain": [
              "{'train_loss': 0.3057,\n",
              " 'eval_loss': 0.24309560656547546,\n",
              " 'macro_f1': 0.2401,\n",
              " 'micro_f1': 0.6432,\n",
              " 'micro_jaccard': 0.474,\n",
              " 'macro_precision': 0.2496,\n",
              " 'macro_recall': 0.2496,\n",
              " 'micro_precision': 0.7019,\n",
              " 'micro_recall': 0.5935}"
            ]
          },
          "metadata": {},
          "execution_count": 58
        }
      ],
      "source": [
        "path_predictions = f\"{path_tosave}/predictions_{TASK}.tsv\"\n",
        "path_metrics = f\"{path_tosave}/dev_metrics_{TASK}.json\"\n",
        "\n",
        "scores = {\n",
        "    'train_loss' : train_loss_values[best_steps],\n",
        "    'eval_loss' : eval_loss_values[best_steps]\n",
        "}\n",
        "#TODO write predictions con TASK come stringa\n",
        "write_predictions(predictions, path_predictions)\n",
        "challenge_metrics = compute_metrics(golds=golds, predictions=predictions, task=TASK)\n",
        "scores.update(challenge_metrics)\n",
        "write_dict_to_json(scores, path_metrics)\n",
        "\n",
        "scores"
      ]
    },
    {
      "cell_type": "code",
      "execution_count": 59,
      "metadata": {
        "execution": {
          "iopub.status.busy": "2023-07-11T19:20:18.390758Z",
          "iopub.status.idle": "2023-07-11T19:20:18.391292Z",
          "shell.execute_reply": "2023-07-11T19:20:18.391058Z",
          "shell.execute_reply.started": "2023-07-11T19:20:18.391035Z"
        },
        "id": "ITunC36XXLoN",
        "trusted": true,
        "colab": {
          "base_uri": "https://localhost:8080/",
          "height": 1000
        },
        "outputId": "a3fc08e2-3603-49fa-864c-313c84d53d54"
      },
      "outputs": [
        {
          "output_type": "display_data",
          "data": {
            "text/plain": [
              "<Figure size 1000x700 with 2 Axes>"
            ],
            "image/png": "[encoded data removed]"
          },
          "metadata": {}
        },
        {
          "output_type": "stream",
          "name": "stdout",
          "text": [
            "\n",
            "\n"
          ]
        },
        {
          "output_type": "display_data",
          "data": {
            "text/plain": [
              "<Figure size 1200x600 with 2 Axes>"
            ],
            "image/png": "[encoded data removed]"
          },
          "metadata": {}
        }
      ],
      "source": [
        "if TASK == \"EMO\":\n",
        "  fig_name = \"confusion_matrix\"\n",
        "  plot_confusion_matrix(golds=golds,\n",
        "                        predictions=predictions,\n",
        "                        title=fig_name,\n",
        "                        path= f\"{path_tosave}/{fig_name}.png\"\n",
        "                        )\n",
        "  print(\"\\n\")\n",
        "  fig_name = \"confusion_matrix_per_emotions\"\n",
        "  plot_confusion_matrix_per_emotions(gold_emotions = golds,\n",
        "                                     predicted_emotions = predictions,\n",
        "                                     title = fig_name,\n",
        "                                     path= f\"{path_tosave}/{fig_name}.png\"\n",
        "                                     )\n",
        "\n",
        "if TASK == \"EMP\":\n",
        "  fig_name = f\"{TASK}_empathy_true_vs_predicted\"\n",
        "  plot_true_vs_predicted(golds = golds[:,0],\n",
        "                        predictions = predictions[:,0],\n",
        "                        title = fig_name,\n",
        "                        path= f\"{path_tosave}/{fig_name}.png\"\n",
        "                        )\n",
        "  print(\"\\n\")\n",
        "  fig_name = f\"{TASK}_distress_true_vs_predicted\"\n",
        "  plot_true_vs_predicted(golds = golds[:,1],\n",
        "                        predictions = predictions[:,1],\n",
        "                        title = fig_name,\n",
        "                        path= f\"{path_tosave}/{fig_name}.png\"\n",
        "                        )\n",
        "  print(\"\\n\")\n",
        "  fig_name = f\"{TASK}_abs_diff_true_vs_predicted\"\n",
        "  plot_abs_diff_emp(golds = golds,\n",
        "                        predictions = predictions,\n",
        "                        title = fig_name,\n",
        "                        path= f\"{path_tosave}/{fig_name}.png\"\n",
        "                        )"
      ]
    },
    {
      "cell_type": "markdown",
      "metadata": {
        "id": "7DuCaju6tSHB"
      },
      "source": [
        "## Save model on Google Drive"
      ]
    },
    {
      "cell_type": "code",
      "execution_count": null,
      "metadata": {
        "execution": {
          "iopub.status.busy": "2023-07-11T19:20:18.405534Z",
          "iopub.status.idle": "2023-07-11T19:20:18.406365Z",
          "shell.execute_reply": "2023-07-11T19:20:18.406135Z",
          "shell.execute_reply.started": "2023-07-11T19:20:18.406111Z"
        },
        "id": "b1KcxQQ0uUl6",
        "trusted": true
      },
      "outputs": [],
      "source": [
        "best_model_path = trainer.state.best_model_checkpoint\n",
        "\n",
        "# move the best checkpoint in the folder with model id\n",
        "!mv $best_model_path /content/$path_tosave\n",
        "\n",
        "# move the results to personal drive\n",
        "!mv /content/$path_tosave /content/drive/MyDrive/hlt"
      ]
    },
    {
      "cell_type": "markdown",
      "metadata": {
        "id": "9pkHv9w4tM1F"
      },
      "source": [
        "## Load checkpoint different from the best one"
      ]
    },
    {
      "cell_type": "code",
      "execution_count": null,
      "metadata": {
        "id": "U1u9D1Z2R_Jc"
      },
      "outputs": [],
      "source": [
        "def load_checkpoint_and_compute_metrics(checkpoint_path):\n",
        "  model = CustomSequenceClassification.from_pretrained(checkpoint_path, num_labels=NUM_LABELS, num_extra_dims = NUM_EXTRA_DIMS)\n",
        "  trainer = Trainer(model=model)\n",
        "  # Perform prediction using the loaded checkpoint\n",
        "  predictions = trainer.predict(dev_set)\n",
        "\n",
        "  gold_emotions = label_encoder.decode(predictions.label_ids)\n",
        "  predicted_emotions = predict_emotions(predictions.predictions[0], gold_emotions)\n",
        "\n",
        "  write_EMO_predictions(predicted_emotions, model_config['model_id']+\"_predictions_EMO.tsv\")\n",
        "  challenge_metrics = compute_EMO_metrics(golds=gold_emotions, predictions=predicted_emotions)\n",
        "  write_dict_to_json(challenge_metrics, model_config['model_id']+\"_dev_metrics.json\")\n",
        "  print(challenge_metrics)\n"
      ]
    },
    {
      "cell_type": "code",
      "execution_count": null,
      "metadata": {
        "id": "OC88bo8dSSsr"
      },
      "outputs": [],
      "source": [
        "load_checkpoint_and_compute_metrics(\"/content/bert-base-caseda/checkpoint-1200\")"
      ]
    }
  ],
  "metadata": {
    "accelerator": "GPU",
    "colab": {
      "gpuType": "T4",
      "provenance": []
    },
    "kernelspec": {
      "display_name": "Python 3",
      "language": "python",
      "name": "python3"
    },
    "language_info": {
      "codemirror_mode": {
        "name": "ipython",
        "version": 3
      },
      "file_extension": ".py",
      "mimetype": "text/x-python",
      "name": "python",
      "nbconvert_exporter": "python",
      "pygments_lexer": "ipython3",
      "version": "3.10.12"
    },
    "widgets": {
      "application/vnd.jupyter.widget-state+json": {
        "d89243cc40b6492facdebd9ceda9f843": {
          "model_module": "@jupyter-widgets/controls",
          "model_name": "HBoxModel",
          "model_module_version": "1.5.0",
          "state": {
            "_dom_classes": [],
            "_model_module": "@jupyter-widgets/controls",
            "_model_module_version": "1.5.0",
            "_model_name": "HBoxModel",
            "_view_count": null,
            "_view_module": "@jupyter-widgets/controls",
            "_view_module_version": "1.5.0",
            "_view_name": "HBoxView",
            "box_style": "",
            "children": [
              "IPY_MODEL_d03f8e30f040403b87369f074c505e80",
              "IPY_MODEL_8aaf4bc3ec774eb79e69922a339fce6e",
              "IPY_MODEL_48c068e410ad4124a4e72ea203ffb463"
            ],
            "layout": "IPY_MODEL_77fd34e5dcfd43b2a8f1d3f5efc27072"
          }
        },
        "d03f8e30f040403b87369f074c505e80": {
          "model_module": "@jupyter-widgets/controls",
          "model_name": "HTMLModel",
          "model_module_version": "1.5.0",
          "state": {
            "_dom_classes": [],
            "_model_module": "@jupyter-widgets/controls",
            "_model_module_version": "1.5.0",
            "_model_name": "HTMLModel",
            "_view_count": null,
            "_view_module": "@jupyter-widgets/controls",
            "_view_module_version": "1.5.0",
            "_view_name": "HTMLView",
            "description": "",
            "description_tooltip": null,
            "layout": "IPY_MODEL_9790bc90363d4a7f85c55a5ec6da894b",
            "placeholder": "​",
            "style": "IPY_MODEL_61b152f573c340bea15567dae419a83f",
            "value": "Downloading (…)lve/main/config.json: 100%"
          }
        },
        "8aaf4bc3ec774eb79e69922a339fce6e": {
          "model_module": "@jupyter-widgets/controls",
          "model_name": "FloatProgressModel",
          "model_module_version": "1.5.0",
          "state": {
            "_dom_classes": [],
            "_model_module": "@jupyter-widgets/controls",
            "_model_module_version": "1.5.0",
            "_model_name": "FloatProgressModel",
            "_view_count": null,
            "_view_module": "@jupyter-widgets/controls",
            "_view_module_version": "1.5.0",
            "_view_name": "ProgressView",
            "bar_style": "success",
            "description": "",
            "description_tooltip": null,
            "layout": "IPY_MODEL_360e8517e61d4b3a8fce64dd7cf12834",
            "max": 481,
            "min": 0,
            "orientation": "horizontal",
            "style": "IPY_MODEL_105fa7748a91482fb28bdf9ca820162d",
            "value": 481
          }
        },
        "48c068e410ad4124a4e72ea203ffb463": {
          "model_module": "@jupyter-widgets/controls",
          "model_name": "HTMLModel",
          "model_module_version": "1.5.0",
          "state": {
            "_dom_classes": [],
            "_model_module": "@jupyter-widgets/controls",
            "_model_module_version": "1.5.0",
            "_model_name": "HTMLModel",
            "_view_count": null,
            "_view_module": "@jupyter-widgets/controls",
            "_view_module_version": "1.5.0",
            "_view_name": "HTMLView",
            "description": "",
            "description_tooltip": null,
            "layout": "IPY_MODEL_fc578e8918fa4f08a9827a411660b1d6",
            "placeholder": "​",
            "style": "IPY_MODEL_39d7100bb1054658a4f7641110ab07cf",
            "value": " 481/481 [00:00&lt;00:00, 17.6kB/s]"
          }
        },
        "77fd34e5dcfd43b2a8f1d3f5efc27072": {
          "model_module": "@jupyter-widgets/base",
          "model_name": "LayoutModel",
          "model_module_version": "1.2.0",
          "state": {
            "_model_module": "@jupyter-widgets/base",
            "_model_module_version": "1.2.0",
            "_model_name": "LayoutModel",
            "_view_count": null,
            "_view_module": "@jupyter-widgets/base",
            "_view_module_version": "1.2.0",
            "_view_name": "LayoutView",
            "align_content": null,
            "align_items": null,
            "align_self": null,
            "border": null,
            "bottom": null,
            "display": null,
            "flex": null,
            "flex_flow": null,
            "grid_area": null,
            "grid_auto_columns": null,
            "grid_auto_flow": null,
            "grid_auto_rows": null,
            "grid_column": null,
            "grid_gap": null,
            "grid_row": null,
            "grid_template_areas": null,
            "grid_template_columns": null,
            "grid_template_rows": null,
            "height": null,
            "justify_content": null,
            "justify_items": null,
            "left": null,
            "margin": null,
            "max_height": null,
            "max_width": null,
            "min_height": null,
            "min_width": null,
            "object_fit": null,
            "object_position": null,
            "order": null,
            "overflow": null,
            "overflow_x": null,
            "overflow_y": null,
            "padding": null,
            "right": null,
            "top": null,
            "visibility": null,
            "width": null
          }
        },
        "9790bc90363d4a7f85c55a5ec6da894b": {
          "model_module": "@jupyter-widgets/base",
          "model_name": "LayoutModel",
          "model_module_version": "1.2.0",
          "state": {
            "_model_module": "@jupyter-widgets/base",
            "_model_module_version": "1.2.0",
            "_model_name": "LayoutModel",
            "_view_count": null,
            "_view_module": "@jupyter-widgets/base",
            "_view_module_version": "1.2.0",
            "_view_name": "LayoutView",
            "align_content": null,
            "align_items": null,
            "align_self": null,
            "border": null,
            "bottom": null,
            "display": null,
            "flex": null,
            "flex_flow": null,
            "grid_area": null,
            "grid_auto_columns": null,
            "grid_auto_flow": null,
            "grid_auto_rows": null,
            "grid_column": null,
            "grid_gap": null,
            "grid_row": null,
            "grid_template_areas": null,
            "grid_template_columns": null,
            "grid_template_rows": null,
            "height": null,
            "justify_content": null,
            "justify_items": null,
            "left": null,
            "margin": null,
            "max_height": null,
            "max_width": null,
            "min_height": null,
            "min_width": null,
            "object_fit": null,
            "object_position": null,
            "order": null,
            "overflow": null,
            "overflow_x": null,
            "overflow_y": null,
            "padding": null,
            "right": null,
            "top": null,
            "visibility": null,
            "width": null
          }
        },
        "61b152f573c340bea15567dae419a83f": {
          "model_module": "@jupyter-widgets/controls",
          "model_name": "DescriptionStyleModel",
          "model_module_version": "1.5.0",
          "state": {
            "_model_module": "@jupyter-widgets/controls",
            "_model_module_version": "1.5.0",
            "_model_name": "DescriptionStyleModel",
            "_view_count": null,
            "_view_module": "@jupyter-widgets/base",
            "_view_module_version": "1.2.0",
            "_view_name": "StyleView",
            "description_width": ""
          }
        },
        "360e8517e61d4b3a8fce64dd7cf12834": {
          "model_module": "@jupyter-widgets/base",
          "model_name": "LayoutModel",
          "model_module_version": "1.2.0",
          "state": {
            "_model_module": "@jupyter-widgets/base",
            "_model_module_version": "1.2.0",
            "_model_name": "LayoutModel",
            "_view_count": null,
            "_view_module": "@jupyter-widgets/base",
            "_view_module_version": "1.2.0",
            "_view_name": "LayoutView",
            "align_content": null,
            "align_items": null,
            "align_self": null,
            "border": null,
            "bottom": null,
            "display": null,
            "flex": null,
            "flex_flow": null,
            "grid_area": null,
            "grid_auto_columns": null,
            "grid_auto_flow": null,
            "grid_auto_rows": null,
            "grid_column": null,
            "grid_gap": null,
            "grid_row": null,
            "grid_template_areas": null,
            "grid_template_columns": null,
            "grid_template_rows": null,
            "height": null,
            "justify_content": null,
            "justify_items": null,
            "left": null,
            "margin": null,
            "max_height": null,
            "max_width": null,
            "min_height": null,
            "min_width": null,
            "object_fit": null,
            "object_position": null,
            "order": null,
            "overflow": null,
            "overflow_x": null,
            "overflow_y": null,
            "padding": null,
            "right": null,
            "top": null,
            "visibility": null,
            "width": null
          }
        },
        "105fa7748a91482fb28bdf9ca820162d": {
          "model_module": "@jupyter-widgets/controls",
          "model_name": "ProgressStyleModel",
          "model_module_version": "1.5.0",
          "state": {
            "_model_module": "@jupyter-widgets/controls",
            "_model_module_version": "1.5.0",
            "_model_name": "ProgressStyleModel",
            "_view_count": null,
            "_view_module": "@jupyter-widgets/base",
            "_view_module_version": "1.2.0",
            "_view_name": "StyleView",
            "bar_color": null,
            "description_width": ""
          }
        },
        "fc578e8918fa4f08a9827a411660b1d6": {
          "model_module": "@jupyter-widgets/base",
          "model_name": "LayoutModel",
          "model_module_version": "1.2.0",
          "state": {
            "_model_module": "@jupyter-widgets/base",
            "_model_module_version": "1.2.0",
            "_model_name": "LayoutModel",
            "_view_count": null,
            "_view_module": "@jupyter-widgets/base",
            "_view_module_version": "1.2.0",
            "_view_name": "LayoutView",
            "align_content": null,
            "align_items": null,
            "align_self": null,
            "border": null,
            "bottom": null,
            "display": null,
            "flex": null,
            "flex_flow": null,
            "grid_area": null,
            "grid_auto_columns": null,
            "grid_auto_flow": null,
            "grid_auto_rows": null,
            "grid_column": null,
            "grid_gap": null,
            "grid_row": null,
            "grid_template_areas": null,
            "grid_template_columns": null,
            "grid_template_rows": null,
            "height": null,
            "justify_content": null,
            "justify_items": null,
            "left": null,
            "margin": null,
            "max_height": null,
            "max_width": null,
            "min_height": null,
            "min_width": null,
            "object_fit": null,
            "object_position": null,
            "order": null,
            "overflow": null,
            "overflow_x": null,
            "overflow_y": null,
            "padding": null,
            "right": null,
            "top": null,
            "visibility": null,
            "width": null
          }
        },
        "39d7100bb1054658a4f7641110ab07cf": {
          "model_module": "@jupyter-widgets/controls",
          "model_name": "DescriptionStyleModel",
          "model_module_version": "1.5.0",
          "state": {
            "_model_module": "@jupyter-widgets/controls",
            "_model_module_version": "1.5.0",
            "_model_name": "DescriptionStyleModel",
            "_view_count": null,
            "_view_module": "@jupyter-widgets/base",
            "_view_module_version": "1.2.0",
            "_view_name": "StyleView",
            "description_width": ""
          }
        },
        "3c1ee3c97bf64ce6a825327dfe84666f": {
          "model_module": "@jupyter-widgets/controls",
          "model_name": "HBoxModel",
          "model_module_version": "1.5.0",
          "state": {
            "_dom_classes": [],
            "_model_module": "@jupyter-widgets/controls",
            "_model_module_version": "1.5.0",
            "_model_name": "HBoxModel",
            "_view_count": null,
            "_view_module": "@jupyter-widgets/controls",
            "_view_module_version": "1.5.0",
            "_view_name": "HBoxView",
            "box_style": "",
            "children": [
              "IPY_MODEL_23a8722f8608496c9864a836d7a0d181",
              "IPY_MODEL_b72fbac2cbb74cd69d3f3d3140b080d1",
              "IPY_MODEL_546f58430b7a4043af7c950951ec8cc9"
            ],
            "layout": "IPY_MODEL_96564d558f4548f99ede47ee2255fc9e"
          }
        },
        "23a8722f8608496c9864a836d7a0d181": {
          "model_module": "@jupyter-widgets/controls",
          "model_name": "HTMLModel",
          "model_module_version": "1.5.0",
          "state": {
            "_dom_classes": [],
            "_model_module": "@jupyter-widgets/controls",
            "_model_module_version": "1.5.0",
            "_model_name": "HTMLModel",
            "_view_count": null,
            "_view_module": "@jupyter-widgets/controls",
            "_view_module_version": "1.5.0",
            "_view_name": "HTMLView",
            "description": "",
            "description_tooltip": null,
            "layout": "IPY_MODEL_49f2f1d665c04dddaae7eff1cc2649b1",
            "placeholder": "​",
            "style": "IPY_MODEL_72409363efd2434db67c356ce9204a3a",
            "value": "Downloading (…)olve/main/vocab.json: 100%"
          }
        },
        "b72fbac2cbb74cd69d3f3d3140b080d1": {
          "model_module": "@jupyter-widgets/controls",
          "model_name": "FloatProgressModel",
          "model_module_version": "1.5.0",
          "state": {
            "_dom_classes": [],
            "_model_module": "@jupyter-widgets/controls",
            "_model_module_version": "1.5.0",
            "_model_name": "FloatProgressModel",
            "_view_count": null,
            "_view_module": "@jupyter-widgets/controls",
            "_view_module_version": "1.5.0",
            "_view_name": "ProgressView",
            "bar_style": "success",
            "description": "",
            "description_tooltip": null,
            "layout": "IPY_MODEL_697e9195ff1045e7b6d8d3de0f82df53",
            "max": 898823,
            "min": 0,
            "orientation": "horizontal",
            "style": "IPY_MODEL_393303452c74457da8efd1b9ec86ce72",
            "value": 898823
          }
        },
        "546f58430b7a4043af7c950951ec8cc9": {
          "model_module": "@jupyter-widgets/controls",
          "model_name": "HTMLModel",
          "model_module_version": "1.5.0",
          "state": {
            "_dom_classes": [],
            "_model_module": "@jupyter-widgets/controls",
            "_model_module_version": "1.5.0",
            "_model_name": "HTMLModel",
            "_view_count": null,
            "_view_module": "@jupyter-widgets/controls",
            "_view_module_version": "1.5.0",
            "_view_name": "HTMLView",
            "description": "",
            "description_tooltip": null,
            "layout": "IPY_MODEL_1d86b2c3e0804948bc628eb8ce09d14c",
            "placeholder": "​",
            "style": "IPY_MODEL_4c3459daab2d4f3d948652029a9334fd",
            "value": " 899k/899k [00:00&lt;00:00, 1.31MB/s]"
          }
        },
        "96564d558f4548f99ede47ee2255fc9e": {
          "model_module": "@jupyter-widgets/base",
          "model_name": "LayoutModel",
          "model_module_version": "1.2.0",
          "state": {
            "_model_module": "@jupyter-widgets/base",
            "_model_module_version": "1.2.0",
            "_model_name": "LayoutModel",
            "_view_count": null,
            "_view_module": "@jupyter-widgets/base",
            "_view_module_version": "1.2.0",
            "_view_name": "LayoutView",
            "align_content": null,
            "align_items": null,
            "align_self": null,
            "border": null,
            "bottom": null,
            "display": null,
            "flex": null,
            "flex_flow": null,
            "grid_area": null,
            "grid_auto_columns": null,
            "grid_auto_flow": null,
            "grid_auto_rows": null,
            "grid_column": null,
            "grid_gap": null,
            "grid_row": null,
            "grid_template_areas": null,
            "grid_template_columns": null,
            "grid_template_rows": null,
            "height": null,
            "justify_content": null,
            "justify_items": null,
            "left": null,
            "margin": null,
            "max_height": null,
            "max_width": null,
            "min_height": null,
            "min_width": null,
            "object_fit": null,
            "object_position": null,
            "order": null,
            "overflow": null,
            "overflow_x": null,
            "overflow_y": null,
            "padding": null,
            "right": null,
            "top": null,
            "visibility": null,
            "width": null
          }
        },
        "49f2f1d665c04dddaae7eff1cc2649b1": {
          "model_module": "@jupyter-widgets/base",
          "model_name": "LayoutModel",
          "model_module_version": "1.2.0",
          "state": {
            "_model_module": "@jupyter-widgets/base",
            "_model_module_version": "1.2.0",
            "_model_name": "LayoutModel",
            "_view_count": null,
            "_view_module": "@jupyter-widgets/base",
            "_view_module_version": "1.2.0",
            "_view_name": "LayoutView",
            "align_content": null,
            "align_items": null,
            "align_self": null,
            "border": null,
            "bottom": null,
            "display": null,
            "flex": null,
            "flex_flow": null,
            "grid_area": null,
            "grid_auto_columns": null,
            "grid_auto_flow": null,
            "grid_auto_rows": null,
            "grid_column": null,
            "grid_gap": null,
            "grid_row": null,
            "grid_template_areas": null,
            "grid_template_columns": null,
            "grid_template_rows": null,
            "height": null,
            "justify_content": null,
            "justify_items": null,
            "left": null,
            "margin": null,
            "max_height": null,
            "max_width": null,
            "min_height": null,
            "min_width": null,
            "object_fit": null,
            "object_position": null,
            "order": null,
            "overflow": null,
            "overflow_x": null,
            "overflow_y": null,
            "padding": null,
            "right": null,
            "top": null,
            "visibility": null,
            "width": null
          }
        },
        "72409363efd2434db67c356ce9204a3a": {
          "model_module": "@jupyter-widgets/controls",
          "model_name": "DescriptionStyleModel",
          "model_module_version": "1.5.0",
          "state": {
            "_model_module": "@jupyter-widgets/controls",
            "_model_module_version": "1.5.0",
            "_model_name": "DescriptionStyleModel",
            "_view_count": null,
            "_view_module": "@jupyter-widgets/base",
            "_view_module_version": "1.2.0",
            "_view_name": "StyleView",
            "description_width": ""
          }
        },
        "697e9195ff1045e7b6d8d3de0f82df53": {
          "model_module": "@jupyter-widgets/base",
          "model_name": "LayoutModel",
          "model_module_version": "1.2.0",
          "state": {
            "_model_module": "@jupyter-widgets/base",
            "_model_module_version": "1.2.0",
            "_model_name": "LayoutModel",
            "_view_count": null,
            "_view_module": "@jupyter-widgets/base",
            "_view_module_version": "1.2.0",
            "_view_name": "LayoutView",
            "align_content": null,
            "align_items": null,
            "align_self": null,
            "border": null,
            "bottom": null,
            "display": null,
            "flex": null,
            "flex_flow": null,
            "grid_area": null,
            "grid_auto_columns": null,
            "grid_auto_flow": null,
            "grid_auto_rows": null,
            "grid_column": null,
            "grid_gap": null,
            "grid_row": null,
            "grid_template_areas": null,
            "grid_template_columns": null,
            "grid_template_rows": null,
            "height": null,
            "justify_content": null,
            "justify_items": null,
            "left": null,
            "margin": null,
            "max_height": null,
            "max_width": null,
            "min_height": null,
            "min_width": null,
            "object_fit": null,
            "object_position": null,
            "order": null,
            "overflow": null,
            "overflow_x": null,
            "overflow_y": null,
            "padding": null,
            "right": null,
            "top": null,
            "visibility": null,
            "width": null
          }
        },
        "393303452c74457da8efd1b9ec86ce72": {
          "model_module": "@jupyter-widgets/controls",
          "model_name": "ProgressStyleModel",
          "model_module_version": "1.5.0",
          "state": {
            "_model_module": "@jupyter-widgets/controls",
            "_model_module_version": "1.5.0",
            "_model_name": "ProgressStyleModel",
            "_view_count": null,
            "_view_module": "@jupyter-widgets/base",
            "_view_module_version": "1.2.0",
            "_view_name": "StyleView",
            "bar_color": null,
            "description_width": ""
          }
        },
        "1d86b2c3e0804948bc628eb8ce09d14c": {
          "model_module": "@jupyter-widgets/base",
          "model_name": "LayoutModel",
          "model_module_version": "1.2.0",
          "state": {
            "_model_module": "@jupyter-widgets/base",
            "_model_module_version": "1.2.0",
            "_model_name": "LayoutModel",
            "_view_count": null,
            "_view_module": "@jupyter-widgets/base",
            "_view_module_version": "1.2.0",
            "_view_name": "LayoutView",
            "align_content": null,
            "align_items": null,
            "align_self": null,
            "border": null,
            "bottom": null,
            "display": null,
            "flex": null,
            "flex_flow": null,
            "grid_area": null,
            "grid_auto_columns": null,
            "grid_auto_flow": null,
            "grid_auto_rows": null,
            "grid_column": null,
            "grid_gap": null,
            "grid_row": null,
            "grid_template_areas": null,
            "grid_template_columns": null,
            "grid_template_rows": null,
            "height": null,
            "justify_content": null,
            "justify_items": null,
            "left": null,
            "margin": null,
            "max_height": null,
            "max_width": null,
            "min_height": null,
            "min_width": null,
            "object_fit": null,
            "object_position": null,
            "order": null,
            "overflow": null,
            "overflow_x": null,
            "overflow_y": null,
            "padding": null,
            "right": null,
            "top": null,
            "visibility": null,
            "width": null
          }
        },
        "4c3459daab2d4f3d948652029a9334fd": {
          "model_module": "@jupyter-widgets/controls",
          "model_name": "DescriptionStyleModel",
          "model_module_version": "1.5.0",
          "state": {
            "_model_module": "@jupyter-widgets/controls",
            "_model_module_version": "1.5.0",
            "_model_name": "DescriptionStyleModel",
            "_view_count": null,
            "_view_module": "@jupyter-widgets/base",
            "_view_module_version": "1.2.0",
            "_view_name": "StyleView",
            "description_width": ""
          }
        },
        "6f49f6112d0b48f4828a2d5264cb9f34": {
          "model_module": "@jupyter-widgets/controls",
          "model_name": "HBoxModel",
          "model_module_version": "1.5.0",
          "state": {
            "_dom_classes": [],
            "_model_module": "@jupyter-widgets/controls",
            "_model_module_version": "1.5.0",
            "_model_name": "HBoxModel",
            "_view_count": null,
            "_view_module": "@jupyter-widgets/controls",
            "_view_module_version": "1.5.0",
            "_view_name": "HBoxView",
            "box_style": "",
            "children": [
              "IPY_MODEL_f28e969fe3b343379af540f080d57cdc",
              "IPY_MODEL_3007a34ea1e14ebda2a5ce090ec9e2ce",
              "IPY_MODEL_4813eb62416440a3a53bcab989efe01c"
            ],
            "layout": "IPY_MODEL_4afc393cc4cb4f5bb56b7925e716eca2"
          }
        },
        "f28e969fe3b343379af540f080d57cdc": {
          "model_module": "@jupyter-widgets/controls",
          "model_name": "HTMLModel",
          "model_module_version": "1.5.0",
          "state": {
            "_dom_classes": [],
            "_model_module": "@jupyter-widgets/controls",
            "_model_module_version": "1.5.0",
            "_model_name": "HTMLModel",
            "_view_count": null,
            "_view_module": "@jupyter-widgets/controls",
            "_view_module_version": "1.5.0",
            "_view_name": "HTMLView",
            "description": "",
            "description_tooltip": null,
            "layout": "IPY_MODEL_79c6955b050b4c6d80a11ae7a0b58871",
            "placeholder": "​",
            "style": "IPY_MODEL_9efcf4a47f854fc38ab6699a2331a144",
            "value": "Downloading (…)olve/main/merges.txt: 100%"
          }
        },
        "3007a34ea1e14ebda2a5ce090ec9e2ce": {
          "model_module": "@jupyter-widgets/controls",
          "model_name": "FloatProgressModel",
          "model_module_version": "1.5.0",
          "state": {
            "_dom_classes": [],
            "_model_module": "@jupyter-widgets/controls",
            "_model_module_version": "1.5.0",
            "_model_name": "FloatProgressModel",
            "_view_count": null,
            "_view_module": "@jupyter-widgets/controls",
            "_view_module_version": "1.5.0",
            "_view_name": "ProgressView",
            "bar_style": "success",
            "description": "",
            "description_tooltip": null,
            "layout": "IPY_MODEL_9e51a00f08484eadba66978996451215",
            "max": 456318,
            "min": 0,
            "orientation": "horizontal",
            "style": "IPY_MODEL_94402cd185ee4f99a9c3c37b2e522317",
            "value": 456318
          }
        },
        "4813eb62416440a3a53bcab989efe01c": {
          "model_module": "@jupyter-widgets/controls",
          "model_name": "HTMLModel",
          "model_module_version": "1.5.0",
          "state": {
            "_dom_classes": [],
            "_model_module": "@jupyter-widgets/controls",
            "_model_module_version": "1.5.0",
            "_model_name": "HTMLModel",
            "_view_count": null,
            "_view_module": "@jupyter-widgets/controls",
            "_view_module_version": "1.5.0",
            "_view_name": "HTMLView",
            "description": "",
            "description_tooltip": null,
            "layout": "IPY_MODEL_ff9e57e10b5744639b68311d9cfc2a64",
            "placeholder": "​",
            "style": "IPY_MODEL_54875432fdee4c2eb2daacb60defd514",
            "value": " 456k/456k [00:00&lt;00:00, 874kB/s]"
          }
        },
        "4afc393cc4cb4f5bb56b7925e716eca2": {
          "model_module": "@jupyter-widgets/base",
          "model_name": "LayoutModel",
          "model_module_version": "1.2.0",
          "state": {
            "_model_module": "@jupyter-widgets/base",
            "_model_module_version": "1.2.0",
            "_model_name": "LayoutModel",
            "_view_count": null,
            "_view_module": "@jupyter-widgets/base",
            "_view_module_version": "1.2.0",
            "_view_name": "LayoutView",
            "align_content": null,
            "align_items": null,
            "align_self": null,
            "border": null,
            "bottom": null,
            "display": null,
            "flex": null,
            "flex_flow": null,
            "grid_area": null,
            "grid_auto_columns": null,
            "grid_auto_flow": null,
            "grid_auto_rows": null,
            "grid_column": null,
            "grid_gap": null,
            "grid_row": null,
            "grid_template_areas": null,
            "grid_template_columns": null,
            "grid_template_rows": null,
            "height": null,
            "justify_content": null,
            "justify_items": null,
            "left": null,
            "margin": null,
            "max_height": null,
            "max_width": null,
            "min_height": null,
            "min_width": null,
            "object_fit": null,
            "object_position": null,
            "order": null,
            "overflow": null,
            "overflow_x": null,
            "overflow_y": null,
            "padding": null,
            "right": null,
            "top": null,
            "visibility": null,
            "width": null
          }
        },
        "79c6955b050b4c6d80a11ae7a0b58871": {
          "model_module": "@jupyter-widgets/base",
          "model_name": "LayoutModel",
          "model_module_version": "1.2.0",
          "state": {
            "_model_module": "@jupyter-widgets/base",
            "_model_module_version": "1.2.0",
            "_model_name": "LayoutModel",
            "_view_count": null,
            "_view_module": "@jupyter-widgets/base",
            "_view_module_version": "1.2.0",
            "_view_name": "LayoutView",
            "align_content": null,
            "align_items": null,
            "align_self": null,
            "border": null,
            "bottom": null,
            "display": null,
            "flex": null,
            "flex_flow": null,
            "grid_area": null,
            "grid_auto_columns": null,
            "grid_auto_flow": null,
            "grid_auto_rows": null,
            "grid_column": null,
            "grid_gap": null,
            "grid_row": null,
            "grid_template_areas": null,
            "grid_template_columns": null,
            "grid_template_rows": null,
            "height": null,
            "justify_content": null,
            "justify_items": null,
            "left": null,
            "margin": null,
            "max_height": null,
            "max_width": null,
            "min_height": null,
            "min_width": null,
            "object_fit": null,
            "object_position": null,
            "order": null,
            "overflow": null,
            "overflow_x": null,
            "overflow_y": null,
            "padding": null,
            "right": null,
            "top": null,
            "visibility": null,
            "width": null
          }
        },
        "9efcf4a47f854fc38ab6699a2331a144": {
          "model_module": "@jupyter-widgets/controls",
          "model_name": "DescriptionStyleModel",
          "model_module_version": "1.5.0",
          "state": {
            "_model_module": "@jupyter-widgets/controls",
            "_model_module_version": "1.5.0",
            "_model_name": "DescriptionStyleModel",
            "_view_count": null,
            "_view_module": "@jupyter-widgets/base",
            "_view_module_version": "1.2.0",
            "_view_name": "StyleView",
            "description_width": ""
          }
        },
        "9e51a00f08484eadba66978996451215": {
          "model_module": "@jupyter-widgets/base",
          "model_name": "LayoutModel",
          "model_module_version": "1.2.0",
          "state": {
            "_model_module": "@jupyter-widgets/base",
            "_model_module_version": "1.2.0",
            "_model_name": "LayoutModel",
            "_view_count": null,
            "_view_module": "@jupyter-widgets/base",
            "_view_module_version": "1.2.0",
            "_view_name": "LayoutView",
            "align_content": null,
            "align_items": null,
            "align_self": null,
            "border": null,
            "bottom": null,
            "display": null,
            "flex": null,
            "flex_flow": null,
            "grid_area": null,
            "grid_auto_columns": null,
            "grid_auto_flow": null,
            "grid_auto_rows": null,
            "grid_column": null,
            "grid_gap": null,
            "grid_row": null,
            "grid_template_areas": null,
            "grid_template_columns": null,
            "grid_template_rows": null,
            "height": null,
            "justify_content": null,
            "justify_items": null,
            "left": null,
            "margin": null,
            "max_height": null,
            "max_width": null,
            "min_height": null,
            "min_width": null,
            "object_fit": null,
            "object_position": null,
            "order": null,
            "overflow": null,
            "overflow_x": null,
            "overflow_y": null,
            "padding": null,
            "right": null,
            "top": null,
            "visibility": null,
            "width": null
          }
        },
        "94402cd185ee4f99a9c3c37b2e522317": {
          "model_module": "@jupyter-widgets/controls",
          "model_name": "ProgressStyleModel",
          "model_module_version": "1.5.0",
          "state": {
            "_model_module": "@jupyter-widgets/controls",
            "_model_module_version": "1.5.0",
            "_model_name": "ProgressStyleModel",
            "_view_count": null,
            "_view_module": "@jupyter-widgets/base",
            "_view_module_version": "1.2.0",
            "_view_name": "StyleView",
            "bar_color": null,
            "description_width": ""
          }
        },
        "ff9e57e10b5744639b68311d9cfc2a64": {
          "model_module": "@jupyter-widgets/base",
          "model_name": "LayoutModel",
          "model_module_version": "1.2.0",
          "state": {
            "_model_module": "@jupyter-widgets/base",
            "_model_module_version": "1.2.0",
            "_model_name": "LayoutModel",
            "_view_count": null,
            "_view_module": "@jupyter-widgets/base",
            "_view_module_version": "1.2.0",
            "_view_name": "LayoutView",
            "align_content": null,
            "align_items": null,
            "align_self": null,
            "border": null,
            "bottom": null,
            "display": null,
            "flex": null,
            "flex_flow": null,
            "grid_area": null,
            "grid_auto_columns": null,
            "grid_auto_flow": null,
            "grid_auto_rows": null,
            "grid_column": null,
            "grid_gap": null,
            "grid_row": null,
            "grid_template_areas": null,
            "grid_template_columns": null,
            "grid_template_rows": null,
            "height": null,
            "justify_content": null,
            "justify_items": null,
            "left": null,
            "margin": null,
            "max_height": null,
            "max_width": null,
            "min_height": null,
            "min_width": null,
            "object_fit": null,
            "object_position": null,
            "order": null,
            "overflow": null,
            "overflow_x": null,
            "overflow_y": null,
            "padding": null,
            "right": null,
            "top": null,
            "visibility": null,
            "width": null
          }
        },
        "54875432fdee4c2eb2daacb60defd514": {
          "model_module": "@jupyter-widgets/controls",
          "model_name": "DescriptionStyleModel",
          "model_module_version": "1.5.0",
          "state": {
            "_model_module": "@jupyter-widgets/controls",
            "_model_module_version": "1.5.0",
            "_model_name": "DescriptionStyleModel",
            "_view_count": null,
            "_view_module": "@jupyter-widgets/base",
            "_view_module_version": "1.2.0",
            "_view_name": "StyleView",
            "description_width": ""
          }
        },
        "53793af1ee9b466c8962ffda971ed081": {
          "model_module": "@jupyter-widgets/controls",
          "model_name": "HBoxModel",
          "model_module_version": "1.5.0",
          "state": {
            "_dom_classes": [],
            "_model_module": "@jupyter-widgets/controls",
            "_model_module_version": "1.5.0",
            "_model_name": "HBoxModel",
            "_view_count": null,
            "_view_module": "@jupyter-widgets/controls",
            "_view_module_version": "1.5.0",
            "_view_name": "HBoxView",
            "box_style": "",
            "children": [
              "IPY_MODEL_e1b79334a68a484f9846bf8847cd7f79",
              "IPY_MODEL_477e7769a0054808b398117cd0ef89a1",
              "IPY_MODEL_496562e54037402da5970ae1e6ccdb9a"
            ],
            "layout": "IPY_MODEL_89adb790e73a42db82641230c92e701a"
          }
        },
        "e1b79334a68a484f9846bf8847cd7f79": {
          "model_module": "@jupyter-widgets/controls",
          "model_name": "HTMLModel",
          "model_module_version": "1.5.0",
          "state": {
            "_dom_classes": [],
            "_model_module": "@jupyter-widgets/controls",
            "_model_module_version": "1.5.0",
            "_model_name": "HTMLModel",
            "_view_count": null,
            "_view_module": "@jupyter-widgets/controls",
            "_view_module_version": "1.5.0",
            "_view_name": "HTMLView",
            "description": "",
            "description_tooltip": null,
            "layout": "IPY_MODEL_2f4e03bcd65544db800097faf5415b2f",
            "placeholder": "​",
            "style": "IPY_MODEL_51291901231a4dfd84fc00bd7e70366a",
            "value": "Downloading (…)/main/tokenizer.json: 100%"
          }
        },
        "477e7769a0054808b398117cd0ef89a1": {
          "model_module": "@jupyter-widgets/controls",
          "model_name": "FloatProgressModel",
          "model_module_version": "1.5.0",
          "state": {
            "_dom_classes": [],
            "_model_module": "@jupyter-widgets/controls",
            "_model_module_version": "1.5.0",
            "_model_name": "FloatProgressModel",
            "_view_count": null,
            "_view_module": "@jupyter-widgets/controls",
            "_view_module_version": "1.5.0",
            "_view_name": "ProgressView",
            "bar_style": "success",
            "description": "",
            "description_tooltip": null,
            "layout": "IPY_MODEL_21e225b6c258430eb44fbc699e3c6feb",
            "max": 1355863,
            "min": 0,
            "orientation": "horizontal",
            "style": "IPY_MODEL_118382d5690d456b86e090c15eefb1ec",
            "value": 1355863
          }
        },
        "496562e54037402da5970ae1e6ccdb9a": {
          "model_module": "@jupyter-widgets/controls",
          "model_name": "HTMLModel",
          "model_module_version": "1.5.0",
          "state": {
            "_dom_classes": [],
            "_model_module": "@jupyter-widgets/controls",
            "_model_module_version": "1.5.0",
            "_model_name": "HTMLModel",
            "_view_count": null,
            "_view_module": "@jupyter-widgets/controls",
            "_view_module_version": "1.5.0",
            "_view_name": "HTMLView",
            "description": "",
            "description_tooltip": null,
            "layout": "IPY_MODEL_5282629dfa384f82b2b9e321a3f1b3c3",
            "placeholder": "​",
            "style": "IPY_MODEL_fc615e1900214347b7826375882b2d77",
            "value": " 1.36M/1.36M [00:00&lt;00:00, 7.74MB/s]"
          }
        },
        "89adb790e73a42db82641230c92e701a": {
          "model_module": "@jupyter-widgets/base",
          "model_name": "LayoutModel",
          "model_module_version": "1.2.0",
          "state": {
            "_model_module": "@jupyter-widgets/base",
            "_model_module_version": "1.2.0",
            "_model_name": "LayoutModel",
            "_view_count": null,
            "_view_module": "@jupyter-widgets/base",
            "_view_module_version": "1.2.0",
            "_view_name": "LayoutView",
            "align_content": null,
            "align_items": null,
            "align_self": null,
            "border": null,
            "bottom": null,
            "display": null,
            "flex": null,
            "flex_flow": null,
            "grid_area": null,
            "grid_auto_columns": null,
            "grid_auto_flow": null,
            "grid_auto_rows": null,
            "grid_column": null,
            "grid_gap": null,
            "grid_row": null,
            "grid_template_areas": null,
            "grid_template_columns": null,
            "grid_template_rows": null,
            "height": null,
            "justify_content": null,
            "justify_items": null,
            "left": null,
            "margin": null,
            "max_height": null,
            "max_width": null,
            "min_height": null,
            "min_width": null,
            "object_fit": null,
            "object_position": null,
            "order": null,
            "overflow": null,
            "overflow_x": null,
            "overflow_y": null,
            "padding": null,
            "right": null,
            "top": null,
            "visibility": null,
            "width": null
          }
        },
        "2f4e03bcd65544db800097faf5415b2f": {
          "model_module": "@jupyter-widgets/base",
          "model_name": "LayoutModel",
          "model_module_version": "1.2.0",
          "state": {
            "_model_module": "@jupyter-widgets/base",
            "_model_module_version": "1.2.0",
            "_model_name": "LayoutModel",
            "_view_count": null,
            "_view_module": "@jupyter-widgets/base",
            "_view_module_version": "1.2.0",
            "_view_name": "LayoutView",
            "align_content": null,
            "align_items": null,
            "align_self": null,
            "border": null,
            "bottom": null,
            "display": null,
            "flex": null,
            "flex_flow": null,
            "grid_area": null,
            "grid_auto_columns": null,
            "grid_auto_flow": null,
            "grid_auto_rows": null,
            "grid_column": null,
            "grid_gap": null,
            "grid_row": null,
            "grid_template_areas": null,
            "grid_template_columns": null,
            "grid_template_rows": null,
            "height": null,
            "justify_content": null,
            "justify_items": null,
            "left": null,
            "margin": null,
            "max_height": null,
            "max_width": null,
            "min_height": null,
            "min_width": null,
            "object_fit": null,
            "object_position": null,
            "order": null,
            "overflow": null,
            "overflow_x": null,
            "overflow_y": null,
            "padding": null,
            "right": null,
            "top": null,
            "visibility": null,
            "width": null
          }
        },
        "51291901231a4dfd84fc00bd7e70366a": {
          "model_module": "@jupyter-widgets/controls",
          "model_name": "DescriptionStyleModel",
          "model_module_version": "1.5.0",
          "state": {
            "_model_module": "@jupyter-widgets/controls",
            "_model_module_version": "1.5.0",
            "_model_name": "DescriptionStyleModel",
            "_view_count": null,
            "_view_module": "@jupyter-widgets/base",
            "_view_module_version": "1.2.0",
            "_view_name": "StyleView",
            "description_width": ""
          }
        },
        "21e225b6c258430eb44fbc699e3c6feb": {
          "model_module": "@jupyter-widgets/base",
          "model_name": "LayoutModel",
          "model_module_version": "1.2.0",
          "state": {
            "_model_module": "@jupyter-widgets/base",
            "_model_module_version": "1.2.0",
            "_model_name": "LayoutModel",
            "_view_count": null,
            "_view_module": "@jupyter-widgets/base",
            "_view_module_version": "1.2.0",
            "_view_name": "LayoutView",
            "align_content": null,
            "align_items": null,
            "align_self": null,
            "border": null,
            "bottom": null,
            "display": null,
            "flex": null,
            "flex_flow": null,
            "grid_area": null,
            "grid_auto_columns": null,
            "grid_auto_flow": null,
            "grid_auto_rows": null,
            "grid_column": null,
            "grid_gap": null,
            "grid_row": null,
            "grid_template_areas": null,
            "grid_template_columns": null,
            "grid_template_rows": null,
            "height": null,
            "justify_content": null,
            "justify_items": null,
            "left": null,
            "margin": null,
            "max_height": null,
            "max_width": null,
            "min_height": null,
            "min_width": null,
            "object_fit": null,
            "object_position": null,
            "order": null,
            "overflow": null,
            "overflow_x": null,
            "overflow_y": null,
            "padding": null,
            "right": null,
            "top": null,
            "visibility": null,
            "width": null
          }
        },
        "118382d5690d456b86e090c15eefb1ec": {
          "model_module": "@jupyter-widgets/controls",
          "model_name": "ProgressStyleModel",
          "model_module_version": "1.5.0",
          "state": {
            "_model_module": "@jupyter-widgets/controls",
            "_model_module_version": "1.5.0",
            "_model_name": "ProgressStyleModel",
            "_view_count": null,
            "_view_module": "@jupyter-widgets/base",
            "_view_module_version": "1.2.0",
            "_view_name": "StyleView",
            "bar_color": null,
            "description_width": ""
          }
        },
        "5282629dfa384f82b2b9e321a3f1b3c3": {
          "model_module": "@jupyter-widgets/base",
          "model_name": "LayoutModel",
          "model_module_version": "1.2.0",
          "state": {
            "_model_module": "@jupyter-widgets/base",
            "_model_module_version": "1.2.0",
            "_model_name": "LayoutModel",
            "_view_count": null,
            "_view_module": "@jupyter-widgets/base",
            "_view_module_version": "1.2.0",
            "_view_name": "LayoutView",
            "align_content": null,
            "align_items": null,
            "align_self": null,
            "border": null,
            "bottom": null,
            "display": null,
            "flex": null,
            "flex_flow": null,
            "grid_area": null,
            "grid_auto_columns": null,
            "grid_auto_flow": null,
            "grid_auto_rows": null,
            "grid_column": null,
            "grid_gap": null,
            "grid_row": null,
            "grid_template_areas": null,
            "grid_template_columns": null,
            "grid_template_rows": null,
            "height": null,
            "justify_content": null,
            "justify_items": null,
            "left": null,
            "margin": null,
            "max_height": null,
            "max_width": null,
            "min_height": null,
            "min_width": null,
            "object_fit": null,
            "object_position": null,
            "order": null,
            "overflow": null,
            "overflow_x": null,
            "overflow_y": null,
            "padding": null,
            "right": null,
            "top": null,
            "visibility": null,
            "width": null
          }
        },
        "fc615e1900214347b7826375882b2d77": {
          "model_module": "@jupyter-widgets/controls",
          "model_name": "DescriptionStyleModel",
          "model_module_version": "1.5.0",
          "state": {
            "_model_module": "@jupyter-widgets/controls",
            "_model_module_version": "1.5.0",
            "_model_name": "DescriptionStyleModel",
            "_view_count": null,
            "_view_module": "@jupyter-widgets/base",
            "_view_module_version": "1.2.0",
            "_view_name": "StyleView",
            "description_width": ""
          }
        }
      }
    }
  },
  "nbformat": 4,
  "nbformat_minor": 0
}