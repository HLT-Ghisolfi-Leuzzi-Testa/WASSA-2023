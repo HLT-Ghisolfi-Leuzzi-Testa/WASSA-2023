{
 "cells": [
  {
   "cell_type": "code",
   "execution_count": 42,
   "metadata": {},
   "outputs": [],
   "source": [
    "import pandas as pd"
   ]
  },
  {
   "cell_type": "code",
   "execution_count": 43,
   "metadata": {},
   "outputs": [],
   "source": [
    "def save(year, train_df, internal_train_df, internal_val_df, dev_df, test_df):\n",
    "    train_df.to_csv(f\"datasets/WASSA{year}_essay_level_train_preproc.tsv\", index=False, sep='\\t')\n",
    "    internal_train_df.to_csv(f\"datasets/WASSA{year}_essay_level_internal_train_preproc.tsv\", index=False, sep='\\t')\n",
    "    internal_val_df.to_csv(f\"datasets/WASSA{year}_essay_level_internal_val_preproc.tsv\", index=False, sep='\\t')\n",
    "    dev_df.to_csv(f\"datasets/WASSA{year}_essay_level_dev_preproc.tsv\", index=False, sep='\\t')\n",
    "\n",
    "def read(year):\n",
    "    train_path = f\"datasets/WASSA{year}_essay_level_train_preproc.tsv\"\n",
    "    train_df = pd.read_csv(train_path, sep='\\t')\n",
    "    internal_train_path = f\"datasets/WASSA{year}_essay_level_internal_train_preproc.tsv\"\n",
    "    internal_val_path = f\"datasets/WASSA{year}_essay_level_internal_val_preproc.tsv\"\n",
    "    internal_train_df = pd.read_csv(internal_train_path, sep='\\t')\n",
    "    internal_val_df = pd.read_csv(internal_val_path, sep='\\t')\n",
    "\n",
    "    dev_path = f\"datasets/WASSA{year}_essay_level_dev_preproc.tsv\"\n",
    "    dev_df = pd.read_csv(dev_path, sep='\\t')\n",
    "    return train_df, internal_train_df, internal_val_df, dev_df\n",
    "\n",
    "def low_labels(dataset):\n",
    "    for idx, row in dataset.iterrows():\n",
    "        row['emotion'] = row['emotion'].lower()\n",
    "    return dataset"
   ]
  },
  {
   "cell_type": "code",
   "execution_count": 44,
   "metadata": {},
   "outputs": [],
   "source": [
    "def labels(year):\n",
    "    train_df, internal_train_df, internal_val_df, dev_df = read(year)\n",
    "\n",
    "    internale_train_df = low_labels(internal_train_df)\n",
    "    internal_val_df = low_labels(internal_val_df)\n",
    "    dev_df = low_labels(dev_df)\n",
    "    train_df = low_labels(train_df)\n",
    "\n",
    "    save(year, train_df, internal_train_df, internal_val_df, dev_df, test_df)"
   ]
  },
  {
   "cell_type": "code",
   "execution_count": 45,
   "metadata": {},
   "outputs": [],
   "source": [
    "labels(year=23)\n",
    "labels(year=22)"
   ]
  }
 ],
 "metadata": {
  "kernelspec": {
   "display_name": "base",
   "language": "python",
   "name": "python3"
  },
  "language_info": {
   "codemirror_mode": {
    "name": "ipython",
    "version": 3
   },
   "file_extension": ".py",
   "mimetype": "text/x-python",
   "name": "python",
   "nbconvert_exporter": "python",
   "pygments_lexer": "ipython3",
   "version": "3.10.9"
  },
  "orig_nbformat": 4
 },
 "nbformat": 4,
 "nbformat_minor": 2
}
