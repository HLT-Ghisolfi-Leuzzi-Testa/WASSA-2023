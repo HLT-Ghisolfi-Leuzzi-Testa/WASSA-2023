{
 "cells": [
  {
   "cell_type": "code",
   "execution_count": 6,
   "metadata": {},
   "outputs": [
    {
     "name": "stderr",
     "output_type": "stream",
     "text": [
      "[nltk_data] Downloading package punkt to\n",
      "[nltk_data]     /Users/irenetesta/nltk_data...\n",
      "[nltk_data]   Unzipping tokenizers/punkt.zip.\n"
     ]
    }
   ],
   "source": [
    "import pandas as pd\n",
    "import numpy as np\n",
    "from nrclex import NRCLex\n",
    "import nltk\n",
    "\n",
    "nltk.download('punkt')\n",
    "\n",
    "def generate_prompt(essay, gender, education, ethnicity, age, income, empathy, distress):\n",
    "    if gender == 1: gender_str = \"male\"\n",
    "    else: gender_str = \"female\"\n",
    "\n",
    "    if education == 1: education_str = \"with less than a high school diploma\"\n",
    "    elif education == 2: education_str = \"with a high school diploma\"\n",
    "    elif education == 3: education_str = \"went to a technical/vocational school\"\n",
    "    elif education == 4: education_str = \"went to college\"\n",
    "    elif education == 5: education_str = \"with a two year associate degree\"\n",
    "    elif education == 6: education_str = \"with a four year bachelor's degree\"\n",
    "    else: education_str = \"postgradute or with a professional degree\"\n",
    "\n",
    "    if ethnicity == 1: ethnicity_str = \" white\"\n",
    "    elif ethnicity == 2: ethnicity_str = \" hispanic or latino\"\n",
    "    elif ethnicity == 3: ethnicity_str = \" black or african american\"\n",
    "    elif ethnicity == 4: ethnicity_str = \" native american or american indian\"\n",
    "    elif ethnicity == 5: ethnicity_str = \" asian/pacific islander\"\n",
    "    else: ethnicity_str = \"\"\n",
    "\n",
    "    text_prompt_bio = \"An essay written by a {} years old{} {}, {}, with an income of {}$.\".format(\n",
    "        age, ethnicity_str,\n",
    "        gender_str,\n",
    "        education_str,\n",
    "        income\n",
    "        )\n",
    "    \n",
    "    if empathy is not None:\n",
    "        if empathy < 3: empathy_value = \"low\"\n",
    "        elif empathy < 5: empathy_value = \"medium\"\n",
    "        else: empathy_value = \"high\"\n",
    "        if distress < 3: distress_value = \"low\"\n",
    "        elif distress < 5: distress_value = \"medium\"\n",
    "        else: distress_value = \"high\"\n",
    "        text_prompt_emp = \"The essay expresses {} empathy and {} distress levels.\".format(\n",
    "            empathy_value,\n",
    "            distress_value\n",
    "            )\n",
    "\n",
    "    emotions = NRCLex(essay).top_emotions\n",
    "    if (sum(np.array([emo[1] for emo in emotions])))==0:\n",
    "        emotions = {'neutral': 1}\n",
    "    n_emo = len(emotions)\n",
    "    emo_string = \"\"\n",
    "    for i, emo in enumerate(emotions):\n",
    "        emo_string += emo[0]\n",
    "        if i < n_emo-1:\n",
    "            emo_string += \", \"\n",
    "    text_prompt_emo = \" The top emotions expressed in the essay are: {}.\".format(emo_string)\n",
    "    \n",
    "    return text_prompt_bio, text_prompt_emp, text_prompt_emo\n",
    "\n",
    "def add_prompt(dataframe):\n",
    "    dataframe[\"prompt_bio\"] = \"\"\n",
    "    dataframe[\"prompt_emp\"] = \"\"\n",
    "    dataframe[\"prompt_emo\"] = \"\"\n",
    "    for idx, row in dataframe.iterrows():\n",
    "        bio_prompt, emp_prompt, emo_prompt = generate_prompt(\n",
    "            row['essay'],\n",
    "            row['gender'],\n",
    "            row['education'],\n",
    "            row['race'],\n",
    "            row['age'],\n",
    "            row['income'],\n",
    "            row['empathy'] if 'empathy' in row else None,\n",
    "            row['distress'] if 'empathy' in row else None\n",
    "            )\n",
    "        dataframe.at[idx, \"prompt_bio\"] = bio_prompt\n",
    "        dataframe.at[idx, \"prompt_emp\"] = emp_prompt\n",
    "        dataframe.at[idx, \"prompt_emo\"] = emo_prompt\n",
    "    return dataframe\n",
    "\n",
    "year=23\n",
    "\n",
    "TRAIN = f\"datasets/WASSA{year}_essay_level_original_internal_train_preproc.tsv\"\n",
    "VAL = f\"datasets/WASSA{year}_essay_level_original_internal_val_preproc.tsv\"\n",
    "DEV = f\"datasets/WASSA{year}_essay_level_dev_preproc.tsv\"\n",
    "\n",
    "train_df = pd.read_csv(TRAIN, sep='\\t')\n",
    "val_df = pd.read_csv(VAL, sep='\\t')\n",
    "dev_df = pd.read_csv(DEV, sep='\\t')"
   ]
  },
  {
   "cell_type": "code",
   "execution_count": 7,
   "metadata": {},
   "outputs": [],
   "source": [
    "new_train = add_prompt(train_df)\n",
    "new_train.to_csv(f\"datasets/WASSA{year}_essay_level_original_internal_train_preproc_prompt.tsv\", index=False, sep='\\t')\n",
    "new_val = add_prompt(val_df)\n",
    "new_val.to_csv(f\"datasets/WASSA{year}_essay_level_original_internal_val_preproc_prompt.tsv\", index=False, sep='\\t')\n",
    "new_dev = add_prompt(dev_df)\n",
    "new_dev.to_csv(f\"datasets/WASSA{year}_essay_level_dev_preproc_prompt.tsv\", index=False, sep='\\t')\n",
    "\n"
   ]
  },
  {
   "cell_type": "code",
   "execution_count": 1,
   "metadata": {},
   "outputs": [
    {
     "name": "stdout",
     "output_type": "stream",
     "text": [
      "72\n"
     ]
    }
   ],
   "source": [
    "print(len(['Reading', 'about', 'the', 'attack', 'on', 'Paris', 'that', 'happened', 'years', 'ago', 'brought', 'up', 'a', 'lot', 'of', 'bad', 'feelings', 'and', 'thoughts', '.', 'I', 'had', 'completely', 'forgot', '##ton', 'about', 'it', 'because', 'of', 'how', 'often', 'things', 'like', 'that', 'happen', '.', 'It', 'makes', 'me', 'upset', 'to', 'think', 'that', 'we', 'are', 'becoming', 'numb', 'to', 'terror', 'attacks', 'in', 'a', 'way', '.', 'i', 'can', 'only', 'hope', 'that', 'the', 'people', 'affected', 'have', 'found', 'peace', 'and', 'eventually', 'we', 'all', 'will', 'find', 'peace']))"
   ]
  },
  {
   "cell_type": "code",
   "execution_count": 2,
   "metadata": {},
   "outputs": [],
   "source": [
    "s = 'This was sad and I hope they can do something about it.  I hate that the wildlife is suffering since it is so innocent.  Maybe the government should make more efforts to fix this situation or at least improve it.  I get that it takes resources to do things but maybe they could find some small way to make a difference.  It seems like the ecosystem is in serious danger if nothing is done so someone needs to act fast for the sake of the animals who are helpless victims of this situation.'"
   ]
  },
  {
   "cell_type": "code",
   "execution_count": 8,
   "metadata": {},
   "outputs": [],
   "source": [
    "s = \"There was this crazy story in the news the other day. Two guys were shot in Pennsylvania. One was shot twice in the stomach and the other was shot in the back. There were no arrests or anything and there was not stated motive. I wonder if it was a random thing or if they were involved with drugs or something? I guess we'll never know...\""
   ]
  },
  {
   "cell_type": "code",
   "execution_count": 9,
   "metadata": {},
   "outputs": [
    {
     "data": {
      "text/plain": [
       "66"
      ]
     },
     "execution_count": 9,
     "metadata": {},
     "output_type": "execute_result"
    }
   ],
   "source": [
    "len(s.split())"
   ]
  },
  {
   "cell_type": "code",
   "execution_count": 10,
   "metadata": {},
   "outputs": [
    {
     "data": {
      "text/plain": [
       "66"
      ]
     },
     "execution_count": 10,
     "metadata": {},
     "output_type": "execute_result"
    }
   ],
   "source": [
    "len([\n",
    "   4,\n",
    "   4,\n",
    "   3.05373436517482,\n",
    "   2.42988039575994,\n",
    "   3.76593087701793,\n",
    "   2.59070569509,\n",
    "   2.65099708126283,\n",
    "   3.20764554684173,\n",
    "   2.65099708126283,\n",
    "   1.55666500530337,\n",
    "   3.00144740042587,\n",
    "   4,\n",
    "   1.67445183677988,\n",
    "   3.86634088988836,\n",
    "   3.75049209572393,\n",
    "   2.59070569509,\n",
    "   4,\n",
    "   4,\n",
    "   4,\n",
    "   3.75049209572393,\n",
    "   3.21761047844568,\n",
    "   2.59070569509,\n",
    "   2.65099708126283,\n",
    "   4.41641556729266,\n",
    "   4.33489631791226,\n",
    "   2.65099708126283,\n",
    "   1.55666500530337,\n",
    "   4,\n",
    "   3.75049209572393,\n",
    "   2.59070569509,\n",
    "   2.65099708126283,\n",
    "   3.59280108512106,\n",
    "   4,\n",
    "   3.86634088988836,\n",
    "   1.8611702712882,\n",
    "   4.01371924304526,\n",
    "   3.02533050744174,\n",
    "   1.18825635366757,\n",
    "   4.33489631791226,\n",
    "   2.43931093628622,\n",
    "   4,\n",
    "   1.68941456950517,\n",
    "   2.79064480038931,\n",
    "   3.6521765490467,\n",
    "   4,\n",
    "   3.08356133567987,\n",
    "   1.85268951336544,\n",
    "   3.19037090118426,\n",
    "   4,\n",
    "   2.69468883289707,\n",
    "   1.94668636581287,\n",
    "   1.9245234038762,\n",
    "   3.02533050744174,\n",
    "   1.85268951336544,\n",
    "   3.5475058347319,\n",
    "   3.86634088988836,\n",
    "   2.59824727666639,\n",
    "   3.41062457369878,\n",
    "   3.03678746418871,\n",
    "   3.02533050744174,\n",
    "   2.29580716028414,\n",
    "   4,\n",
    "   1.17586902799098,\n",
    "   4.79368933807434,\n",
    "   1.78987218211962,\n",
    "   3.63079591065561\n",
    "  ])"
   ]
  }
 ],
 "metadata": {
  "kernelspec": {
   "display_name": "base",
   "language": "python",
   "name": "python3"
  },
  "language_info": {
   "codemirror_mode": {
    "name": "ipython",
    "version": 3
   },
   "file_extension": ".py",
   "mimetype": "text/x-python",
   "name": "python",
   "nbconvert_exporter": "python",
   "pygments_lexer": "ipython3",
   "version": "3.9.7"
  },
  "orig_nbformat": 4
 },
 "nbformat": 4,
 "nbformat_minor": 2
}
