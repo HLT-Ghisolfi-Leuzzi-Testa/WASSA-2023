{
 "cells": [
  {
   "cell_type": "code",
   "execution_count": 1,
   "metadata": {},
   "outputs": [
    {
     "name": "stdout",
     "output_type": "stream",
     "text": [
      "72\n"
     ]
    }
   ],
   "source": [
    "print(len(['Reading', 'about', 'the', 'attack', 'on', 'Paris', 'that', 'happened', 'years', 'ago', 'brought', 'up', 'a', 'lot', 'of', 'bad', 'feelings', 'and', 'thoughts', '.', 'I', 'had', 'completely', 'forgot', '##ton', 'about', 'it', 'because', 'of', 'how', 'often', 'things', 'like', 'that', 'happen', '.', 'It', 'makes', 'me', 'upset', 'to', 'think', 'that', 'we', 'are', 'becoming', 'numb', 'to', 'terror', 'attacks', 'in', 'a', 'way', '.', 'i', 'can', 'only', 'hope', 'that', 'the', 'people', 'affected', 'have', 'found', 'peace', 'and', 'eventually', 'we', 'all', 'will', 'find', 'peace']))"
   ]
  },
  {
   "cell_type": "code",
   "execution_count": 2,
   "metadata": {},
   "outputs": [],
   "source": [
    "s = 'This was sad and I hope they can do something about it.  I hate that the wildlife is suffering since it is so innocent.  Maybe the government should make more efforts to fix this situation or at least improve it.  I get that it takes resources to do things but maybe they could find some small way to make a difference.  It seems like the ecosystem is in serious danger if nothing is done so someone needs to act fast for the sake of the animals who are helpless victims of this situation.'"
   ]
  },
  {
   "cell_type": "code",
   "execution_count": 8,
   "metadata": {},
   "outputs": [],
   "source": [
    "s = \"There was this crazy story in the news the other day. Two guys were shot in Pennsylvania. One was shot twice in the stomach and the other was shot in the back. There were no arrests or anything and there was not stated motive. I wonder if it was a random thing or if they were involved with drugs or something? I guess we'll never know...\""
   ]
  },
  {
   "cell_type": "code",
   "execution_count": 9,
   "metadata": {},
   "outputs": [
    {
     "data": {
      "text/plain": [
       "66"
      ]
     },
     "execution_count": 9,
     "metadata": {},
     "output_type": "execute_result"
    }
   ],
   "source": [
    "len(s.split())"
   ]
  },
  {
   "cell_type": "code",
   "execution_count": 10,
   "metadata": {},
   "outputs": [
    {
     "data": {
      "text/plain": [
       "66"
      ]
     },
     "execution_count": 10,
     "metadata": {},
     "output_type": "execute_result"
    }
   ],
   "source": [
    "len([\n",
    "   4,\n",
    "   4,\n",
    "   3.05373436517482,\n",
    "   2.42988039575994,\n",
    "   3.76593087701793,\n",
    "   2.59070569509,\n",
    "   2.65099708126283,\n",
    "   3.20764554684173,\n",
    "   2.65099708126283,\n",
    "   1.55666500530337,\n",
    "   3.00144740042587,\n",
    "   4,\n",
    "   1.67445183677988,\n",
    "   3.86634088988836,\n",
    "   3.75049209572393,\n",
    "   2.59070569509,\n",
    "   4,\n",
    "   4,\n",
    "   4,\n",
    "   3.75049209572393,\n",
    "   3.21761047844568,\n",
    "   2.59070569509,\n",
    "   2.65099708126283,\n",
    "   4.41641556729266,\n",
    "   4.33489631791226,\n",
    "   2.65099708126283,\n",
    "   1.55666500530337,\n",
    "   4,\n",
    "   3.75049209572393,\n",
    "   2.59070569509,\n",
    "   2.65099708126283,\n",
    "   3.59280108512106,\n",
    "   4,\n",
    "   3.86634088988836,\n",
    "   1.8611702712882,\n",
    "   4.01371924304526,\n",
    "   3.02533050744174,\n",
    "   1.18825635366757,\n",
    "   4.33489631791226,\n",
    "   2.43931093628622,\n",
    "   4,\n",
    "   1.68941456950517,\n",
    "   2.79064480038931,\n",
    "   3.6521765490467,\n",
    "   4,\n",
    "   3.08356133567987,\n",
    "   1.85268951336544,\n",
    "   3.19037090118426,\n",
    "   4,\n",
    "   2.69468883289707,\n",
    "   1.94668636581287,\n",
    "   1.9245234038762,\n",
    "   3.02533050744174,\n",
    "   1.85268951336544,\n",
    "   3.5475058347319,\n",
    "   3.86634088988836,\n",
    "   2.59824727666639,\n",
    "   3.41062457369878,\n",
    "   3.03678746418871,\n",
    "   3.02533050744174,\n",
    "   2.29580716028414,\n",
    "   4,\n",
    "   1.17586902799098,\n",
    "   4.79368933807434,\n",
    "   1.78987218211962,\n",
    "   3.63079591065561\n",
    "  ])"
   ]
  }
 ],
 "metadata": {
  "kernelspec": {
   "display_name": "base",
   "language": "python",
   "name": "python3"
  },
  "language_info": {
   "codemirror_mode": {
    "name": "ipython",
    "version": 3
   },
   "file_extension": ".py",
   "mimetype": "text/x-python",
   "name": "python",
   "nbconvert_exporter": "python",
   "pygments_lexer": "ipython3",
   "version": "3.10.9"
  },
  "orig_nbformat": 4
 },
 "nbformat": 4,
 "nbformat_minor": 2
}
