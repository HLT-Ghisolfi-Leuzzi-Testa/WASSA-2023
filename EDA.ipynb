{
 "cells": [
  {
   "attachments": {},
   "cell_type": "markdown",
   "metadata": {},
   "source": [
    "# WASSA 2023 - Exploratory data analysis (EDA)\n",
    "### Shared Task on Empathy Emotion and Personality Detection in Interactions"
   ]
  },
  {
   "cell_type": "code",
   "execution_count": 3,
   "metadata": {},
   "outputs": [],
   "source": [
    "# import libraries\n",
    "import pandas as pd\n",
    "import matplotlib.pyplot as plt\n",
    "import numpy as np"
   ]
  },
  {
   "attachments": {},
   "cell_type": "markdown",
   "metadata": {},
   "source": [
    "### Import Datasets"
   ]
  },
  {
   "cell_type": "code",
   "execution_count": 28,
   "metadata": {},
   "outputs": [],
   "source": [
    "# read training, developement and test essay level data\n",
    "train_essay_data = pd.read_csv('./datasets/WASSA23_essay_level_full_train_preproc.tsv', sep=\"\\t\")\n",
    "dev_essay_data = pd.read_csv('./datasets/WASSA23_essay_level_dev_preproc.tsv', sep=\"\\t\")\n",
    "test_essay_data = pd.read_csv('./datasets/WASSA23_essay_level_test_preproc.tsv', sep=\"\\t\")"
   ]
  },
  {
   "cell_type": "code",
   "execution_count": 31,
   "metadata": {},
   "outputs": [
    {
     "data": {
      "text/html": [
       "<div>\n",
       "<style scoped>\n",
       "    .dataframe tbody tr th:only-of-type {\n",
       "        vertical-align: middle;\n",
       "    }\n",
       "\n",
       "    .dataframe tbody tr th {\n",
       "        vertical-align: top;\n",
       "    }\n",
       "\n",
       "    .dataframe thead th {\n",
       "        text-align: right;\n",
       "    }\n",
       "</style>\n",
       "<table border=\"1\" class=\"dataframe\">\n",
       "  <thead>\n",
       "    <tr style=\"text-align: right;\">\n",
       "      <th></th>\n",
       "      <th>conversation_id</th>\n",
       "      <th>article_id</th>\n",
       "      <th>essay</th>\n",
       "      <th>empathy</th>\n",
       "      <th>distress</th>\n",
       "      <th>speaker_id</th>\n",
       "      <th>gender</th>\n",
       "      <th>education</th>\n",
       "      <th>race</th>\n",
       "      <th>age</th>\n",
       "      <th>...</th>\n",
       "      <th>personality_agreeableness</th>\n",
       "      <th>personality_stability</th>\n",
       "      <th>iri_perspective_taking</th>\n",
       "      <th>iri_personal_distress</th>\n",
       "      <th>iri_fantasy</th>\n",
       "      <th>iri_empathatic_concern</th>\n",
       "      <th>speaker_number</th>\n",
       "      <th>split</th>\n",
       "      <th>essay_id</th>\n",
       "      <th>emotion</th>\n",
       "    </tr>\n",
       "  </thead>\n",
       "  <tbody>\n",
       "    <tr>\n",
       "      <th>0</th>\n",
       "      <td>2</td>\n",
       "      <td>35</td>\n",
       "      <td>It breaks my heart to see people living in tho...</td>\n",
       "      <td>6.833333</td>\n",
       "      <td>6.625</td>\n",
       "      <td>30</td>\n",
       "      <td>1</td>\n",
       "      <td>6</td>\n",
       "      <td>3</td>\n",
       "      <td>37</td>\n",
       "      <td>...</td>\n",
       "      <td>6.5</td>\n",
       "      <td>6.0</td>\n",
       "      <td>4.857</td>\n",
       "      <td>2.0</td>\n",
       "      <td>3.429</td>\n",
       "      <td>5.0</td>\n",
       "      <td>1</td>\n",
       "      <td>train</td>\n",
       "      <td>1</td>\n",
       "      <td>Hope/Sadness</td>\n",
       "    </tr>\n",
       "    <tr>\n",
       "      <th>1</th>\n",
       "      <td>24</td>\n",
       "      <td>281</td>\n",
       "      <td>I just read a really interesting but depressin...</td>\n",
       "      <td>6.000000</td>\n",
       "      <td>2.125</td>\n",
       "      <td>20</td>\n",
       "      <td>1</td>\n",
       "      <td>3</td>\n",
       "      <td>1</td>\n",
       "      <td>33</td>\n",
       "      <td>...</td>\n",
       "      <td>6.5</td>\n",
       "      <td>6.5</td>\n",
       "      <td>3.714</td>\n",
       "      <td>2.286</td>\n",
       "      <td>3.286</td>\n",
       "      <td>4.571</td>\n",
       "      <td>1</td>\n",
       "      <td>train</td>\n",
       "      <td>23</td>\n",
       "      <td>Hope/Sadness</td>\n",
       "    </tr>\n",
       "  </tbody>\n",
       "</table>\n",
       "<p>2 rows × 24 columns</p>\n",
       "</div>"
      ],
      "text/plain": [
       "   conversation_id  article_id  \\\n",
       "0                2          35   \n",
       "1               24         281   \n",
       "\n",
       "                                               essay   empathy  distress  \\\n",
       "0  It breaks my heart to see people living in tho...  6.833333     6.625   \n",
       "1  I just read a really interesting but depressin...  6.000000     2.125   \n",
       "\n",
       "   speaker_id gender education race age  ... personality_agreeableness  \\\n",
       "0          30      1         6    3  37  ...                       6.5   \n",
       "1          20      1         3    1  33  ...                       6.5   \n",
       "\n",
       "  personality_stability iri_perspective_taking iri_personal_distress  \\\n",
       "0                   6.0                  4.857                   2.0   \n",
       "1                   6.5                  3.714                 2.286   \n",
       "\n",
       "  iri_fantasy iri_empathatic_concern speaker_number  split essay_id  \\\n",
       "0       3.429                    5.0              1  train        1   \n",
       "1       3.286                  4.571              1  train       23   \n",
       "\n",
       "        emotion  \n",
       "0  Hope/Sadness  \n",
       "1  Hope/Sadness  \n",
       "\n",
       "[2 rows x 24 columns]"
      ]
     },
     "execution_count": 31,
     "metadata": {},
     "output_type": "execute_result"
    }
   ],
   "source": [
    "train_essay_data[:2]"
   ]
  },
  {
   "cell_type": "code",
   "execution_count": 32,
   "metadata": {},
   "outputs": [
    {
     "data": {
      "text/html": [
       "<div>\n",
       "<style scoped>\n",
       "    .dataframe tbody tr th:only-of-type {\n",
       "        vertical-align: middle;\n",
       "    }\n",
       "\n",
       "    .dataframe tbody tr th {\n",
       "        vertical-align: top;\n",
       "    }\n",
       "\n",
       "    .dataframe thead th {\n",
       "        text-align: right;\n",
       "    }\n",
       "</style>\n",
       "<table border=\"1\" class=\"dataframe\">\n",
       "  <thead>\n",
       "    <tr style=\"text-align: right;\">\n",
       "      <th></th>\n",
       "      <th>conversation_id</th>\n",
       "      <th>article_id</th>\n",
       "      <th>essay</th>\n",
       "      <th>speaker_id</th>\n",
       "      <th>gender</th>\n",
       "      <th>education</th>\n",
       "      <th>race</th>\n",
       "      <th>age</th>\n",
       "      <th>income</th>\n",
       "      <th>speaker_number</th>\n",
       "      <th>split</th>\n",
       "      <th>essay_id</th>\n",
       "    </tr>\n",
       "  </thead>\n",
       "  <tbody>\n",
       "    <tr>\n",
       "      <th>0</th>\n",
       "      <td>1192</td>\n",
       "      <td>6</td>\n",
       "      <td>hi my dear friend, how r you?. Are you used in...</td>\n",
       "      <td>45</td>\n",
       "      <td>2</td>\n",
       "      <td>6</td>\n",
       "      <td>1</td>\n",
       "      <td>25</td>\n",
       "      <td>50000</td>\n",
       "      <td>2</td>\n",
       "      <td>test</td>\n",
       "      <td>0</td>\n",
       "    </tr>\n",
       "    <tr>\n",
       "      <th>1</th>\n",
       "      <td>1192</td>\n",
       "      <td>6</td>\n",
       "      <td>The loss of human life is always a tragic even...</td>\n",
       "      <td>65</td>\n",
       "      <td>1</td>\n",
       "      <td>6</td>\n",
       "      <td>1</td>\n",
       "      <td>34</td>\n",
       "      <td>30000</td>\n",
       "      <td>1</td>\n",
       "      <td>test</td>\n",
       "      <td>1</td>\n",
       "    </tr>\n",
       "    <tr>\n",
       "      <th>2</th>\n",
       "      <td>1059</td>\n",
       "      <td>6</td>\n",
       "      <td>Hello mate, it's been a long time since I met ...</td>\n",
       "      <td>53</td>\n",
       "      <td>2</td>\n",
       "      <td>6</td>\n",
       "      <td>1</td>\n",
       "      <td>64</td>\n",
       "      <td>40000</td>\n",
       "      <td>2</td>\n",
       "      <td>test</td>\n",
       "      <td>2</td>\n",
       "    </tr>\n",
       "    <tr>\n",
       "      <th>3</th>\n",
       "      <td>1059</td>\n",
       "      <td>6</td>\n",
       "      <td>us America and the security council adopts res...</td>\n",
       "      <td>92</td>\n",
       "      <td>2</td>\n",
       "      <td>6</td>\n",
       "      <td>1</td>\n",
       "      <td>35</td>\n",
       "      <td>5000</td>\n",
       "      <td>1</td>\n",
       "      <td>test</td>\n",
       "      <td>3</td>\n",
       "    </tr>\n",
       "  </tbody>\n",
       "</table>\n",
       "</div>"
      ],
      "text/plain": [
       "   conversation_id  article_id  \\\n",
       "0             1192           6   \n",
       "1             1192           6   \n",
       "2             1059           6   \n",
       "3             1059           6   \n",
       "\n",
       "                                               essay  speaker_id  gender  \\\n",
       "0  hi my dear friend, how r you?. Are you used in...          45       2   \n",
       "1  The loss of human life is always a tragic even...          65       1   \n",
       "2  Hello mate, it's been a long time since I met ...          53       2   \n",
       "3  us America and the security council adopts res...          92       2   \n",
       "\n",
       "   education  race  age  income  speaker_number split  essay_id  \n",
       "0          6     1   25   50000               2  test         0  \n",
       "1          6     1   34   30000               1  test         1  \n",
       "2          6     1   64   40000               2  test         2  \n",
       "3          6     1   35    5000               1  test         3  "
      ]
     },
     "execution_count": 32,
     "metadata": {},
     "output_type": "execute_result"
    }
   ],
   "source": [
    "test_essay_data[:4]"
   ]
  },
  {
   "attachments": {},
   "cell_type": "markdown",
   "metadata": {},
   "source": [
    "### Datasets dimensions"
   ]
  },
  {
   "cell_type": "code",
   "execution_count": 29,
   "metadata": {},
   "outputs": [
    {
     "data": {
      "text/plain": [
       "{'Anger', 'Disgust', 'Fear', 'Hope', 'Joy', 'Neutral', 'Sadness', 'Surprise'}"
      ]
     },
     "metadata": {},
     "output_type": "display_data"
    },
    {
     "name": "stdout",
     "output_type": "stream",
     "text": [
      "Emotions cardinality: 8\n"
     ]
    }
   ],
   "source": [
    "emotions = set()\n",
    "emotion_labels = train_essay_data['emotion'].unique()\n",
    "for label in emotion_labels:\n",
    "    emotions.update(label.split(\"/\"))\n",
    "\n",
    "display(emotions)\n",
    "print('Emotions cardinality: %d' %len(emotions))"
   ]
  },
  {
   "cell_type": "code",
   "execution_count": 33,
   "metadata": {},
   "outputs": [
    {
     "name": "stdout",
     "output_type": "stream",
     "text": [
      "Train set dimension: 792\n",
      "Dev set dimension: 208\n",
      "Test+Train set dimension: 1000\n",
      "Test set dimension: 100\n"
     ]
    }
   ],
   "source": [
    "print('Train set dimension: %d' %len(train_essay_data))\n",
    "print('Dev set dimension: %d' %len(dev_essay_data))\n",
    "print('Test+Train set dimension: %d' %(len(train_essay_data) + len(dev_essay_data)))\n",
    "print('Test set dimension: %d' %len(test_essay_data))"
   ]
  },
  {
   "attachments": {},
   "cell_type": "markdown",
   "metadata": {},
   "source": [
    "### Emotion distribution across datasets"
   ]
  },
  {
   "cell_type": "code",
   "execution_count": 68,
   "metadata": {},
   "outputs": [
    {
     "name": "stderr",
     "output_type": "stream",
     "text": [
      "C:\\Users\\giuli\\AppData\\Local\\Temp\\ipykernel_61212\\2171479477.py:1: FutureWarning: Passing a set as an indexer is deprecated and will raise in a future version. Use a list instead.\n",
      "  train_counts = pd.DataFrame(train_essay_data[emotions].sum(), columns=['Training set'])\n",
      "C:\\Users\\giuli\\AppData\\Local\\Temp\\ipykernel_61212\\2171479477.py:2: FutureWarning: Passing a set as an indexer is deprecated and will raise in a future version. Use a list instead.\n",
      "  train_perc = pd.DataFrame(train_essay_data[emotions].sum()/len(train_essay_data)*100, columns=['% Training set'])\n",
      "C:\\Users\\giuli\\AppData\\Local\\Temp\\ipykernel_61212\\2171479477.py:3: FutureWarning: Passing a set as an indexer is deprecated and will raise in a future version. Use a list instead.\n",
      "  dev_counts = pd.DataFrame(dev_essay_data[emotions].sum(), columns=['Development set'])\n",
      "C:\\Users\\giuli\\AppData\\Local\\Temp\\ipykernel_61212\\2171479477.py:4: FutureWarning: Passing a set as an indexer is deprecated and will raise in a future version. Use a list instead.\n",
      "  dev_perc = pd.DataFrame(dev_essay_data[emotions].sum()/len(dev_essay_data)*100, columns=['% Development set'])\n"
     ]
    },
    {
     "data": {
      "text/html": [
       "<div>\n",
       "<style scoped>\n",
       "    .dataframe tbody tr th:only-of-type {\n",
       "        vertical-align: middle;\n",
       "    }\n",
       "\n",
       "    .dataframe tbody tr th {\n",
       "        vertical-align: top;\n",
       "    }\n",
       "\n",
       "    .dataframe thead th {\n",
       "        text-align: right;\n",
       "    }\n",
       "</style>\n",
       "<table border=\"1\" class=\"dataframe\">\n",
       "  <thead>\n",
       "    <tr style=\"text-align: right;\">\n",
       "      <th></th>\n",
       "      <th>Training set</th>\n",
       "      <th>Development set</th>\n",
       "      <th>% Training set</th>\n",
       "      <th>% Development set</th>\n",
       "    </tr>\n",
       "  </thead>\n",
       "  <tbody>\n",
       "    <tr>\n",
       "      <th>Hope</th>\n",
       "      <td>32</td>\n",
       "      <td>16</td>\n",
       "      <td>4.040404</td>\n",
       "      <td>7.692308</td>\n",
       "    </tr>\n",
       "    <tr>\n",
       "      <th>Surprise</th>\n",
       "      <td>19</td>\n",
       "      <td>3</td>\n",
       "      <td>2.398990</td>\n",
       "      <td>1.442308</td>\n",
       "    </tr>\n",
       "    <tr>\n",
       "      <th>Sadness</th>\n",
       "      <td>383</td>\n",
       "      <td>101</td>\n",
       "      <td>48.358586</td>\n",
       "      <td>48.557692</td>\n",
       "    </tr>\n",
       "    <tr>\n",
       "      <th>Joy</th>\n",
       "      <td>10</td>\n",
       "      <td>2</td>\n",
       "      <td>1.262626</td>\n",
       "      <td>0.961538</td>\n",
       "    </tr>\n",
       "    <tr>\n",
       "      <th>Neutral</th>\n",
       "      <td>240</td>\n",
       "      <td>54</td>\n",
       "      <td>30.303030</td>\n",
       "      <td>25.961538</td>\n",
       "    </tr>\n",
       "    <tr>\n",
       "      <th>Disgust</th>\n",
       "      <td>100</td>\n",
       "      <td>24</td>\n",
       "      <td>12.626263</td>\n",
       "      <td>11.538462</td>\n",
       "    </tr>\n",
       "    <tr>\n",
       "      <th>Fear</th>\n",
       "      <td>33</td>\n",
       "      <td>8</td>\n",
       "      <td>4.166667</td>\n",
       "      <td>3.846154</td>\n",
       "    </tr>\n",
       "    <tr>\n",
       "      <th>Anger</th>\n",
       "      <td>124</td>\n",
       "      <td>38</td>\n",
       "      <td>15.656566</td>\n",
       "      <td>18.269231</td>\n",
       "    </tr>\n",
       "  </tbody>\n",
       "</table>\n",
       "</div>"
      ],
      "text/plain": [
       "          Training set  Development set  % Training set  % Development set\n",
       "Hope                32               16        4.040404           7.692308\n",
       "Surprise            19                3        2.398990           1.442308\n",
       "Sadness            383              101       48.358586          48.557692\n",
       "Joy                 10                2        1.262626           0.961538\n",
       "Neutral            240               54       30.303030          25.961538\n",
       "Disgust            100               24       12.626263          11.538462\n",
       "Fear                33                8        4.166667           3.846154\n",
       "Anger              124               38       15.656566          18.269231"
      ]
     },
     "execution_count": 68,
     "metadata": {},
     "output_type": "execute_result"
    }
   ],
   "source": [
    "train_counts = pd.DataFrame(train_essay_data[emotions].sum(), columns=['Training set'])\n",
    "train_perc = pd.DataFrame(train_essay_data[emotions].sum()/len(train_essay_data)*100, columns=['% Training set'])\n",
    "dev_counts = pd.DataFrame(dev_essay_data[emotions].sum(), columns=['Development set'])\n",
    "dev_perc = pd.DataFrame(dev_essay_data[emotions].sum()/len(dev_essay_data)*100, columns=['% Development set'])\n",
    "\n",
    "\n",
    "pd.concat([train_counts, dev_counts, train_perc, dev_perc], axis=1)"
   ]
  },
  {
   "cell_type": "code",
   "execution_count": 44,
   "metadata": {},
   "outputs": [
    {
     "name": "stderr",
     "output_type": "stream",
     "text": [
      "C:\\Users\\giuli\\AppData\\Local\\Temp\\ipykernel_61212\\3458791515.py:4: FutureWarning: Passing a set as an indexer is deprecated and will raise in a future version. Use a list instead.\n",
      "  train_essay_data[emotions].sum().plot(kind='bar', ax=ax1)\n",
      "C:\\Users\\giuli\\AppData\\Local\\Temp\\ipykernel_61212\\3458791515.py:10: FutureWarning: Passing a set as an indexer is deprecated and will raise in a future version. Use a list instead.\n",
      "  dev_essay_data[emotions].sum().plot(kind='bar', ax=ax2)\n"
     ]
    },
    {
     "data": {
      "image/png": "[encoded data removed]",
      "text/plain": [
       "<Figure size 1800x500 with 2 Axes>"
      ]
     },
     "metadata": {},
     "output_type": "display_data"
    }
   ],
   "source": [
    "fig, (ax1, ax2) = plt.subplots(1, 2, figsize=(18, 5))\n",
    "\n",
    "# Training data\n",
    "train_essay_data[emotions].sum().plot(kind='bar', ax=ax1)\n",
    "ax1.set_title('Number of essays per emotion (training data)')\n",
    "ax1.set_xlabel('Emotion')\n",
    "ax1.set_ylabel('Number of essays')\n",
    "\n",
    "# Development data\n",
    "dev_essay_data[emotions].sum().plot(kind='bar', ax=ax2)\n",
    "ax2.set_title('Number of essays per emotion (development data)')\n",
    "ax2.set_xlabel('Emotion')\n",
    "ax2.set_ylabel('Number of essays')\n",
    "\n",
    "\n",
    "plt.subplots_adjust(wspace=0.4)\n",
    "plt.show()"
   ]
  },
  {
   "attachments": {},
   "cell_type": "markdown",
   "metadata": {},
   "source": [
    "### Demographic Categorical Attributes"
   ]
  },
  {
   "cell_type": "code",
   "execution_count": 69,
   "metadata": {},
   "outputs": [
    {
     "data": {
      "text/plain": [
       "['conversation_id',\n",
       " 'article_id',\n",
       " 'essay',\n",
       " 'speaker_id',\n",
       " 'gender',\n",
       " 'education',\n",
       " 'race',\n",
       " 'age',\n",
       " 'income',\n",
       " 'speaker_number',\n",
       " 'split',\n",
       " 'essay_id']"
      ]
     },
     "execution_count": 69,
     "metadata": {},
     "output_type": "execute_result"
    }
   ],
   "source": [
    "test_essay_data.columns.tolist()"
   ]
  },
  {
   "cell_type": "code",
   "execution_count": 158,
   "metadata": {},
   "outputs": [],
   "source": [
    "# Count demographic categorical attributes\n",
    "counts = {}\n",
    "categorical_attributes = ['gender', 'education', 'race', 'age', 'income']\n",
    "for attribute in categorical_attributes:\n",
    "    counts[attribute] = train_essay_data[attribute].value_counts().to_dict()"
   ]
  },
  {
   "cell_type": "code",
   "execution_count": 159,
   "metadata": {},
   "outputs": [
    {
     "name": "stdout",
     "output_type": "stream",
     "text": [
      "{1: 486, 2: 293}\n",
      "{6: 431, 4: 112, 7: 102, 3: 61, 2: 42, 5: 31}\n",
      "{'1': 524, '3': 99, '2': 96, '5': 59, '6': 1}\n"
     ]
    }
   ],
   "source": [
    "print(counts['gender']) # in {1, 2}\n",
    "print(counts['education']) # in rage [1, 7]\n",
    "print(counts['race']) # in rage [1, 6]"
   ]
  },
  {
   "cell_type": "code",
   "execution_count": 92,
   "metadata": {},
   "outputs": [
    {
     "name": "stdout",
     "output_type": "stream",
     "text": [
      "Age between 20 and 62 years\n"
     ]
    }
   ],
   "source": [
    "del counts['age']['unknown'] # delete features with unknown data\n",
    "print('Age between %s and %s years' %(min(counts['age']), max(counts['age'])))"
   ]
  },
  {
   "cell_type": "code",
   "execution_count": 93,
   "metadata": {},
   "outputs": [
    {
     "name": "stdout",
     "output_type": "stream",
     "text": [
      "Income between 10000 and 89000\n"
     ]
    }
   ],
   "source": [
    "del counts['income']['unknown'] # delete features with unknown data\n",
    "print('Income between %s and %s' %(min(counts['income']), max(counts['income'])))"
   ]
  },
  {
   "cell_type": "code",
   "execution_count": 160,
   "metadata": {},
   "outputs": [
    {
     "data": {
      "image/png": "[encoded data removed]",
      "text/plain": [
       "<Figure size 1200x500 with 2 Axes>"
      ]
     },
     "metadata": {},
     "output_type": "display_data"
    }
   ],
   "source": [
    "import matplotlib.pyplot as plt\n",
    "\n",
    "# Convert \"age\" and \"income\" column to numeric type\n",
    "train_essay_data['age'] = pd.to_numeric(train_essay_data['age'], errors='coerce')\n",
    "train_essay_data['income'] = pd.to_numeric(train_essay_data['income'], errors='coerce')\n",
    "\n",
    "# Age and income bins\n",
    "age_bins = [20, 30, 40, 50, 60, 70]  # Define the desired age bins\n",
    "income_bins = [1000, 10000, 30000, 50000, 70000, 90000]  # Define the desired income bins\n",
    "\n",
    "# Compute counts for age and income bins\n",
    "age_counts = pd.cut(train_essay_data['age'], age_bins).value_counts().sort_index()\n",
    "income_counts = pd.cut(train_essay_data['income'], income_bins).value_counts().sort_index()\n",
    "\n",
    "# Create the bar plot\n",
    "fig, (ax1, ax2) = plt.subplots(1, 2, figsize=(12, 5))\n",
    "\n",
    "# Histogram for age\n",
    "ax1.bar(age_counts.index.astype(str), age_counts.values)\n",
    "ax1.set_title('Age Distribution')\n",
    "ax1.set_xlabel('Age Group')\n",
    "ax1.set_ylabel('Count')\n",
    "\n",
    "# Histogram for income\n",
    "ax2.bar(income_counts.index.astype(str), income_counts.values)\n",
    "ax2.set_title('Income Distribution')\n",
    "ax2.set_xlabel('Income Group')\n",
    "ax2.set_ylabel('Count')\n",
    "\n",
    "# Rotate x-axis labels for better readability\n",
    "ax1.tick_params(axis='x', rotation=90)\n",
    "ax2.tick_params(axis='x', rotation=90)\n",
    "\n",
    "# Show the plot\n",
    "plt.tight_layout()\n",
    "plt.show()\n"
   ]
  },
  {
   "cell_type": "code",
   "execution_count": 132,
   "metadata": {},
   "outputs": [
    {
     "name": "stderr",
     "output_type": "stream",
     "text": [
      "C:\\Users\\giuli\\AppData\\Local\\Temp\\ipykernel_61212\\2214462465.py:26: UserWarning: Boolean Series key will be reindexed to match DataFrame index.\n",
      "  counts_gender1[emotion] = selected_data[selected_data['gender'] == '1'][mask].shape[0]\n",
      "C:\\Users\\giuli\\AppData\\Local\\Temp\\ipykernel_61212\\2214462465.py:27: UserWarning: Boolean Series key will be reindexed to match DataFrame index.\n",
      "  counts_gender2[emotion] = selected_data[selected_data['gender'] == '2'][mask].shape[0]\n"
     ]
    },
    {
     "data": {
      "image/png": "[encoded data removed]",
      "text/plain": [
       "<Figure size 1200x600 with 2 Axes>"
      ]
     },
     "metadata": {},
     "output_type": "display_data"
    }
   ],
   "source": [
    "# Select the relevant columns\n",
    "selected_columns = ['gender', 'emotion']\n",
    "selected_data = train_essay_data[selected_columns]\n",
    "\n",
    "# Create a mask for each emotion label\n",
    "emotion_masks = {\n",
    "    'Anger': selected_data['emotion'].str.contains('Anger'),\n",
    "    'Disgust': selected_data['emotion'].str.contains('Disgust'),\n",
    "    'Fear': selected_data['emotion'].str.contains('Fear'),\n",
    "    'Hope': selected_data['emotion'].str.contains('Hope'),\n",
    "    'Joy': selected_data['emotion'].str.contains('Joy'),\n",
    "    'Neutral': selected_data['emotion'].str.contains('Neutral'),\n",
    "    'Sadness': selected_data['emotion'].str.contains('Sadness'),\n",
    "    'Surprise': selected_data['emotion'].str.contains('Surprise')\n",
    "}\n",
    "\n",
    "# Initialize the counts dictionaries for each gender\n",
    "counts_gender1 = {emotion: 0 for emotion in emotion_masks}\n",
    "counts_gender2 = {emotion: 0 for emotion in emotion_masks}\n",
    "\n",
    "# Count the occurrences for each emotion label and gender\n",
    "for emotion, mask in emotion_masks.items():\n",
    "    counts_gender1[emotion] = selected_data[selected_data['gender'] == '1'][mask].shape[0]\n",
    "    counts_gender2[emotion] = selected_data[selected_data['gender'] == '2'][mask].shape[0]\n",
    "\n",
    "# Convert the dictionaries to separate lists\n",
    "emotions = list(counts_gender1.keys())\n",
    "count_values_gender1 = list(counts_gender1.values())\n",
    "count_values_gender2 = list(counts_gender2.values())\n",
    "\n",
    "# Set the figure size\n",
    "plt.subplots(nrows=1, ncols=2, sharey=True, figsize=(12, 6))\n",
    "\n",
    "# Plot the bar plots side by side\n",
    "plt.subplot(1, 2, 1)\n",
    "plt.bar(emotions, count_values_gender1)\n",
    "plt.xlabel('Emotion')\n",
    "plt.ylabel('Count')\n",
    "plt.title('Emotion Distribution - Gender 1')\n",
    "\n",
    "plt.subplot(1, 2, 2)\n",
    "plt.bar(emotions, count_values_gender2)\n",
    "plt.xlabel('Emotion')\n",
    "plt.ylabel('Count')\n",
    "plt.title('Emotion Distribution - Gender 2')\n",
    "\n",
    "# Adjust the layout\n",
    "plt.tight_layout()\n",
    "\n",
    "# Show the plot\n",
    "plt.show()\n"
   ]
  },
  {
   "cell_type": "code",
   "execution_count": 137,
   "metadata": {},
   "outputs": [
    {
     "name": "stdout",
     "output_type": "stream",
     "text": [
      "Occurences of Gender 1: 486\n",
      "Occurences of Gender 2: 293\n"
     ]
    }
   ],
   "source": [
    "count_gender_1 = train_essay_data[train_essay_data['gender'] == '1'].shape[0]\n",
    "print('Occurences of Gender 1: %d' %count_gender_1)\n",
    "\n",
    "count_gender_2 = train_essay_data[train_essay_data['gender'] == '2'].shape[0]\n",
    "print('Occurences of Gender 2: %d' %count_gender_2)\n"
   ]
  },
  {
   "cell_type": "code",
   "execution_count": 141,
   "metadata": {},
   "outputs": [
    {
     "data": {
      "image/png": "[encoded data removed]",
      "text/plain": [
       "<Figure size 1200x800 with 4 Axes>"
      ]
     },
     "metadata": {},
     "output_type": "display_data"
    }
   ],
   "source": [
    "# Remove rows with 'unknown' values\n",
    "train_essay_data = train_essay_data[train_essay_data != 'unknown'].dropna()\n",
    "\n",
    "# Convert numeric columns to numeric values\n",
    "train_essay_data['income'] = pd.to_numeric(train_essay_data['income'], errors='coerce')\n",
    "train_essay_data['age'] = pd.to_numeric(train_essay_data['age'], errors='coerce')\n",
    "train_essay_data['gender'] = pd.to_numeric(train_essay_data['gender'], errors='coerce')\n",
    "train_essay_data['education'] = pd.to_numeric(train_essay_data['education'], errors='coerce')\n",
    "\n",
    "# Set up the figure and subplots\n",
    "fig, axs = plt.subplots(2, 2, figsize=(12, 8))\n",
    "\n",
    "# Scatter plot for 'income' vs. 'age'\n",
    "axs[0, 0].scatter(train_essay_data['income'], train_essay_data['age'])\n",
    "axs[0, 0].set_xlabel('Income')\n",
    "axs[0, 0].set_ylabel('Age')\n",
    "axs[0, 0].set_title('Income vs. Age')\n",
    "\n",
    "# Scatter plot for 'income' vs. 'gender'\n",
    "axs[0, 1].scatter(train_essay_data['income'], train_essay_data['gender'])\n",
    "axs[0, 1].set_xlabel('Income')\n",
    "axs[0, 1].set_ylabel('Gender')\n",
    "axs[0, 1].set_title('Income vs. Gender')\n",
    "\n",
    "# Scatter plot for 'income' vs. 'education'\n",
    "axs[1, 0].scatter(train_essay_data['income'], train_essay_data['education'])\n",
    "axs[1, 0].set_xlabel('Income')\n",
    "axs[1, 0].set_ylabel('Education')\n",
    "axs[1, 0].set_title('Income vs. Education')\n",
    "\n",
    "# Scatter plot for 'age' vs. 'education'\n",
    "axs[1, 1].scatter(train_essay_data['age'], train_essay_data['education'])\n",
    "axs[1, 1].set_xlabel('Age')\n",
    "axs[1, 1].set_ylabel('Education')\n",
    "axs[1, 1].set_title('Age vs. Education')\n",
    "\n",
    "# Adjust the spacing between subplots\n",
    "fig.tight_layout()\n",
    "\n",
    "# Show the plot\n",
    "plt.show()"
   ]
  },
  {
   "cell_type": "code",
   "execution_count": 156,
   "metadata": {},
   "outputs": [
    {
     "name": "stdout",
     "output_type": "stream",
     "text": [
      "Grouped by Income Range:\n",
      "primary_emotion  Anger  Disgust  Fear  Hope  Joy  Neutral  Sadness  Surprise\n",
      "income_range                                                                \n",
      "10000               23        9     2     4    2       29       54         0\n",
      "30000               30       21     2     5    3      112      114         5\n",
      "50000                4        3     3     0    0       22       36         3\n",
      "70000                6        9     2     1    0       14       51         0\n",
      "\n",
      "Grouped by Age Range:\n",
      "primary_emotion  Anger  Disgust  Fear  Hope  Joy  Neutral  Sadness  Surprise\n",
      "age_range                                                                   \n",
      "20                  11       15     7     7    0       60      126         2\n",
      "30                  32       23     2     3    3      109      121         7\n",
      "40                  19        3     1     0    1       25       35         0\n",
      "50                   0        0     0     0    0        1        1         0\n",
      "60                   3        2     0     0    1        7        9         0\n",
      "\n",
      "Grouped by Education Range:\n",
      "primary_emotion  Anger  Disgust  Fear  Hope  Joy  Neutral  Sadness  Surprise\n",
      "education_range                                                             \n",
      "1                    0        0     0     0    0        0        0         0\n",
      "2                    4        1     2     1    0       12       12         2\n",
      "3                    0        4     2     4    0        9       27         0\n",
      "4                   12       12     3     1    1       36       24         2\n",
      "5                    2        2     1     0    0       11       11         0\n",
      "6                   42       21     2     4    4      117      157         5\n",
      "7                    5        3     0     0    0       17       61         0\n"
     ]
    }
   ],
   "source": [
    "# Define the desired emotion labels\n",
    "emotion_labels = ['Anger', 'Disgust', 'Fear', 'Hope', 'Joy', 'Neutral', 'Sadness', 'Surprise']\n",
    "\n",
    "# Define the income, age, and education ranges\n",
    "income_ranges = [10000, 30000, 50000, 70000, 90000]\n",
    "age_ranges = [20, 30, 40, 50, 60, 70]\n",
    "education_ranges = [1, 2, 3, 4, 5, 6, 7, 8]\n",
    "\n",
    "# Create a new column for income range\n",
    "train_essay_data['income_range'] = pd.cut(train_essay_data['income'], bins=income_ranges, labels=income_ranges[:-1], right=False)\n",
    "\n",
    "# Create a new column for age range\n",
    "train_essay_data['age_range'] = pd.cut(train_essay_data['age'], bins=age_ranges, labels=age_ranges[:-1], right=False)\n",
    "\n",
    "# Create a new column for education range\n",
    "train_essay_data['education_range'] = pd.cut(train_essay_data['education'], bins=education_ranges, labels=education_ranges[:-1], right=False)\n",
    "\n",
    "# Group the data by emotion and income range\n",
    "grouped_income = train_essay_data.groupby(['primary_emotion', 'income_range']).size().reset_index(name='count')\n",
    "\n",
    "# Filter out any emotions that are not in the desired emotion labels\n",
    "grouped_income = grouped_income[grouped_income['primary_emotion'].isin(emotion_labels)]\n",
    "\n",
    "# Pivot the table to have emotions as columns and income ranges as rows\n",
    "income_table = grouped_income.pivot(index='income_range', columns='primary_emotion', values='count')\n",
    "\n",
    "# Group the data by emotion and age range\n",
    "grouped_age = train_essay_data.groupby(['primary_emotion', 'age_range']).size().reset_index(name='count')\n",
    "\n",
    "# Filter out any emotions that are not in the desired emotion labels\n",
    "grouped_age = grouped_age[grouped_age['primary_emotion'].isin(emotion_labels)]\n",
    "\n",
    "# Pivot the table to have emotions as columns and age ranges as rows\n",
    "age_table = grouped_age.pivot(index='age_range', columns='primary_emotion', values='count')\n",
    "\n",
    "# Group the data by emotion and education range\n",
    "grouped_education = train_essay_data.groupby(['primary_emotion', 'education_range']).size().reset_index(name='count')\n",
    "\n",
    "# Filter out any emotions that are not in the desired emotion labels\n",
    "grouped_education = grouped_education[grouped_education['primary_emotion'].isin(emotion_labels)]\n",
    "\n",
    "# Pivot the table to have emotions as columns and education ranges as rows\n",
    "education_table = grouped_education.pivot(index='education_range', columns='primary_emotion', values='count')\n",
    "\n",
    "# Display the table for grouped by income range\n",
    "print(\"Grouped by Income Range:\")\n",
    "print(income_table)\n",
    "\n",
    "# Display the table for grouped by age range\n",
    "print(\"\\nGrouped by Age Range:\")\n",
    "print(age_table)\n",
    "\n",
    "# Display the table for grouped by education range\n",
    "print(\"\\nGrouped by Education Range:\")\n",
    "print(education_table)\n"
   ]
  },
  {
   "cell_type": "code",
   "execution_count": 161,
   "metadata": {},
   "outputs": [
    {
     "name": "stdout",
     "output_type": "stream",
     "text": [
      "Grouped by Income Range:\n",
      "primary_emotion      Anger    Disgust       Fear  Hope   Joy    Neutral    Sadness  Surprise\n",
      "income_range                                                                                \n",
      "10000            36.507937  21.428571  22.222222  40.0  40.0  16.384181  21.176471       0.0\n",
      "30000            47.619048  50.000000  22.222222  50.0  60.0  63.276836  44.705882      62.5\n",
      "50000             6.349206   7.142857  33.333333   0.0   0.0  12.429379  14.117647      37.5\n",
      "70000             9.523810  21.428571  22.222222  10.0   0.0   7.909605  20.000000       0.0\n",
      "\n",
      "Grouped by Age Range:\n",
      "primary_emotion      Anger    Disgust  Fear  Hope   Joy    Neutral    Sadness   Surprise\n",
      "age_range                                                                               \n",
      "20               16.923077  34.883721  70.0  70.0   0.0  29.702970  43.150685  22.222222\n",
      "30               49.230769  53.488372  20.0  30.0  60.0  53.960396  41.438356  77.777778\n",
      "40               29.230769   6.976744  10.0   0.0  20.0  12.376238  11.986301   0.000000\n",
      "50                0.000000   0.000000   0.0   0.0   0.0   0.495050   0.342466   0.000000\n",
      "60                4.615385   4.651163   0.0   0.0  20.0   3.465347   3.082192   0.000000\n",
      "\n",
      "Grouped by Education Range:\n",
      "primary_emotion      Anger    Disgust  Fear  Hope   Joy    Neutral    Sadness   Surprise\n",
      "education_range                                                                         \n",
      "1                 0.000000   0.000000   0.0   0.0   0.0   0.000000   0.000000   0.000000\n",
      "2                 6.153846   2.325581  20.0  10.0   0.0   5.940594   4.109589  22.222222\n",
      "3                 0.000000   9.302326  20.0  40.0   0.0   4.455446   9.246575   0.000000\n",
      "4                18.461538  27.906977  30.0  10.0  20.0  17.821782   8.219178  22.222222\n",
      "5                 3.076923   4.651163  10.0   0.0   0.0   5.445545   3.767123   0.000000\n",
      "6                64.615385  48.837209  20.0  40.0  80.0  57.920792  53.767123  55.555556\n",
      "7                 7.692308   6.976744   0.0   0.0   0.0   8.415842  20.890411   0.000000\n"
     ]
    }
   ],
   "source": [
    "# Define the desired emotion labels\n",
    "emotion_labels = ['Anger', 'Disgust', 'Fear', 'Hope', 'Joy', 'Neutral', 'Sadness', 'Surprise']\n",
    "\n",
    "# Define the income, age, and education ranges\n",
    "income_ranges = [10000, 30000, 50000, 70000, 90000]\n",
    "age_ranges = [20, 30, 40, 50, 60, 70]\n",
    "education_ranges = [1, 2, 3, 4, 5, 6, 7, 8]\n",
    "\n",
    "# Create a new column for income range\n",
    "train_essay_data['income_range'] = pd.cut(train_essay_data['income'], bins=income_ranges, labels=income_ranges[:-1], right=False)\n",
    "\n",
    "# Create a new column for age range\n",
    "train_essay_data['age_range'] = pd.cut(train_essay_data['age'], bins=age_ranges, labels=age_ranges[:-1], right=False)\n",
    "\n",
    "# Create a new column for education range\n",
    "train_essay_data['education_range'] = pd.cut(train_essay_data['education'], bins=education_ranges, labels=education_ranges[:-1], right=False)\n",
    "\n",
    "# Calculate total count for each emotion\n",
    "total_counts = train_essay_data['primary_emotion'].value_counts()\n",
    "\n",
    "# Group the data by emotion and income range and calculate percentages\n",
    "grouped_income = train_essay_data.groupby(['primary_emotion', 'income_range']).size().reset_index(name='count')\n",
    "grouped_income['percentage'] = grouped_income['count'] / grouped_income.groupby('primary_emotion')['count'].transform('sum') * 100\n",
    "\n",
    "# Filter out any emotions that are not in the desired emotion labels\n",
    "grouped_income = grouped_income[grouped_income['primary_emotion'].isin(emotion_labels)]\n",
    "\n",
    "# Pivot the table to have emotions as columns and income ranges as rows\n",
    "income_table = grouped_income.pivot(index='income_range', columns='primary_emotion', values='percentage')\n",
    "\n",
    "# Group the data by emotion and age range and calculate percentages\n",
    "grouped_age = train_essay_data.groupby(['primary_emotion', 'age_range']).size().reset_index(name='count')\n",
    "grouped_age['percentage'] = grouped_age['count'] / grouped_age.groupby('primary_emotion')['count'].transform('sum') * 100\n",
    "\n",
    "# Filter out any emotions that are not in the desired emotion labels\n",
    "grouped_age = grouped_age[grouped_age['primary_emotion'].isin(emotion_labels)]\n",
    "\n",
    "# Pivot the table to have emotions as columns and age ranges as rows\n",
    "age_table = grouped_age.pivot(index='age_range', columns='primary_emotion', values='percentage')\n",
    "\n",
    "# Group the data by emotion and education range and calculate percentages\n",
    "grouped_education = train_essay_data.groupby(['primary_emotion', 'education_range']).size().reset_index(name='count')\n",
    "grouped_education['percentage'] = grouped_education['count'] / grouped_education.groupby('primary_emotion')['count'].transform('sum') * 100\n",
    "\n",
    "# Filter out any emotions that are not in the desired emotion labels\n",
    "grouped_education = grouped_education[grouped_education['primary_emotion'].isin(emotion_labels)]\n",
    "\n",
    "# Pivot the table to have emotions as columns and education ranges as rows\n",
    "education_table = grouped_education.pivot(index='education_range', columns='primary_emotion', values='percentage')\n",
    "\n",
    "# Display the table for grouped by income range\n",
    "print(\"Grouped by Income Range:\")\n",
    "print(income_table.to_string())\n",
    "\n",
    "# Display the table for grouped by age range\n",
    "print(\"\\nGrouped by Age Range:\")\n",
    "print(age_table.to_string())\n",
    "\n",
    "# Display the table for grouped by education range\n",
    "print(\"\\nGrouped by Education Range:\")\n",
    "print(education_table.to_string())\n"
   ]
  },
  {
   "cell_type": "code",
   "execution_count": 163,
   "metadata": {},
   "outputs": [
    {
     "name": "stdout",
     "output_type": "stream",
     "text": [
      "Grouped by Income Range:\n",
      "primary_emotion      Anger   Disgust      Fear      Hope       Joy    Neutral    Sadness  Surprise\n",
      "income_range                                                                                      \n",
      "10000            14.024390  5.487805  1.219512  2.439024  1.219512  17.682927  32.926829  0.000000\n",
      "30000             8.547009  5.982906  0.569801  1.424501  0.854701  31.908832  32.478632  1.424501\n",
      "50000             4.878049  3.658537  3.658537  0.000000  0.000000  26.829268  43.902439  3.658537\n",
      "70000             6.185567  9.278351  2.061856  1.030928  0.000000  14.432990  52.577320  0.000000\n",
      "\n",
      "Grouped by Age Range:\n",
      "primary_emotion      Anger   Disgust      Fear      Hope       Joy    Neutral    Sadness  Surprise\n",
      "age_range                                                                                         \n",
      "20                3.914591  5.338078  2.491103  2.491103  0.000000  21.352313  44.839858  0.711744\n",
      "30                8.913649  6.406685  0.557103  0.835655  0.835655  30.362117  33.704735  1.949861\n",
      "40               17.431193  2.752294  0.917431  0.000000  0.917431  22.935780  32.110092  0.000000\n",
      "50                0.000000  0.000000  0.000000  0.000000  0.000000  50.000000  50.000000  0.000000\n",
      "60               10.714286  7.142857  0.000000  0.000000  3.571429  25.000000  32.142857  0.000000\n",
      "\n",
      "Grouped by Education Range:\n",
      "primary_emotion      Anger    Disgust      Fear      Hope       Joy    Neutral    Sadness  Surprise\n",
      "education_range                                                                                    \n",
      "1                      NaN        NaN       NaN       NaN       NaN        NaN        NaN       NaN\n",
      "2                 9.523810   2.380952  4.761905  2.380952  0.000000  28.571429  28.571429  4.761905\n",
      "3                 0.000000   6.557377  3.278689  6.557377  0.000000  14.754098  44.262295  0.000000\n",
      "4                10.714286  10.714286  2.678571  0.892857  0.892857  32.142857  21.428571  1.785714\n",
      "5                 6.451613   6.451613  3.225806  0.000000  0.000000  35.483871  35.483871  0.000000\n",
      "6                 9.744780   4.872390  0.464037  0.928074  0.928074  27.146172  36.426914  1.160093\n",
      "7                 4.901961   2.941176  0.000000  0.000000  0.000000  16.666667  59.803922  0.000000\n"
     ]
    }
   ],
   "source": [
    "# Define the desired emotion labels\n",
    "emotion_labels = ['Anger', 'Disgust', 'Fear', 'Hope', 'Joy', 'Neutral', 'Sadness', 'Surprise']\n",
    "\n",
    "# Define the income, age, and education ranges\n",
    "income_ranges = [10000, 30000, 50000, 70000, 90000]\n",
    "age_ranges = [20, 30, 40, 50, 60, 70]\n",
    "education_ranges = [1, 2, 3, 4, 5, 6, 7, 8]\n",
    "\n",
    "# Create a new column for income range\n",
    "train_essay_data['income_range'] = pd.cut(train_essay_data['income'], bins=income_ranges, labels=income_ranges[:-1], right=False)\n",
    "\n",
    "# Create a new column for age range\n",
    "train_essay_data['age_range'] = pd.cut(train_essay_data['age'], bins=age_ranges, labels=age_ranges[:-1], right=False)\n",
    "\n",
    "# Create a new column for education range\n",
    "train_essay_data['education_range'] = pd.cut(train_essay_data['education'], bins=education_ranges, labels=education_ranges[:-1], right=False)\n",
    "\n",
    "# Calculate total count for each emotion\n",
    "total_counts = train_essay_data['primary_emotion'].value_counts()\n",
    "\n",
    "# Group the data by emotion and income range and calculate percentages\n",
    "grouped_income = train_essay_data.groupby(['primary_emotion', 'income_range']).size().reset_index(name='count')\n",
    "grouped_income['percentage'] = grouped_income.groupby('income_range')['count'].transform(lambda x: (x / x.sum()) * 100)\n",
    "\n",
    "# Filter out any emotions that are not in the desired emotion labels\n",
    "grouped_income = grouped_income[grouped_income['primary_emotion'].isin(emotion_labels)]\n",
    "\n",
    "# Pivot the table to have emotions as columns and income ranges as rows\n",
    "income_table = grouped_income.pivot(index='income_range', columns='primary_emotion', values='percentage')\n",
    "\n",
    "# Group the data by emotion and age range and calculate percentages\n",
    "grouped_age = train_essay_data.groupby(['primary_emotion', 'age_range']).size().reset_index(name='count')\n",
    "grouped_age['percentage'] = grouped_age.groupby('age_range')['count'].transform(lambda x: (x / x.sum()) * 100)\n",
    "\n",
    "# Filter out any emotions that are not in the desired emotion labels\n",
    "grouped_age = grouped_age[grouped_age['primary_emotion'].isin(emotion_labels)]\n",
    "\n",
    "# Pivot the table to have emotions as columns and age ranges as rows\n",
    "age_table = grouped_age.pivot(index='age_range', columns='primary_emotion', values='percentage')\n",
    "\n",
    "# Group the data by emotion and education range and calculate percentages\n",
    "grouped_education = train_essay_data.groupby(['primary_emotion', 'education_range']).size().reset_index(name='count')\n",
    "grouped_education['percentage'] = grouped_education.groupby('education_range')['count'].transform(lambda x: (x / x.sum()) * 100)\n",
    "\n",
    "# Filter out any emotions that are not in the desired emotion labels\n",
    "grouped_education = grouped_education[grouped_education['primary_emotion'].isin(emotion_labels)]\n",
    "\n",
    "# Pivot the table to have emotions as columns and education ranges as rows\n",
    "education_table = grouped_education.pivot(index='education_range', columns='primary_emotion', values='percentage')\n",
    "\n",
    "# Display the table for grouped by income range\n",
    "print(\"Grouped by Income Range:\")\n",
    "print(income_table.to_string())\n",
    "\n",
    "# Display the table for grouped by age range\n",
    "print(\"\\nGrouped by Age Range:\")\n",
    "print(age_table.to_string())\n",
    "\n",
    "# Display the table for grouped by education range\n",
    "print(\"\\nGrouped by Education Range:\")\n",
    "print(education_table.to_string())"
   ]
  }
 ],
 "metadata": {
  "kernelspec": {
   "display_name": "base",
   "language": "python",
   "name": "python3"
  },
  "language_info": {
   "codemirror_mode": {
    "name": "ipython",
    "version": 3
   },
   "file_extension": ".py",
   "mimetype": "text/x-python",
   "name": "python",
   "nbconvert_exporter": "python",
   "pygments_lexer": "ipython3",
   "version": "3.10.9"
  },
  "orig_nbformat": 4
 },
 "nbformat": 4,
 "nbformat_minor": 2
}
